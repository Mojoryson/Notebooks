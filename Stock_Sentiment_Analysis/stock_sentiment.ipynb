{
 "cells": [
  {
   "cell_type": "markdown",
   "metadata": {},
   "source": [
    "## Notebook to debug my stock predictor"
   ]
  },
  {
   "cell_type": "code",
   "execution_count": null,
   "metadata": {},
   "outputs": [],
   "source": [
    "\"\"\"\n",
    "The goal of this project is to use a LLM for sentiment analysis for a publically traded stock.\n",
    "\"\"\"\n",
    "\n",
    "# Import Libraries\n",
    "\n",
    "# Financial Data\n",
    "import yfinance as yf\n",
    "from finvizfinance.quote import finvizfinance\n",
    "\n",
    "# Data Manipulation\n",
    "import pandas as pd\n",
    "import numpy as np\n",
    "\n",
    "\n",
    "\n",
    "# Machine Learning Library\n",
    "from sklearn.model_selection import train_test_split\n",
    "from sklearn.preprocessing import StandardScaler\n",
    "from sklearn.linear_model import LinearRegression\n",
    "from sklearn.metrics import mean_squared_error\n",
    "\n",
    "# Charts\n",
    "#import plotly.graph_objects as go\n",
    "import matplotlib.pyplot as plt\n",
    "import seaborn as sns\n",
    "from wordcloud import WordCloud\n",
    "\n",
    "# Interactive Web App UI\n",
    "#import streamlit as st\n",
    "\n",
    "# Connect to OpenAI API\n",
    "from openai import OpenAI\n",
    "from config import my_sk\n",
    "\n",
    "# setup api client\n",
    "client = OpenAI(api_key=my_sk)"
   ]
  },
  {
   "cell_type": "markdown",
   "metadata": {},
   "source": [
    "# Open AI API Call using the LLM to classify text"
   ]
  },
  {
   "cell_type": "code",
   "execution_count": 2,
   "metadata": {},
   "outputs": [],
   "source": [
    "def classify_sentiment(title):\n",
    "    response = client.chat.completions.create(\n",
    "            model=\"gpt-3.5-turbo\",\n",
    "            messages=[\n",
    "                {\"role\": \"system\", \"content\": \"You are a sentiment classifier.\"},\n",
    "                {\"role\": \"user\", \"content\": f\"Classify the sentiment as 'POSITIVE' or 'NEGATIVE' or 'NEUTRAL' with just that one word only, no additional words or reasoning: {title}\"},\n",
    "            ],\n",
    "        max_tokens=1,\n",
    "        n=1,\n",
    "        temperature=0.5\n",
    "    )\n",
    "    return response.choices[0].message.content# Directly access the .content attribute\n"
   ]
  },
  {
   "cell_type": "markdown",
   "metadata": {},
   "source": [
    "Check to see if the sentiment analysis is working"
   ]
  },
  {
   "cell_type": "code",
   "execution_count": 3,
   "metadata": {},
   "outputs": [
    {
     "data": {
      "text/plain": [
       "'NEG'"
      ]
     },
     "execution_count": 3,
     "metadata": {},
     "output_type": "execute_result"
    }
   ],
   "source": [
    "#testing the classify_sentiment function    \n",
    "classify_sentiment(\"IBM had an amazing run but tanked at the end of the day\")"
   ]
  },
  {
   "cell_type": "markdown",
   "metadata": {},
   "source": [
    "Function to check the if the ticker is valid. "
   ]
  },
  {
   "cell_type": "code",
   "execution_count": 28,
   "metadata": {},
   "outputs": [],
   "source": [
    "def validate_ticker(ticker, df):\n",
    "  \"\"\"\n",
    "  Checks if a ticker symbol exists in a DataFrame.\n",
    "\n",
    "  Args:\n",
    "    ticker: The ticker symbol to validate.\n",
    "    df: The Pandas DataFrame containing the list of valid ticker symbols.\n",
    "\n",
    "  Returns:\n",
    "    True if the ticker is valid, False otherwise.\n",
    "  \"\"\"\n",
    "  return ticker in df[\"symbol\"].values"
   ]
  },
  {
   "cell_type": "markdown",
   "metadata": {},
   "source": [
    "Load all US pubblically traded companies into a dataframe"
   ]
  },
  {
   "cell_type": "code",
   "execution_count": 29,
   "metadata": {},
   "outputs": [],
   "source": [
    "us_tickers_df = pd.read_csv('data/us_tickers.csv')"
   ]
  },
  {
   "cell_type": "code",
   "execution_count": 41,
   "metadata": {},
   "outputs": [
    {
     "data": {
      "text/html": [
       "<div>\n",
       "<style scoped>\n",
       "    .dataframe tbody tr th:only-of-type {\n",
       "        vertical-align: middle;\n",
       "    }\n",
       "\n",
       "    .dataframe tbody tr th {\n",
       "        vertical-align: top;\n",
       "    }\n",
       "\n",
       "    .dataframe thead th {\n",
       "        text-align: right;\n",
       "    }\n",
       "</style>\n",
       "<table border=\"1\" class=\"dataframe\">\n",
       "  <thead>\n",
       "    <tr style=\"text-align: right;\">\n",
       "      <th></th>\n",
       "      <th>symbol</th>\n",
       "      <th>name</th>\n",
       "      <th>exchange</th>\n",
       "      <th>exchangeShortName</th>\n",
       "      <th>type</th>\n",
       "      <th>sector</th>\n",
       "      <th>industry</th>\n",
       "      <th>description</th>\n",
       "      <th>website</th>\n",
       "    </tr>\n",
       "  </thead>\n",
       "  <tbody>\n",
       "    <tr>\n",
       "      <th>0</th>\n",
       "      <td>PMEGX</td>\n",
       "      <td>T. Rowe Price Institutional Mid-Cap Equity Gro...</td>\n",
       "      <td>Nasdaq</td>\n",
       "      <td>NASDAQ</td>\n",
       "      <td>trust</td>\n",
       "      <td>NaN</td>\n",
       "      <td>NaN</td>\n",
       "      <td>NaN</td>\n",
       "      <td>NaN</td>\n",
       "    </tr>\n",
       "    <tr>\n",
       "      <th>1</th>\n",
       "      <td>WT</td>\n",
       "      <td>WisdomTree, Inc.</td>\n",
       "      <td>New York Stock Exchange</td>\n",
       "      <td>NYSE</td>\n",
       "      <td>stock</td>\n",
       "      <td>Financial Services</td>\n",
       "      <td>Asset Management</td>\n",
       "      <td>WisdomTree, Inc., through its subsidiaries, op...</td>\n",
       "      <td>NaN</td>\n",
       "    </tr>\n",
       "    <tr>\n",
       "      <th>2</th>\n",
       "      <td>TFCCF</td>\n",
       "      <td>Terra Firma Capital Corporation</td>\n",
       "      <td>Other OTC</td>\n",
       "      <td>PNK</td>\n",
       "      <td>stock</td>\n",
       "      <td>Financial Services</td>\n",
       "      <td>Mortgage Finance</td>\n",
       "      <td>Terra Firma Capital Corporation provides real ...</td>\n",
       "      <td>NaN</td>\n",
       "    </tr>\n",
       "    <tr>\n",
       "      <th>3</th>\n",
       "      <td>EKWAX</td>\n",
       "      <td>Allspring Precious Metals Fund Class A</td>\n",
       "      <td>Nasdaq</td>\n",
       "      <td>NASDAQ</td>\n",
       "      <td>trust</td>\n",
       "      <td>NaN</td>\n",
       "      <td>NaN</td>\n",
       "      <td>NaN</td>\n",
       "      <td>NaN</td>\n",
       "    </tr>\n",
       "    <tr>\n",
       "      <th>4</th>\n",
       "      <td>RNWWW</td>\n",
       "      <td>ReNew Energy Global plc</td>\n",
       "      <td>NASDAQ Global Select</td>\n",
       "      <td>NASDAQ</td>\n",
       "      <td>stock</td>\n",
       "      <td>NaN</td>\n",
       "      <td>NaN</td>\n",
       "      <td>NaN</td>\n",
       "      <td>NaN</td>\n",
       "    </tr>\n",
       "  </tbody>\n",
       "</table>\n",
       "</div>"
      ],
      "text/plain": [
       "  symbol                                               name  \\\n",
       "0  PMEGX  T. Rowe Price Institutional Mid-Cap Equity Gro...   \n",
       "1     WT                                   WisdomTree, Inc.   \n",
       "2  TFCCF                    Terra Firma Capital Corporation   \n",
       "3  EKWAX             Allspring Precious Metals Fund Class A   \n",
       "4  RNWWW                            ReNew Energy Global plc   \n",
       "\n",
       "                  exchange exchangeShortName   type              sector  \\\n",
       "0                   Nasdaq            NASDAQ  trust                 NaN   \n",
       "1  New York Stock Exchange              NYSE  stock  Financial Services   \n",
       "2                Other OTC               PNK  stock  Financial Services   \n",
       "3                   Nasdaq            NASDAQ  trust                 NaN   \n",
       "4     NASDAQ Global Select            NASDAQ  stock                 NaN   \n",
       "\n",
       "           industry                                        description website  \n",
       "0               NaN                                                NaN     NaN  \n",
       "1  Asset Management  WisdomTree, Inc., through its subsidiaries, op...     NaN  \n",
       "2  Mortgage Finance  Terra Firma Capital Corporation provides real ...     NaN  \n",
       "3               NaN                                                NaN     NaN  \n",
       "4               NaN                                                NaN     NaN  "
      ]
     },
     "execution_count": 41,
     "metadata": {},
     "output_type": "execute_result"
    }
   ],
   "source": [
    "us_tickers_df.head()"
   ]
  },
  {
   "cell_type": "markdown",
   "metadata": {},
   "source": [
    "Validate the user input"
   ]
  },
  {
   "cell_type": "code",
   "execution_count": null,
   "metadata": {},
   "outputs": [
    {
     "name": "stdout",
     "output_type": "stream",
     "text": [
      "BLAH is not a valid ticker symbol. Please check your input or type EXIT.\n",
      "HELLO is not a valid ticker symbol. Please check your input or type EXIT.\n",
      "IBM is a valid ticker symbol.\n"
     ]
    }
   ],
   "source": [
    "while True:\n",
    "  ticker = input(\"Enter a publicly traded company name or stock ticker (or type 'exit'): \").upper()\n",
    "  \n",
    "  if ticker == \"EXIT\":\n",
    "    print(f\"Thank you for trying, goodbye!\")\n",
    "    break  # Exit the loop if the user types 'exit'\n",
    "\n",
    "  if validate_ticker(ticker, us_tickers_df):\n",
    "    print(f\"{ticker} is a valid ticker symbol.\")\n",
    "    break # Exit the loop and continue with the rest of the code\n",
    "  else:\n",
    "    print(f\"{ticker} is not a valid ticker symbol. Please check your input or type EXIT.\")"
   ]
  },
  {
   "cell_type": "code",
   "execution_count": 42,
   "metadata": {},
   "outputs": [
    {
     "name": "stdout",
     "output_type": "stream",
     "text": [
      "Pulling latest news for IBM...\n",
      "Successfully pulled 100 news articles for IBM.\n",
      "                 Date                                              Title  \\\n",
      "0 2024-11-29 17:45:00  IBM (IBM) Gains But Lags Market: What You Shou...   \n",
      "1 2024-11-29 07:37:00  Better Artificial Intelligence Stock: Palantir...   \n",
      "2 2024-11-29 04:08:00  Should You Forget C3.ai and Buy These 2 AI Sto...   \n",
      "3 2024-11-28 08:51:00                                Is IBM Stock a Buy?   \n",
      "4 2024-11-27 12:22:00  Are IONQ, FORM, and IBM Stocks Buys Ahead of t...   \n",
      "\n",
      "                                                Link       Source  \n",
      "0  https://finance.yahoo.com/news/ibm-ibm-gains-l...        Zacks  \n",
      "1  https://finance.yahoo.com/m/11b4fe8a-b783-3600...  Motley Fool  \n",
      "2  https://finance.yahoo.com/m/35165ee8-4356-3c3b...  Motley Fool  \n",
      "3  https://finance.yahoo.com/m/6a4946cf-ce52-3028...  Motley Fool  \n",
      "4  https://finance.yahoo.com/news/ionq-form-ibm-s...     TipRanks  \n"
     ]
    }
   ],
   "source": [
    "# Import Data using the APIs\n",
    "# Data Pull\n",
    "print(f\"Pulling latest news for {ticker}...\")\n",
    "\n",
    "try:\n",
    "    stock = finvizfinance(ticker) \n",
    "    news_df = stock.ticker_news()\n",
    "    print(f\"Successfully pulled {len(news_df)} news articles for {ticker}.\")\n",
    "    print(news_df.head())\n",
    "except Exception as e:\n",
    "    print(f\"An error occurred while fetching news for {ticker}: {e}\")"
   ]
  },
  {
   "cell_type": "code",
   "execution_count": 43,
   "metadata": {},
   "outputs": [],
   "source": [
    "# Preprocess before putting into LLM\n",
    "news_df['Title'] = news_df['Title'].str.lower()\n",
    "\n",
    "# Classify Sentiment function applied to each row of news_df\n",
    "news_df['sentiment'] = news_df['Title'].apply(classify_sentiment)\n",
    "\n",
    "# Postprocess after putting into LLM\n",
    "news_df['sentiment'] = news_df['sentiment'].str.upper()\n",
    "news_df = news_df[news_df['sentiment'] != 'NEUTRAL']\n",
    "news_df['Date'] = pd.to_datetime(news_df['Date'])\n",
    "news_df['DateOnly'] = news_df['Date'].dt.date"
   ]
  },
  {
   "cell_type": "code",
   "execution_count": 52,
   "metadata": {},
   "outputs": [
    {
     "name": "stdout",
     "output_type": "stream",
     "text": [
      "                 Date                                              Title  \\\n",
      "0 2024-11-29 17:45:00  ibm (ibm) gains but lags market: what you shou...   \n",
      "1 2024-11-29 07:37:00  better artificial intelligence stock: palantir...   \n",
      "2 2024-11-29 04:08:00  should you forget c3.ai and buy these 2 ai sto...   \n",
      "3 2024-11-28 08:51:00                                is ibm stock a buy?   \n",
      "4 2024-11-27 12:22:00  are ionq, form, and ibm stocks buys ahead of t...   \n",
      "\n",
      "                                                Link       Source sentiment  \\\n",
      "0  https://finance.yahoo.com/news/ibm-ibm-gains-l...        Zacks        NE   \n",
      "1  https://finance.yahoo.com/m/11b4fe8a-b783-3600...  Motley Fool        NE   \n",
      "2  https://finance.yahoo.com/m/35165ee8-4356-3c3b...  Motley Fool        NE   \n",
      "3  https://finance.yahoo.com/m/6a4946cf-ce52-3028...  Motley Fool        NE   \n",
      "4  https://finance.yahoo.com/news/ionq-form-ibm-s...     TipRanks        NE   \n",
      "\n",
      "     DateOnly  \n",
      "0  2024-11-29  \n",
      "1  2024-11-29  \n",
      "2  2024-11-29  \n",
      "3  2024-11-28  \n",
      "4  2024-11-27  \n"
     ]
    },
    {
     "data": {
      "text/plain": [
       "sentiment\n",
       "NE     48\n",
       "POS    37\n",
       "NEG    15\n",
       "Name: count, dtype: int64"
      ]
     },
     "execution_count": 52,
     "metadata": {},
     "output_type": "execute_result"
    }
   ],
   "source": [
    "print(news_df.head())\n",
    "news_df['sentiment'].value_counts()\n",
    "#news_df.isnull().sum()"
   ]
  },
  {
   "cell_type": "markdown",
   "metadata": {},
   "source": [
    "Visulizations for the Sentiment Analysis"
   ]
  },
  {
   "cell_type": "code",
   "execution_count": 55,
   "metadata": {},
   "outputs": [
    {
     "data": {
      "image/png": "[encoded data removed]",
      "text/plain": [
       "<Figure size 800x500 with 1 Axes>"
      ]
     },
     "metadata": {},
     "output_type": "display_data"
    }
   ],
   "source": [
    "plt.figure(figsize=(8, 5))\n",
    "sns.countplot(x='sentiment', data=news_df)\n",
    "plt.title(f\"Sentiment Distribution for {ticker}\")\n",
    "plt.xlabel(\"Sentiment\")\n",
    "plt.ylabel(\"Number of Articles\")\n",
    "plt.show()"
   ]
  },
  {
   "cell_type": "markdown",
   "metadata": {},
   "source": [
    "Word Cloud for the Sentiment Analysis"
   ]
  },
  {
   "cell_type": "code",
   "execution_count": null,
   "metadata": {},
   "outputs": [
    {
     "ename": "SyntaxError",
     "evalue": "invalid non-printable character U+00A0 (4054539557.py, line 11)",
     "output_type": "error",
     "traceback": [
      "\u001b[0;36m  Cell \u001b[0;32mIn[1], line 11\u001b[0;36m\u001b[0m\n\u001b[0;31m    plt.axis(\"off\") 1\u001b[0m\n\u001b[0m                       ^\u001b[0m\n\u001b[0;31mSyntaxError\u001b[0m\u001b[0;31m:\u001b[0m invalid non-printable character U+00A0\n"
     ]
    }
   ],
   "source": [
    "# Combine all the titles into a single string\n",
    "text = \" \".join(news_df['Title'].tolist())\n",
    "\n",
    "# Create the word cloud\n",
    "wordcloud = WordCloud(width=800, height=400, background_color='white').generate(text)\n",
    "\n",
    "plt.figure(figsize=(10, 5))\n",
    "plt.imshow(wordcloud, interpolation='bilinear')\n",
    "plt.axis(\"off\") 1    \n"
   ]
  },
  {
   "cell_type": "code",
   "execution_count": null,
   "metadata": {},
   "outputs": [],
   "source": []
  }
 ],
 "metadata": {
  "kernelspec": {
   "display_name": "stock_sentiment",
   "language": "python",
   "name": "python3"
  },
  "language_info": {
   "codemirror_mode": {
    "name": "ipython",
    "version": 3
   },
   "file_extension": ".py",
   "mimetype": "text/x-python",
   "name": "python",
   "nbconvert_exporter": "python",
   "pygments_lexer": "ipython3",
   "version": "3.11.10"
  }
 },
 "nbformat": 4,
 "nbformat_minor": 4
}
