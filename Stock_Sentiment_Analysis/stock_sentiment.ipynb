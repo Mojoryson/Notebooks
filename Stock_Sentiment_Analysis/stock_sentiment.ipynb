{
 "cells": [
  {
   "cell_type": "markdown",
   "metadata": {},
   "source": [
    "## Notebook to debug my stock predictor"
   ]
  },
  {
   "cell_type": "code",
   "execution_count": 2,
   "metadata": {},
   "outputs": [],
   "source": [
    "\"\"\"\n",
    "The goal of this project will use AI & ML to predict stock prices. I will a LLM for sentiment analysis and time series analysis to predict stock prices.\n",
    "\"\"\"\n",
    "\n",
    "# Import Libraries\n",
    "\n",
    "# Financial Data\n",
    "import yfinance as yf\n",
    "from finvizfinance.quote import finvizfinance\n",
    "\n",
    "# Data Manipulation\n",
    "import pandas as pd\n",
    "import numpy as np\n",
    "\n",
    "# Data Modeling Library\n",
    "#from statsmodels.tsa.statespace.sarimax import SARIMAX\n",
    "\n",
    "# Machine Learning Library\n",
    "from sklearn.model_selection import train_test_split\n",
    "from sklearn.preprocessing import StandardScaler\n",
    "from sklearn.linear_model import LinearRegression\n",
    "from sklearn.metrics import mean_squared_error\n",
    "\n",
    "# Charts\n",
    "#import plotly.graph_objects as go\n",
    "import matplotlib.pyplot as plt\n",
    "import seaborn as sns\n",
    "\n",
    "# Interactive Web App UI\n",
    "#import streamlit as st\n",
    "\n",
    "# Connect to OpenAI API\n",
    "from openai import OpenAI\n",
    "from config import my_sk\n",
    "\n",
    "# setup api client\n",
    "client = OpenAI(api_key=my_sk)"
   ]
  },
  {
   "cell_type": "code",
   "execution_count": 9,
   "metadata": {},
   "outputs": [],
   "source": [
    "# Load the Dataset\n",
    "us_tickers = pd.read_csv('data/us_tickers.csv')"
   ]
  },
  {
   "cell_type": "code",
   "execution_count": 17,
   "metadata": {},
   "outputs": [
    {
     "ename": "ValueError",
     "evalue": "Length mismatch: Expected axis has 9 elements, new values have 2 elements",
     "output_type": "error",
     "traceback": [
      "\u001b[0;31m---------------------------------------------------------------------------\u001b[0m",
      "\u001b[0;31mValueError\u001b[0m                                Traceback (most recent call last)",
      "Cell \u001b[0;32mIn[17], line 1\u001b[0m\n\u001b[0;32m----> 1\u001b[0m \u001b[43mus_tickers\u001b[49m\u001b[38;5;241;43m.\u001b[39;49m\u001b[43mcolumns\u001b[49m \u001b[38;5;241m=\u001b[39m [\u001b[38;5;124m'\u001b[39m\u001b[38;5;124msymbol\u001b[39m\u001b[38;5;124m'\u001b[39m, \u001b[38;5;124m'\u001b[39m\u001b[38;5;124mcompany\u001b[39m\u001b[38;5;124m'\u001b[39m]\n",
      "File \u001b[0;32m~/anaconda3/envs/st_dev_py310/lib/python3.10/site-packages/pandas/core/generic.py:6313\u001b[0m, in \u001b[0;36mNDFrame.__setattr__\u001b[0;34m(self, name, value)\u001b[0m\n\u001b[1;32m   6311\u001b[0m \u001b[38;5;28;01mtry\u001b[39;00m:\n\u001b[1;32m   6312\u001b[0m     \u001b[38;5;28mobject\u001b[39m\u001b[38;5;241m.\u001b[39m\u001b[38;5;21m__getattribute__\u001b[39m(\u001b[38;5;28mself\u001b[39m, name)\n\u001b[0;32m-> 6313\u001b[0m     \u001b[38;5;28;01mreturn\u001b[39;00m \u001b[38;5;28;43mobject\u001b[39;49m\u001b[38;5;241;43m.\u001b[39;49m\u001b[38;5;21;43m__setattr__\u001b[39;49m\u001b[43m(\u001b[49m\u001b[38;5;28;43mself\u001b[39;49m\u001b[43m,\u001b[49m\u001b[43m \u001b[49m\u001b[43mname\u001b[49m\u001b[43m,\u001b[49m\u001b[43m \u001b[49m\u001b[43mvalue\u001b[49m\u001b[43m)\u001b[49m\n\u001b[1;32m   6314\u001b[0m \u001b[38;5;28;01mexcept\u001b[39;00m \u001b[38;5;167;01mAttributeError\u001b[39;00m:\n\u001b[1;32m   6315\u001b[0m     \u001b[38;5;28;01mpass\u001b[39;00m\n",
      "File \u001b[0;32mproperties.pyx:69\u001b[0m, in \u001b[0;36mpandas._libs.properties.AxisProperty.__set__\u001b[0;34m()\u001b[0m\n",
      "File \u001b[0;32m~/anaconda3/envs/st_dev_py310/lib/python3.10/site-packages/pandas/core/generic.py:814\u001b[0m, in \u001b[0;36mNDFrame._set_axis\u001b[0;34m(self, axis, labels)\u001b[0m\n\u001b[1;32m    809\u001b[0m \u001b[38;5;250m\u001b[39m\u001b[38;5;124;03m\"\"\"\u001b[39;00m\n\u001b[1;32m    810\u001b[0m \u001b[38;5;124;03mThis is called from the cython code when we set the `index` attribute\u001b[39;00m\n\u001b[1;32m    811\u001b[0m \u001b[38;5;124;03mdirectly, e.g. `series.index = [1, 2, 3]`.\u001b[39;00m\n\u001b[1;32m    812\u001b[0m \u001b[38;5;124;03m\"\"\"\u001b[39;00m\n\u001b[1;32m    813\u001b[0m labels \u001b[38;5;241m=\u001b[39m ensure_index(labels)\n\u001b[0;32m--> 814\u001b[0m \u001b[38;5;28;43mself\u001b[39;49m\u001b[38;5;241;43m.\u001b[39;49m\u001b[43m_mgr\u001b[49m\u001b[38;5;241;43m.\u001b[39;49m\u001b[43mset_axis\u001b[49m\u001b[43m(\u001b[49m\u001b[43maxis\u001b[49m\u001b[43m,\u001b[49m\u001b[43m \u001b[49m\u001b[43mlabels\u001b[49m\u001b[43m)\u001b[49m\n\u001b[1;32m    815\u001b[0m \u001b[38;5;28mself\u001b[39m\u001b[38;5;241m.\u001b[39m_clear_item_cache()\n",
      "File \u001b[0;32m~/anaconda3/envs/st_dev_py310/lib/python3.10/site-packages/pandas/core/internals/managers.py:238\u001b[0m, in \u001b[0;36mBaseBlockManager.set_axis\u001b[0;34m(self, axis, new_labels)\u001b[0m\n\u001b[1;32m    236\u001b[0m \u001b[38;5;28;01mdef\u001b[39;00m \u001b[38;5;21mset_axis\u001b[39m(\u001b[38;5;28mself\u001b[39m, axis: AxisInt, new_labels: Index) \u001b[38;5;241m-\u001b[39m\u001b[38;5;241m>\u001b[39m \u001b[38;5;28;01mNone\u001b[39;00m:\n\u001b[1;32m    237\u001b[0m     \u001b[38;5;66;03m# Caller is responsible for ensuring we have an Index object.\u001b[39;00m\n\u001b[0;32m--> 238\u001b[0m     \u001b[38;5;28;43mself\u001b[39;49m\u001b[38;5;241;43m.\u001b[39;49m\u001b[43m_validate_set_axis\u001b[49m\u001b[43m(\u001b[49m\u001b[43maxis\u001b[49m\u001b[43m,\u001b[49m\u001b[43m \u001b[49m\u001b[43mnew_labels\u001b[49m\u001b[43m)\u001b[49m\n\u001b[1;32m    239\u001b[0m     \u001b[38;5;28mself\u001b[39m\u001b[38;5;241m.\u001b[39maxes[axis] \u001b[38;5;241m=\u001b[39m new_labels\n",
      "File \u001b[0;32m~/anaconda3/envs/st_dev_py310/lib/python3.10/site-packages/pandas/core/internals/base.py:98\u001b[0m, in \u001b[0;36mDataManager._validate_set_axis\u001b[0;34m(self, axis, new_labels)\u001b[0m\n\u001b[1;32m     95\u001b[0m     \u001b[38;5;28;01mpass\u001b[39;00m\n\u001b[1;32m     97\u001b[0m \u001b[38;5;28;01melif\u001b[39;00m new_len \u001b[38;5;241m!=\u001b[39m old_len:\n\u001b[0;32m---> 98\u001b[0m     \u001b[38;5;28;01mraise\u001b[39;00m \u001b[38;5;167;01mValueError\u001b[39;00m(\n\u001b[1;32m     99\u001b[0m         \u001b[38;5;124mf\u001b[39m\u001b[38;5;124m\"\u001b[39m\u001b[38;5;124mLength mismatch: Expected axis has \u001b[39m\u001b[38;5;132;01m{\u001b[39;00mold_len\u001b[38;5;132;01m}\u001b[39;00m\u001b[38;5;124m elements, new \u001b[39m\u001b[38;5;124m\"\u001b[39m\n\u001b[1;32m    100\u001b[0m         \u001b[38;5;124mf\u001b[39m\u001b[38;5;124m\"\u001b[39m\u001b[38;5;124mvalues have \u001b[39m\u001b[38;5;132;01m{\u001b[39;00mnew_len\u001b[38;5;132;01m}\u001b[39;00m\u001b[38;5;124m elements\u001b[39m\u001b[38;5;124m\"\u001b[39m\n\u001b[1;32m    101\u001b[0m     )\n",
      "\u001b[0;31mValueError\u001b[0m: Length mismatch: Expected axis has 9 elements, new values have 2 elements"
     ]
    }
   ],
   "source": [
    "us_tickers.columns = ['symbol', 'company']\n"
   ]
  },
  {
   "cell_type": "markdown",
   "metadata": {},
   "source": [
    "# Open AI API Call using the LLM to classify text"
   ]
  },
  {
   "cell_type": "code",
   "execution_count": null,
   "metadata": {},
   "outputs": [],
   "source": [
    "def classify_sentiment(title):\n",
    "    response = client.chat.completions.create(\n",
    "            model=\"gpt-3.5-turbo\",\n",
    "            messages=[\n",
    "                {\"role\": \"system\", \"content\": \"You are a sentiment classifier.\"},\n",
    "                {\"role\": \"user\", \"content\": f\"Classify the sentiment as 'POSITIVE' or 'NEGATIVE' or 'NEUTRAL' with just that one word only, no additional words or reasoning: {title}\"},\n",
    "            ],\n",
    "        max_tokens=1,\n",
    "        n=1,\n",
    "        temperature=0.5\n",
    "    )\n",
    "    return response.choices[0].message.content# Directly access the .content attribute\n"
   ]
  },
  {
   "cell_type": "markdown",
   "metadata": {},
   "source": [
    "Check to see if the sentiment analysis is working"
   ]
  },
  {
   "cell_type": "code",
   "execution_count": null,
   "metadata": {},
   "outputs": [],
   "source": [
    "#testing the classify_sentiment function    \n",
    "classify_sentiment(\"IBM had an amazing run but tanked at the end of the day\")"
   ]
  },
  {
   "cell_type": "markdown",
   "metadata": {},
   "source": [
    "Load all US pubblically traded companies into a dataframe"
   ]
  },
  {
   "cell_type": "code",
   "execution_count": null,
   "metadata": {},
   "outputs": [],
   "source": [
    "us_tickers = pd.read_csv('data/us_tickers.csv', header=None, names=['Company'])"
   ]
  },
  {
   "cell_type": "code",
   "execution_count": null,
   "metadata": {},
   "outputs": [],
   "source": []
  },
  {
   "cell_type": "markdown",
   "metadata": {},
   "source": [
    "-- Now we want to get the data"
   ]
  },
  {
   "cell_type": "code",
   "execution_count": null,
   "metadata": {},
   "outputs": [],
   "source": [
    "ticker = input(\"Enter a publically traded company name or stock ticker: \").lower()"
   ]
  },
  {
   "cell_type": "markdown",
   "metadata": {},
   "source": [
    "Validate the user input"
   ]
  },
  {
   "cell_type": "code",
   "execution_count": null,
   "metadata": {},
   "outputs": [],
   "source": [
    "# Import Data using the APIs\n",
    "# Data Pull\n",
    "stock = finvizfinance(ticker) \n",
    "news_df = stock.ticker_news()\n",
    "\n"
   ]
  },
  {
   "cell_type": "code",
   "execution_count": null,
   "metadata": {},
   "outputs": [],
   "source": [
    "print(news_df.head())\n",
    "news_df.describe()"
   ]
  },
  {
   "cell_type": "code",
   "execution_count": null,
   "metadata": {},
   "outputs": [],
   "source": [
    "# Preprocess before putting into LLM\n",
    "news_df['Title'] = news_df['Title'].str.lower()\n",
    "\n",
    "# Classify Sentiment function applied to each row of news_df\n",
    "news_df['sentiment'] = news_df['Title'].apply(classify_sentiment)\n",
    "\n",
    "# Postprocess after putting into LLM\n",
    "news_df['sentiment'] = news_df['sentiment'].str.upper()\n",
    "news_df = news_df[news_df['sentiment'] != 'NEUTRAL']\n",
    "news_df['Date'] = pd.to_datetime(news_df['Date'])\n",
    "news_df['DateOnly'] = news_df['Date'].dt.date"
   ]
  },
  {
   "cell_type": "code",
   "execution_count": null,
   "metadata": {},
   "outputs": [],
   "source": [
    "print(news_df.head())"
   ]
  },
  {
   "cell_type": "markdown",
   "metadata": {},
   "source": [
    "-- Create the function to classify sentiment on the ticker"
   ]
  },
  {
   "cell_type": "code",
   "execution_count": null,
   "metadata": {},
   "outputs": [],
   "source": [
    "# Data Pull\n",
    "#ticker = 'AAPL'\n",
    "stock = finvizfinance(ticker) \n",
    "news_df = stock.ticker_news()\n",
    "\n",
    "    # Preprocess before putting into LLM\n",
    "news_df['Title'] = news_df['Title'].str.lower()\n",
    "\n",
    "    # Classify Sentiment function applied to each row of news_df\n",
    "news_df['sentiment'] = news_df['Title'].apply(classify_sentiment)\n",
    "\n",
    "    # Postprocess after putting into LLM\n",
    "news_df['sentiment'] = news_df['sentiment'].str.upper()\n",
    "news_df = news_df[news_df['sentiment'] != 'NEUTRAL']\n",
    "news_df['Date'] = pd.to_datetime(news_df['Date'])\n",
    "news_df['DateOnly'] = news_df['Date'].dt.date\n"
   ]
  },
  {
   "cell_type": "code",
   "execution_count": null,
   "metadata": {},
   "outputs": [],
   "source": [
    "print(news_df.head())\n",
    "news_df['sentiment'].value_counts()\n",
    "news_df "
   ]
  },
  {
   "cell_type": "code",
   "execution_count": null,
   "metadata": {},
   "outputs": [],
   "source": [
    "# Function to group and process sentiment data\n",
    "\n",
    "# Reshape data to have df with columns: Date, # of positive Articles, # of negative Articles\n",
    "grouped = news_df.groupby(['DateOnly', 'sentiment']).size().unstack(fill_value=0)\n",
    "grouped = grouped.reindex(columns=['POS', 'NEG'], fill_value=0)\n",
    "\n",
    "# Create rolling averages that count number of positive and negative sentiment articles within past t days\n",
    "grouped['7day_avg_positive'] = grouped['POS'].rolling(window=7, min_periods=1).sum()\n",
    "grouped['7day_avg_negative'] = grouped['NEG'].rolling(window=7, min_periods=1).sum()\n",
    "\n",
    "# Create \"Percent Positive\" by creating percentage measure\n",
    "grouped['7day_pct_positive'] = grouped['POS'] / (grouped['POS'] + grouped['NEG'])\n",
    "result_df = grouped.reset_index()\n",
    "\n",
    "print(result_df.head())\n",
    "result_df"
   ]
  },
  {
   "cell_type": "code",
   "execution_count": null,
   "metadata": {},
   "outputs": [],
   "source": [
    "\n",
    "\n",
    "# Line chart for historical and forecasted stock prices\n",
    "plt.figure(figsize=(14, 7))\n",
    "plt.plot(stock_data['DateOnly'], stock_data['Close'], label='Historical Prices')\n",
    "plt.plot(forecast.index, forecast.predicted_mean, label='Forecasted Prices', linestyle='--')\n",
    "plt.xlabel('Date')\n",
    "plt.ylabel('Stock Price')\n",
    "plt.title('Historical and Forecasted Stock Prices')\n",
    "plt.legend()\n",
    "plt.show()\n",
    "\n",
    "# Bar chart for sentiment counts\n",
    "sentiment_counts = news_df['sentiment'].value_counts()\n",
    "plt.figure(figsize=(10, 5))\n",
    "sns.barplot(x=sentiment_counts.index, y=sentiment_counts.values)\n",
    "plt.xlabel('Sentiment')\n",
    "plt.ylabel('Count')\n",
    "plt.title('Sentiment Counts')\n",
    "plt.show()\n",
    "\n",
    "# Rolling average chart for positive and negative sentiment\n",
    "plt.figure(figsize=(14, 7))\n",
    "plt.plot(result_df['DateOnly'], result_df['7day_avg_positive'], label='7-day Avg Positive Sentiment')\n",
    "plt.plot(result_df['DateOnly'], result_df['7day_avg_negative'], label='7-day Avg Negative Sentiment')\n",
    "plt.xlabel('Date')\n",
    "plt.ylabel('Sentiment Count')\n",
    "plt.title('7-day Rolling Average of Sentiment')\n",
    "plt.legend()\n",
    "plt.show()\n",
    "\n",
    "# Percentage positive sentiment chart\n",
    "plt.figure(figsize=(14, 7))\n",
    "plt.plot(result_df['DateOnly'], result_df['7day_pct_positive'], label='7-day % Positive Sentiment')\n",
    "plt.xlabel('Date')\n",
    "plt.ylabel('Percentage')\n",
    "plt.title('7-day Percentage of Positive Sentiment')\n",
    "plt.legend()\n",
    "plt.show()"
   ]
  },
  {
   "cell_type": "code",
   "execution_count": null,
   "metadata": {},
   "outputs": [],
   "source": [
    "#import matplotlib.pyplot as plt\n",
    "\n",
    "print(result_df)\n",
    "\n",
    "# Plot using matplotlib\n",
    "result_df.plot(x='DateOnly', y=['7day_avg_positive', '7day_avg_negative'], kind='bar', stacked=True, figsize=(10, 5))\n",
    "plt.show()"
   ]
  },
  {
   "cell_type": "code",
   "execution_count": null,
   "metadata": {},
   "outputs": [],
   "source": [
    "import yfinance as yf\n",
    "\n",
    "ticker = 'AAPL'\n",
    "start_date = '2024-11-21'\n",
    "end_date = '2024-11-23'\n",
    "\n",
    "stock_data = yf.download(ticker, start=start_date, end=end_date, ignore_tz=True)\n",
    "\n",
    "if stock_data is not None and not stock_data.empty:\n",
    "\tstock_data['Pct_Change'] = stock_data['Close'].pct_change() * 100 \n",
    "\tprint(stock_data)  # Display the downloaded data\n",
    "else:\n",
    "\tprint(\"No data was downloaded.\")"
   ]
  },
  {
   "cell_type": "code",
   "execution_count": null,
   "metadata": {},
   "outputs": [],
   "source": [
    "print(stock_data.head())\n",
    "stock_data.describe()"
   ]
  },
  {
   "cell_type": "code",
   "execution_count": null,
   "metadata": {},
   "outputs": [],
   "source": []
  }
 ],
 "metadata": {
  "kernelspec": {
   "display_name": "st_dev_py310",
   "language": "python",
   "name": "python3"
  },
  "language_info": {
   "codemirror_mode": {
    "name": "ipython",
    "version": 3
   },
   "file_extension": ".py",
   "mimetype": "text/x-python",
   "name": "python",
   "nbconvert_exporter": "python",
   "pygments_lexer": "ipython3",
   "version": "3.10.15"
  }
 },
 "nbformat": 4,
 "nbformat_minor": 2
}
