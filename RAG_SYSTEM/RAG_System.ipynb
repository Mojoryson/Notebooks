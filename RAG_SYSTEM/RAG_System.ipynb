{
 "cells": [
  {
   "cell_type": "markdown",
   "id": "2b418406-375d-4ad2-8323-ac5b73563bad",
   "metadata": {},
   "source": [
    "##  Rag System\n",
    "### Objectives\n",
    "- Set up a RAG system.\n",
    "- Explore the distribution of embeddings with user queries.\n",
    "- Implement query augmentation.\n",
    "- Perform result re-ranking.\n",
    "- Utilize Embedding Adapters.\n",
    "\n",
    "Author: Rod Morrison"
   ]
  },
  {
   "cell_type": "code",
   "execution_count": 1,
   "id": "274d6d1e-b49f-4c3c-a00d-b14ea9a9a2b1",
   "metadata": {
    "tags": []
   },
   "outputs": [
    {
     "name": "stdout",
     "output_type": "stream",
     "text": [
      "Requirement already satisfied: google-cloud-aiplatform in ./.local/lib/python3.10/site-packages (1.74.0)\n",
      "Requirement already satisfied: umap-learn in ./.local/lib/python3.10/site-packages (0.5.7)\n",
      "Requirement already satisfied: tqdm in ./.local/lib/python3.10/site-packages (4.67.1)\n",
      "Requirement already satisfied: pypdf in ./.local/lib/python3.10/site-packages (5.1.0)\n",
      "Requirement already satisfied: google-api-core!=2.0.*,!=2.1.*,!=2.2.*,!=2.3.*,!=2.4.*,!=2.5.*,!=2.6.*,!=2.7.*,<3.0.0dev,>=1.34.1 in /opt/conda/lib/python3.10/site-packages (from google-api-core[grpc]!=2.0.*,!=2.1.*,!=2.2.*,!=2.3.*,!=2.4.*,!=2.5.*,!=2.6.*,!=2.7.*,<3.0.0dev,>=1.34.1->google-cloud-aiplatform) (1.34.1)\n",
      "Requirement already satisfied: google-auth<3.0.0dev,>=2.14.1 in /opt/conda/lib/python3.10/site-packages (from google-cloud-aiplatform) (2.36.0)\n",
      "Requirement already satisfied: proto-plus<2.0.0dev,>=1.22.3 in /opt/conda/lib/python3.10/site-packages (from google-cloud-aiplatform) (1.25.0)\n",
      "Requirement already satisfied: protobuf!=4.21.0,!=4.21.1,!=4.21.2,!=4.21.3,!=4.21.4,!=4.21.5,<6.0.0dev,>=3.20.2 in /opt/conda/lib/python3.10/site-packages (from google-cloud-aiplatform) (3.20.3)\n",
      "Requirement already satisfied: packaging>=14.3 in /opt/conda/lib/python3.10/site-packages (from google-cloud-aiplatform) (24.1)\n",
      "Requirement already satisfied: google-cloud-storage<3.0.0dev,>=1.32.0 in /opt/conda/lib/python3.10/site-packages (from google-cloud-aiplatform) (2.14.0)\n",
      "Requirement already satisfied: google-cloud-bigquery!=3.20.0,<4.0.0dev,>=1.15.0 in /opt/conda/lib/python3.10/site-packages (from google-cloud-aiplatform) (3.25.0)\n",
      "Requirement already satisfied: google-cloud-resource-manager<3.0.0dev,>=1.3.3 in /opt/conda/lib/python3.10/site-packages (from google-cloud-aiplatform) (1.13.1)\n",
      "Requirement already satisfied: shapely<3.0.0dev in /opt/conda/lib/python3.10/site-packages (from google-cloud-aiplatform) (2.0.6)\n",
      "Requirement already satisfied: pydantic<3 in /opt/conda/lib/python3.10/site-packages (from google-cloud-aiplatform) (2.9.2)\n",
      "Requirement already satisfied: docstring-parser<1 in /opt/conda/lib/python3.10/site-packages (from google-cloud-aiplatform) (0.16)\n",
      "Requirement already satisfied: numpy>=1.17 in /opt/conda/lib/python3.10/site-packages (from umap-learn) (1.26.4)\n",
      "Requirement already satisfied: scipy>=1.3.1 in /opt/conda/lib/python3.10/site-packages (from umap-learn) (1.13.1)\n",
      "Requirement already satisfied: scikit-learn>=0.22 in /opt/conda/lib/python3.10/site-packages (from umap-learn) (1.5.2)\n",
      "Requirement already satisfied: numba>=0.51.2 in /opt/conda/lib/python3.10/site-packages (from umap-learn) (0.60.0)\n",
      "Requirement already satisfied: pynndescent>=0.5 in ./.local/lib/python3.10/site-packages (from umap-learn) (0.5.13)\n",
      "Requirement already satisfied: typing_extensions>=4.0 in /opt/conda/lib/python3.10/site-packages (from pypdf) (4.12.2)\n",
      "Requirement already satisfied: googleapis-common-protos<2.0dev,>=1.56.2 in /opt/conda/lib/python3.10/site-packages (from google-api-core!=2.0.*,!=2.1.*,!=2.2.*,!=2.3.*,!=2.4.*,!=2.5.*,!=2.6.*,!=2.7.*,<3.0.0dev,>=1.34.1->google-api-core[grpc]!=2.0.*,!=2.1.*,!=2.2.*,!=2.3.*,!=2.4.*,!=2.5.*,!=2.6.*,!=2.7.*,<3.0.0dev,>=1.34.1->google-cloud-aiplatform) (1.66.0)\n",
      "Requirement already satisfied: requests<3.0.0dev,>=2.18.0 in /opt/conda/lib/python3.10/site-packages (from google-api-core!=2.0.*,!=2.1.*,!=2.2.*,!=2.3.*,!=2.4.*,!=2.5.*,!=2.6.*,!=2.7.*,<3.0.0dev,>=1.34.1->google-api-core[grpc]!=2.0.*,!=2.1.*,!=2.2.*,!=2.3.*,!=2.4.*,!=2.5.*,!=2.6.*,!=2.7.*,<3.0.0dev,>=1.34.1->google-cloud-aiplatform) (2.32.3)\n",
      "Requirement already satisfied: grpcio<2.0dev,>=1.33.2 in /opt/conda/lib/python3.10/site-packages (from google-api-core[grpc]!=2.0.*,!=2.1.*,!=2.2.*,!=2.3.*,!=2.4.*,!=2.5.*,!=2.6.*,!=2.7.*,<3.0.0dev,>=1.34.1->google-cloud-aiplatform) (1.68.0)\n",
      "Requirement already satisfied: grpcio-status<2.0dev,>=1.33.2 in /opt/conda/lib/python3.10/site-packages (from google-api-core[grpc]!=2.0.*,!=2.1.*,!=2.2.*,!=2.3.*,!=2.4.*,!=2.5.*,!=2.6.*,!=2.7.*,<3.0.0dev,>=1.34.1->google-cloud-aiplatform) (1.48.2)\n",
      "Requirement already satisfied: cachetools<6.0,>=2.0.0 in /opt/conda/lib/python3.10/site-packages (from google-auth<3.0.0dev,>=2.14.1->google-cloud-aiplatform) (5.5.0)\n",
      "Requirement already satisfied: pyasn1-modules>=0.2.1 in /opt/conda/lib/python3.10/site-packages (from google-auth<3.0.0dev,>=2.14.1->google-cloud-aiplatform) (0.4.1)\n",
      "Requirement already satisfied: rsa<5,>=3.1.4 in /opt/conda/lib/python3.10/site-packages (from google-auth<3.0.0dev,>=2.14.1->google-cloud-aiplatform) (4.9)\n",
      "Requirement already satisfied: google-cloud-core<3.0.0dev,>=1.6.0 in /opt/conda/lib/python3.10/site-packages (from google-cloud-bigquery!=3.20.0,<4.0.0dev,>=1.15.0->google-cloud-aiplatform) (2.4.1)\n",
      "Requirement already satisfied: google-resumable-media<3.0dev,>=0.6.0 in /opt/conda/lib/python3.10/site-packages (from google-cloud-bigquery!=3.20.0,<4.0.0dev,>=1.15.0->google-cloud-aiplatform) (2.7.2)\n",
      "Requirement already satisfied: python-dateutil<3.0dev,>=2.7.2 in /opt/conda/lib/python3.10/site-packages (from google-cloud-bigquery!=3.20.0,<4.0.0dev,>=1.15.0->google-cloud-aiplatform) (2.9.0.post0)\n",
      "Requirement already satisfied: grpc-google-iam-v1<1.0.0dev,>=0.12.4 in /opt/conda/lib/python3.10/site-packages (from google-cloud-resource-manager<3.0.0dev,>=1.3.3->google-cloud-aiplatform) (0.13.1)\n",
      "Requirement already satisfied: google-crc32c<2.0dev,>=1.0 in /opt/conda/lib/python3.10/site-packages (from google-cloud-storage<3.0.0dev,>=1.32.0->google-cloud-aiplatform) (1.6.0)\n",
      "Requirement already satisfied: llvmlite<0.44,>=0.43.0dev0 in /opt/conda/lib/python3.10/site-packages (from numba>=0.51.2->umap-learn) (0.43.0)\n",
      "Requirement already satisfied: annotated-types>=0.6.0 in /opt/conda/lib/python3.10/site-packages (from pydantic<3->google-cloud-aiplatform) (0.7.0)\n",
      "Requirement already satisfied: pydantic-core==2.23.4 in /opt/conda/lib/python3.10/site-packages (from pydantic<3->google-cloud-aiplatform) (2.23.4)\n",
      "Requirement already satisfied: joblib>=0.11 in /opt/conda/lib/python3.10/site-packages (from pynndescent>=0.5->umap-learn) (1.4.2)\n",
      "Requirement already satisfied: threadpoolctl>=3.1.0 in /opt/conda/lib/python3.10/site-packages (from scikit-learn>=0.22->umap-learn) (3.5.0)\n",
      "Requirement already satisfied: pyasn1<0.7.0,>=0.4.6 in /opt/conda/lib/python3.10/site-packages (from pyasn1-modules>=0.2.1->google-auth<3.0.0dev,>=2.14.1->google-cloud-aiplatform) (0.6.1)\n",
      "Requirement already satisfied: six>=1.5 in /opt/conda/lib/python3.10/site-packages (from python-dateutil<3.0dev,>=2.7.2->google-cloud-bigquery!=3.20.0,<4.0.0dev,>=1.15.0->google-cloud-aiplatform) (1.16.0)\n",
      "Requirement already satisfied: charset-normalizer<4,>=2 in /opt/conda/lib/python3.10/site-packages (from requests<3.0.0dev,>=2.18.0->google-api-core!=2.0.*,!=2.1.*,!=2.2.*,!=2.3.*,!=2.4.*,!=2.5.*,!=2.6.*,!=2.7.*,<3.0.0dev,>=1.34.1->google-api-core[grpc]!=2.0.*,!=2.1.*,!=2.2.*,!=2.3.*,!=2.4.*,!=2.5.*,!=2.6.*,!=2.7.*,<3.0.0dev,>=1.34.1->google-cloud-aiplatform) (3.4.0)\n",
      "Requirement already satisfied: idna<4,>=2.5 in /opt/conda/lib/python3.10/site-packages (from requests<3.0.0dev,>=2.18.0->google-api-core!=2.0.*,!=2.1.*,!=2.2.*,!=2.3.*,!=2.4.*,!=2.5.*,!=2.6.*,!=2.7.*,<3.0.0dev,>=1.34.1->google-api-core[grpc]!=2.0.*,!=2.1.*,!=2.2.*,!=2.3.*,!=2.4.*,!=2.5.*,!=2.6.*,!=2.7.*,<3.0.0dev,>=1.34.1->google-cloud-aiplatform) (3.10)\n",
      "Requirement already satisfied: urllib3<3,>=1.21.1 in /opt/conda/lib/python3.10/site-packages (from requests<3.0.0dev,>=2.18.0->google-api-core!=2.0.*,!=2.1.*,!=2.2.*,!=2.3.*,!=2.4.*,!=2.5.*,!=2.6.*,!=2.7.*,<3.0.0dev,>=1.34.1->google-api-core[grpc]!=2.0.*,!=2.1.*,!=2.2.*,!=2.3.*,!=2.4.*,!=2.5.*,!=2.6.*,!=2.7.*,<3.0.0dev,>=1.34.1->google-cloud-aiplatform) (1.26.20)\n",
      "Requirement already satisfied: certifi>=2017.4.17 in /opt/conda/lib/python3.10/site-packages (from requests<3.0.0dev,>=2.18.0->google-api-core!=2.0.*,!=2.1.*,!=2.2.*,!=2.3.*,!=2.4.*,!=2.5.*,!=2.6.*,!=2.7.*,<3.0.0dev,>=1.34.1->google-api-core[grpc]!=2.0.*,!=2.1.*,!=2.2.*,!=2.3.*,!=2.4.*,!=2.5.*,!=2.6.*,!=2.7.*,<3.0.0dev,>=1.34.1->google-cloud-aiplatform) (2024.8.30)\n"
     ]
    }
   ],
   "source": [
    "# Install packages\n",
    "!pip3 install --upgrade --user google-cloud-aiplatform umap-learn tqdm pypdf"
   ]
  },
  {
   "cell_type": "code",
   "execution_count": 2,
   "id": "f8d96109-e8ee-480d-87d4-e2b7f3e05999",
   "metadata": {
    "tags": []
   },
   "outputs": [
    {
     "data": {
      "text/plain": [
       "{'status': 'ok', 'restart': True}"
      ]
     },
     "execution_count": 2,
     "metadata": {},
     "output_type": "execute_result"
    }
   ],
   "source": [
    "# Restart the kernel \n",
    "import IPython\n",
    "from IPython.display import Markdown, display\n",
    "import time\n",
    "\n",
    "app = IPython.Application.instance()\n",
    "app.kernel.do_shutdown(True)"
   ]
  },
  {
   "cell_type": "code",
   "execution_count": null,
   "id": "c35e107e-56f6-4936-b82a-8f6018d857be",
   "metadata": {
    "tags": []
   },
   "outputs": [],
   "source": [
    "PROJECT = !gcloud config get-value project\n",
    "PROJECT_ID = PROJECT[0]\n",
    "LOCATION = \"us-central1\""
   ]
  },
  {
   "cell_type": "code",
   "execution_count": 3,
   "id": "8fe289c0-5c4b-4223-9839-a8988d6f3c78",
   "metadata": {
    "tags": []
   },
   "outputs": [
    {
     "name": "stdout",
     "output_type": "stream",
     "text": [
      "Copying gs://crs_dev_bucket/datafiles/Gracie_Book_Intro.pdf...\n",
      "/ [1 files][  3.4 MiB/  3.4 MiB]                                                \n",
      "Operation completed over 1 objects/3.4 MiB.                                      \n"
     ]
    }
   ],
   "source": [
    "# Copy files from Cloud Storage\n",
    "! gsutil cp gs://crs_dev_bucket/datafiles/* ."
   ]
  },
  {
   "cell_type": "code",
   "execution_count": 14,
   "id": "fb1092d0-ce10-47d0-8603-0accce12a0ad",
   "metadata": {
    "tags": []
   },
   "outputs": [],
   "source": [
    "# Import python display utilities and Google Cloud's Embeddings and Gemini models.\n",
    "from vertexai.preview.generative_models import GenerativeModel\n",
    "from vertexai.language_models import TextEmbeddingModel\n",
    "text_embedding_model = TextEmbeddingModel.from_pretrained(\"text-embedding-004\")\n",
    "model = GenerativeModel('gemini-pro')\n",
    "\n",
    "# Fix the TOKENIZERS_PARALLELISM issue - put higher in notebook\n",
    "import os \n",
    "os.environ[\"TOKENIZERS_PARALLELISM\"] = \"false\""
   ]
  },
  {
   "cell_type": "code",
   "execution_count": 5,
   "id": "9a1e7f85-63a5-4419-8cb7-dd52e2856e10",
   "metadata": {
    "tags": []
   },
   "outputs": [
    {
     "name": "stdout",
     "output_type": "stream",
     "text": [
      "Collecting PyPDF2\n",
      "  Downloading pypdf2-3.0.1-py3-none-any.whl.metadata (6.8 kB)\n",
      "Downloading pypdf2-3.0.1-py3-none-any.whl (232 kB)\n",
      "Installing collected packages: PyPDF2\n",
      "Successfully installed PyPDF2-3.0.1\n",
      "Gracie Jiu-Jitsu\n",
      " \n",
      "by \n",
      "Grand Master\n",
      "Helio Gracie\n",
      "Gracie Publications\n",
      "Torrance, CaliforniaREVISED EDITION\n"
     ]
    }
   ],
   "source": [
    "# Convert PDF to text\n",
    "!pip install PyPDF2\n",
    "import PyPDF2\n",
    "\n",
    "# Open the PDF in binary mode\n",
    "with open(\"Gracie_Book_Intro.pdf\", \"rb\") as file:\n",
    "    # Create a PdfFileReader Object\n",
    "    pdf_reader = PyPDF2.PdfReader(file)\n",
    "    pdf_texts = [p.extract_text().strip() for p in pdf_reader.pages]\n",
    "    \n",
    "    # Filter Empty Strings\n",
    "    pdf_texts = [text for text in pdf_texts if text]\n",
    "    \n",
    "    print(pdf_texts[0])"
   ]
  },
  {
   "cell_type": "code",
   "execution_count": 6,
   "id": "be0f7067-fb67-41cb-a337-4a78619b0151",
   "metadata": {
    "tags": []
   },
   "outputs": [
    {
     "name": "stdout",
     "output_type": "stream",
     "text": [
      "The PDF has 23 pages with text.\n",
      "The PDF has a total of 31656 characters.\n"
     ]
    }
   ],
   "source": [
    "# Get the number of pages\n",
    "num_pages = len(pdf_texts) \n",
    "print(f\"The PDF has {num_pages} pages with text.\")\n",
    "\n",
    "# Get the number of characters\n",
    "all_text = \" \".join(pdf_texts)  # Combine all text into a single string\n",
    "total_characters = len(all_text)\n",
    "print(f\"The PDF has a total of {total_characters} characters.\")"
   ]
  },
  {
   "cell_type": "markdown",
   "id": "4dc9af7a-f0ac-456e-a5a5-e8654144066e",
   "metadata": {},
   "source": [
    "### Split the PDF into chunks to create embeddinds due to token limits"
   ]
  },
  {
   "cell_type": "code",
   "execution_count": 7,
   "id": "22fedc6d-2d0b-4737-a3b6-840a34ff4f00",
   "metadata": {
    "tags": []
   },
   "outputs": [
    {
     "name": "stdout",
     "output_type": "stream",
     "text": [
      "Collecting langchain\n",
      "  Downloading langchain-0.3.11-py3-none-any.whl.metadata (7.1 kB)\n",
      "Collecting sentence-transformers\n",
      "  Downloading sentence_transformers-3.3.1-py3-none-any.whl.metadata (10 kB)\n",
      "Requirement already satisfied: PyYAML>=5.3 in /opt/conda/lib/python3.10/site-packages (from langchain) (6.0.2)\n",
      "Requirement already satisfied: SQLAlchemy<3,>=1.4 in /opt/conda/lib/python3.10/site-packages (from langchain) (2.0.36)\n",
      "Requirement already satisfied: aiohttp<4.0.0,>=3.8.3 in /opt/conda/lib/python3.10/site-packages (from langchain) (3.11.4)\n",
      "Collecting async-timeout<5.0.0,>=4.0.0 (from langchain)\n",
      "  Downloading async_timeout-4.0.3-py3-none-any.whl.metadata (4.2 kB)\n",
      "Collecting langchain-core<0.4.0,>=0.3.24 (from langchain)\n",
      "  Downloading langchain_core-0.3.24-py3-none-any.whl.metadata (6.3 kB)\n",
      "Collecting langchain-text-splitters<0.4.0,>=0.3.0 (from langchain)\n",
      "  Downloading langchain_text_splitters-0.3.2-py3-none-any.whl.metadata (2.3 kB)\n",
      "Collecting langsmith<0.3,>=0.1.17 (from langchain)\n",
      "  Downloading langsmith-0.2.3-py3-none-any.whl.metadata (14 kB)\n",
      "Requirement already satisfied: numpy<2,>=1.22.4 in /opt/conda/lib/python3.10/site-packages (from langchain) (1.26.4)\n",
      "Requirement already satisfied: pydantic<3.0.0,>=2.7.4 in /opt/conda/lib/python3.10/site-packages (from langchain) (2.9.2)\n",
      "Requirement already satisfied: requests<3,>=2 in /opt/conda/lib/python3.10/site-packages (from langchain) (2.32.3)\n",
      "Requirement already satisfied: tenacity!=8.4.0,<10,>=8.1.0 in /opt/conda/lib/python3.10/site-packages (from langchain) (9.0.0)\n",
      "Collecting transformers<5.0.0,>=4.41.0 (from sentence-transformers)\n",
      "  Downloading transformers-4.47.0-py3-none-any.whl.metadata (43 kB)\n",
      "Requirement already satisfied: tqdm in ./.local/lib/python3.10/site-packages (from sentence-transformers) (4.67.1)\n",
      "Collecting torch>=1.11.0 (from sentence-transformers)\n",
      "  Downloading torch-2.5.1-cp310-cp310-manylinux1_x86_64.whl.metadata (28 kB)\n",
      "Requirement already satisfied: scikit-learn in /opt/conda/lib/python3.10/site-packages (from sentence-transformers) (1.5.2)\n",
      "Requirement already satisfied: scipy in /opt/conda/lib/python3.10/site-packages (from sentence-transformers) (1.13.1)\n",
      "Collecting huggingface-hub>=0.20.0 (from sentence-transformers)\n",
      "  Downloading huggingface_hub-0.26.5-py3-none-any.whl.metadata (13 kB)\n",
      "Requirement already satisfied: Pillow in /opt/conda/lib/python3.10/site-packages (from sentence-transformers) (11.0.0)\n",
      "Requirement already satisfied: aiohappyeyeballs>=2.3.0 in /opt/conda/lib/python3.10/site-packages (from aiohttp<4.0.0,>=3.8.3->langchain) (2.4.3)\n",
      "Requirement already satisfied: aiosignal>=1.1.2 in /opt/conda/lib/python3.10/site-packages (from aiohttp<4.0.0,>=3.8.3->langchain) (1.3.1)\n",
      "Requirement already satisfied: attrs>=17.3.0 in /opt/conda/lib/python3.10/site-packages (from aiohttp<4.0.0,>=3.8.3->langchain) (24.2.0)\n",
      "Requirement already satisfied: frozenlist>=1.1.1 in /opt/conda/lib/python3.10/site-packages (from aiohttp<4.0.0,>=3.8.3->langchain) (1.5.0)\n",
      "Requirement already satisfied: multidict<7.0,>=4.5 in /opt/conda/lib/python3.10/site-packages (from aiohttp<4.0.0,>=3.8.3->langchain) (6.1.0)\n",
      "Requirement already satisfied: propcache>=0.2.0 in /opt/conda/lib/python3.10/site-packages (from aiohttp<4.0.0,>=3.8.3->langchain) (0.2.0)\n",
      "Requirement already satisfied: yarl<2.0,>=1.17.0 in /opt/conda/lib/python3.10/site-packages (from aiohttp<4.0.0,>=3.8.3->langchain) (1.17.2)\n",
      "Requirement already satisfied: filelock in /opt/conda/lib/python3.10/site-packages (from huggingface-hub>=0.20.0->sentence-transformers) (3.16.1)\n",
      "Requirement already satisfied: fsspec>=2023.5.0 in /opt/conda/lib/python3.10/site-packages (from huggingface-hub>=0.20.0->sentence-transformers) (2024.10.0)\n",
      "Requirement already satisfied: packaging>=20.9 in /opt/conda/lib/python3.10/site-packages (from huggingface-hub>=0.20.0->sentence-transformers) (24.1)\n",
      "Requirement already satisfied: typing-extensions>=3.7.4.3 in /opt/conda/lib/python3.10/site-packages (from huggingface-hub>=0.20.0->sentence-transformers) (4.12.2)\n",
      "Requirement already satisfied: jsonpatch<2.0,>=1.33 in /opt/conda/lib/python3.10/site-packages (from langchain-core<0.4.0,>=0.3.24->langchain) (1.33)\n",
      "Collecting httpx<1,>=0.23.0 (from langsmith<0.3,>=0.1.17->langchain)\n",
      "  Downloading httpx-0.28.1-py3-none-any.whl.metadata (7.1 kB)\n",
      "Collecting orjson<4.0.0,>=3.9.14 (from langsmith<0.3,>=0.1.17->langchain)\n",
      "  Downloading orjson-3.10.12-cp310-cp310-manylinux_2_17_x86_64.manylinux2014_x86_64.whl.metadata (41 kB)\n",
      "Collecting requests-toolbelt<2.0.0,>=1.0.0 (from langsmith<0.3,>=0.1.17->langchain)\n",
      "  Downloading requests_toolbelt-1.0.0-py2.py3-none-any.whl.metadata (14 kB)\n",
      "Requirement already satisfied: annotated-types>=0.6.0 in /opt/conda/lib/python3.10/site-packages (from pydantic<3.0.0,>=2.7.4->langchain) (0.7.0)\n",
      "Requirement already satisfied: pydantic-core==2.23.4 in /opt/conda/lib/python3.10/site-packages (from pydantic<3.0.0,>=2.7.4->langchain) (2.23.4)\n",
      "Requirement already satisfied: charset-normalizer<4,>=2 in /opt/conda/lib/python3.10/site-packages (from requests<3,>=2->langchain) (3.4.0)\n",
      "Requirement already satisfied: idna<4,>=2.5 in /opt/conda/lib/python3.10/site-packages (from requests<3,>=2->langchain) (3.10)\n",
      "Requirement already satisfied: urllib3<3,>=1.21.1 in /opt/conda/lib/python3.10/site-packages (from requests<3,>=2->langchain) (1.26.20)\n",
      "Requirement already satisfied: certifi>=2017.4.17 in /opt/conda/lib/python3.10/site-packages (from requests<3,>=2->langchain) (2024.8.30)\n",
      "Requirement already satisfied: greenlet!=0.4.17 in /opt/conda/lib/python3.10/site-packages (from SQLAlchemy<3,>=1.4->langchain) (3.1.1)\n",
      "Requirement already satisfied: networkx in /opt/conda/lib/python3.10/site-packages (from torch>=1.11.0->sentence-transformers) (3.4.2)\n",
      "Requirement already satisfied: jinja2 in /opt/conda/lib/python3.10/site-packages (from torch>=1.11.0->sentence-transformers) (3.1.4)\n",
      "Collecting nvidia-cuda-nvrtc-cu12==12.4.127 (from torch>=1.11.0->sentence-transformers)\n",
      "  Downloading nvidia_cuda_nvrtc_cu12-12.4.127-py3-none-manylinux2014_x86_64.whl.metadata (1.5 kB)\n",
      "Collecting nvidia-cuda-runtime-cu12==12.4.127 (from torch>=1.11.0->sentence-transformers)\n",
      "  Downloading nvidia_cuda_runtime_cu12-12.4.127-py3-none-manylinux2014_x86_64.whl.metadata (1.5 kB)\n",
      "Collecting nvidia-cuda-cupti-cu12==12.4.127 (from torch>=1.11.0->sentence-transformers)\n",
      "  Downloading nvidia_cuda_cupti_cu12-12.4.127-py3-none-manylinux2014_x86_64.whl.metadata (1.6 kB)\n",
      "Collecting nvidia-cudnn-cu12==9.1.0.70 (from torch>=1.11.0->sentence-transformers)\n",
      "  Downloading nvidia_cudnn_cu12-9.1.0.70-py3-none-manylinux2014_x86_64.whl.metadata (1.6 kB)\n",
      "Collecting nvidia-cublas-cu12==12.4.5.8 (from torch>=1.11.0->sentence-transformers)\n",
      "  Downloading nvidia_cublas_cu12-12.4.5.8-py3-none-manylinux2014_x86_64.whl.metadata (1.5 kB)\n",
      "Collecting nvidia-cufft-cu12==11.2.1.3 (from torch>=1.11.0->sentence-transformers)\n",
      "  Downloading nvidia_cufft_cu12-11.2.1.3-py3-none-manylinux2014_x86_64.whl.metadata (1.5 kB)\n",
      "Collecting nvidia-curand-cu12==10.3.5.147 (from torch>=1.11.0->sentence-transformers)\n",
      "  Downloading nvidia_curand_cu12-10.3.5.147-py3-none-manylinux2014_x86_64.whl.metadata (1.5 kB)\n",
      "Collecting nvidia-cusolver-cu12==11.6.1.9 (from torch>=1.11.0->sentence-transformers)\n",
      "  Downloading nvidia_cusolver_cu12-11.6.1.9-py3-none-manylinux2014_x86_64.whl.metadata (1.6 kB)\n",
      "Collecting nvidia-cusparse-cu12==12.3.1.170 (from torch>=1.11.0->sentence-transformers)\n",
      "  Downloading nvidia_cusparse_cu12-12.3.1.170-py3-none-manylinux2014_x86_64.whl.metadata (1.6 kB)\n",
      "Collecting nvidia-nccl-cu12==2.21.5 (from torch>=1.11.0->sentence-transformers)\n",
      "  Downloading nvidia_nccl_cu12-2.21.5-py3-none-manylinux2014_x86_64.whl.metadata (1.8 kB)\n",
      "Collecting nvidia-nvtx-cu12==12.4.127 (from torch>=1.11.0->sentence-transformers)\n",
      "  Downloading nvidia_nvtx_cu12-12.4.127-py3-none-manylinux2014_x86_64.whl.metadata (1.7 kB)\n",
      "Collecting nvidia-nvjitlink-cu12==12.4.127 (from torch>=1.11.0->sentence-transformers)\n",
      "  Downloading nvidia_nvjitlink_cu12-12.4.127-py3-none-manylinux2014_x86_64.whl.metadata (1.5 kB)\n",
      "Collecting triton==3.1.0 (from torch>=1.11.0->sentence-transformers)\n",
      "  Downloading triton-3.1.0-cp310-cp310-manylinux_2_17_x86_64.manylinux2014_x86_64.whl.metadata (1.3 kB)\n",
      "Collecting sympy==1.13.1 (from torch>=1.11.0->sentence-transformers)\n",
      "  Downloading sympy-1.13.1-py3-none-any.whl.metadata (12 kB)\n",
      "Collecting mpmath<1.4,>=1.1.0 (from sympy==1.13.1->torch>=1.11.0->sentence-transformers)\n",
      "  Downloading mpmath-1.3.0-py3-none-any.whl.metadata (8.6 kB)\n",
      "Collecting regex!=2019.12.17 (from transformers<5.0.0,>=4.41.0->sentence-transformers)\n",
      "  Downloading regex-2024.11.6-cp310-cp310-manylinux_2_17_x86_64.manylinux2014_x86_64.whl.metadata (40 kB)\n",
      "Collecting tokenizers<0.22,>=0.21 (from transformers<5.0.0,>=4.41.0->sentence-transformers)\n",
      "  Downloading tokenizers-0.21.0-cp39-abi3-manylinux_2_17_x86_64.manylinux2014_x86_64.whl.metadata (6.7 kB)\n",
      "Collecting safetensors>=0.4.1 (from transformers<5.0.0,>=4.41.0->sentence-transformers)\n",
      "  Downloading safetensors-0.4.5-cp310-cp310-manylinux_2_17_x86_64.manylinux2014_x86_64.whl.metadata (3.8 kB)\n",
      "Requirement already satisfied: joblib>=1.2.0 in /opt/conda/lib/python3.10/site-packages (from scikit-learn->sentence-transformers) (1.4.2)\n",
      "Requirement already satisfied: threadpoolctl>=3.1.0 in /opt/conda/lib/python3.10/site-packages (from scikit-learn->sentence-transformers) (3.5.0)\n",
      "Requirement already satisfied: anyio in /opt/conda/lib/python3.10/site-packages (from httpx<1,>=0.23.0->langsmith<0.3,>=0.1.17->langchain) (4.6.2.post1)\n",
      "Collecting httpcore==1.* (from httpx<1,>=0.23.0->langsmith<0.3,>=0.1.17->langchain)\n",
      "  Downloading httpcore-1.0.7-py3-none-any.whl.metadata (21 kB)\n",
      "Requirement already satisfied: h11<0.15,>=0.13 in /opt/conda/lib/python3.10/site-packages (from httpcore==1.*->httpx<1,>=0.23.0->langsmith<0.3,>=0.1.17->langchain) (0.14.0)\n",
      "Requirement already satisfied: jsonpointer>=1.9 in /opt/conda/lib/python3.10/site-packages (from jsonpatch<2.0,>=1.33->langchain-core<0.4.0,>=0.3.24->langchain) (3.0.0)\n",
      "Requirement already satisfied: MarkupSafe>=2.0 in /opt/conda/lib/python3.10/site-packages (from jinja2->torch>=1.11.0->sentence-transformers) (3.0.2)\n",
      "Requirement already satisfied: sniffio>=1.1 in /opt/conda/lib/python3.10/site-packages (from anyio->httpx<1,>=0.23.0->langsmith<0.3,>=0.1.17->langchain) (1.3.1)\n",
      "Requirement already satisfied: exceptiongroup>=1.0.2 in /opt/conda/lib/python3.10/site-packages (from anyio->httpx<1,>=0.23.0->langsmith<0.3,>=0.1.17->langchain) (1.2.2)\n",
      "Downloading langchain-0.3.11-py3-none-any.whl (1.0 MB)\n",
      "\u001b[2K   \u001b[90m━━━━━━━━━━━━━━━━━━━━━━━━━━━━━━━━━━━━━━━━\u001b[0m \u001b[32m1.0/1.0 MB\u001b[0m \u001b[31m25.1 MB/s\u001b[0m eta \u001b[36m0:00:00\u001b[0m\n",
      "\u001b[?25hDownloading sentence_transformers-3.3.1-py3-none-any.whl (268 kB)\n",
      "Downloading async_timeout-4.0.3-py3-none-any.whl (5.7 kB)\n",
      "Downloading huggingface_hub-0.26.5-py3-none-any.whl (447 kB)\n",
      "Downloading langchain_core-0.3.24-py3-none-any.whl (410 kB)\n",
      "Downloading langchain_text_splitters-0.3.2-py3-none-any.whl (25 kB)\n",
      "Downloading langsmith-0.2.3-py3-none-any.whl (320 kB)\n",
      "Downloading torch-2.5.1-cp310-cp310-manylinux1_x86_64.whl (906.4 MB)\n",
      "\u001b[2K   \u001b[90m━━━━━━━━━━━━━━━━━━━━━━━━━━━━━━━━━━━━━━━━\u001b[0m \u001b[32m906.4/906.4 MB\u001b[0m \u001b[31m35.0 MB/s\u001b[0m eta \u001b[36m0:00:00\u001b[0m00:01\u001b[0m00:01\u001b[0m\n",
      "\u001b[?25hDownloading nvidia_cublas_cu12-12.4.5.8-py3-none-manylinux2014_x86_64.whl (363.4 MB)\n",
      "\u001b[2K   \u001b[90m━━━━━━━━━━━━━━━━━━━━━━━━━━━━━━━━━━━━━━━━\u001b[0m \u001b[32m363.4/363.4 MB\u001b[0m \u001b[31m78.8 MB/s\u001b[0m eta \u001b[36m0:00:00\u001b[0m00:01\u001b[0m00:01\u001b[0m\n",
      "\u001b[?25hDownloading nvidia_cuda_cupti_cu12-12.4.127-py3-none-manylinux2014_x86_64.whl (13.8 MB)\n",
      "\u001b[2K   \u001b[90m━━━━━━━━━━━━━━━━━━━━━━━━━━━━━━━━━━━━━━━━\u001b[0m \u001b[32m13.8/13.8 MB\u001b[0m \u001b[31m142.0 MB/s\u001b[0m eta \u001b[36m0:00:00\u001b[0m\n",
      "\u001b[?25hDownloading nvidia_cuda_nvrtc_cu12-12.4.127-py3-none-manylinux2014_x86_64.whl (24.6 MB)\n",
      "\u001b[2K   \u001b[90m━━━━━━━━━━━━━━━━━━━━━━━━━━━━━━━━━━━━━━━━\u001b[0m \u001b[32m24.6/24.6 MB\u001b[0m \u001b[31m144.8 MB/s\u001b[0m eta \u001b[36m0:00:00\u001b[0m\n",
      "\u001b[?25hDownloading nvidia_cuda_runtime_cu12-12.4.127-py3-none-manylinux2014_x86_64.whl (883 kB)\n",
      "\u001b[2K   \u001b[90m━━━━━━━━━━━━━━━━━━━━━━━━━━━━━━━━━━━━━━━━\u001b[0m \u001b[32m883.7/883.7 kB\u001b[0m \u001b[31m44.4 MB/s\u001b[0m eta \u001b[36m0:00:00\u001b[0m\n",
      "\u001b[?25hDownloading nvidia_cudnn_cu12-9.1.0.70-py3-none-manylinux2014_x86_64.whl (664.8 MB)\n",
      "\u001b[2K   \u001b[90m━━━━━━━━━━━━━━━━━━━━━━━━━━━━━━━━━━━━━━━━\u001b[0m \u001b[32m664.8/664.8 MB\u001b[0m \u001b[31m45.1 MB/s\u001b[0m eta \u001b[36m0:00:00\u001b[0m00:01\u001b[0m00:01\u001b[0m\n",
      "\u001b[?25hDownloading nvidia_cufft_cu12-11.2.1.3-py3-none-manylinux2014_x86_64.whl (211.5 MB)\n",
      "\u001b[2K   \u001b[90m━━━━━━━━━━━━━━━━━━━━━━━━━━━━━━━━━━━━━━━━\u001b[0m \u001b[32m211.5/211.5 MB\u001b[0m \u001b[31m87.6 MB/s\u001b[0m eta \u001b[36m0:00:00\u001b[0m00:01\u001b[0m00:01\u001b[0m\n",
      "\u001b[?25hDownloading nvidia_curand_cu12-10.3.5.147-py3-none-manylinux2014_x86_64.whl (56.3 MB)\n",
      "\u001b[2K   \u001b[90m━━━━━━━━━━━━━━━━━━━━━━━━━━━━━━━━━━━━━━━━\u001b[0m \u001b[32m56.3/56.3 MB\u001b[0m \u001b[31m103.0 MB/s\u001b[0m eta \u001b[36m0:00:00\u001b[0m00:01\u001b[0m00:01\u001b[0m\n",
      "\u001b[?25hDownloading nvidia_cusolver_cu12-11.6.1.9-py3-none-manylinux2014_x86_64.whl (127.9 MB)\n",
      "\u001b[2K   \u001b[90m━━━━━━━━━━━━━━━━━━━━━━━━━━━━━━━━━━━━━━━━\u001b[0m \u001b[32m127.9/127.9 MB\u001b[0m \u001b[31m89.8 MB/s\u001b[0m eta \u001b[36m0:00:00\u001b[0m00:01\u001b[0m00:01\u001b[0m\n",
      "\u001b[?25hDownloading nvidia_cusparse_cu12-12.3.1.170-py3-none-manylinux2014_x86_64.whl (207.5 MB)\n",
      "\u001b[2K   \u001b[90m━━━━━━━━━━━━━━━━━━━━━━━━━━━━━━━━━━━━━━━━\u001b[0m \u001b[32m207.5/207.5 MB\u001b[0m \u001b[31m87.0 MB/s\u001b[0m eta \u001b[36m0:00:00\u001b[0m00:01\u001b[0m00:01\u001b[0m\n",
      "\u001b[?25hDownloading nvidia_nccl_cu12-2.21.5-py3-none-manylinux2014_x86_64.whl (188.7 MB)\n",
      "\u001b[2K   \u001b[90m━━━━━━━━━━━━━━━━━━━━━━━━━━━━━━━━━━━━━━━━\u001b[0m \u001b[32m188.7/188.7 MB\u001b[0m \u001b[31m99.1 MB/s\u001b[0m eta \u001b[36m0:00:00\u001b[0m00:01\u001b[0m00:01\u001b[0m\n",
      "\u001b[?25hDownloading nvidia_nvjitlink_cu12-12.4.127-py3-none-manylinux2014_x86_64.whl (21.1 MB)\n",
      "\u001b[2K   \u001b[90m━━━━━━━━━━━━━━━━━━━━━━━━━━━━━━━━━━━━━━━━\u001b[0m \u001b[32m21.1/21.1 MB\u001b[0m \u001b[31m140.2 MB/s\u001b[0m eta \u001b[36m0:00:00\u001b[0m\n",
      "\u001b[?25hDownloading nvidia_nvtx_cu12-12.4.127-py3-none-manylinux2014_x86_64.whl (99 kB)\n",
      "Downloading sympy-1.13.1-py3-none-any.whl (6.2 MB)\n",
      "\u001b[2K   \u001b[90m━━━━━━━━━━━━━━━━━━━━━━━━━━━━━━━━━━━━━━━━\u001b[0m \u001b[32m6.2/6.2 MB\u001b[0m \u001b[31m128.0 MB/s\u001b[0m eta \u001b[36m0:00:00\u001b[0m\n",
      "\u001b[?25hDownloading triton-3.1.0-cp310-cp310-manylinux_2_17_x86_64.manylinux2014_x86_64.whl (209.5 MB)\n",
      "\u001b[2K   \u001b[90m━━━━━━━━━━━━━━━━━━━━━━━━━━━━━━━━━━━━━━━\u001b[0m \u001b[32m209.5/209.5 MB\u001b[0m \u001b[31m100.6 MB/s\u001b[0m eta \u001b[36m0:00:00\u001b[0m00:01\u001b[0m00:01\u001b[0m\n",
      "\u001b[?25hDownloading transformers-4.47.0-py3-none-any.whl (10.1 MB)\n",
      "\u001b[2K   \u001b[90m━━━━━━━━━━━━━━━━━━━━━━━━━━━━━━━━━━━━━━━━\u001b[0m \u001b[32m10.1/10.1 MB\u001b[0m \u001b[31m68.1 MB/s\u001b[0m eta \u001b[36m0:00:00\u001b[0m\n",
      "\u001b[?25hDownloading httpx-0.28.1-py3-none-any.whl (73 kB)\n",
      "Downloading httpcore-1.0.7-py3-none-any.whl (78 kB)\n",
      "Downloading orjson-3.10.12-cp310-cp310-manylinux_2_17_x86_64.manylinux2014_x86_64.whl (131 kB)\n",
      "Downloading regex-2024.11.6-cp310-cp310-manylinux_2_17_x86_64.manylinux2014_x86_64.whl (781 kB)\n",
      "\u001b[2K   \u001b[90m━━━━━━━━━━━━━━━━━━━━━━━━━━━━━━━━━━━━━━━━\u001b[0m \u001b[32m781.7/781.7 kB\u001b[0m \u001b[31m28.7 MB/s\u001b[0m eta \u001b[36m0:00:00\u001b[0m\n",
      "\u001b[?25hDownloading requests_toolbelt-1.0.0-py2.py3-none-any.whl (54 kB)\n",
      "Downloading safetensors-0.4.5-cp310-cp310-manylinux_2_17_x86_64.manylinux2014_x86_64.whl (435 kB)\n",
      "Downloading tokenizers-0.21.0-cp39-abi3-manylinux_2_17_x86_64.manylinux2014_x86_64.whl (3.0 MB)\n",
      "\u001b[2K   \u001b[90m━━━━━━━━━━━━━━━━━━━━━━━━━━━━━━━━━━━━━━━━\u001b[0m \u001b[32m3.0/3.0 MB\u001b[0m \u001b[31m47.3 MB/s\u001b[0m eta \u001b[36m0:00:00\u001b[0m\n",
      "\u001b[?25hDownloading mpmath-1.3.0-py3-none-any.whl (536 kB)\n",
      "\u001b[2K   \u001b[90m━━━━━━━━━━━━━━━━━━━━━━━━━━━━━━━━━━━━━━━━\u001b[0m \u001b[32m536.2/536.2 kB\u001b[0m \u001b[31m20.7 MB/s\u001b[0m eta \u001b[36m0:00:00\u001b[0m\n",
      "\u001b[?25hInstalling collected packages: mpmath, triton, sympy, safetensors, regex, orjson, nvidia-nvtx-cu12, nvidia-nvjitlink-cu12, nvidia-nccl-cu12, nvidia-curand-cu12, nvidia-cufft-cu12, nvidia-cuda-runtime-cu12, nvidia-cuda-nvrtc-cu12, nvidia-cuda-cupti-cu12, nvidia-cublas-cu12, httpcore, async-timeout, requests-toolbelt, nvidia-cusparse-cu12, nvidia-cudnn-cu12, huggingface-hub, httpx, tokenizers, nvidia-cusolver-cu12, langsmith, transformers, torch, langchain-core, sentence-transformers, langchain-text-splitters, langchain\n",
      "  Attempting uninstall: async-timeout\n",
      "    Found existing installation: async-timeout 5.0.1\n",
      "    Uninstalling async-timeout-5.0.1:\n",
      "      Successfully uninstalled async-timeout-5.0.1\n",
      "  Attempting uninstall: requests-toolbelt\n",
      "    Found existing installation: requests-toolbelt 0.10.1\n",
      "    Uninstalling requests-toolbelt-0.10.1:\n",
      "      Successfully uninstalled requests-toolbelt-0.10.1\n",
      "\u001b[31mERROR: pip's dependency resolver does not currently take into account all the packages that are installed. This behaviour is the source of the following dependency conflicts.\n",
      "kfp 2.5.0 requires requests-toolbelt<1,>=0.8.0, but you have requests-toolbelt 1.0.0 which is incompatible.\u001b[0m\u001b[31m\n",
      "\u001b[0mSuccessfully installed async-timeout-4.0.3 httpcore-1.0.7 httpx-0.28.1 huggingface-hub-0.26.5 langchain-0.3.11 langchain-core-0.3.24 langchain-text-splitters-0.3.2 langsmith-0.2.3 mpmath-1.3.0 nvidia-cublas-cu12-12.4.5.8 nvidia-cuda-cupti-cu12-12.4.127 nvidia-cuda-nvrtc-cu12-12.4.127 nvidia-cuda-runtime-cu12-12.4.127 nvidia-cudnn-cu12-9.1.0.70 nvidia-cufft-cu12-11.2.1.3 nvidia-curand-cu12-10.3.5.147 nvidia-cusolver-cu12-11.6.1.9 nvidia-cusparse-cu12-12.3.1.170 nvidia-nccl-cu12-2.21.5 nvidia-nvjitlink-cu12-12.4.127 nvidia-nvtx-cu12-12.4.127 orjson-3.10.12 regex-2024.11.6 requests-toolbelt-1.0.0 safetensors-0.4.5 sentence-transformers-3.3.1 sympy-1.13.1 tokenizers-0.21.0 torch-2.5.1 transformers-4.47.0 triton-3.1.0\n",
      "–\n",
      " \n",
      "Side kick\n",
      "CHAPTER 2 – STANDING  \n",
      "DEFENSES FROM BEHIND\n",
      " 98 –  Rear choke defense\n",
      " 100\n",
      " –\n",
      " Rear choke defense pulled back \n",
      " \n",
      "(with side throw)\n",
      " 102\n",
      " –\n",
      " Rear choke defense pulled back \n",
      " \n",
      "(with overhead throw)\n",
      " 104\n",
      " –\n",
      " Rear two-hand choke defense\n",
      " 106\n",
      " –\n",
      " Rear bear hug over the arms \n",
      " \n",
      "defense\n",
      " 108\n",
      " –\n",
      " Rear bear hug over the arms \n",
      " \n",
      "defense (with wide stance)\n",
      " 110\n",
      " –\n",
      " Rear bear hug under arms \n",
      " \n",
      "defense\n",
      " 112\n",
      " –\n",
      " Rear bear hug under arms \n",
      " \n",
      "defense (with lift)\n",
      " 114\n",
      " –\n",
      " Full nelson defense\n",
      "Contents\n",
      " 118 –  Club defense (overhead  \n",
      "close range)\n",
      " 120\n",
      " –\n",
      " Club defense (overhead \n",
      " \n",
      "close range with slide)\n",
      " 122\n",
      " –\n",
      " Club defense (overhead \n",
      " \n",
      "distant range) \n",
      " 124\n",
      " –\n",
      " Club defense (two-hand \n",
      " \n",
      "overhead) \n",
      " 126\n",
      " –\n",
      " Club defense (horizontal swing) 128\n",
      " \n",
      "–\n",
      " \n",
      "Chair defense\n",
      " 130\n",
      " –\n",
      " Knife defense (overhead)\n",
      " 132\n",
      "  –\n",
      " Knife defense (underhand)\n",
      " 134\n",
      " –\n",
      " Knife defense (underhand \n",
      "straight arm block)\n",
      " 136\n",
      "  –\n",
      " Knife defense (underhand straight arm block with resis\n",
      "-\n",
      "tance)\n",
      " 138\n",
      " –\n",
      "\n",
      "Total chunks: 43\n"
     ]
    }
   ],
   "source": [
    "# Install necessary libraries\n",
    "!pip install langchain sentence-transformers\n",
    "\n",
    "# Import text splitters from LangChain\n",
    "from langchain.text_splitter import RecursiveCharacterTextSplitter, SentenceTransformersTokenTextSplitter\n",
    "\n",
    "# Initialize a RecursiveCharacterTextSplitter with specified parameters\n",
    "character_splitter = RecursiveCharacterTextSplitter(\n",
    "    # Define separators for splitting the text\n",
    "    separators=[\"\\n\\n\", \"\\n\", \". \", \" \", \"\"],  \n",
    "    # Set the maximum chunk size to 1000 characters\n",
    "    chunk_size=1000,  \n",
    "    # Set chunk overlap to 0 (no overlap between chunks)\n",
    "    chunk_overlap=0  \n",
    ")\n",
    "\n",
    "# Combine the extracted PDF text using newline characters as separators\n",
    "pdf_text = '\\n\\n'.join(pdf_texts)  \n",
    "\n",
    "# Split the combined text into chunks using the character splitter\n",
    "character_split_texts = character_splitter.split_text(pdf_text)  \n",
    "\n",
    "# Print the 11th chunk (index 10) to inspect the result\n",
    "print(character_split_texts[10])  \n",
    "\n",
    "# Print the total number of chunks created\n",
    "print(f\"\\nTotal chunks: {len(character_split_texts)}\")"
   ]
  },
  {
   "cell_type": "markdown",
   "id": "e9985801-dfce-4089-9a8a-fc91bbbe8da2",
   "metadata": {},
   "source": [
    "### Check the exising chunks, if too big make them smaller (256 tokens)"
   ]
  },
  {
   "cell_type": "code",
   "execution_count": 8,
   "id": "00375ce4-6480-435d-a4a1-2818e7e2c195",
   "metadata": {
    "tags": []
   },
   "outputs": [
    {
     "data": {
      "application/vnd.jupyter.widget-view+json": {
       "model_id": "b1e4ace1bd804b5096f89cb331377167",
       "version_major": 2,
       "version_minor": 0
      },
      "text/plain": [
       "modules.json:   0%|          | 0.00/349 [00:00<?, ?B/s]"
      ]
     },
     "metadata": {},
     "output_type": "display_data"
    },
    {
     "data": {
      "application/vnd.jupyter.widget-view+json": {
       "model_id": "262980fb0d5c433ca91db87e5b1014b9",
       "version_major": 2,
       "version_minor": 0
      },
      "text/plain": [
       "config_sentence_transformers.json:   0%|          | 0.00/116 [00:00<?, ?B/s]"
      ]
     },
     "metadata": {},
     "output_type": "display_data"
    },
    {
     "data": {
      "application/vnd.jupyter.widget-view+json": {
       "model_id": "d065e88003424ca9923d105bcc99af90",
       "version_major": 2,
       "version_minor": 0
      },
      "text/plain": [
       "README.md:   0%|          | 0.00/10.6k [00:00<?, ?B/s]"
      ]
     },
     "metadata": {},
     "output_type": "display_data"
    },
    {
     "data": {
      "application/vnd.jupyter.widget-view+json": {
       "model_id": "5eda901b1d6845da8ea80165d09795b7",
       "version_major": 2,
       "version_minor": 0
      },
      "text/plain": [
       "sentence_bert_config.json:   0%|          | 0.00/53.0 [00:00<?, ?B/s]"
      ]
     },
     "metadata": {},
     "output_type": "display_data"
    },
    {
     "data": {
      "application/vnd.jupyter.widget-view+json": {
       "model_id": "4f976b1074cf496f91177e00e1332d16",
       "version_major": 2,
       "version_minor": 0
      },
      "text/plain": [
       "config.json:   0%|          | 0.00/571 [00:00<?, ?B/s]"
      ]
     },
     "metadata": {},
     "output_type": "display_data"
    },
    {
     "data": {
      "application/vnd.jupyter.widget-view+json": {
       "model_id": "a453b0ac39f54fe48e6df75d762ff5e3",
       "version_major": 2,
       "version_minor": 0
      },
      "text/plain": [
       "model.safetensors:   0%|          | 0.00/438M [00:00<?, ?B/s]"
      ]
     },
     "metadata": {},
     "output_type": "display_data"
    },
    {
     "data": {
      "application/vnd.jupyter.widget-view+json": {
       "model_id": "abd4749b714c4352b00ab7fdb063111f",
       "version_major": 2,
       "version_minor": 0
      },
      "text/plain": [
       "tokenizer_config.json:   0%|          | 0.00/363 [00:00<?, ?B/s]"
      ]
     },
     "metadata": {},
     "output_type": "display_data"
    },
    {
     "data": {
      "application/vnd.jupyter.widget-view+json": {
       "model_id": "a511205389434e13b96c29c32c91ff3b",
       "version_major": 2,
       "version_minor": 0
      },
      "text/plain": [
       "vocab.txt:   0%|          | 0.00/232k [00:00<?, ?B/s]"
      ]
     },
     "metadata": {},
     "output_type": "display_data"
    },
    {
     "data": {
      "application/vnd.jupyter.widget-view+json": {
       "model_id": "55a380b139bf45bf8838de3702cfcb73",
       "version_major": 2,
       "version_minor": 0
      },
      "text/plain": [
       "tokenizer.json:   0%|          | 0.00/466k [00:00<?, ?B/s]"
      ]
     },
     "metadata": {},
     "output_type": "display_data"
    },
    {
     "data": {
      "application/vnd.jupyter.widget-view+json": {
       "model_id": "df7c715f210b4e89b24de57a8025536c",
       "version_major": 2,
       "version_minor": 0
      },
      "text/plain": [
       "special_tokens_map.json:   0%|          | 0.00/239 [00:00<?, ?B/s]"
      ]
     },
     "metadata": {},
     "output_type": "display_data"
    },
    {
     "data": {
      "application/vnd.jupyter.widget-view+json": {
       "model_id": "c42110c957b341e582958bc2f6f1d9e0",
       "version_major": 2,
       "version_minor": 0
      },
      "text/plain": [
       "1_Pooling/config.json:   0%|          | 0.00/190 [00:00<?, ?B/s]"
      ]
     },
     "metadata": {},
     "output_type": "display_data"
    },
    {
     "name": "stdout",
     "output_type": "stream",
     "text": [
      "– side kick chapter 2 – standing defenses from behind 98 – rear choke defense 100 – rear choke defense pulled back ( with side throw ) 102 – rear choke defense pulled back ( with overhead throw ) 104 – rear two - hand choke defense 106 – rear bear hug over the arms defense 108 – rear bear hug over the arms defense ( with wide stance ) 110 – rear bear hug under arms defense 112 – rear bear hug under arms defense ( with lift ) 114 – full nelson defense contents 118 – club defense ( overhead close range ) 120 – club defense ( overhead close range with slide ) 122 – club defense ( overhead distant range ) 124 – club defense ( two - hand overhead ) 126 – club defense ( horizontal swing ) 128 – chair defense 130 – knife defense ( overhead ) 132 – knife defense ( underhand ) 134 – knife defense ( underhand straight arm block ) 136 – knife defense ( underhand straight arm block with resis - tance ) 138 –\n",
      "\n",
      "Total chunks: 43\n"
     ]
    }
   ],
   "source": [
    "# Initialize a SentenceTransformersTokenTextSplitter with specified parameters\n",
    "token_splitter = SentenceTransformersTokenTextSplitter(\n",
    "    # Set chunk overlap to 0 (no overlap between chunks)\n",
    "    chunk_overlap=0,  \n",
    "    # Set the maximum number of tokens per chunk to 256\n",
    "    tokens_per_chunk=256  \n",
    ")\n",
    "\n",
    "# Create an empty list to store the tokenized chunks\n",
    "token_split_texts = []  \n",
    "\n",
    "# Iterate through the character-split chunks\n",
    "for text in character_split_texts:  \n",
    "    # Split each character chunk into smaller token-based chunks\n",
    "    token_split_texts += token_splitter.split_text(text)  \n",
    "\n",
    "# Print the 11th chunk (index 10) to inspect the result\n",
    "print(token_split_texts[10])  \n",
    "\n",
    "# Print the total number of token-based chunks created\n",
    "print(f\"\\nTotal chunks: {len(token_split_texts)}\")"
   ]
  },
  {
   "cell_type": "code",
   "execution_count": 9,
   "id": "a8b38ad4-0501-461a-bc97-7505091e377a",
   "metadata": {
    "tags": []
   },
   "outputs": [
    {
     "name": "stderr",
     "output_type": "stream",
     "text": [
      "huggingface/tokenizers: The current process just got forked, after parallelism has already been used. Disabling parallelism to avoid deadlocks...\n",
      "To disable this warning, you can either:\n",
      "\t- Avoid using `tokenizers` before the fork if possible\n",
      "\t- Explicitly set the environment variable TOKENIZERS_PARALLELISM=(true | false)\n"
     ]
    },
    {
     "name": "stdout",
     "output_type": "stream",
     "text": [
      "Collecting chromadb==0.5.3\n",
      "  Downloading chromadb-0.5.3-py3-none-any.whl.metadata (6.8 kB)\n",
      "Collecting build>=1.0.3 (from chromadb==0.5.3)\n",
      "  Downloading build-1.2.2.post1-py3-none-any.whl.metadata (6.5 kB)\n",
      "Requirement already satisfied: requests>=2.28 in /opt/conda/lib/python3.10/site-packages (from chromadb==0.5.3) (2.32.3)\n",
      "Requirement already satisfied: pydantic>=1.9 in /opt/conda/lib/python3.10/site-packages (from chromadb==0.5.3) (2.9.2)\n",
      "Collecting chroma-hnswlib==0.7.3 (from chromadb==0.5.3)\n",
      "  Downloading chroma_hnswlib-0.7.3-cp310-cp310-manylinux_2_17_x86_64.manylinux2014_x86_64.whl.metadata (252 bytes)\n",
      "Requirement already satisfied: fastapi>=0.95.2 in /opt/conda/lib/python3.10/site-packages (from chromadb==0.5.3) (0.115.5)\n",
      "Requirement already satisfied: uvicorn>=0.18.3 in /opt/conda/lib/python3.10/site-packages (from uvicorn[standard]>=0.18.3->chromadb==0.5.3) (0.32.0)\n",
      "Requirement already satisfied: numpy<2.0.0,>=1.22.5 in /opt/conda/lib/python3.10/site-packages (from chromadb==0.5.3) (1.26.4)\n",
      "Collecting posthog>=2.4.0 (from chromadb==0.5.3)\n",
      "  Downloading posthog-3.7.4-py2.py3-none-any.whl.metadata (2.0 kB)\n",
      "Requirement already satisfied: typing-extensions>=4.5.0 in /opt/conda/lib/python3.10/site-packages (from chromadb==0.5.3) (4.12.2)\n",
      "Collecting onnxruntime>=1.14.1 (from chromadb==0.5.3)\n",
      "  Downloading onnxruntime-1.20.1-cp310-cp310-manylinux_2_27_x86_64.manylinux_2_28_x86_64.whl.metadata (4.5 kB)\n",
      "Requirement already satisfied: opentelemetry-api>=1.2.0 in /opt/conda/lib/python3.10/site-packages (from chromadb==0.5.3) (1.27.0)\n",
      "Requirement already satisfied: opentelemetry-exporter-otlp-proto-grpc>=1.2.0 in /opt/conda/lib/python3.10/site-packages (from chromadb==0.5.3) (1.27.0)\n",
      "Collecting opentelemetry-instrumentation-fastapi>=0.41b0 (from chromadb==0.5.3)\n",
      "  Downloading opentelemetry_instrumentation_fastapi-0.50b0-py3-none-any.whl.metadata (2.1 kB)\n",
      "Requirement already satisfied: opentelemetry-sdk>=1.2.0 in /opt/conda/lib/python3.10/site-packages (from chromadb==0.5.3) (1.27.0)\n",
      "Requirement already satisfied: tokenizers>=0.13.2 in /opt/conda/lib/python3.10/site-packages (from chromadb==0.5.3) (0.21.0)\n",
      "Collecting pypika>=0.48.9 (from chromadb==0.5.3)\n",
      "  Downloading PyPika-0.48.9.tar.gz (67 kB)\n",
      "  Installing build dependencies ... \u001b[?25ldone\n",
      "\u001b[?25h  Getting requirements to build wheel ... \u001b[?25ldone\n",
      "\u001b[?25h  Preparing metadata (pyproject.toml) ... \u001b[?25ldone\n",
      "\u001b[?25hRequirement already satisfied: tqdm>=4.65.0 in ./.local/lib/python3.10/site-packages (from chromadb==0.5.3) (4.67.1)\n",
      "Requirement already satisfied: overrides>=7.3.1 in /opt/conda/lib/python3.10/site-packages (from chromadb==0.5.3) (7.7.0)\n",
      "Collecting importlib-resources (from chromadb==0.5.3)\n",
      "  Downloading importlib_resources-6.4.5-py3-none-any.whl.metadata (4.0 kB)\n",
      "Requirement already satisfied: grpcio>=1.58.0 in /opt/conda/lib/python3.10/site-packages (from chromadb==0.5.3) (1.68.0)\n",
      "Collecting bcrypt>=4.0.1 (from chromadb==0.5.3)\n",
      "  Downloading bcrypt-4.2.1-cp39-abi3-manylinux_2_28_x86_64.whl.metadata (9.8 kB)\n",
      "Requirement already satisfied: typer>=0.9.0 in /opt/conda/lib/python3.10/site-packages (from chromadb==0.5.3) (0.13.1)\n",
      "Collecting kubernetes>=28.1.0 (from chromadb==0.5.3)\n",
      "  Downloading kubernetes-31.0.0-py2.py3-none-any.whl.metadata (1.5 kB)\n",
      "Requirement already satisfied: tenacity>=8.2.3 in /opt/conda/lib/python3.10/site-packages (from chromadb==0.5.3) (9.0.0)\n",
      "Requirement already satisfied: PyYAML>=6.0.0 in /opt/conda/lib/python3.10/site-packages (from chromadb==0.5.3) (6.0.2)\n",
      "Collecting mmh3>=4.0.1 (from chromadb==0.5.3)\n",
      "  Downloading mmh3-5.0.1-cp310-cp310-manylinux_2_5_x86_64.manylinux1_x86_64.manylinux_2_17_x86_64.manylinux2014_x86_64.whl.metadata (14 kB)\n",
      "Requirement already satisfied: orjson>=3.9.12 in /opt/conda/lib/python3.10/site-packages (from chromadb==0.5.3) (3.10.12)\n",
      "Requirement already satisfied: httpx>=0.27.0 in /opt/conda/lib/python3.10/site-packages (from chromadb==0.5.3) (0.28.1)\n",
      "Requirement already satisfied: packaging>=19.1 in /opt/conda/lib/python3.10/site-packages (from build>=1.0.3->chromadb==0.5.3) (24.1)\n",
      "Collecting pyproject_hooks (from build>=1.0.3->chromadb==0.5.3)\n",
      "  Downloading pyproject_hooks-1.2.0-py3-none-any.whl.metadata (1.3 kB)\n",
      "Requirement already satisfied: tomli>=1.1.0 in /opt/conda/lib/python3.10/site-packages (from build>=1.0.3->chromadb==0.5.3) (2.1.0)\n",
      "Requirement already satisfied: starlette<0.42.0,>=0.40.0 in /opt/conda/lib/python3.10/site-packages (from fastapi>=0.95.2->chromadb==0.5.3) (0.41.3)\n",
      "Requirement already satisfied: anyio in /opt/conda/lib/python3.10/site-packages (from httpx>=0.27.0->chromadb==0.5.3) (4.6.2.post1)\n",
      "Requirement already satisfied: certifi in /opt/conda/lib/python3.10/site-packages (from httpx>=0.27.0->chromadb==0.5.3) (2024.8.30)\n",
      "Requirement already satisfied: httpcore==1.* in /opt/conda/lib/python3.10/site-packages (from httpx>=0.27.0->chromadb==0.5.3) (1.0.7)\n",
      "Requirement already satisfied: idna in /opt/conda/lib/python3.10/site-packages (from httpx>=0.27.0->chromadb==0.5.3) (3.10)\n",
      "Requirement already satisfied: h11<0.15,>=0.13 in /opt/conda/lib/python3.10/site-packages (from httpcore==1.*->httpx>=0.27.0->chromadb==0.5.3) (0.14.0)\n",
      "Requirement already satisfied: six>=1.9.0 in /opt/conda/lib/python3.10/site-packages (from kubernetes>=28.1.0->chromadb==0.5.3) (1.16.0)\n",
      "Requirement already satisfied: python-dateutil>=2.5.3 in /opt/conda/lib/python3.10/site-packages (from kubernetes>=28.1.0->chromadb==0.5.3) (2.9.0.post0)\n",
      "Requirement already satisfied: google-auth>=1.0.1 in /opt/conda/lib/python3.10/site-packages (from kubernetes>=28.1.0->chromadb==0.5.3) (2.36.0)\n",
      "Requirement already satisfied: websocket-client!=0.40.0,!=0.41.*,!=0.42.*,>=0.32.0 in /opt/conda/lib/python3.10/site-packages (from kubernetes>=28.1.0->chromadb==0.5.3) (1.8.0)\n",
      "Requirement already satisfied: requests-oauthlib in /opt/conda/lib/python3.10/site-packages (from kubernetes>=28.1.0->chromadb==0.5.3) (2.0.0)\n",
      "Requirement already satisfied: oauthlib>=3.2.2 in /opt/conda/lib/python3.10/site-packages (from kubernetes>=28.1.0->chromadb==0.5.3) (3.2.2)\n",
      "Requirement already satisfied: urllib3>=1.24.2 in /opt/conda/lib/python3.10/site-packages (from kubernetes>=28.1.0->chromadb==0.5.3) (1.26.20)\n",
      "Collecting durationpy>=0.7 (from kubernetes>=28.1.0->chromadb==0.5.3)\n",
      "  Downloading durationpy-0.9-py3-none-any.whl.metadata (338 bytes)\n",
      "Collecting coloredlogs (from onnxruntime>=1.14.1->chromadb==0.5.3)\n",
      "  Downloading coloredlogs-15.0.1-py2.py3-none-any.whl.metadata (12 kB)\n",
      "Collecting flatbuffers (from onnxruntime>=1.14.1->chromadb==0.5.3)\n",
      "  Downloading flatbuffers-24.3.25-py2.py3-none-any.whl.metadata (850 bytes)\n",
      "Requirement already satisfied: protobuf in /opt/conda/lib/python3.10/site-packages (from onnxruntime>=1.14.1->chromadb==0.5.3) (3.20.3)\n",
      "Requirement already satisfied: sympy in /opt/conda/lib/python3.10/site-packages (from onnxruntime>=1.14.1->chromadb==0.5.3) (1.13.1)\n",
      "Requirement already satisfied: deprecated>=1.2.6 in /opt/conda/lib/python3.10/site-packages (from opentelemetry-api>=1.2.0->chromadb==0.5.3) (1.2.15)\n",
      "Requirement already satisfied: importlib-metadata<=8.4.0,>=6.0 in /opt/conda/lib/python3.10/site-packages (from opentelemetry-api>=1.2.0->chromadb==0.5.3) (8.4.0)\n",
      "Requirement already satisfied: googleapis-common-protos~=1.52 in /opt/conda/lib/python3.10/site-packages (from opentelemetry-exporter-otlp-proto-grpc>=1.2.0->chromadb==0.5.3) (1.66.0)\n",
      "Requirement already satisfied: opentelemetry-exporter-otlp-proto-common==1.27.0 in /opt/conda/lib/python3.10/site-packages (from opentelemetry-exporter-otlp-proto-grpc>=1.2.0->chromadb==0.5.3) (1.27.0)\n",
      "Requirement already satisfied: opentelemetry-proto==1.27.0 in /opt/conda/lib/python3.10/site-packages (from opentelemetry-exporter-otlp-proto-grpc>=1.2.0->chromadb==0.5.3) (1.27.0)\n",
      "Collecting opentelemetry-instrumentation-asgi==0.50b0 (from opentelemetry-instrumentation-fastapi>=0.41b0->chromadb==0.5.3)\n",
      "  Downloading opentelemetry_instrumentation_asgi-0.50b0-py3-none-any.whl.metadata (1.9 kB)\n",
      "Collecting opentelemetry-instrumentation==0.50b0 (from opentelemetry-instrumentation-fastapi>=0.41b0->chromadb==0.5.3)\n",
      "  Downloading opentelemetry_instrumentation-0.50b0-py3-none-any.whl.metadata (6.1 kB)\n",
      "Collecting opentelemetry-semantic-conventions==0.50b0 (from opentelemetry-instrumentation-fastapi>=0.41b0->chromadb==0.5.3)\n",
      "  Downloading opentelemetry_semantic_conventions-0.50b0-py3-none-any.whl.metadata (2.3 kB)\n",
      "Collecting opentelemetry-util-http==0.50b0 (from opentelemetry-instrumentation-fastapi>=0.41b0->chromadb==0.5.3)\n",
      "  Downloading opentelemetry_util_http-0.50b0-py3-none-any.whl.metadata (2.5 kB)\n",
      "Requirement already satisfied: wrapt<2.0.0,>=1.0.0 in /opt/conda/lib/python3.10/site-packages (from opentelemetry-instrumentation==0.50b0->opentelemetry-instrumentation-fastapi>=0.41b0->chromadb==0.5.3) (1.16.0)\n",
      "Collecting asgiref~=3.0 (from opentelemetry-instrumentation-asgi==0.50b0->opentelemetry-instrumentation-fastapi>=0.41b0->chromadb==0.5.3)\n",
      "  Downloading asgiref-3.8.1-py3-none-any.whl.metadata (9.3 kB)\n",
      "Collecting opentelemetry-api>=1.2.0 (from chromadb==0.5.3)\n",
      "  Downloading opentelemetry_api-1.29.0-py3-none-any.whl.metadata (1.4 kB)\n",
      "INFO: pip is looking at multiple versions of opentelemetry-sdk to determine which version is compatible with other requirements. This could take a while.\n",
      "Collecting opentelemetry-instrumentation-fastapi>=0.41b0 (from chromadb==0.5.3)\n",
      "  Downloading opentelemetry_instrumentation_fastapi-0.49b2-py3-none-any.whl.metadata (2.1 kB)\n",
      "Collecting opentelemetry-instrumentation-asgi==0.49b2 (from opentelemetry-instrumentation-fastapi>=0.41b0->chromadb==0.5.3)\n",
      "  Downloading opentelemetry_instrumentation_asgi-0.49b2-py3-none-any.whl.metadata (1.9 kB)\n",
      "Collecting opentelemetry-instrumentation==0.49b2 (from opentelemetry-instrumentation-fastapi>=0.41b0->chromadb==0.5.3)\n",
      "  Downloading opentelemetry_instrumentation-0.49b2-py3-none-any.whl.metadata (6.1 kB)\n",
      "Collecting opentelemetry-semantic-conventions==0.49b2 (from opentelemetry-instrumentation-fastapi>=0.41b0->chromadb==0.5.3)\n",
      "  Downloading opentelemetry_semantic_conventions-0.49b2-py3-none-any.whl.metadata (2.3 kB)\n",
      "Collecting opentelemetry-util-http==0.49b2 (from opentelemetry-instrumentation-fastapi>=0.41b0->chromadb==0.5.3)\n",
      "  Downloading opentelemetry_util_http-0.49b2-py3-none-any.whl.metadata (2.5 kB)\n",
      "Collecting opentelemetry-api>=1.2.0 (from chromadb==0.5.3)\n",
      "  Downloading opentelemetry_api-1.28.2-py3-none-any.whl.metadata (1.4 kB)\n",
      "Collecting opentelemetry-instrumentation-fastapi>=0.41b0 (from chromadb==0.5.3)\n",
      "  Downloading opentelemetry_instrumentation_fastapi-0.49b1-py3-none-any.whl.metadata (2.1 kB)\n",
      "Collecting opentelemetry-instrumentation-asgi==0.49b1 (from opentelemetry-instrumentation-fastapi>=0.41b0->chromadb==0.5.3)\n",
      "  Downloading opentelemetry_instrumentation_asgi-0.49b1-py3-none-any.whl.metadata (2.0 kB)\n",
      "Collecting opentelemetry-instrumentation==0.49b1 (from opentelemetry-instrumentation-fastapi>=0.41b0->chromadb==0.5.3)\n",
      "  Downloading opentelemetry_instrumentation-0.49b1-py3-none-any.whl.metadata (6.2 kB)\n",
      "Collecting opentelemetry-semantic-conventions==0.49b1 (from opentelemetry-instrumentation-fastapi>=0.41b0->chromadb==0.5.3)\n",
      "  Downloading opentelemetry_semantic_conventions-0.49b1-py3-none-any.whl.metadata (2.4 kB)\n",
      "Collecting opentelemetry-util-http==0.49b1 (from opentelemetry-instrumentation-fastapi>=0.41b0->chromadb==0.5.3)\n",
      "  Downloading opentelemetry_util_http-0.49b1-py3-none-any.whl.metadata (2.5 kB)\n",
      "Collecting opentelemetry-api>=1.2.0 (from chromadb==0.5.3)\n",
      "  Downloading opentelemetry_api-1.28.1-py3-none-any.whl.metadata (1.4 kB)\n",
      "Collecting opentelemetry-instrumentation-fastapi>=0.41b0 (from chromadb==0.5.3)\n",
      "  Downloading opentelemetry_instrumentation_fastapi-0.49b0-py3-none-any.whl.metadata (2.1 kB)\n",
      "Collecting opentelemetry-instrumentation-asgi==0.49b0 (from opentelemetry-instrumentation-fastapi>=0.41b0->chromadb==0.5.3)\n",
      "  Downloading opentelemetry_instrumentation_asgi-0.49b0-py3-none-any.whl.metadata (2.0 kB)\n",
      "Collecting opentelemetry-instrumentation==0.49b0 (from opentelemetry-instrumentation-fastapi>=0.41b0->chromadb==0.5.3)\n",
      "  Downloading opentelemetry_instrumentation-0.49b0-py3-none-any.whl.metadata (6.2 kB)\n",
      "Collecting opentelemetry-semantic-conventions==0.49b0 (from opentelemetry-instrumentation-fastapi>=0.41b0->chromadb==0.5.3)\n",
      "  Downloading opentelemetry_semantic_conventions-0.49b0-py3-none-any.whl.metadata (2.4 kB)\n",
      "Collecting opentelemetry-util-http==0.49b0 (from opentelemetry-instrumentation-fastapi>=0.41b0->chromadb==0.5.3)\n",
      "  Downloading opentelemetry_util_http-0.49b0-py3-none-any.whl.metadata (2.5 kB)\n",
      "Collecting opentelemetry-api>=1.2.0 (from chromadb==0.5.3)\n",
      "  Downloading opentelemetry_api-1.28.0-py3-none-any.whl.metadata (1.4 kB)\n",
      "Collecting opentelemetry-instrumentation-fastapi>=0.41b0 (from chromadb==0.5.3)\n",
      "  Downloading opentelemetry_instrumentation_fastapi-0.48b0-py3-none-any.whl.metadata (2.1 kB)\n",
      "Collecting opentelemetry-instrumentation-asgi==0.48b0 (from opentelemetry-instrumentation-fastapi>=0.41b0->chromadb==0.5.3)\n",
      "  Downloading opentelemetry_instrumentation_asgi-0.48b0-py3-none-any.whl.metadata (2.0 kB)\n",
      "Collecting opentelemetry-instrumentation==0.48b0 (from opentelemetry-instrumentation-fastapi>=0.41b0->chromadb==0.5.3)\n",
      "  Downloading opentelemetry_instrumentation-0.48b0-py3-none-any.whl.metadata (6.1 kB)\n",
      "Requirement already satisfied: opentelemetry-semantic-conventions==0.48b0 in /opt/conda/lib/python3.10/site-packages (from opentelemetry-instrumentation-fastapi>=0.41b0->chromadb==0.5.3) (0.48b0)\n",
      "Collecting opentelemetry-util-http==0.48b0 (from opentelemetry-instrumentation-fastapi>=0.41b0->chromadb==0.5.3)\n",
      "  Downloading opentelemetry_util_http-0.48b0-py3-none-any.whl.metadata (2.5 kB)\n",
      "Requirement already satisfied: setuptools>=16.0 in /opt/conda/lib/python3.10/site-packages (from opentelemetry-instrumentation==0.48b0->opentelemetry-instrumentation-fastapi>=0.41b0->chromadb==0.5.3) (75.3.0)\n",
      "Collecting monotonic>=1.5 (from posthog>=2.4.0->chromadb==0.5.3)\n",
      "  Downloading monotonic-1.6-py2.py3-none-any.whl.metadata (1.5 kB)\n",
      "Collecting backoff>=1.10.0 (from posthog>=2.4.0->chromadb==0.5.3)\n",
      "  Downloading backoff-2.2.1-py3-none-any.whl.metadata (14 kB)\n",
      "Requirement already satisfied: annotated-types>=0.6.0 in /opt/conda/lib/python3.10/site-packages (from pydantic>=1.9->chromadb==0.5.3) (0.7.0)\n",
      "Requirement already satisfied: pydantic-core==2.23.4 in /opt/conda/lib/python3.10/site-packages (from pydantic>=1.9->chromadb==0.5.3) (2.23.4)\n",
      "Requirement already satisfied: charset-normalizer<4,>=2 in /opt/conda/lib/python3.10/site-packages (from requests>=2.28->chromadb==0.5.3) (3.4.0)\n",
      "Requirement already satisfied: huggingface-hub<1.0,>=0.16.4 in /opt/conda/lib/python3.10/site-packages (from tokenizers>=0.13.2->chromadb==0.5.3) (0.26.5)\n",
      "Requirement already satisfied: click>=8.0.0 in /opt/conda/lib/python3.10/site-packages (from typer>=0.9.0->chromadb==0.5.3) (8.1.7)\n",
      "Requirement already satisfied: shellingham>=1.3.0 in /opt/conda/lib/python3.10/site-packages (from typer>=0.9.0->chromadb==0.5.3) (1.5.4)\n",
      "Requirement already satisfied: rich>=10.11.0 in /opt/conda/lib/python3.10/site-packages (from typer>=0.9.0->chromadb==0.5.3) (13.9.4)\n",
      "Requirement already satisfied: httptools>=0.5.0 in /opt/conda/lib/python3.10/site-packages (from uvicorn[standard]>=0.18.3->chromadb==0.5.3) (0.6.4)\n",
      "Requirement already satisfied: python-dotenv>=0.13 in /opt/conda/lib/python3.10/site-packages (from uvicorn[standard]>=0.18.3->chromadb==0.5.3) (1.0.1)\n",
      "Requirement already satisfied: uvloop!=0.15.0,!=0.15.1,>=0.14.0 in /opt/conda/lib/python3.10/site-packages (from uvicorn[standard]>=0.18.3->chromadb==0.5.3) (0.21.0)\n",
      "Requirement already satisfied: watchfiles>=0.13 in /opt/conda/lib/python3.10/site-packages (from uvicorn[standard]>=0.18.3->chromadb==0.5.3) (0.24.0)\n",
      "Requirement already satisfied: websockets>=10.4 in /opt/conda/lib/python3.10/site-packages (from uvicorn[standard]>=0.18.3->chromadb==0.5.3) (14.1)\n",
      "Requirement already satisfied: cachetools<6.0,>=2.0.0 in /opt/conda/lib/python3.10/site-packages (from google-auth>=1.0.1->kubernetes>=28.1.0->chromadb==0.5.3) (5.5.0)\n",
      "Requirement already satisfied: pyasn1-modules>=0.2.1 in /opt/conda/lib/python3.10/site-packages (from google-auth>=1.0.1->kubernetes>=28.1.0->chromadb==0.5.3) (0.4.1)\n",
      "Requirement already satisfied: rsa<5,>=3.1.4 in /opt/conda/lib/python3.10/site-packages (from google-auth>=1.0.1->kubernetes>=28.1.0->chromadb==0.5.3) (4.9)\n",
      "Requirement already satisfied: filelock in /opt/conda/lib/python3.10/site-packages (from huggingface-hub<1.0,>=0.16.4->tokenizers>=0.13.2->chromadb==0.5.3) (3.16.1)\n",
      "Requirement already satisfied: fsspec>=2023.5.0 in /opt/conda/lib/python3.10/site-packages (from huggingface-hub<1.0,>=0.16.4->tokenizers>=0.13.2->chromadb==0.5.3) (2024.10.0)\n",
      "Requirement already satisfied: zipp>=0.5 in /opt/conda/lib/python3.10/site-packages (from importlib-metadata<=8.4.0,>=6.0->opentelemetry-api>=1.2.0->chromadb==0.5.3) (3.21.0)\n",
      "Requirement already satisfied: markdown-it-py>=2.2.0 in /opt/conda/lib/python3.10/site-packages (from rich>=10.11.0->typer>=0.9.0->chromadb==0.5.3) (3.0.0)\n",
      "Requirement already satisfied: pygments<3.0.0,>=2.13.0 in /opt/conda/lib/python3.10/site-packages (from rich>=10.11.0->typer>=0.9.0->chromadb==0.5.3) (2.18.0)\n",
      "Requirement already satisfied: sniffio>=1.1 in /opt/conda/lib/python3.10/site-packages (from anyio->httpx>=0.27.0->chromadb==0.5.3) (1.3.1)\n",
      "Requirement already satisfied: exceptiongroup>=1.0.2 in /opt/conda/lib/python3.10/site-packages (from anyio->httpx>=0.27.0->chromadb==0.5.3) (1.2.2)\n",
      "Collecting humanfriendly>=9.1 (from coloredlogs->onnxruntime>=1.14.1->chromadb==0.5.3)\n",
      "  Downloading humanfriendly-10.0-py2.py3-none-any.whl.metadata (9.2 kB)\n",
      "Requirement already satisfied: mpmath<1.4,>=1.1.0 in /opt/conda/lib/python3.10/site-packages (from sympy->onnxruntime>=1.14.1->chromadb==0.5.3) (1.3.0)\n",
      "Requirement already satisfied: mdurl~=0.1 in /opt/conda/lib/python3.10/site-packages (from markdown-it-py>=2.2.0->rich>=10.11.0->typer>=0.9.0->chromadb==0.5.3) (0.1.2)\n",
      "Requirement already satisfied: pyasn1<0.7.0,>=0.4.6 in /opt/conda/lib/python3.10/site-packages (from pyasn1-modules>=0.2.1->google-auth>=1.0.1->kubernetes>=28.1.0->chromadb==0.5.3) (0.6.1)\n",
      "Downloading chromadb-0.5.3-py3-none-any.whl (559 kB)\n",
      "\u001b[2K   \u001b[90m━━━━━━━━━━━━━━━━━━━━━━━━━━━━━━━━━━━━━━━━\u001b[0m \u001b[32m559.5/559.5 kB\u001b[0m \u001b[31m15.5 MB/s\u001b[0m eta \u001b[36m0:00:00\u001b[0m\n",
      "\u001b[?25hDownloading chroma_hnswlib-0.7.3-cp310-cp310-manylinux_2_17_x86_64.manylinux2014_x86_64.whl (2.4 MB)\n",
      "\u001b[2K   \u001b[90m━━━━━━━━━━━━━━━━━━━━━━━━━━━━━━━━━━━━━━━━\u001b[0m \u001b[32m2.4/2.4 MB\u001b[0m \u001b[31m63.4 MB/s\u001b[0m eta \u001b[36m0:00:00\u001b[0m\n",
      "\u001b[?25hDownloading bcrypt-4.2.1-cp39-abi3-manylinux_2_28_x86_64.whl (278 kB)\n",
      "Downloading build-1.2.2.post1-py3-none-any.whl (22 kB)\n",
      "Downloading kubernetes-31.0.0-py2.py3-none-any.whl (1.9 MB)\n",
      "\u001b[2K   \u001b[90m━━━━━━━━━━━━━━━━━━━━━━━━━━━━━━━━━━━━━━━━\u001b[0m \u001b[32m1.9/1.9 MB\u001b[0m \u001b[31m100.9 MB/s\u001b[0m eta \u001b[36m0:00:00\u001b[0m\n",
      "\u001b[?25hDownloading mmh3-5.0.1-cp310-cp310-manylinux_2_5_x86_64.manylinux1_x86_64.manylinux_2_17_x86_64.manylinux2014_x86_64.whl (93 kB)\n",
      "Downloading onnxruntime-1.20.1-cp310-cp310-manylinux_2_27_x86_64.manylinux_2_28_x86_64.whl (13.3 MB)\n",
      "\u001b[2K   \u001b[90m━━━━━━━━━━━━━━━━━━━━━━━━━━━━━━━━━━━━━━━━\u001b[0m \u001b[32m13.3/13.3 MB\u001b[0m \u001b[31m121.4 MB/s\u001b[0m eta \u001b[36m0:00:00\u001b[0m\n",
      "\u001b[?25hDownloading opentelemetry_instrumentation_fastapi-0.48b0-py3-none-any.whl (11 kB)\n",
      "Downloading opentelemetry_instrumentation-0.48b0-py3-none-any.whl (29 kB)\n",
      "Downloading opentelemetry_instrumentation_asgi-0.48b0-py3-none-any.whl (15 kB)\n",
      "Downloading opentelemetry_util_http-0.48b0-py3-none-any.whl (6.9 kB)\n",
      "Downloading posthog-3.7.4-py2.py3-none-any.whl (54 kB)\n",
      "Downloading importlib_resources-6.4.5-py3-none-any.whl (36 kB)\n",
      "Downloading backoff-2.2.1-py3-none-any.whl (15 kB)\n",
      "Downloading durationpy-0.9-py3-none-any.whl (3.5 kB)\n",
      "Downloading monotonic-1.6-py2.py3-none-any.whl (8.2 kB)\n",
      "Downloading coloredlogs-15.0.1-py2.py3-none-any.whl (46 kB)\n",
      "Downloading flatbuffers-24.3.25-py2.py3-none-any.whl (26 kB)\n",
      "Downloading pyproject_hooks-1.2.0-py3-none-any.whl (10 kB)\n",
      "Downloading asgiref-3.8.1-py3-none-any.whl (23 kB)\n",
      "Downloading humanfriendly-10.0-py2.py3-none-any.whl (86 kB)\n",
      "Building wheels for collected packages: pypika\n",
      "  Building wheel for pypika (pyproject.toml) ... \u001b[?25ldone\n",
      "\u001b[?25h  Created wheel for pypika: filename=PyPika-0.48.9-py2.py3-none-any.whl size=53725 sha256=d0d7ca325c64349ffde9b4b5ee7b861a9aff7212a21644f2e9bc30b5e76dcc84\n",
      "  Stored in directory: /home/jupyter/.cache/pip/wheels/e1/26/51/d0bffb3d2fd82256676d7ad3003faea3bd6dddc9577af665f4\n",
      "Successfully built pypika\n",
      "Installing collected packages: pypika, monotonic, flatbuffers, durationpy, pyproject_hooks, opentelemetry-util-http, mmh3, importlib-resources, humanfriendly, chroma-hnswlib, bcrypt, backoff, asgiref, posthog, coloredlogs, build, opentelemetry-instrumentation, onnxruntime, kubernetes, opentelemetry-instrumentation-asgi, opentelemetry-instrumentation-fastapi, chromadb\n",
      "  Attempting uninstall: kubernetes\n",
      "    Found existing installation: kubernetes 26.1.0\n",
      "    Uninstalling kubernetes-26.1.0:\n",
      "      Successfully uninstalled kubernetes-26.1.0\n",
      "\u001b[31mERROR: pip's dependency resolver does not currently take into account all the packages that are installed. This behaviour is the source of the following dependency conflicts.\n",
      "kfp 2.5.0 requires kubernetes<27,>=8.0.0, but you have kubernetes 31.0.0 which is incompatible.\n",
      "kfp 2.5.0 requires requests-toolbelt<1,>=0.8.0, but you have requests-toolbelt 1.0.0 which is incompatible.\u001b[0m\u001b[31m\n",
      "\u001b[0mSuccessfully installed asgiref-3.8.1 backoff-2.2.1 bcrypt-4.2.1 build-1.2.2.post1 chroma-hnswlib-0.7.3 chromadb-0.5.3 coloredlogs-15.0.1 durationpy-0.9 flatbuffers-24.3.25 humanfriendly-10.0 importlib-resources-6.4.5 kubernetes-31.0.0 mmh3-5.0.1 monotonic-1.6 onnxruntime-1.20.1 opentelemetry-instrumentation-0.48b0 opentelemetry-instrumentation-asgi-0.48b0 opentelemetry-instrumentation-fastapi-0.48b0 opentelemetry-util-http-0.48b0 posthog-3.7.4 pypika-0.48.9 pyproject_hooks-1.2.0\n"
     ]
    },
    {
     "name": "stderr",
     "output_type": "stream",
     "text": [
      "huggingface/tokenizers: The current process just got forked, after parallelism has already been used. Disabling parallelism to avoid deadlocks...\n",
      "To disable this warning, you can either:\n",
      "\t- Avoid using `tokenizers` before the fork if possible\n",
      "\t- Explicitly set the environment variable TOKENIZERS_PARALLELISM=(true | false)\n"
     ]
    },
    {
     "name": "stdout",
     "output_type": "stream",
     "text": [
      "Collecting google-generativeai\n",
      "  Downloading google_generativeai-0.8.3-py3-none-any.whl.metadata (3.9 kB)\n",
      "Collecting google-ai-generativelanguage==0.6.10 (from google-generativeai)\n",
      "  Downloading google_ai_generativelanguage-0.6.10-py3-none-any.whl.metadata (5.6 kB)\n",
      "Requirement already satisfied: google-api-core in /opt/conda/lib/python3.10/site-packages (from google-generativeai) (1.34.1)\n",
      "Requirement already satisfied: google-api-python-client in /opt/conda/lib/python3.10/site-packages (from google-generativeai) (1.8.0)\n",
      "Requirement already satisfied: google-auth>=2.15.0 in /opt/conda/lib/python3.10/site-packages (from google-generativeai) (2.36.0)\n",
      "Requirement already satisfied: protobuf in /opt/conda/lib/python3.10/site-packages (from google-generativeai) (3.20.3)\n",
      "Requirement already satisfied: pydantic in /opt/conda/lib/python3.10/site-packages (from google-generativeai) (2.9.2)\n",
      "Requirement already satisfied: tqdm in ./.local/lib/python3.10/site-packages (from google-generativeai) (4.67.1)\n",
      "Requirement already satisfied: typing-extensions in /opt/conda/lib/python3.10/site-packages (from google-generativeai) (4.12.2)\n",
      "Requirement already satisfied: proto-plus<2.0.0dev,>=1.22.3 in /opt/conda/lib/python3.10/site-packages (from google-ai-generativelanguage==0.6.10->google-generativeai) (1.25.0)\n",
      "Requirement already satisfied: googleapis-common-protos<2.0dev,>=1.56.2 in /opt/conda/lib/python3.10/site-packages (from google-api-core->google-generativeai) (1.66.0)\n",
      "Requirement already satisfied: requests<3.0.0dev,>=2.18.0 in /opt/conda/lib/python3.10/site-packages (from google-api-core->google-generativeai) (2.32.3)\n",
      "Requirement already satisfied: cachetools<6.0,>=2.0.0 in /opt/conda/lib/python3.10/site-packages (from google-auth>=2.15.0->google-generativeai) (5.5.0)\n",
      "Requirement already satisfied: pyasn1-modules>=0.2.1 in /opt/conda/lib/python3.10/site-packages (from google-auth>=2.15.0->google-generativeai) (0.4.1)\n",
      "Requirement already satisfied: rsa<5,>=3.1.4 in /opt/conda/lib/python3.10/site-packages (from google-auth>=2.15.0->google-generativeai) (4.9)\n",
      "Requirement already satisfied: httplib2<1dev,>=0.9.2 in /opt/conda/lib/python3.10/site-packages (from google-api-python-client->google-generativeai) (0.22.0)\n",
      "Requirement already satisfied: google-auth-httplib2>=0.0.3 in /opt/conda/lib/python3.10/site-packages (from google-api-python-client->google-generativeai) (0.2.0)\n",
      "Requirement already satisfied: six<2dev,>=1.6.1 in /opt/conda/lib/python3.10/site-packages (from google-api-python-client->google-generativeai) (1.16.0)\n",
      "Requirement already satisfied: uritemplate<4dev,>=3.0.0 in /opt/conda/lib/python3.10/site-packages (from google-api-python-client->google-generativeai) (3.0.1)\n",
      "Requirement already satisfied: annotated-types>=0.6.0 in /opt/conda/lib/python3.10/site-packages (from pydantic->google-generativeai) (0.7.0)\n",
      "Requirement already satisfied: pydantic-core==2.23.4 in /opt/conda/lib/python3.10/site-packages (from pydantic->google-generativeai) (2.23.4)\n",
      "Requirement already satisfied: grpcio<2.0dev,>=1.33.2 in /opt/conda/lib/python3.10/site-packages (from google-api-core[grpc]!=2.0.*,!=2.1.*,!=2.10.*,!=2.2.*,!=2.3.*,!=2.4.*,!=2.5.*,!=2.6.*,!=2.7.*,!=2.8.*,!=2.9.*,<3.0.0dev,>=1.34.1->google-ai-generativelanguage==0.6.10->google-generativeai) (1.68.0)\n",
      "Requirement already satisfied: grpcio-status<2.0dev,>=1.33.2 in /opt/conda/lib/python3.10/site-packages (from google-api-core[grpc]!=2.0.*,!=2.1.*,!=2.10.*,!=2.2.*,!=2.3.*,!=2.4.*,!=2.5.*,!=2.6.*,!=2.7.*,!=2.8.*,!=2.9.*,<3.0.0dev,>=1.34.1->google-ai-generativelanguage==0.6.10->google-generativeai) (1.48.2)\n",
      "Requirement already satisfied: pyparsing!=3.0.0,!=3.0.1,!=3.0.2,!=3.0.3,<4,>=2.4.2 in /opt/conda/lib/python3.10/site-packages (from httplib2<1dev,>=0.9.2->google-api-python-client->google-generativeai) (3.2.0)\n",
      "Requirement already satisfied: pyasn1<0.7.0,>=0.4.6 in /opt/conda/lib/python3.10/site-packages (from pyasn1-modules>=0.2.1->google-auth>=2.15.0->google-generativeai) (0.6.1)\n",
      "Requirement already satisfied: charset-normalizer<4,>=2 in /opt/conda/lib/python3.10/site-packages (from requests<3.0.0dev,>=2.18.0->google-api-core->google-generativeai) (3.4.0)\n",
      "Requirement already satisfied: idna<4,>=2.5 in /opt/conda/lib/python3.10/site-packages (from requests<3.0.0dev,>=2.18.0->google-api-core->google-generativeai) (3.10)\n",
      "Requirement already satisfied: urllib3<3,>=1.21.1 in /opt/conda/lib/python3.10/site-packages (from requests<3.0.0dev,>=2.18.0->google-api-core->google-generativeai) (1.26.20)\n",
      "Requirement already satisfied: certifi>=2017.4.17 in /opt/conda/lib/python3.10/site-packages (from requests<3.0.0dev,>=2.18.0->google-api-core->google-generativeai) (2024.8.30)\n",
      "Downloading google_generativeai-0.8.3-py3-none-any.whl (160 kB)\n",
      "Downloading google_ai_generativelanguage-0.6.10-py3-none-any.whl (760 kB)\n",
      "\u001b[2K   \u001b[90m━━━━━━━━━━━━━━━━━━━━━━━━━━━━━━━━━━━━━━━━\u001b[0m \u001b[32m760.0/760.0 kB\u001b[0m \u001b[31m23.4 MB/s\u001b[0m eta \u001b[36m0:00:00\u001b[0m\n",
      "\u001b[?25hInstalling collected packages: google-ai-generativelanguage, google-generativeai\n",
      "Successfully installed google-ai-generativelanguage-0.6.10 google-generativeai-0.8.3\n"
     ]
    },
    {
     "data": {
      "application/vnd.jupyter.widget-view+json": {
       "model_id": "b8efc002fe044b8a8f63132718308855",
       "version_major": 2,
       "version_minor": 0
      },
      "text/plain": [
       "modules.json:   0%|          | 0.00/349 [00:00<?, ?B/s]"
      ]
     },
     "metadata": {},
     "output_type": "display_data"
    },
    {
     "data": {
      "application/vnd.jupyter.widget-view+json": {
       "model_id": "b7788020caa74b64975894d56907ecb4",
       "version_major": 2,
       "version_minor": 0
      },
      "text/plain": [
       "config_sentence_transformers.json:   0%|          | 0.00/116 [00:00<?, ?B/s]"
      ]
     },
     "metadata": {},
     "output_type": "display_data"
    },
    {
     "data": {
      "application/vnd.jupyter.widget-view+json": {
       "model_id": "65cf6916066d44fa81ed7c922d314d69",
       "version_major": 2,
       "version_minor": 0
      },
      "text/plain": [
       "README.md:   0%|          | 0.00/10.7k [00:00<?, ?B/s]"
      ]
     },
     "metadata": {},
     "output_type": "display_data"
    },
    {
     "data": {
      "application/vnd.jupyter.widget-view+json": {
       "model_id": "114a9bb7889046d8b41933ff00848a94",
       "version_major": 2,
       "version_minor": 0
      },
      "text/plain": [
       "sentence_bert_config.json:   0%|          | 0.00/53.0 [00:00<?, ?B/s]"
      ]
     },
     "metadata": {},
     "output_type": "display_data"
    },
    {
     "data": {
      "application/vnd.jupyter.widget-view+json": {
       "model_id": "c3789e34a89946769591f472126ee70a",
       "version_major": 2,
       "version_minor": 0
      },
      "text/plain": [
       "config.json:   0%|          | 0.00/612 [00:00<?, ?B/s]"
      ]
     },
     "metadata": {},
     "output_type": "display_data"
    },
    {
     "data": {
      "application/vnd.jupyter.widget-view+json": {
       "model_id": "4d3696cd2d284c2c8f9ef0427e69e52f",
       "version_major": 2,
       "version_minor": 0
      },
      "text/plain": [
       "model.safetensors:   0%|          | 0.00/90.9M [00:00<?, ?B/s]"
      ]
     },
     "metadata": {},
     "output_type": "display_data"
    },
    {
     "data": {
      "application/vnd.jupyter.widget-view+json": {
       "model_id": "9e5005b4d654460d819b10f565629958",
       "version_major": 2,
       "version_minor": 0
      },
      "text/plain": [
       "tokenizer_config.json:   0%|          | 0.00/350 [00:00<?, ?B/s]"
      ]
     },
     "metadata": {},
     "output_type": "display_data"
    },
    {
     "data": {
      "application/vnd.jupyter.widget-view+json": {
       "model_id": "9140e4f86b7c4cbb8f6a0458ddfbdc99",
       "version_major": 2,
       "version_minor": 0
      },
      "text/plain": [
       "vocab.txt:   0%|          | 0.00/232k [00:00<?, ?B/s]"
      ]
     },
     "metadata": {},
     "output_type": "display_data"
    },
    {
     "data": {
      "application/vnd.jupyter.widget-view+json": {
       "model_id": "303bdac8ce6740c8b76a69c4636c596c",
       "version_major": 2,
       "version_minor": 0
      },
      "text/plain": [
       "tokenizer.json:   0%|          | 0.00/466k [00:00<?, ?B/s]"
      ]
     },
     "metadata": {},
     "output_type": "display_data"
    },
    {
     "data": {
      "application/vnd.jupyter.widget-view+json": {
       "model_id": "ced2980f3c344540a438cc15b04498f1",
       "version_major": 2,
       "version_minor": 0
      },
      "text/plain": [
       "special_tokens_map.json:   0%|          | 0.00/112 [00:00<?, ?B/s]"
      ]
     },
     "metadata": {},
     "output_type": "display_data"
    },
    {
     "data": {
      "application/vnd.jupyter.widget-view+json": {
       "model_id": "877a088d27b3417da9c95b213b5fb76f",
       "version_major": 2,
       "version_minor": 0
      },
      "text/plain": [
       "1_Pooling/config.json:   0%|          | 0.00/190 [00:00<?, ?B/s]"
      ]
     },
     "metadata": {},
     "output_type": "display_data"
    },
    {
     "name": "stdout",
     "output_type": "stream",
     "text": [
      "[[-0.004403385333716869, -0.023928439244627953, -0.03970124572515488, -0.035416942089796066, -0.010190082713961601, 0.1187557578086853, -0.05257457494735718, 0.049511704593896866, -0.06345207989215851, 0.017180215567350388, -0.005264880135655403, -0.030243538320064545, 0.07438965141773224, -0.0015706553822383285, 0.038896024227142334, 0.004807640798389912, 0.026698503643274307, 0.023080768063664436, 0.027208665385842323, 0.013869626447558403, -0.027201730757951736, 0.0034395596012473106, 0.03929683566093445, -0.012310132384300232, -0.029975978657603264, -0.05038423463702202, -0.06184713914990425, 0.008221260271966457, -0.03329555690288544, -0.10917853564023972, -0.05240422487258911, -0.027552926912903786, 0.09211231023073196, 0.05698247253894806, -0.1218724474310875, -0.03554566204547882, 0.06591395288705826, 0.04378867521882057, 0.002574281068518758, 0.0702240914106369, -0.06926540285348892, 0.009742049500346184, -0.0022185579873621464, 0.041010987013578415, 0.02624800056219101, 0.07250215113162994, -0.10912486910820007, 0.01579853892326355, 0.04787307605147362, 0.015600916929543018, -0.016179818660020828, 0.036567337810993195, -0.020888375118374825, 0.055571299046278, 0.06464575976133347, -0.028823671862483025, -0.1000889241695404, -0.04978075996041298, -0.00020027474965900183, 0.08372585475444794, 0.06988733261823654, -0.014070846140384674, -0.07788604497909546, -0.011060544289648533, -0.07749716192483902, -0.04358819127082825, -0.07661610096693039, 0.03546237200498581, 0.011773879639804363, 0.024308353662490845, 0.018379278481006622, 0.009815611876547337, -0.08246118575334549, -0.042223624885082245, 0.01669466309249401, 0.09865117818117142, 0.05879952386021614, 0.022424964234232903, -0.0007056382019072771, -0.12625256180763245, -0.08598270267248154, -0.0027042310684919357, 0.009577366523444653, -0.060618042945861816, -0.0005768693517893553, 0.03265205770730972, 0.012229273095726967, 0.04184286668896675, 0.008140825666487217, 0.06257802993059158, 0.014964660629630089, -0.07834111899137497, 0.026076002046465874, 0.020991910248994827, -0.01275581680238247, 0.03220684453845024, -0.03371690213680267, -0.0509619377553463, -0.0569332130253315, 0.033422742038965225, 0.026827026158571243, -0.026397578418254852, 0.020042216405272484, -0.07166831195354462, -0.0605756975710392, -0.004079096019268036, 0.006247814279049635, 0.022885415703058243, -0.02915036678314209, -0.047849517315626144, 0.04414822533726692, -0.004872348625212908, -0.06578627973794937, -0.03874754160642624, -0.06498193740844727, -0.05093543604016304, -0.05555680766701698, 0.0017509153112769127, 0.09222405403852463, -0.02143343724310398, 0.06230722367763519, 0.04053938761353493, 0.0337393656373024, -0.010369800962507725, -0.01602322980761528, 0.03525189310312271, -0.013640470802783966, 6.0663861859160566e-33, 0.019059820100665092, -0.03388536348938942, -0.038404680788517, 0.09015528112649918, -0.0024268031120300293, -0.1035129576921463, 0.008411325514316559, -0.052039142698049545, -0.05469317361712456, 0.14008527994155884, -0.0008457520161755383, 0.0706295296549797, 0.028900228440761566, -0.0008892835467122495, 0.11542395502328873, -0.003923889249563217, -0.032548487186431885, -0.022429876029491425, -0.04904051870107651, 0.014389358460903168, -0.03137434646487236, 0.07997514307498932, 0.0276641882956028, -0.018291428685188293, 0.06099608168005943, 0.016418226063251495, 0.0025001754984259605, 0.022596873342990875, -0.11045798659324646, 0.02267003431916237, -0.005739409476518631, -0.064052052795887, -0.06426043063402176, 0.0540468655526638, 0.020793676376342773, -0.027694156393408775, -0.005223394837230444, -0.08446943014860153, -0.003406840143725276, -0.0629083514213562, -0.03747166320681572, -0.03799665346741676, -0.07689810544252396, 0.0027497250121086836, 0.04498894885182381, -0.018501074984669685, 0.006925319787114859, 0.005326960701495409, -0.011066840961575508, -0.053624268621206284, -0.017432305961847305, 0.02293519861996174, 0.019264914095401764, -0.01865365542471409, -0.040615495294332504, -0.03479650989174843, 0.0017037134384736419, 0.141170933842659, -0.018882421776652336, 0.07603434473276138, 0.035464730113744736, 0.027770062908530235, -0.01970321126282215, -0.008349278010427952, -0.060002490878105164, 0.016209661960601807, -0.06352634727954865, -0.017052989453077316, 0.05526347458362579, -0.027484755963087082, -0.012314083985984325, -0.013391368091106415, 0.08008863776922226, 0.02205819822847843, 0.019873568788170815, -0.03623959794640541, 0.06123756617307663, 0.034087471663951874, 0.04401286318898201, -0.0007799406303092837, -0.10323834419250488, 0.07399158179759979, -0.04567978158593178, 0.07531444728374481, -0.005693830084055662, -0.02311091125011444, 0.04713928699493408, -0.042802855372428894, -0.12058843672275543, -0.005573929753154516, -0.0797986388206482, 0.00506563438102603, 0.018279727548360825, -0.008443795144557953, -0.01589016243815422, -6.902895883952028e-33, -0.007648959290236235, 0.03301408141851425, 0.03579388186335564, -0.04070797562599182, -0.03632421791553497, 0.01733970083296299, 0.04597412794828415, 0.0806383341550827, 0.013703204691410065, 0.01298454124480486, 0.03906029835343361, 0.024563254788517952, -0.004571063444018364, -0.07089152187108994, 0.05959898233413696, -0.05104931443929672, -0.00034902035258710384, 0.0336531437933445, -0.022142935544252396, -0.024897554889321327, 0.1007259339094162, 0.03281359747052193, 0.040051188319921494, 0.05201927572488785, 0.02385716140270233, 0.022733516991138458, -0.0333009734749794, -0.012256225571036339, 0.006410013418644667, 0.026828045025467873, 0.05119723454117775, -0.1176086813211441, 0.06348831206560135, 0.04886694997549057, -0.121147021651268, -0.08392548561096191, -0.010677526704967022, 0.03400307148694992, -0.0084722600877285, 0.03166930750012398, 0.053879477083683014, -0.03196517005562782, 0.0001279195857932791, 0.05416226014494896, 0.014846325851976871, -0.05121777951717377, -0.030574344098567963, -0.041914280503988266, -0.043097831308841705, 0.015002716332674026, 0.04526644945144653, 0.06656148284673691, -0.08685800433158875, 0.018832804635167122, -0.01143433153629303, -0.05629641190171242, 0.01595364138484001, -0.07144206762313843, 0.005040421150624752, 0.03546153008937836, 0.03184580057859421, 0.04629458487033844, -0.0639253482222557, 0.08135493844747543, 0.04243812710046768, 0.04411405697464943, -0.1155305951833725, -0.0204966701567173, -0.09607657045125961, 0.014578568749129772, -0.08312632888555527, 0.009126832708716393, -0.012885533273220062, 0.010994241572916508, -0.060521792620420456, 0.02795945294201374, 0.0032299712765961885, -0.0646081268787384, -0.028541095554828644, 0.10355811566114426, -0.0782683789730072, -0.07779869437217712, -0.05722963064908981, 0.1572103351354599, 0.018385812640190125, 0.062230151146650314, 0.02651665359735489, 0.03765295073390007, 0.08276385813951492, 0.025275886058807373, 0.03680143132805824, 0.033480264246463776, 0.058518681675195694, 0.027824589982628822, 0.03654922917485237, -4.32656506177409e-08, -0.031511347740888596, 0.09815994650125504, 0.027338841930031776, 0.039479222148656845, -0.05216355621814728, 0.07779587060213089, -0.0035616743844002485, -0.060692425817251205, -0.04677940905094147, -0.03918462619185448, 0.06917980313301086, 0.03133007884025574, 0.008574189618229866, -0.062253013253211975, -0.016034161671996117, -0.057033054530620575, -0.09098300337791443, 0.08624658733606339, -0.014052770100533962, 0.05142375826835632, 0.011953328736126423, -0.03944920748472214, 0.006758635863661766, 0.01611214503645897, -0.04229004681110382, -0.05093586817383766, -0.06106425076723099, -0.03109942562878132, -0.012634574435651302, 0.038040317595005035, 0.04351550340652466, -0.00404670275747776, 0.0019700347911566496, -0.04729839786887169, 0.011181612499058247, 0.11571865528821945, -0.015462887473404408, -0.03301921859383583, -0.004983627237379551, 0.10273974388837814, -0.05834153667092323, -0.08322528749704361, -0.026682671159505844, 0.07660751044750214, 0.01888875663280487, 0.012704073451459408, -0.09394195675849915, 0.01975777931511402, -0.004269626922905445, -0.1269427388906479, 0.06397750228643417, 0.023822328075766563, -0.036483488976955414, 0.00708496430888772, -0.01385093480348587, 0.11291006952524185, -0.017363473773002625, -0.033857740461826324, 0.017358137294650078, 0.016938041895627975, 0.0746668353676796, -0.0636482685804367, -0.014874640852212906, 0.05912718549370766]]\n"
     ]
    }
   ],
   "source": [
    "!pip3 install chromadb==0.5.3  # Install ChromaDB for vector database functionality\n",
    "!pip3 install google-generativeai  # Install Google Generative AI library\n",
    "\n",
    "import chromadb  # Import ChromaDB for vector database operations\n",
    "import os  # Import the os module for operating system-related functions (if needed)\n",
    "from chromadb.utils.embedding_functions import SentenceTransformerEmbeddingFunction  # Import the SentenceTransformer embedding function\n",
    "\n",
    "# Initialize the SentenceTransformer embedding function\n",
    "embedding_function = SentenceTransformerEmbeddingFunction()  \n",
    "\n",
    "# Generate and print embeddings for a sample text chunk (token_split_texts[10])\n",
    "print(embedding_function([token_split_texts[10]]))"
   ]
  },
  {
   "cell_type": "code",
   "execution_count": 17,
   "id": "9e09e133-5236-4d46-a413-2f9b096e3597",
   "metadata": {
    "tags": []
   },
   "outputs": [
    {
     "name": "stdout",
     "output_type": "stream",
     "text": [
      "collection\n",
      "created\n",
      "adding\n"
     ]
    },
    {
     "data": {
      "text/plain": [
       "43"
      ]
     },
     "execution_count": 17,
     "metadata": {},
     "output_type": "execute_result"
    }
   ],
   "source": [
    "# Create embedings and store them in the chroma database.\n",
    "chroma_client = chromadb.Client()\n",
    "print(\"collection\")\n",
    "chroma_collection = chroma_client.create_collection(\"gracie_book\", embedding_function=embedding_function)\n",
    "print(\"created\")\n",
    "ids = [str(i) for i in range(len(token_split_texts))]\n",
    "print(\"adding\")\n",
    "chroma_collection.add(ids=ids, documents=token_split_texts)\n",
    "chroma_collection.count()"
   ]
  },
  {
   "cell_type": "code",
   "execution_count": 18,
   "id": "a6afde63-7707-41c6-8e62-6d7919f366f5",
   "metadata": {
    "tags": []
   },
   "outputs": [
    {
     "name": "stdout",
     "output_type": "stream",
     "text": [
      "memorized from watching carlos teach were not very easy for him to execute. in a relentless quest to find answers that would guarantee effectiveness for jiu - jitsu techniques, helio dared to break away from the traditional jiu - jitsu his brothers had learn - ed and taught. he started to adapt the moves so that he could execute them with ease. he did so through trial and error and by incorporating leverage, which reduced the amount of strength necessary for the execution of the techniques. the beginning of a revolution the gracies had started building a reputation as effective fighters in their native brazil. the huge weight disparities and adverse conditions in some of their fights sent shockwaves throughout the country. helio, who from an early age saw carlos not only as a brother but also as a father figure, would expand the family tradition of challenge 2 gastao gracie and a young rorion. helio teaching at his house.\n",
      "\n",
      "\n",
      "gracie jiu - jitsu some time later, while in his early teens, helio moved in with his older brothers who lived and taught jiu - jitsu in a house in botafogo, a borough of rio de janeiro. he spent the next few years watching his brothers teach, since doctors had rec - ommended they keep helio away from any physical activity, including jiu - jitsu training. one day, when helio was sixteen years old, a student showed up for his class with carlos, who was not there. helio, who had memorized all the moves of his older brother, offered to start the class, and the student accepted. when the class was over, carlos showed up and was very apologetic for his delay. the student answered, “ no problem. i enjoyed the class with helio very much. if you don ’ t mind, i ’ d like to continue having classes with him from now on. ” carlos agreed. ironically, helio gracie had just been promoted to instructor level by a student! helio soon realized that some of the techniques he had\n",
      "\n",
      "\n",
      "to teach those who don ’ t know, to remind those who do know, to correct those who think they know. – helio gracie\n",
      "\n",
      "\n",
      "brazil, he was challenged by a “ capoeira ” instructor. a fight was scheduled for the following week. helio, then fifty - five, choked out his much younger and stronger opponent in less than two minutes. helio gracie and his brothers left a legacy that has been carried by several generations, establishing the gracies as the most influential family in sports history. to america and beyond rorion gracie, the oldest son of helio gracie, had a kimono on before he could walk. at two years old, rorion was already doing public demonstrations. at a very early age, he grasped the intricate concepts of the art and learned to teach under the tutelage of his father. around christmas, 1969, rorion came to the united states for a one month vacation. after visiting relatives in new york and washington, dc, he moved on to california. helio and waldemar. helio and baby rorion.\n",
      "\n",
      "\n",
      "ically frail child. he would run up a flight of stairs and have fainting spells. nobody could figure out why. when he was about eight years old, after completing second grade, he convinced his mother, cesalina, that he shouldn ’ t go to school anymore. 1 helio gracie\n",
      "\n",
      "\n"
     ]
    }
   ],
   "source": [
    "# Ask a questions to perform an embeddings search on the chroma db database.\n",
    "query = \"When did Helio start teaching class?\"\n",
    "\n",
    "results = chroma_collection.query(query_texts=[query], n_results=5)\n",
    "retrieved_documents = results['documents'][0]\n",
    "\n",
    "for document in retrieved_documents:\n",
    "    print(document)\n",
    "    print('\\n')"
   ]
  },
  {
   "cell_type": "code",
   "execution_count": 19,
   "id": "9e09e1e7-cefb-4ff7-b285-7eff5d55b14f",
   "metadata": {
    "tags": []
   },
   "outputs": [
    {
     "name": "stdout",
     "output_type": "stream",
     "text": [
      "At 16 years old, Helio started teaching the sport by himself while his older brother Carlos was running late to a lesson. The student asked to continue lessons with Helio instead of Carlos after the class. Although Helio did not receive an official teacher's certification, a student basically declared him fit to teach at the young age of 16.\n"
     ]
    }
   ],
   "source": [
    "# Use a RAG to answer the question given the information that was looked up from the database.\n",
    "def rag(query, retrieved_documents, model):\n",
    "    information = \"\\n\\n\".join(retrieved_documents)\n",
    "\n",
    "    prompt = (f'You are a helpful expert Gracie Jui-Jitsu assistant.\\n'\n",
    "    f'Your users are asking questions about information contained in the Gracie Jui-Jitsu Book.\\n'\n",
    "    f'You will be shown the user\\'s question, and the relevant information from the Gracie Jui-Jujutsu Book.\\n'\n",
    "    f'Answer the user\\'s question using only this information.\\n\\n'\n",
    "    f'Question: {query}. \\n Information: {information}')\n",
    "    \n",
    "    responses = model.generate_content(prompt, stream=False)\n",
    "    return responses.text\n",
    "\n",
    "response = rag(query=query, retrieved_documents=retrieved_documents, model=model)\n",
    "print(response)"
   ]
  },
  {
   "cell_type": "markdown",
   "id": "1d03fad8-2810-42ef-9b44-5206311abad0",
   "metadata": {},
   "source": [
    "### Exploring Embedding Distribution with User Queries\n",
    "\n",
    "- Visualize the distribution of embeddings in a 2D space using UMAP dimensionality reduction.  \n",
    "- Analyze how queries map to the embedding space to gain insight into answer relevance."
   ]
  },
  {
   "cell_type": "code",
   "execution_count": 20,
   "id": "721d1cd1-9b8f-43f2-8b9d-7e57f232f351",
   "metadata": {
    "tags": []
   },
   "outputs": [
    {
     "name": "stderr",
     "output_type": "stream",
     "text": [
      "/home/jupyter/.local/lib/python3.10/site-packages/umap/umap_.py:1952: UserWarning: n_jobs value 1 overridden to 1 by setting random_state. Use no seed for parallelism.\n",
      "  warn(\n",
      "100%|██████████| 43/43 [00:04<00:00,  9.91it/s]\n"
     ]
    }
   ],
   "source": [
    "# Transform embeddigns into a two-dimensional space.\n",
    "import umap.umap_ as umap\n",
    "import numpy as np\n",
    "from tqdm import tqdm\n",
    "\n",
    "embeddings = chroma_collection.get(include=['embeddings'])['embeddings']\n",
    "umap_transform = umap.UMAP(random_state=0, transform_seed=0).fit(embeddings)\n",
    "\n",
    "def project_embeddings(embeddings, umap_transform):\n",
    "    umap_embeddings = np.empty((len(embeddings),2))\n",
    "    for i, embedding in enumerate(tqdm(embeddings)): \n",
    "        umap_embeddings[i] = umap_transform.transform([embedding])\n",
    "    return umap_embeddings\n",
    "\n",
    "projected_dataset_embeddings = project_embeddings(embeddings, umap_transform)"
   ]
  },
  {
   "cell_type": "code",
   "execution_count": 21,
   "id": "f2cf6ffb-75c5-4c3b-aa50-9ba8c8262a14",
   "metadata": {
    "tags": []
   },
   "outputs": [
    {
     "data": {
      "image/png": "[encoded data removed]",
      "text/plain": [
       "<Figure size 640x480 with 1 Axes>"
      ]
     },
     "metadata": {},
     "output_type": "display_data"
    }
   ],
   "source": [
    "# Plot the two-dimensional embeddings.\n",
    "import matplotlib.pyplot as plt\n",
    "\n",
    "def plot(title='Projected Embeddings', projected_dataset_embeddings=[], projected_query_embedding=[], projected_retrieved_embeddings=[]):\n",
    "    # Plot the projected query and retrieved documents in the embedding space\n",
    "    plt.figure()\n",
    "    plt.scatter(projected_dataset_embeddings[:, 0], projected_dataset_embeddings[:, 1], s=10, color='gray')\n",
    "    if len(projected_query_embedding) > 0:\n",
    "        plt.scatter(projected_query_embedding[:, 0], projected_query_embedding[:, 1], s=150, marker='X', color='r')\n",
    "    if len(projected_retrieved_embeddings) > 0:\n",
    "        plt.scatter(projected_retrieved_embeddings[:, 0], projected_retrieved_embeddings[:, 1], s=100, facecolors='none', edgecolors='g')\n",
    "\n",
    "    plt.gca().set_aspect('equal', 'datalim')\n",
    "    plt.title(f'{title}')\n",
    "    plt.axis('off')\n",
    "\n",
    "plot(projected_dataset_embeddings=projected_dataset_embeddings)"
   ]
  },
  {
   "cell_type": "code",
   "execution_count": 22,
   "id": "0223c91c-42a3-4295-9e43-dd42f17a01b2",
   "metadata": {
    "tags": []
   },
   "outputs": [
    {
     "name": "stdout",
     "output_type": "stream",
     "text": [
      "memorized from watching carlos teach were not very easy for him to execute. in a relentless quest to find answers that would guarantee effectiveness for jiu - jitsu techniques, helio dared to break away from the traditional jiu - jitsu his brothers had learn - ed and taught. he started to adapt the moves so that he could execute them with ease. he did so through trial and error and by incorporating leverage, which reduced the amount of strength necessary for the execution of the techniques. the beginning of a revolution the gracies had started building a reputation as effective fighters in their native brazil. the huge weight disparities and adverse conditions in some of their fights sent shockwaves throughout the country. helio, who from an early age saw carlos not only as a brother but also as a father figure, would expand the family tradition of challenge 2 gastao gracie and a young rorion. helio teaching at his house.\n",
      "\n",
      "gracie jiu - jitsu some time later, while in his early teens, helio moved in with his older brothers who lived and taught jiu - jitsu in a house in botafogo, a borough of rio de janeiro. he spent the next few years watching his brothers teach, since doctors had rec - ommended they keep helio away from any physical activity, including jiu - jitsu training. one day, when helio was sixteen years old, a student showed up for his class with carlos, who was not there. helio, who had memorized all the moves of his older brother, offered to start the class, and the student accepted. when the class was over, carlos showed up and was very apologetic for his delay. the student answered, “ no problem. i enjoyed the class with helio very much. if you don ’ t mind, i ’ d like to continue having classes with him from now on. ” carlos agreed. ironically, helio gracie had just been promoted to instructor level by a student! helio soon realized that some of the techniques he had\n",
      "\n",
      "to teach those who don ’ t know, to remind those who do know, to correct those who think they know. – helio gracie\n",
      "\n",
      "brazil, he was challenged by a “ capoeira ” instructor. a fight was scheduled for the following week. helio, then fifty - five, choked out his much younger and stronger opponent in less than two minutes. helio gracie and his brothers left a legacy that has been carried by several generations, establishing the gracies as the most influential family in sports history. to america and beyond rorion gracie, the oldest son of helio gracie, had a kimono on before he could walk. at two years old, rorion was already doing public demonstrations. at a very early age, he grasped the intricate concepts of the art and learned to teach under the tutelage of his father. around christmas, 1969, rorion came to the united states for a one month vacation. after visiting relatives in new york and washington, dc, he moved on to california. helio and waldemar. helio and baby rorion.\n",
      "\n",
      "ically frail child. he would run up a flight of stairs and have fainting spells. nobody could figure out why. when he was about eight years old, after completing second grade, he convinced his mother, cesalina, that he shouldn ’ t go to school anymore. 1 helio gracie\n",
      "\n"
     ]
    }
   ],
   "source": [
    "# Ask the same question to the database again, but this time retrieve the embeddings in addition to the documents.\n",
    "query = \"When did Helio start teaching class?\"\n",
    "\n",
    "results = chroma_collection.query(query_texts=query, n_results=5, include=['documents', 'embeddings'])\n",
    "\n",
    "retrieved_documents = results['documents'][0]\n",
    "\n",
    "for document in results['documents'][0]:\n",
    "    print(document)\n",
    "    print('')"
   ]
  },
  {
   "cell_type": "code",
   "execution_count": 23,
   "id": "4b241065-9d32-4c63-9287-bc09e71444e8",
   "metadata": {
    "tags": []
   },
   "outputs": [
    {
     "name": "stderr",
     "output_type": "stream",
     "text": [
      "100%|██████████| 1/1 [00:00<00:00, 101.48it/s]\n",
      "100%|██████████| 5/5 [00:00<00:00, 194.44it/s]\n"
     ]
    }
   ],
   "source": [
    "# Embed the question and answer and transform it into two dimentions\n",
    "query_embedding = embedding_function([query])[0]\n",
    "retrieved_embeddings = results['embeddings'][0]\n",
    "\n",
    "projected_query_embedding = project_embeddings([query_embedding], umap_transform)\n",
    "projected_retrieved_embeddings = project_embeddings(retrieved_embeddings, umap_transform)"
   ]
  },
  {
   "cell_type": "code",
   "execution_count": 24,
   "id": "f66077e6-f995-43b2-8e7b-e1f9c748efa8",
   "metadata": {
    "tags": []
   },
   "outputs": [
    {
     "data": {
      "image/png": "[encoded data removed]",
      "text/plain": [
       "<Figure size 640x480 with 1 Axes>"
      ]
     },
     "metadata": {},
     "output_type": "display_data"
    }
   ],
   "source": [
    "# Plot the projected query and retrieved documents in the embedding space.\n",
    "plot(title=query, projected_dataset_embeddings=projected_dataset_embeddings, projected_query_embedding=[], projected_retrieved_embeddings=projected_retrieved_embeddings)"
   ]
  },
  {
   "cell_type": "code",
   "execution_count": 25,
   "id": "f5e66cde-e3be-4b50-ab60-94378e98d5e7",
   "metadata": {
    "tags": []
   },
   "outputs": [
    {
     "name": "stdout",
     "output_type": "stream",
     "text": [
      "5making him reconsider. while debating if he should tap, the crowd became silent and the lights faded to black. helio had lost consciousness. that was when one of the most bizarre incidents in sports history took place. unaware that his opponent was unconscious, kimura decided to try something else and jumped into the mount position, which allowed helio to breathe again! the little big man, who had passed out with his eyes wide open, was awakened by a towering kimura saying, “ good, very good! ” while wiping the sweat off his brow. amazingly, the fight had never stopped. the match went on for thirteen minutes and eventually kimura caught helio in his famous “ kimura ” lock. carlos, fearing that helio might not tap and would receive a ser - ious injury, threw in the towel, forfeiting the match to the japanese champion. kimura was so impressed with helio ’ s performance that the day after the match, he went to the gracie academy in rio to invite helio to teach in japan.\n",
      "\n",
      "when jiu - jitsu world champion masahiko kimura arrived in brazil on tour, helio saw an opportunity to test his techniques against the very best, and he challenged kimura. to his surprise, the heavyweight champion declined, claiming that besides the almost eighty lb. weight difference, helio was not ranked and was therefore an unworthy opponent. kimura then stated that kato, the number two jiu - jitsu fighter in 3 helio and zbysko.\n",
      "\n",
      "from the moment he stepped into the ring, helio felt as if he was shoved inside a blender. completely overwhelmed, the 140 - pound brazilian didn ’ t know which side was up. kimura was as unstoppable as a freight train, doing anything and everything he wanted – except win. kimura finally secured one of his favorite holds, which although it did not cause any bones to break, prevented helio from breathing. it consisted of having his feet crossed and his tree - trunk thighs squeezing helio ’ s chest, while pulling on his collar for extra discomfort. helio, unable to inhale, flashed back on the promise he had made to his brother : “ tap out if you get caught in a good submission hold. ” technically, helio knew it was not a “ good ” submission hold, but he couldn ’ t breathe, and that was\n",
      "\n",
      "national wrestling champions fred ebert and wladek zbysko. against ebert, the match was scheduled for an unlimited number of 10 - minute rounds. after 140 minutes of savage combat, at 2 : 00 a. m., the local police stopped the fight and sent ebert to the hospital while helio went home. against zbyszko, the fight ended after two scheduled rounds of 20 minutes each, when zbyszko declined an offer for a third round. helio also challenged boxing icons primo carnera and ezzard charles. they never responded. as for joe louis, he declined. outside the ring, always looking for a challenge, helio enjoyed breaking wild horses and bulls. as if that was not enough, in an event worthy of a hollywood movie, this brazilian superman, in an amazing demonstration of solidarity for his fellow man, once jumped into shark - infested waters in the atlantic ocean to save a man from drowning. for that, helio earned the brazilian medal of honor. the great kimura\n",
      "\n",
      "ility of defending japanese honor. this would be the first time ever that a title match for the jiu - jitsu world championship was staged outside of japan. the match took place at maracana, the largest soccer stadium in the world. among the screaming crowd, there was a mixed feeling of excitement and fear. prior to the fight, the japanese giant was so confident of victory that he declared in local newspapers that if helio could resist him for just three minutes, he should be considered the winner. helio knew that it would be impossible to defeat kimura, given the size and strength difference, plus the fact that he was the current world champion. however, he was curious to see how good his tech - niques would fare when compared to the best jiu - jitsu fighter japan had ever produced. aware of his younger brother ’ s mindset, carlos made helio promise that he would put his pride aside and tap out if the japanese caught him in a good submission hold.\n",
      "\n"
     ]
    }
   ],
   "source": [
    "# Use a different question to see another example\n",
    "query = \"Who was the Great Kimura?\"\n",
    "results = chroma_collection.query(query_texts=query, n_results=5, include=['documents', 'embeddings'])\n",
    "\n",
    "retrieved_documents = results['documents'][0]\n",
    "\n",
    "for document in results['documents'][0]:\n",
    "    print(document)\n",
    "    print('')"
   ]
  },
  {
   "cell_type": "code",
   "execution_count": 26,
   "id": "2d2695f3-3e00-474d-b553-3a2743f38daa",
   "metadata": {
    "tags": []
   },
   "outputs": [
    {
     "name": "stderr",
     "output_type": "stream",
     "text": [
      "100%|██████████| 1/1 [00:00<00:00, 91.52it/s]\n",
      "100%|██████████| 5/5 [00:00<00:00, 286.23it/s]\n"
     ]
    }
   ],
   "source": [
    "# Create embeddings and projections\n",
    "query_embedding = embedding_function([query])[0]\n",
    "retrieved_embeddings = results['embeddings'][0]\n",
    "\n",
    "projected_query_embedding = project_embeddings([query_embedding], umap_transform)\n",
    "projected_retrieved_embeddings = project_embeddings(retrieved_embeddings, umap_transform)"
   ]
  },
  {
   "cell_type": "code",
   "execution_count": 28,
   "id": "bc1eab2a-c44b-4ef4-8cd0-6b67e321f0ba",
   "metadata": {
    "tags": []
   },
   "outputs": [
    {
     "data": {
      "image/png": "[encoded data removed]",
      "text/plain": [
       "<Figure size 640x480 with 1 Axes>"
      ]
     },
     "metadata": {},
     "output_type": "display_data"
    }
   ],
   "source": [
    "# Plot the projected query and retrieved documents in the embedding space. \n",
    "plot(title=query, projected_dataset_embeddings=projected_dataset_embeddings, projected_query_embedding=[], projected_retrieved_embeddings=projected_retrieved_embeddings)"
   ]
  },
  {
   "cell_type": "code",
   "execution_count": 29,
   "id": "60ab43f1-9af4-4e7b-bbe0-e0f774e5b0d5",
   "metadata": {
    "tags": []
   },
   "outputs": [
    {
     "name": "stdout",
     "output_type": "stream",
     "text": [
      "7while staying at the ymca in hollywood, for security reasons he asked the receptionist to place his return airline ticket, along with his cash, in their safe. a few days later, when he went to get some spending money, he found out that a receptionist had stolen his money and his ticket. not wanting to alarm his parents, he told them he had decided to stay longer in california. through a friend, he got a job at a hamburger stand in the san fernando valley, just northwest of los angeles. within a few days, he moved in with the family of a co - worker. those were the days of flower - power and\n",
      "\n",
      "rock - and - roll. jimi hendrix and janis joplin were at the top of the charts. after six months, rorion started to get bored and was eager to return home to brazil. because he was so close, though, he decided to see hawaii. it was won - derful – until the money ran out. then, the tropical paradise changed dramatically. while looking for a job, he was so broke that he actually had to panhandle and sleep under newspapers on the streets. eventually, by late 1970, he made his way back to brazil. in the summer of 1978, after achieving a law degree from the federal university of rio de janeiro, rorion made the most important decision of his life – he would go back to america to make his family ’ s jiu - jitsu known to the world. rorion made his way to southern california, and through friends he met on his\n",
      "\n",
      "really good, so we scheduled a meeting. the next day, an unassuming thomas de soto walked into my office. tommy ’ s portfolio was extremely impressive. his lenses have captured everything from komodo dragons in indonesia and alligators in africa, to a who ’ s who list of celebrities and sports legends, covering everyone from mick jagger to tiger woods. tommy ’ s photographic talents were the perfect complement for the book i ’ d been dreaming of. after the usual small talk, i fired off the sixty - four - dollar question, “ how much do you charge? ” with a small smile, he replied, “ my going rate is $ $ $ $ $ an hour. ” “ it was nice meeting you, ” i replied, standing up and reaching out to shake his hand, “ but i can ’ t afford that. ” tommy smiled again and said, “ but i ’ m not going to charge you anything. ” for several moments i was speechless – which is unusual for me. then i sat back down and managed to say, “ why is that? ”\n",
      "\n",
      "found its way to south america, more specifically, the amazon region. mistuyo maeda was a jiu - jitsu teacher who was aiding a japanese immigration colony in northern brazil. maeda was known to have participated in no - rules challenge matches where he demonstrated the effect - iveness of jiu - jitsu. at that time, gastao was living in the city of belem, in the\n",
      "\n",
      "brazil, he was challenged by a “ capoeira ” instructor. a fight was scheduled for the following week. helio, then fifty - five, choked out his much younger and stronger opponent in less than two minutes. helio gracie and his brothers left a legacy that has been carried by several generations, establishing the gracies as the most influential family in sports history. to america and beyond rorion gracie, the oldest son of helio gracie, had a kimono on before he could walk. at two years old, rorion was already doing public demonstrations. at a very early age, he grasped the intricate concepts of the art and learned to teach under the tutelage of his father. around christmas, 1969, rorion came to the united states for a one month vacation. after visiting relatives in new york and washington, dc, he moved on to california. helio and waldemar. helio and baby rorion.\n",
      "\n"
     ]
    },
    {
     "name": "stderr",
     "output_type": "stream",
     "text": [
      "100%|██████████| 1/1 [00:00<00:00, 96.06it/s]\n",
      "100%|██████████| 5/5 [00:00<00:00, 173.93it/s]\n"
     ]
    },
    {
     "data": {
      "image/png": "[encoded data removed]",
      "text/plain": [
       "<Figure size 640x480 with 1 Axes>"
      ]
     },
     "metadata": {},
     "output_type": "display_data"
    }
   ],
   "source": [
    "# Let's do all these again with another question that might be contained in the dataset to see that results are still close to one another\n",
    "query = \"Who went to the United States?\"\n",
    "results = chroma_collection.query(query_texts=query, n_results=5, include=['documents', 'embeddings'])\n",
    "\n",
    "retrieved_documents = results['documents'][0]\n",
    "\n",
    "for document in results['documents'][0]:\n",
    "    print(document)\n",
    "    print('')\n",
    "\n",
    "query_embedding = embedding_function([query])[0]\n",
    "retrieved_embeddings = results['embeddings'][0]\n",
    "\n",
    "projected_query_embedding = project_embeddings([query_embedding], umap_transform)\n",
    "projected_retrieved_embeddings = project_embeddings(retrieved_embeddings, umap_transform)\n",
    "\n",
    "plot(title=query, projected_dataset_embeddings=projected_dataset_embeddings, projected_query_embedding=[], projected_retrieved_embeddings=projected_retrieved_embeddings)"
   ]
  },
  {
   "cell_type": "code",
   "execution_count": 30,
   "id": "7df79639-b91a-4c64-8c80-04d165d12590",
   "metadata": {
    "tags": []
   },
   "outputs": [
    {
     "name": "stdout",
     "output_type": "stream",
     "text": [
      "really good, so we scheduled a meeting. the next day, an unassuming thomas de soto walked into my office. tommy ’ s portfolio was extremely impressive. his lenses have captured everything from komodo dragons in indonesia and alligators in africa, to a who ’ s who list of celebrities and sports legends, covering everyone from mick jagger to tiger woods. tommy ’ s photographic talents were the perfect complement for the book i ’ d been dreaming of. after the usual small talk, i fired off the sixty - four - dollar question, “ how much do you charge? ” with a small smile, he replied, “ my going rate is $ $ $ $ $ an hour. ” “ it was nice meeting you, ” i replied, standing up and reaching out to shake his hand, “ but i can ’ t afford that. ” tommy smiled again and said, “ but i ’ m not going to charge you anything. ” for several moments i was speechless – which is unusual for me. then i sat back down and managed to say, “ why is that? ”\n",
      "\n",
      "found its way to south america, more specifically, the amazon region. mistuyo maeda was a jiu - jitsu teacher who was aiding a japanese immigration colony in northern brazil. maeda was known to have participated in no - rules challenge matches where he demonstrated the effect - iveness of jiu - jitsu. at that time, gastao was living in the city of belem, in the\n",
      "\n",
      "7while staying at the ymca in hollywood, for security reasons he asked the receptionist to place his return airline ticket, along with his cash, in their safe. a few days later, when he went to get some spending money, he found out that a receptionist had stolen his money and his ticket. not wanting to alarm his parents, he told them he had decided to stay longer in california. through a friend, he got a job at a hamburger stand in the san fernando valley, just northwest of los angeles. within a few days, he moved in with the family of a co - worker. those were the days of flower - power and\n",
      "\n",
      "56 – headlock defense ( attacker with wide stance ) 58 – headlock defense ( pressure on the nose ) 60 – headlock defense against a wall ( attacker outside ) 62 – headlock defense against a wall ( attacker inside ) 64 – guillotine defense ( sitting back ) 66 – guillotine defense ( sliding down ) 68 – guillotine defense ( with trip takedown ) 70 – guillotine choke 72 – guillotine choke ( if taken down ) 74 – tackle defense ( with elbow strike ) 75 – tackle defense ( with knee strike ) 76 – front bear hug over the arms defense 78 – front bear hug under arms defense ( with frame ) 79 – front bear hug under arms defense ( with chin push ) 80 – sucker punch defense 82 – haymaker punch defense 84 – front kick defense 86 – front kick defense ( with pivot ) 87 – front kick defense ( high ) 88 – roundhouse kick defense 90 – standing up in base 92 – hand chop 93 – punch 94 – elbow strike 95 – side kick ( surprise attack ) 95\n",
      "\n",
      "ically frail child. he would run up a flight of stairs and have fainting spells. nobody could figure out why. when he was about eight years old, after completing second grade, he convinced his mother, cesalina, that he shouldn ’ t go to school anymore. 1 helio gracie\n",
      "\n"
     ]
    },
    {
     "name": "stderr",
     "output_type": "stream",
     "text": [
      "100%|██████████| 1/1 [00:00<00:00, 125.39it/s]\n",
      "100%|██████████| 5/5 [00:00<00:00, 282.78it/s]\n"
     ]
    },
    {
     "data": {
      "image/png": "[encoded data removed]",
      "text/plain": [
       "<Figure size 640x480 with 1 Axes>"
      ]
     },
     "metadata": {},
     "output_type": "display_data"
    }
   ],
   "source": [
    "# Ask an unrelated question and observe the results\n",
    "\n",
    "query = \"What does chocolate taste like?\"\n",
    "results = chroma_collection.query(query_texts=query, n_results=5, include=['documents', 'embeddings'])\n",
    "\n",
    "retrieved_documents = results['documents'][0]\n",
    "\n",
    "for document in results['documents'][0]:\n",
    "    print(document)\n",
    "    print('')\n",
    "\n",
    "query_embedding = embedding_function([query])[0]\n",
    "retrieved_embeddings = results['embeddings'][0]\n",
    "\n",
    "projected_query_embedding = project_embeddings([query_embedding], umap_transform)\n",
    "projected_retrieved_embeddings = project_embeddings(retrieved_embeddings, umap_transform)\n",
    "\n",
    "plot(title=query, projected_dataset_embeddings=projected_dataset_embeddings, projected_query_embedding=[], projected_retrieved_embeddings=projected_retrieved_embeddings)"
   ]
  },
  {
   "cell_type": "markdown",
   "id": "31145503-4e33-4fa5-a17f-62a288e7d843",
   "metadata": {},
   "source": [
    "### Query Augmentation & Better Results\n",
    "- Improving query results can be achieved by expanding the search with similar queries or by providing expected answers to add context.  \n",
    "- We can use LLMs to automatically generate these enhanced queries."
   ]
  },
  {
   "cell_type": "code",
   "execution_count": 34,
   "id": "3934544f-970f-4b30-ab3c-e7eae7b4befc",
   "metadata": {
    "tags": []
   },
   "outputs": [
    {
     "name": "stdout",
     "output_type": "stream",
     "text": [
      "What was the Helio Gracie's longest fight? ##  Helio Gracie's Longest Fight: A Testament to Endurance and Willpower\n",
      "\n",
      "Helio Gracie, the founder of Gracie Jiu-Jitsu, is renowned for his incredible fighting spirit and endurance. This was never more evident than in his legendary three-hour match against Japanese judoka Masahiko Kimura in 1951.\n",
      "\n",
      "This grueling encounter, held at the Maracanã Stadium in Rio de Janeiro, captivated the attention of millions. Despite the massive size and strength advantage of Kimura, Helio refused to yield. He employed his masterful Jiu-Jitsu techniques, focusing on control and leverage, to counter Kimura's attacks.\n",
      "\n",
      "The fight was a masterclass in Jiu-Jitsu principles. Helio utilized his guard effectively, preventing Kimura from taking a dominant position. He capitalized on every opportunity to sweep and attack, showcasing the immense power of technique over brute force.\n",
      "\n",
      "As the hours passed, the intensity of the fight remained relentless. Both fighters displayed incredible stamina and determination. Yet, in the closing moments, Kimura managed to secure a devastating reverse ude-garami (kimura) lock on Helio's arm.\n",
      "\n",
      "Despite the immense pain, Helio refused to tap out. He held on for as long as he could, pushing his body and spirit to the absolute limit. Ultimately, after three grueling hours, the referee stopped the fight and declared Kimura the victor. \n",
      "\n",
      "Although Helio lost the fight, he earned the respect and admiration of the entire world. His incredible performance displayed the true essence of Gracie Jiu-Jitsu: never-ending determination, technical mastery, and the ability to overcome seemingly insurmountable odds. This fight became a defining moment in the history of martial arts, solidifying Helio Gracie's legacy as a true legend.\n",
      "\n"
     ]
    }
   ],
   "source": [
    "# Augment the query with a probable answer to give more context to the vector search\n",
    "def augment_query_generated(query, model):\n",
    "    information = \"\\n\\n\".join(retrieved_documents)\n",
    "\n",
    "    prompt = (f'You are a helpful expert Gracie Jui-Jitsu assistant\\n'\n",
    "    f'Provide an example answer to the given question, that might be found in a document like the Gracie Jui-Jitsu Book.\\n'\n",
    "    f'Question: {query}.')\n",
    "    \n",
    "    responses = model.generate_content(prompt, stream=False)\n",
    "    return responses.text\n",
    "\n",
    "original_query = \"What was the Helio Gracie's longest fight?\"\n",
    "hypothetical_answer = augment_query_generated(original_query, model)\n",
    "\n",
    "joint_query = f\"{original_query} {hypothetical_answer}\"\n",
    "print(joint_query)"
   ]
  },
  {
   "cell_type": "code",
   "execution_count": 35,
   "id": "2b5ec628-e849-4f1d-9306-f75d71ff33d7",
   "metadata": {
    "tags": []
   },
   "outputs": [
    {
     "name": "stdout",
     "output_type": "stream",
     "text": [
      "the world ’ s longest fight when he was forty - two years old, helio came out of retirement for an epic no - holds - barred battle against a former top student, twenty - five - year - old waldemar santana. the match lasted for three hours and forty minutes and set the world record for the longest uninterrupted fight in history. helio took the fight on short notice and without any preparation, when santana, influenced by a disgruntled reporter, made disrespectful comments towards helio. the helio and kimura.\n",
      "\n",
      "gracie jiu - jitsu 4the world, who was almost forty lbs. heavier than helio, could beat him just as easily. helio seized that statement as an opportunity to get to kimura. he offered to fight kato in a qualifying match and ended - up actually fighting kato twice. in their first match, helio fought with a broken rib he received during training one week prior. in spite of the serious risk and against doctor ’ s orders, helio fought kato to a draw. a month later, helio and kato. during the rematch, in front of an enthusiastic crowd, helio choked kato unconscious in six minutes. this surprise victory put pressure on the great kimura, who now had the responsib -\n",
      "\n",
      "ility of defending japanese honor. this would be the first time ever that a title match for the jiu - jitsu world championship was staged outside of japan. the match took place at maracana, the largest soccer stadium in the world. among the screaming crowd, there was a mixed feeling of excitement and fear. prior to the fight, the japanese giant was so confident of victory that he declared in local newspapers that if helio could resist him for just three minutes, he should be considered the winner. helio knew that it would be impossible to defeat kimura, given the size and strength difference, plus the fact that he was the current world champion. however, he was curious to see how good his tech - niques would fare when compared to the best jiu - jitsu fighter japan had ever produced. aware of his younger brother ’ s mindset, carlos made helio promise that he would put his pride aside and tap out if the japanese caught him in a good submission hold.\n",
      "\n",
      "5making him reconsider. while debating if he should tap, the crowd became silent and the lights faded to black. helio had lost consciousness. that was when one of the most bizarre incidents in sports history took place. unaware that his opponent was unconscious, kimura decided to try something else and jumped into the mount position, which allowed helio to breathe again! the little big man, who had passed out with his eyes wide open, was awakened by a towering kimura saying, “ good, very good! ” while wiping the sweat off his brow. amazingly, the fight had never stopped. the match went on for thirteen minutes and eventually kimura caught helio in his famous “ kimura ” lock. carlos, fearing that helio might not tap and would receive a ser - ious injury, threw in the towel, forfeiting the match to the japanese champion. kimura was so impressed with helio ’ s performance that the day after the match, he went to the gracie academy in rio to invite helio to teach in japan.\n",
      "\n",
      "gracie jiu - jitsu some time later, while in his early teens, helio moved in with his older brothers who lived and taught jiu - jitsu in a house in botafogo, a borough of rio de janeiro. he spent the next few years watching his brothers teach, since doctors had rec - ommended they keep helio away from any physical activity, including jiu - jitsu training. one day, when helio was sixteen years old, a student showed up for his class with carlos, who was not there. helio, who had memorized all the moves of his older brother, offered to start the class, and the student accepted. when the class was over, carlos showed up and was very apologetic for his delay. the student answered, “ no problem. i enjoyed the class with helio very much. if you don ’ t mind, i ’ d like to continue having classes with him from now on. ” carlos agreed. ironically, helio gracie had just been promoted to instructor level by a student! helio soon realized that some of the techniques he had\n",
      "\n"
     ]
    }
   ],
   "source": [
    "# Perform the query with the new augmented query\n",
    "results = chroma_collection.query(query_texts=joint_query, n_results=5, include=['documents', 'embeddings'])\n",
    "retrieved_documents = results['documents'][0]\n",
    "\n",
    "for doc in retrieved_documents:\n",
    "    print(doc)\n",
    "    print('')"
   ]
  },
  {
   "cell_type": "code",
   "execution_count": 36,
   "id": "863e5b53-c4e3-475f-bffc-4bda066c7c14",
   "metadata": {
    "tags": []
   },
   "outputs": [
    {
     "name": "stdout",
     "output_type": "stream",
     "text": [
      "the world ’ s longest fight when he was forty - two years old, helio came out of retirement for an epic no - holds - barred battle against a former top student, twenty - five - year - old waldemar santana. the match lasted for three hours and forty minutes and set the world record for the longest uninterrupted fight in history. helio took the fight on short notice and without any preparation, when santana, influenced by a disgruntled reporter, made disrespectful comments towards helio. the helio and kimura.\n",
      "\n",
      "gracie jiu - jitsu 4the world, who was almost forty lbs. heavier than helio, could beat him just as easily. helio seized that statement as an opportunity to get to kimura. he offered to fight kato in a qualifying match and ended - up actually fighting kato twice. in their first match, helio fought with a broken rib he received during training one week prior. in spite of the serious risk and against doctor ’ s orders, helio fought kato to a draw. a month later, helio and kato. during the rematch, in front of an enthusiastic crowd, helio choked kato unconscious in six minutes. this surprise victory put pressure on the great kimura, who now had the responsib -\n",
      "\n",
      "ility of defending japanese honor. this would be the first time ever that a title match for the jiu - jitsu world championship was staged outside of japan. the match took place at maracana, the largest soccer stadium in the world. among the screaming crowd, there was a mixed feeling of excitement and fear. prior to the fight, the japanese giant was so confident of victory that he declared in local newspapers that if helio could resist him for just three minutes, he should be considered the winner. helio knew that it would be impossible to defeat kimura, given the size and strength difference, plus the fact that he was the current world champion. however, he was curious to see how good his tech - niques would fare when compared to the best jiu - jitsu fighter japan had ever produced. aware of his younger brother ’ s mindset, carlos made helio promise that he would put his pride aside and tap out if the japanese caught him in a good submission hold.\n",
      "\n",
      "5making him reconsider. while debating if he should tap, the crowd became silent and the lights faded to black. helio had lost consciousness. that was when one of the most bizarre incidents in sports history took place. unaware that his opponent was unconscious, kimura decided to try something else and jumped into the mount position, which allowed helio to breathe again! the little big man, who had passed out with his eyes wide open, was awakened by a towering kimura saying, “ good, very good! ” while wiping the sweat off his brow. amazingly, the fight had never stopped. the match went on for thirteen minutes and eventually kimura caught helio in his famous “ kimura ” lock. carlos, fearing that helio might not tap and would receive a ser - ious injury, threw in the towel, forfeiting the match to the japanese champion. kimura was so impressed with helio ’ s performance that the day after the match, he went to the gracie academy in rio to invite helio to teach in japan.\n",
      "\n",
      "gracie jiu - jitsu some time later, while in his early teens, helio moved in with his older brothers who lived and taught jiu - jitsu in a house in botafogo, a borough of rio de janeiro. he spent the next few years watching his brothers teach, since doctors had rec - ommended they keep helio away from any physical activity, including jiu - jitsu training. one day, when helio was sixteen years old, a student showed up for his class with carlos, who was not there. helio, who had memorized all the moves of his older brother, offered to start the class, and the student accepted. when the class was over, carlos showed up and was very apologetic for his delay. the student answered, “ no problem. i enjoyed the class with helio very much. if you don ’ t mind, i ’ d like to continue having classes with him from now on. ” carlos agreed. ironically, helio gracie had just been promoted to instructor level by a student! helio soon realized that some of the techniques he had\n",
      "\n"
     ]
    }
   ],
   "source": [
    "# Search for embeddings for the augmented query\n",
    "results = chroma_collection.query(query_texts=joint_query, n_results=5, include=['documents', 'embeddings'])\n",
    "retrieved_documents = results['documents'][0]\n",
    "\n",
    "for doc in retrieved_documents:\n",
    "    print(doc)\n",
    "    print('')"
   ]
  },
  {
   "cell_type": "code",
   "execution_count": 37,
   "id": "325ace59-d9fe-4f3d-908a-7f50289f9df3",
   "metadata": {
    "tags": []
   },
   "outputs": [
    {
     "name": "stderr",
     "output_type": "stream",
     "text": [
      "100%|██████████| 1/1 [00:00<00:00, 187.32it/s]\n",
      "100%|██████████| 1/1 [00:00<00:00, 131.51it/s]\n",
      "100%|██████████| 5/5 [00:00<00:00, 304.54it/s]\n"
     ]
    }
   ],
   "source": [
    "# Get the embeddings for the queries and results and then map them to a 2-dimensional space\n",
    "retrieved_embeddings = results['embeddings'][0]\n",
    "original_query_embedding = embedding_function([original_query])\n",
    "augmented_query_embedding = embedding_function([joint_query])\n",
    "\n",
    "projected_original_query_embedding = project_embeddings(original_query_embedding, umap_transform)\n",
    "projected_augmented_query_embedding = project_embeddings(augmented_query_embedding, umap_transform)\n",
    "projected_retrieved_embeddings = project_embeddings(retrieved_embeddings, umap_transform)"
   ]
  },
  {
   "cell_type": "code",
   "execution_count": 38,
   "id": "7a0c7b3b-2f50-4237-9b64-4c9480984108",
   "metadata": {
    "tags": []
   },
   "outputs": [
    {
     "data": {
      "text/plain": [
       "(-5.776494777202606, -0.6000656723976135, 8.835887813568116, 16.12125406265259)"
      ]
     },
     "execution_count": 38,
     "metadata": {},
     "output_type": "execute_result"
    },
    {
     "data": {
      "image/png": "[encoded data removed]",
      "text/plain": [
       "<Figure size 640x480 with 1 Axes>"
      ]
     },
     "metadata": {},
     "output_type": "display_data"
    }
   ],
   "source": [
    "# Map the results to get a visual understanding of the outcome. \n",
    "# Notice that the seleted answers are closer to the augmented query datapoint\n",
    "plt.figure()\n",
    "plt.scatter(projected_dataset_embeddings[:, 0], projected_dataset_embeddings[:, 1], s=10, color='gray')\n",
    "plt.scatter(projected_retrieved_embeddings[:, 0], projected_retrieved_embeddings[:, 1], s=100, facecolors='none', edgecolors='g')\n",
    "plt.scatter(projected_original_query_embedding[:, 0], projected_original_query_embedding[:, 1], s=150, marker='X', color='r')\n",
    "plt.scatter(projected_augmented_query_embedding[:, 0], projected_augmented_query_embedding[:, 1], s=150, marker='X', color='orange')\n",
    "\n",
    "plt.gca().set_aspect('equal', 'datalim')\n",
    "plt.title(f'{original_query}')\n",
    "plt.axis('off')"
   ]
  },
  {
   "cell_type": "code",
   "execution_count": 39,
   "id": "964b0311-b94f-4af0-9756-2f30cf43f386",
   "metadata": {
    "tags": []
   },
   "outputs": [
    {
     "name": "stdout",
     "output_type": "stream",
     "text": [
      "What are atrributes that can be applied to everyday life from Gracie Jui-Jutsu? \n",
      "1. How can Gracie Jui-Jitsu help build confidence?\n",
      "2. What are some self-defense techniques from Gracie Jui-Jitsu that can be used in everyday situations?\n",
      "3. How does Gracie Jui-Jitsu promote discipline and self-control?\n",
      "4. Does Gracie Jui-Jitsu help improve mental and physical health?\n",
      "5. What are some of the core values of Gracie Jui-Jitsu that can be applied to everyday life?\n"
     ]
    }
   ],
   "source": [
    "# Augment the query with a additional queries\n",
    "def augment_multiple_query(query, model):\n",
    "    information = \"\\n\\n\".join(retrieved_documents)\n",
    "\n",
    "    prompt = (f'You are a helpful expert Gracie Jui-Jitsu assistant.\\n'\n",
    "    f'Your users are asking questions about Gracie Jui-Jitsu history and techniques\\n'\n",
    "    f'Suggest up to five additional related questions to help them find the information they need, for the provided question.\\n'\n",
    "    f'Suggest only short questions without compound sentences. Suggest a variety of questions that cover different aspects of the topic.\\n'\n",
    "    f'Make sure they are complete questions, and that they are related to the original question.\\n'\n",
    "    f'Output one question per line. Do not number the questions.\\n'\n",
    "    f'Question: {query}.')\n",
    "    \n",
    "    responses = model.generate_content(prompt, stream=False)\n",
    "    return responses.text\n",
    "\n",
    "original_query = \"What are atrributes that can be applied to everyday life from Gracie Jui-Jutsu?\"\n",
    "augmented_queries = augment_multiple_query(original_query, model)\n",
    "\n",
    "joint_query = f\"{original_query} \\n{augmented_queries}\"\n",
    "print(joint_query)"
   ]
  },
  {
   "cell_type": "code",
   "execution_count": 40,
   "id": "4be9b3e6-5e57-4ace-af3b-bc815c11ba79",
   "metadata": {
    "tags": []
   },
   "outputs": [
    {
     "name": "stdout",
     "output_type": "stream",
     "text": [
      "Query: What are atrributes that can be applied to everyday life from Gracie Jui-Jutsu?\n",
      "\n",
      "Results:\n",
      "that in order to be truly prepared for the reality of a street fight, one must incorporate some version of the jiu - jitsu style perfected by helio gracie. in fact, gracie jiu - jitsu ' s humane approach, which enables its practitioners to con - trol an attacker without hurting them, has a wide variety of specialized applications. these include : gracie resisting attack procedures for law enforcement® ( g. r. a. p. l. e. ), now gst, which has reached every major federal law enforcement agency and military organization, as well as many state and local police departments in the u. s. in fact, the u. s. army has rewritten their hand - to - hand combat manual to include the techniques of gracie jiu - jitsu. women empowered® was designed to enable virtually all women to avoid and escape a sexual assault. this unique program does not require strength, speed or coordination. gracie bullyproof® is a specialized course developed to prepare children to defend\n",
      "\n",
      "knife defense ( backhand ) 140 – knife defense ( side ) 142 – rear knife defense ( chest thrust ) 144 – rear knife defense ( throat slice ) 146 – gun defense ( pointed at stomach ) 148 – gun defense ( front waistband ) 150 – gun defense ( side waistband ) 152 – gun defense ( pointed at head ) 154 – rear gun defense ( hostage position ) 156 – rear gun defense ( pointed at back ) chapter 3 – weapons defensesthe history of gracie jiu - jitsu....................................... 1 introduction...................................................... 11\n",
      "\n",
      "most importantly, i want to express the deep gratitude and respect i have for my father, helio gracie, who has been a source of inspiration to me throughout my life, both on and off the mat. rorion gracie\n",
      "\n",
      "gracie jiu - jitsu by grand master helio gracie gracie publications torrance, californiarevised edition\n",
      "\n",
      "gracie jiu - jitsu some time later, while in his early teens, helio moved in with his older brothers who lived and taught jiu - jitsu in a house in botafogo, a borough of rio de janeiro. he spent the next few years watching his brothers teach, since doctors had rec - ommended they keep helio away from any physical activity, including jiu - jitsu training. one day, when helio was sixteen years old, a student showed up for his class with carlos, who was not there. helio, who had memorized all the moves of his older brother, offered to start the class, and the student accepted. when the class was over, carlos showed up and was very apologetic for his delay. the student answered, “ no problem. i enjoyed the class with helio very much. if you don ’ t mind, i ’ d like to continue having classes with him from now on. ” carlos agreed. ironically, helio gracie had just been promoted to instructor level by a student! helio soon realized that some of the techniques he had\n",
      "\n",
      "----------------------------------------------------------------------------------------------------\n",
      "Query: 1. How can Gracie Jui-Jitsu help build confidence?\n",
      "\n",
      "Results:\n",
      "that in order to be truly prepared for the reality of a street fight, one must incorporate some version of the jiu - jitsu style perfected by helio gracie. in fact, gracie jiu - jitsu ' s humane approach, which enables its practitioners to con - trol an attacker without hurting them, has a wide variety of specialized applications. these include : gracie resisting attack procedures for law enforcement® ( g. r. a. p. l. e. ), now gst, which has reached every major federal law enforcement agency and military organization, as well as many state and local police departments in the u. s. in fact, the u. s. army has rewritten their hand - to - hand combat manual to include the techniques of gracie jiu - jitsu. women empowered® was designed to enable virtually all women to avoid and escape a sexual assault. this unique program does not require strength, speed or coordination. gracie bullyproof® is a specialized course developed to prepare children to defend\n",
      "\n",
      "24gracie jiu - jitsu 3 1 2 4two - hand front choke defense ( with hip throw ) when rorion grabs him by the neck [ 1, 2 ], helio holds the elbow with one hand, shoots the other hand straight up [ insert : inside the arm ] [ 3 ], and steps between the attacker ’ s legs while clinching his neck [ 4, 5 ]. 292gracie jiu - jitsu it is necessary not to confuse this martial art with sport competition jiu - jitsu as it is being done for strong, heavy, and trained athletes. the world famous gracie jiu - jitsu was perfected by helio to give greater protection to the less physically capable, executives, ladies and children, on a course of thirty - six ( 36 ) private lessons so they will not be physically humiliated by bad and cowardly troglodytes. competition has nothing to do with personal efficiency so be careful not to mix things up. gracie jiu - jitsu\n",
      "\n",
      "acknowledgements for many years i felt that gracie jiu - jitsu, arguably the most revolutionary style in martial arts history, needed to be presented in its original form, in an organized fashion, for the benefit of future generations. i knew that no one could do a better job of demonstrating and teaching the techniques than helio gracie himself, the creator of gracie jiu - jitsu. in the summer of 2000, with my father scheduled to arrive in los angeles in a matter of weeks, i started asking around, looking for a photographer. one day, i received an unexpected phone call. “ hey, rorion, ” the voice on the other end said, “ look no further. i ’ m going to shoot your father ’ s book. ” “ what makes you think that? ” i asked, a little taken aback. “ because i can ’ t take a bad picture, ” the voice confidently replied. he sounded like me when i say i can ’ t teach a bad class! i concluded this guy was either really crazy or\n",
      "\n",
      "gracie jiu - jitsu some time later, while in his early teens, helio moved in with his older brothers who lived and taught jiu - jitsu in a house in botafogo, a borough of rio de janeiro. he spent the next few years watching his brothers teach, since doctors had rec - ommended they keep helio away from any physical activity, including jiu - jitsu training. one day, when helio was sixteen years old, a student showed up for his class with carlos, who was not there. helio, who had memorized all the moves of his older brother, offered to start the class, and the student accepted. when the class was over, carlos showed up and was very apologetic for his delay. the student answered, “ no problem. i enjoyed the class with helio very much. if you don ’ t mind, i ’ d like to continue having classes with him from now on. ” carlos agreed. ironically, helio gracie had just been promoted to instructor level by a student! helio soon realized that some of the techniques he had\n",
      "\n",
      "gracie jiu - jitsu 6stronger and younger santana struggled with helio for over three hours. with his physical capabilities totally drained as a result of such inhuman effort, helio took a kick that stunned him. his brother carlos threw in the towel, forfeiting the match. the entire country was so moved by helio ’ s courageous performance, however, that his fame became even greater than before the match, the result was tremen - dous flood of new students eager to follow in the master ’ s footsteps. afterwards, when asked why he didn ’ t take longer to prepare for the fight, helio responded with logical reasoning : “ if a man insults you on the street, are you going to tell him to meet you in two months to settle the score? no, you do it right then. however, as a professional fighter, and being in the position i was at that time, i now realize that i should not have allowed my emotions to influence my decision. ” many years later, during a television show in\n",
      "\n",
      "----------------------------------------------------------------------------------------------------\n",
      "Query: 2. What are some self-defense techniques from Gracie Jui-Jitsu that can be used in everyday situations?\n",
      "\n",
      "Results:\n",
      "that in order to be truly prepared for the reality of a street fight, one must incorporate some version of the jiu - jitsu style perfected by helio gracie. in fact, gracie jiu - jitsu ' s humane approach, which enables its practitioners to con - trol an attacker without hurting them, has a wide variety of specialized applications. these include : gracie resisting attack procedures for law enforcement® ( g. r. a. p. l. e. ), now gst, which has reached every major federal law enforcement agency and military organization, as well as many state and local police departments in the u. s. in fact, the u. s. army has rewritten their hand - to - hand combat manual to include the techniques of gracie jiu - jitsu. women empowered® was designed to enable virtually all women to avoid and escape a sexual assault. this unique program does not require strength, speed or coordination. gracie bullyproof® is a specialized course developed to prepare children to defend\n",
      "\n",
      "24gracie jiu - jitsu 3 1 2 4two - hand front choke defense ( with hip throw ) when rorion grabs him by the neck [ 1, 2 ], helio holds the elbow with one hand, shoots the other hand straight up [ insert : inside the arm ] [ 3 ], and steps between the attacker ’ s legs while clinching his neck [ 4, 5 ]. 292gracie jiu - jitsu it is necessary not to confuse this martial art with sport competition jiu - jitsu as it is being done for strong, heavy, and trained athletes. the world famous gracie jiu - jitsu was perfected by helio to give greater protection to the less physically capable, executives, ladies and children, on a course of thirty - six ( 36 ) private lessons so they will not be physically humiliated by bad and cowardly troglodytes. competition has nothing to do with personal efficiency so be careful not to mix things up. gracie jiu - jitsu\n",
      "\n",
      "knife defense ( backhand ) 140 – knife defense ( side ) 142 – rear knife defense ( chest thrust ) 144 – rear knife defense ( throat slice ) 146 – gun defense ( pointed at stomach ) 148 – gun defense ( front waistband ) 150 – gun defense ( side waistband ) 152 – gun defense ( pointed at head ) 154 – rear gun defense ( hostage position ) 156 – rear gun defense ( pointed at back ) chapter 3 – weapons defensesthe history of gracie jiu - jitsu....................................... 1 introduction...................................................... 11\n",
      "\n",
      "standing defenses from the front it is a fact that most fights end up on the ground. it is also true that confrontations start with two people on their feet, so you must be prepared to react to any and all possible standing surprise attacks. the techniques in this section are the most effective ways to defend such attacks. 20gracie jiu - jitsu 1 2 3 4 5 6 hip throw helio reaches out and holds the back of rorion ’ s elbow [ 1, 2 ]. lifting the arm and trapping the wrist under his armpit [ 3 ], helio steps to the side, under rorion ’ s free arm, and holds the waist [ 4 ]. he then loosens the back hand, which allows him to step across and bring his hips directly in front of his opponent with knees slightly bent [ 5 ]. as he readjusts his back hand, pinning the opponent ’ s hips to his own, he brings his head to his left knee while straightening his legs [ 6 ]\n",
      "\n",
      "gracie jiu - jitsu some time later, while in his early teens, helio moved in with his older brothers who lived and taught jiu - jitsu in a house in botafogo, a borough of rio de janeiro. he spent the next few years watching his brothers teach, since doctors had rec - ommended they keep helio away from any physical activity, including jiu - jitsu training. one day, when helio was sixteen years old, a student showed up for his class with carlos, who was not there. helio, who had memorized all the moves of his older brother, offered to start the class, and the student accepted. when the class was over, carlos showed up and was very apologetic for his delay. the student answered, “ no problem. i enjoyed the class with helio very much. if you don ’ t mind, i ’ d like to continue having classes with him from now on. ” carlos agreed. ironically, helio gracie had just been promoted to instructor level by a student! helio soon realized that some of the techniques he had\n",
      "\n",
      "----------------------------------------------------------------------------------------------------\n",
      "Query: 3. How does Gracie Jui-Jitsu promote discipline and self-control?\n",
      "\n",
      "Results:\n",
      "24gracie jiu - jitsu 3 1 2 4two - hand front choke defense ( with hip throw ) when rorion grabs him by the neck [ 1, 2 ], helio holds the elbow with one hand, shoots the other hand straight up [ insert : inside the arm ] [ 3 ], and steps between the attacker ’ s legs while clinching his neck [ 4, 5 ]. 292gracie jiu - jitsu it is necessary not to confuse this martial art with sport competition jiu - jitsu as it is being done for strong, heavy, and trained athletes. the world famous gracie jiu - jitsu was perfected by helio to give greater protection to the less physically capable, executives, ladies and children, on a course of thirty - six ( 36 ) private lessons so they will not be physically humiliated by bad and cowardly troglodytes. competition has nothing to do with personal efficiency so be careful not to mix things up. gracie jiu - jitsu\n",
      "\n",
      "that in order to be truly prepared for the reality of a street fight, one must incorporate some version of the jiu - jitsu style perfected by helio gracie. in fact, gracie jiu - jitsu ' s humane approach, which enables its practitioners to con - trol an attacker without hurting them, has a wide variety of specialized applications. these include : gracie resisting attack procedures for law enforcement® ( g. r. a. p. l. e. ), now gst, which has reached every major federal law enforcement agency and military organization, as well as many state and local police departments in the u. s. in fact, the u. s. army has rewritten their hand - to - hand combat manual to include the techniques of gracie jiu - jitsu. women empowered® was designed to enable virtually all women to avoid and escape a sexual assault. this unique program does not require strength, speed or coordination. gracie bullyproof® is a specialized course developed to prepare children to defend\n",
      "\n",
      "gracie jiu - jitsu some time later, while in his early teens, helio moved in with his older brothers who lived and taught jiu - jitsu in a house in botafogo, a borough of rio de janeiro. he spent the next few years watching his brothers teach, since doctors had rec - ommended they keep helio away from any physical activity, including jiu - jitsu training. one day, when helio was sixteen years old, a student showed up for his class with carlos, who was not there. helio, who had memorized all the moves of his older brother, offered to start the class, and the student accepted. when the class was over, carlos showed up and was very apologetic for his delay. the student answered, “ no problem. i enjoyed the class with helio very much. if you don ’ t mind, i ’ d like to continue having classes with him from now on. ” carlos agreed. ironically, helio gracie had just been promoted to instructor level by a student! helio soon realized that some of the techniques he had\n",
      "\n",
      "memorized from watching carlos teach were not very easy for him to execute. in a relentless quest to find answers that would guarantee effectiveness for jiu - jitsu techniques, helio dared to break away from the traditional jiu - jitsu his brothers had learn - ed and taught. he started to adapt the moves so that he could execute them with ease. he did so through trial and error and by incorporating leverage, which reduced the amount of strength necessary for the execution of the techniques. the beginning of a revolution the gracies had started building a reputation as effective fighters in their native brazil. the huge weight disparities and adverse conditions in some of their fights sent shockwaves throughout the country. helio, who from an early age saw carlos not only as a brother but also as a father figure, would expand the family tradition of challenge 2 gastao gracie and a young rorion. helio teaching at his house.\n",
      "\n",
      "gracie jiu - jitsu 6stronger and younger santana struggled with helio for over three hours. with his physical capabilities totally drained as a result of such inhuman effort, helio took a kick that stunned him. his brother carlos threw in the towel, forfeiting the match. the entire country was so moved by helio ’ s courageous performance, however, that his fame became even greater than before the match, the result was tremen - dous flood of new students eager to follow in the master ’ s footsteps. afterwards, when asked why he didn ’ t take longer to prepare for the fight, helio responded with logical reasoning : “ if a man insults you on the street, are you going to tell him to meet you in two months to settle the score? no, you do it right then. however, as a professional fighter, and being in the position i was at that time, i now realize that i should not have allowed my emotions to influence my decision. ” many years later, during a television show in\n",
      "\n",
      "----------------------------------------------------------------------------------------------------\n",
      "Query: 4. Does Gracie Jui-Jitsu help improve mental and physical health?\n",
      "\n",
      "Results:\n",
      "that in order to be truly prepared for the reality of a street fight, one must incorporate some version of the jiu - jitsu style perfected by helio gracie. in fact, gracie jiu - jitsu ' s humane approach, which enables its practitioners to con - trol an attacker without hurting them, has a wide variety of specialized applications. these include : gracie resisting attack procedures for law enforcement® ( g. r. a. p. l. e. ), now gst, which has reached every major federal law enforcement agency and military organization, as well as many state and local police departments in the u. s. in fact, the u. s. army has rewritten their hand - to - hand combat manual to include the techniques of gracie jiu - jitsu. women empowered® was designed to enable virtually all women to avoid and escape a sexual assault. this unique program does not require strength, speed or coordination. gracie bullyproof® is a specialized course developed to prepare children to defend\n",
      "\n",
      "24gracie jiu - jitsu 3 1 2 4two - hand front choke defense ( with hip throw ) when rorion grabs him by the neck [ 1, 2 ], helio holds the elbow with one hand, shoots the other hand straight up [ insert : inside the arm ] [ 3 ], and steps between the attacker ’ s legs while clinching his neck [ 4, 5 ]. 292gracie jiu - jitsu it is necessary not to confuse this martial art with sport competition jiu - jitsu as it is being done for strong, heavy, and trained athletes. the world famous gracie jiu - jitsu was perfected by helio to give greater protection to the less physically capable, executives, ladies and children, on a course of thirty - six ( 36 ) private lessons so they will not be physically humiliated by bad and cowardly troglodytes. competition has nothing to do with personal efficiency so be careful not to mix things up. gracie jiu - jitsu\n",
      "\n",
      "gracie jiu - jitsu some time later, while in his early teens, helio moved in with his older brothers who lived and taught jiu - jitsu in a house in botafogo, a borough of rio de janeiro. he spent the next few years watching his brothers teach, since doctors had rec - ommended they keep helio away from any physical activity, including jiu - jitsu training. one day, when helio was sixteen years old, a student showed up for his class with carlos, who was not there. helio, who had memorized all the moves of his older brother, offered to start the class, and the student accepted. when the class was over, carlos showed up and was very apologetic for his delay. the student answered, “ no problem. i enjoyed the class with helio very much. if you don ’ t mind, i ’ d like to continue having classes with him from now on. ” carlos agreed. ironically, helio gracie had just been promoted to instructor level by a student! helio soon realized that some of the techniques he had\n",
      "\n",
      "gracie jiu - jitsu 6stronger and younger santana struggled with helio for over three hours. with his physical capabilities totally drained as a result of such inhuman effort, helio took a kick that stunned him. his brother carlos threw in the towel, forfeiting the match. the entire country was so moved by helio ’ s courageous performance, however, that his fame became even greater than before the match, the result was tremen - dous flood of new students eager to follow in the master ’ s footsteps. afterwards, when asked why he didn ’ t take longer to prepare for the fight, helio responded with logical reasoning : “ if a man insults you on the street, are you going to tell him to meet you in two months to settle the score? no, you do it right then. however, as a professional fighter, and being in the position i was at that time, i now realize that i should not have allowed my emotions to influence my decision. ” many years later, during a television show in\n",
      "\n",
      "acknowledgements for many years i felt that gracie jiu - jitsu, arguably the most revolutionary style in martial arts history, needed to be presented in its original form, in an organized fashion, for the benefit of future generations. i knew that no one could do a better job of demonstrating and teaching the techniques than helio gracie himself, the creator of gracie jiu - jitsu. in the summer of 2000, with my father scheduled to arrive in los angeles in a matter of weeks, i started asking around, looking for a photographer. one day, i received an unexpected phone call. “ hey, rorion, ” the voice on the other end said, “ look no further. i ’ m going to shoot your father ’ s book. ” “ what makes you think that? ” i asked, a little taken aback. “ because i can ’ t take a bad picture, ” the voice confidently replied. he sounded like me when i say i can ’ t teach a bad class! i concluded this guy was either really crazy or\n",
      "\n",
      "----------------------------------------------------------------------------------------------------\n",
      "Query: 5. What are some of the core values of Gracie Jui-Jitsu that can be applied to everyday life?\n",
      "\n",
      "Results:\n",
      "that in order to be truly prepared for the reality of a street fight, one must incorporate some version of the jiu - jitsu style perfected by helio gracie. in fact, gracie jiu - jitsu ' s humane approach, which enables its practitioners to con - trol an attacker without hurting them, has a wide variety of specialized applications. these include : gracie resisting attack procedures for law enforcement® ( g. r. a. p. l. e. ), now gst, which has reached every major federal law enforcement agency and military organization, as well as many state and local police departments in the u. s. in fact, the u. s. army has rewritten their hand - to - hand combat manual to include the techniques of gracie jiu - jitsu. women empowered® was designed to enable virtually all women to avoid and escape a sexual assault. this unique program does not require strength, speed or coordination. gracie bullyproof® is a specialized course developed to prepare children to defend\n",
      "\n",
      "knife defense ( backhand ) 140 – knife defense ( side ) 142 – rear knife defense ( chest thrust ) 144 – rear knife defense ( throat slice ) 146 – gun defense ( pointed at stomach ) 148 – gun defense ( front waistband ) 150 – gun defense ( side waistband ) 152 – gun defense ( pointed at head ) 154 – rear gun defense ( hostage position ) 156 – rear gun defense ( pointed at back ) chapter 3 – weapons defensesthe history of gracie jiu - jitsu....................................... 1 introduction...................................................... 11\n",
      "\n",
      "24gracie jiu - jitsu 3 1 2 4two - hand front choke defense ( with hip throw ) when rorion grabs him by the neck [ 1, 2 ], helio holds the elbow with one hand, shoots the other hand straight up [ insert : inside the arm ] [ 3 ], and steps between the attacker ’ s legs while clinching his neck [ 4, 5 ]. 292gracie jiu - jitsu it is necessary not to confuse this martial art with sport competition jiu - jitsu as it is being done for strong, heavy, and trained athletes. the world famous gracie jiu - jitsu was perfected by helio to give greater protection to the less physically capable, executives, ladies and children, on a course of thirty - six ( 36 ) private lessons so they will not be physically humiliated by bad and cowardly troglodytes. competition has nothing to do with personal efficiency so be careful not to mix things up. gracie jiu - jitsu\n",
      "\n",
      "gracie jiu - jitsu some time later, while in his early teens, helio moved in with his older brothers who lived and taught jiu - jitsu in a house in botafogo, a borough of rio de janeiro. he spent the next few years watching his brothers teach, since doctors had rec - ommended they keep helio away from any physical activity, including jiu - jitsu training. one day, when helio was sixteen years old, a student showed up for his class with carlos, who was not there. helio, who had memorized all the moves of his older brother, offered to start the class, and the student accepted. when the class was over, carlos showed up and was very apologetic for his delay. the student answered, “ no problem. i enjoyed the class with helio very much. if you don ’ t mind, i ’ d like to continue having classes with him from now on. ” carlos agreed. ironically, helio gracie had just been promoted to instructor level by a student! helio soon realized that some of the techniques he had\n",
      "\n",
      "acknowledgements for many years i felt that gracie jiu - jitsu, arguably the most revolutionary style in martial arts history, needed to be presented in its original form, in an organized fashion, for the benefit of future generations. i knew that no one could do a better job of demonstrating and teaching the techniques than helio gracie himself, the creator of gracie jiu - jitsu. in the summer of 2000, with my father scheduled to arrive in los angeles in a matter of weeks, i started asking around, looking for a photographer. one day, i received an unexpected phone call. “ hey, rorion, ” the voice on the other end said, “ look no further. i ’ m going to shoot your father ’ s book. ” “ what makes you think that? ” i asked, a little taken aback. “ because i can ’ t take a bad picture, ” the voice confidently replied. he sounded like me when i say i can ’ t teach a bad class! i concluded this guy was either really crazy or\n",
      "\n",
      "----------------------------------------------------------------------------------------------------\n"
     ]
    }
   ],
   "source": [
    "# Retrieve answers for all of these queries\n",
    "queries = [original_query] + augmented_queries.split('\\n')\n",
    "results = chroma_collection.query(query_texts=queries, n_results=5, include=['documents', 'embeddings'])\n",
    "\n",
    "retrieved_documents = results['documents']\n",
    "\n",
    "# Deduplicate the retrieved documents\n",
    "unique_documents = set()\n",
    "for documents in retrieved_documents:\n",
    "    for document in documents:\n",
    "        unique_documents.add(document)\n",
    "\n",
    "for i, documents in enumerate(retrieved_documents):\n",
    "    print(f\"Query: {queries[i]}\")\n",
    "    print('')\n",
    "    print(\"Results:\")\n",
    "    for doc in documents:\n",
    "        print(doc)\n",
    "        print('')\n",
    "    print('-'*100)"
   ]
  },
  {
   "cell_type": "code",
   "execution_count": 41,
   "id": "a8c71baf-b71d-449b-9cd9-601f5628e927",
   "metadata": {
    "tags": []
   },
   "outputs": [
    {
     "name": "stderr",
     "output_type": "stream",
     "text": [
      "100%|██████████| 1/1 [00:00<00:00, 189.71it/s]\n",
      "100%|██████████| 380/380 [00:01<00:00, 281.38it/s]\n"
     ]
    }
   ],
   "source": [
    "# Put the queries embeddings into a 2-dimensional space\n",
    "original_query_embedding = embedding_function([original_query])\n",
    "augmented_query_embeddings = embedding_function(augmented_queries)\n",
    "\n",
    "project_original_query = project_embeddings(original_query_embedding, umap_transform)\n",
    "project_augmented_queries = project_embeddings(augmented_query_embeddings, umap_transform)"
   ]
  },
  {
   "cell_type": "code",
   "execution_count": 42,
   "id": "fa58a0b0-66ec-4c12-b5e6-a92074b7a06a",
   "metadata": {
    "tags": []
   },
   "outputs": [
    {
     "name": "stderr",
     "output_type": "stream",
     "text": [
      "100%|██████████| 30/30 [00:00<00:00, 321.80it/s]\n"
     ]
    }
   ],
   "source": [
    "# Put the answer embeddings into a 2-dimensional space\n",
    "result_embeddings = results['embeddings']\n",
    "result_embeddings = [item for sublist in result_embeddings for item in sublist]\n",
    "projected_result_embeddings = project_embeddings(result_embeddings, umap_transform)"
   ]
  },
  {
   "cell_type": "code",
   "execution_count": 43,
   "id": "caedb281-9b8c-44a8-ae01-602548deb2f7",
   "metadata": {
    "tags": []
   },
   "outputs": [
    {
     "data": {
      "text/plain": [
       "(-5.781894585490226, -0.4866696983575821, 8.835887813568116, 16.12125406265259)"
      ]
     },
     "execution_count": 43,
     "metadata": {},
     "output_type": "execute_result"
    },
    {
     "data": {
      "image/png": "[encoded data removed]",
      "text/plain": [
       "<Figure size 640x480 with 1 Axes>"
      ]
     },
     "metadata": {},
     "output_type": "display_data"
    }
   ],
   "source": [
    "# Plot the queries and answers to visualize their representation in space\n",
    "import matplotlib.pyplot as plt\n",
    "\n",
    "plt.figure()\n",
    "plt.scatter(projected_dataset_embeddings[:, 0], projected_dataset_embeddings[:, 1], s=10, color='gray')\n",
    "plt.scatter(project_augmented_queries[:, 0], project_augmented_queries[:, 1], s=150, marker='X', color='orange')\n",
    "plt.scatter(projected_result_embeddings[:, 0], projected_result_embeddings[:, 1], s=100, facecolors='none', edgecolors='g')\n",
    "plt.scatter(project_original_query[:, 0], project_original_query[:, 1], s=150, marker='X', color='r')\n",
    "\n",
    "plt.gca().set_aspect('equal', 'datalim')\n",
    "plt.title(f'{original_query}')\n",
    "plt.axis('off')"
   ]
  },
  {
   "cell_type": "markdown",
   "id": "cde23bff-bd29-45dd-9f16-fa4f10631e2a",
   "metadata": {},
   "source": [
    "### Re-ranking Search Results\n",
    "\n",
    "*   **Challenge:** Query expansion increases the number of responses, potentially exceeding LLM input limits and increasing costs (billed per token).\n",
    "*   **Solution:** Re-rank results to select only the most relevant responses for processing.\n",
    "*   **Method:** Use a cross-encoder model instead of cosine-similarity for improved accuracy in ranking."
   ]
  },
  {
   "cell_type": "code",
   "execution_count": 44,
   "id": "4adf566e-968c-46bb-b51c-d64e27e092d1",
   "metadata": {
    "tags": []
   },
   "outputs": [
    {
     "data": {
      "application/vnd.jupyter.widget-view+json": {
       "model_id": "e27021ccd519442caae9585f57162c08",
       "version_major": 2,
       "version_minor": 0
      },
      "text/plain": [
       "config.json:   0%|          | 0.00/794 [00:00<?, ?B/s]"
      ]
     },
     "metadata": {},
     "output_type": "display_data"
    },
    {
     "data": {
      "application/vnd.jupyter.widget-view+json": {
       "model_id": "5f2af2b358eb4353969a7c2f2f8c96e4",
       "version_major": 2,
       "version_minor": 0
      },
      "text/plain": [
       "model.safetensors:   0%|          | 0.00/90.9M [00:00<?, ?B/s]"
      ]
     },
     "metadata": {},
     "output_type": "display_data"
    },
    {
     "data": {
      "application/vnd.jupyter.widget-view+json": {
       "model_id": "311d0419d7b949d99af7fc2906a7b856",
       "version_major": 2,
       "version_minor": 0
      },
      "text/plain": [
       "tokenizer_config.json:   0%|          | 0.00/316 [00:00<?, ?B/s]"
      ]
     },
     "metadata": {},
     "output_type": "display_data"
    },
    {
     "data": {
      "application/vnd.jupyter.widget-view+json": {
       "model_id": "c6de1519844c4baf933938aa9a5567e9",
       "version_major": 2,
       "version_minor": 0
      },
      "text/plain": [
       "vocab.txt:   0%|          | 0.00/232k [00:00<?, ?B/s]"
      ]
     },
     "metadata": {},
     "output_type": "display_data"
    },
    {
     "data": {
      "application/vnd.jupyter.widget-view+json": {
       "model_id": "9554255e60554981be603793d12504d2",
       "version_major": 2,
       "version_minor": 0
      },
      "text/plain": [
       "special_tokens_map.json:   0%|          | 0.00/112 [00:00<?, ?B/s]"
      ]
     },
     "metadata": {},
     "output_type": "display_data"
    }
   ],
   "source": [
    "# Import a cross encoder model\n",
    "from sentence_transformers import CrossEncoder\n",
    "cross_encoder = CrossEncoder('cross-encoder/ms-marco-MiniLM-L-6-v2')"
   ]
  },
  {
   "cell_type": "code",
   "execution_count": 45,
   "id": "350f51c4-0861-468c-b6d2-ab97ee3268cf",
   "metadata": {
    "tags": []
   },
   "outputs": [],
   "source": [
    "# Create unique pairs of query to document\n",
    "pairs = []\n",
    "for doc in unique_documents:\n",
    "    pairs.append([original_query, doc])"
   ]
  },
  {
   "cell_type": "code",
   "execution_count": 46,
   "id": "118d5d71-5398-4f0c-a5aa-90377b0fcf2c",
   "metadata": {
    "tags": []
   },
   "outputs": [
    {
     "name": "stdout",
     "output_type": "stream",
     "text": [
      "Scores:\n",
      "-6.512203\n",
      "-8.9254465\n",
      "-9.081492\n",
      "-11.040601\n",
      "-6.667387\n",
      "-7.1736236\n",
      "-8.029073\n",
      "-4.7693424\n",
      "-6.4353523\n",
      "-2.221586\n"
     ]
    }
   ],
   "source": [
    "# Compute an print the similarity between the pairs\n",
    "scores = cross_encoder.predict(pairs)\n",
    "\n",
    "print(\"Scores:\")\n",
    "for score in scores:\n",
    "    print(score)"
   ]
  },
  {
   "cell_type": "code",
   "execution_count": 47,
   "id": "ce51a9c1-b7bc-46c3-b734-5d1689073652",
   "metadata": {
    "tags": []
   },
   "outputs": [
    {
     "name": "stdout",
     "output_type": "stream",
     "text": [
      "New Ordering:\n",
      "9\n",
      "7\n",
      "8\n",
      "0\n",
      "4\n",
      "5\n",
      "6\n",
      "1\n",
      "2\n",
      "3\n"
     ]
    }
   ],
   "source": [
    "# Reorder the pairs in terms of relevance\n",
    "print(\"New Ordering:\")\n",
    "ranked_docs=['']*len(scores)\n",
    "i = 0\n",
    "for position in np.argsort(scores)[::-1]:\n",
    "    ranked_docs[position] = pairs[i][1]\n",
    "    i+=1\n",
    "    print(position)"
   ]
  },
  {
   "cell_type": "code",
   "execution_count": 48,
   "id": "37c73182-44ba-4eb4-a17a-2121aec4e2a7",
   "metadata": {
    "tags": []
   },
   "outputs": [
    {
     "data": {
      "text/plain": [
       "['standing defenses from the front it is a fact that most fights end up on the ground. it is also true that confrontations start with two people on their feet, so you must be prepared to react to any and all possible standing surprise attacks. the techniques in this section are the most effective ways to defend such attacks. 20gracie jiu - jitsu 1 2 3 4 5 6 hip throw helio reaches out and holds the back of rorion ’ s elbow [ 1, 2 ]. lifting the arm and trapping the wrist under his armpit [ 3 ], helio steps to the side, under rorion ’ s free arm, and holds the waist [ 4 ]. he then loosens the back hand, which allows him to step across and bring his hips directly in front of his opponent with knees slightly bent [ 5 ]. as he readjusts his back hand, pinning the opponent ’ s hips to his own, he brings his head to his left knee while straightening his legs [ 6 ]',\n",
       " 'acknowledgements for many years i felt that gracie jiu - jitsu, arguably the most revolutionary style in martial arts history, needed to be presented in its original form, in an organized fashion, for the benefit of future generations. i knew that no one could do a better job of demonstrating and teaching the techniques than helio gracie himself, the creator of gracie jiu - jitsu. in the summer of 2000, with my father scheduled to arrive in los angeles in a matter of weeks, i started asking around, looking for a photographer. one day, i received an unexpected phone call. “ hey, rorion, ” the voice on the other end said, “ look no further. i ’ m going to shoot your father ’ s book. ” “ what makes you think that? ” i asked, a little taken aback. “ because i can ’ t take a bad picture, ” the voice confidently replied. he sounded like me when i say i can ’ t teach a bad class! i concluded this guy was either really crazy or',\n",
       " 'gracie jiu - jitsu by grand master helio gracie gracie publications torrance, californiarevised edition',\n",
       " \"that in order to be truly prepared for the reality of a street fight, one must incorporate some version of the jiu - jitsu style perfected by helio gracie. in fact, gracie jiu - jitsu ' s humane approach, which enables its practitioners to con - trol an attacker without hurting them, has a wide variety of specialized applications. these include : gracie resisting attack procedures for law enforcement® ( g. r. a. p. l. e. ), now gst, which has reached every major federal law enforcement agency and military organization, as well as many state and local police departments in the u. s. in fact, the u. s. army has rewritten their hand - to - hand combat manual to include the techniques of gracie jiu - jitsu. women empowered® was designed to enable virtually all women to avoid and escape a sexual assault. this unique program does not require strength, speed or coordination. gracie bullyproof® is a specialized course developed to prepare children to defend\",\n",
       " '24gracie jiu - jitsu 3 1 2 4two - hand front choke defense ( with hip throw ) when rorion grabs him by the neck [ 1, 2 ], helio holds the elbow with one hand, shoots the other hand straight up [ insert : inside the arm ] [ 3 ], and steps between the attacker ’ s legs while clinching his neck [ 4, 5 ]. 292gracie jiu - jitsu it is necessary not to confuse this martial art with sport competition jiu - jitsu as it is being done for strong, heavy, and trained athletes. the world famous gracie jiu - jitsu was perfected by helio to give greater protection to the less physically capable, executives, ladies and children, on a course of thirty - six ( 36 ) private lessons so they will not be physically humiliated by bad and cowardly troglodytes. competition has nothing to do with personal efficiency so be careful not to mix things up. gracie jiu - jitsu']"
      ]
     },
     "execution_count": 48,
     "metadata": {},
     "output_type": "execute_result"
    }
   ],
   "source": [
    "# Print the 5 most relevant documents\n",
    "ranked_docs[:5]"
   ]
  },
  {
   "cell_type": "code",
   "execution_count": 49,
   "id": "19da0975-b06d-4f8f-8ffb-fb467e47f0c3",
   "metadata": {
    "tags": []
   },
   "outputs": [
    {
     "name": "stdout",
     "output_type": "stream",
     "text": [
      "What are atrributes that can be applied to everyday life from Gracie Jui-Jutsu?\n",
      "## Attributes of Gracie Jiu-Jitsu Applicable to Everyday Life\n",
      "\n",
      "Gracie Jiu-Jitsu offers attributes that extend far beyond self-defense techniques. These principles can be applied to various aspects of everyday life, fostering personal growth and well-being.\n",
      "\n",
      "**Confidence:** Training in Gracie Jiu-Jitsu instills a deep sense of self-confidence. As you learn to overcome challenges and master new skills, you develop a belief in your abilities, empowering you to face any situation with composure and determination.\n",
      "\n",
      "**Discipline:** The practice of Gracie Jiu-Jitsu demands discipline. You learn to focus your mind, control your body, and persevere through demanding training sessions. This discipline translates to other areas of your life, enabling you to set goals, stay focused, and achieve your desired outcomes.\n",
      "\n",
      "**Humility:** Gracie Jiu-Jitsu teaches the importance of humility. Every training session presents an opportunity to learn and improve. By acknowledging your limitations and remaining open to feedback, you cultivate a growth mindset and a willingness to embrace new challenges.\n",
      "\n",
      "**Respect:** Respect is a cornerstone of Gracie Jiu-Jitsu. You learn to respect your training partners, instructors, and the art itself. This respect extends beyond the training mats, fostering positive interactions with others and promoting a harmonious environment.\n",
      "\n",
      "**Adaptability:** Gracie Jiu-Jitsu emphasizes the ability to adapt to changing situations. Techniques are not rigid formulas but fluid responses tailored to the opponent's actions. This adaptability translates to everyday life, equipping you to handle unexpected challenges and obstacles with resourcefulness and flexibility.\n",
      "\n",
      "**Problem-Solving Skills:** Gracie Jiu-Jitsu sharpens your problem-solving skills. You constantly analyze situations, identify solutions, and execute them effectively. This skillset empowers you to approach challenges constructively and find creative solutions in various aspects of your life.\n",
      "\n",
      "**Mental Toughness:** Gracie Jiu-Jitsu builds mental toughness. You learn to push through physical and mental fatigue, overcome challenges, and maintain focus under pressure. This mental resilience equips you to persevere through adversity and achieve your goals in all endeavors.\n",
      "\n",
      "By embracing these attributes, Gracie Jiu-Jitsu transcends the realm of self-defense, shaping you into a confident, disciplined, respectful, adaptable, and mentally resilient individual, prepared to navigate the challenges of everyday life with grace and effectiveness.\n"
     ]
    }
   ],
   "source": [
    "# Only send the most relevant answers to the LLM\n",
    "response = rag(query=original_query, retrieved_documents=ranked_docs[:5], model=model)\n",
    "print(original_query)\n",
    "print(response)"
   ]
  },
  {
   "cell_type": "markdown",
   "id": "9924c2a0-0743-4de1-8ad9-f1975a111727",
   "metadata": {
    "tags": []
   },
   "source": [
    "### Embedding Adapters\n",
    "\n",
    "*   **Alternative:** Instead of query expansion and re-ranking, consider adapting the embedding model itself.\n",
    "*   **Method:** Fine-tune the embedding model on your dataset using user queries.\n",
    "*   **Benefit:** This allows the model to better understand the domain-specific nuances in your data."
   ]
  },
  {
   "cell_type": "code",
   "execution_count": 51,
   "id": "dc4f5a38-48b7-4274-85a1-c3dabeda9f34",
   "metadata": {
    "tags": []
   },
   "outputs": [
    {
     "name": "stdout",
     "output_type": "stream",
     "text": [
      "## 10-15 Important Questions to Ask When Practicing Helio Gracie Jui-Jitsu:\n",
      "\n",
      "1. Am I maintaining a strong and stable base?\n",
      "2. Is my grip secure and efficient?\n",
      "3. Am I using my leverage effectively?\n",
      "4. Am I breathing properly and staying calm?\n",
      "5. Am I controlling my opponent's balance?\n",
      "6. Am I transitioning smoothly between techniques?\n",
      "7. Am I aware of my surroundings and potential threats?\n",
      "8. Am I respecting my training partners and the art?\n",
      "9. Am I learning from my mistakes and improving my skills?\n",
      "10. Am I enjoying the process and staying motivated?\n",
      "11. How can I apply this technique to a real-world situation?\n",
      "12. What are the different variations of this technique?\n",
      "13. How can I modify this technique to suit my body type and strengths?\n",
      "14. What are the common mistakes associated with this technique?\n",
      "15. How can I use this technique to control and subdue an opponent? \n",
      "\n"
     ]
    }
   ],
   "source": [
    "# Generate queries that might be asked about Gracie Jui-Jutsu. If you had real users, you would use those queries instead of making them up\n",
    "def generate_queries(model):\n",
    "\n",
    "    prompt = (f'You are a helpful expert Helio Gracie Jui-Jitsu assistant.\\n'\n",
    "    f'You help users analyze Helio Gracie Jui-Jutsu to better understand how it can help in all aspects of life.\\n'\n",
    "    f'Suggest 10 to 15 short questions that are important to ask when practicing Helio Gracie Jui-Jutsu .\\n'\n",
    "    f'Do not output any compound questions (questions with multiple sentences or conjunctions).\\n'\n",
    "    f'Output each question on a separate line divided by a newline.')\n",
    "    \n",
    "    responses = model.generate_content(prompt, stream=False)\n",
    "    return responses.text.split('\\n')\n",
    "\n",
    "generated_queries = generate_queries(model)\n",
    "for query in generated_queries:\n",
    "    print(query)"
   ]
  },
  {
   "cell_type": "code",
   "execution_count": 52,
   "id": "f6ae6520-87b6-4e51-a100-10085cd6059f",
   "metadata": {
    "tags": []
   },
   "outputs": [],
   "source": [
    "# Search answers for those queries\n",
    "results = chroma_collection.query(query_texts=generated_queries, n_results=10, include=['documents', 'embeddings'])\n",
    "retrieved_documents = results['documents']"
   ]
  },
  {
   "cell_type": "code",
   "execution_count": 53,
   "id": "2a82e312-8f55-4d92-9fcd-c4b7a544af49",
   "metadata": {
    "tags": []
   },
   "outputs": [],
   "source": [
    "# Evaluate the results in 1 for relevant and -1 for irrelevant answers\n",
    "def evaluate_results(query, statement, model):\n",
    "\n",
    "    prompt = (f'You are a helpful expert Helio Gracie Jui-Jitsu assistant.\\n'\n",
    "    f'You help users analyze Helio Gracie Jui-Jutsu to better understand how it can help in all aspects of life.\\n'\n",
    "    f'For the given query, evaluate whether the following satement is relevant.\\n'\n",
    "    f'Output only \\'yes\\' or \\'no\\'.\\n'\n",
    "    f'Question: {query}, Statement: {statement}.')\n",
    "    \n",
    "    responses = model.generate_content(prompt, stream=False)\n",
    "    if responses.text == 'yes':\n",
    "        return 1\n",
    "    return -1\n",
    "\n",
    "retrieved_embeddings = results['embeddings']\n",
    "query_embeddings = embedding_function(generated_queries)"
   ]
  },
  {
   "cell_type": "code",
   "execution_count": 54,
   "id": "041a898f-cb88-4d78-87f4-fc8dd4486d6f",
   "metadata": {
    "tags": []
   },
   "outputs": [
    {
     "name": "stderr",
     "output_type": "stream",
     "text": [
      "100%|██████████| 18/18 [01:49<00:00,  6.07s/it]\n"
     ]
    },
    {
     "data": {
      "text/plain": [
       "180"
      ]
     },
     "execution_count": 54,
     "metadata": {},
     "output_type": "execute_result"
    }
   ],
   "source": [
    "# Extract the documents and queries into their own lists\n",
    "adapter_query_embeddings = []\n",
    "adapter_doc_embeddings = []\n",
    "adapter_labels = []\n",
    "\n",
    "for q, query in enumerate(tqdm(generated_queries)):\n",
    "    for d, document in enumerate(retrieved_documents[q]):\n",
    "        adapter_query_embeddings.append(query_embeddings[q])\n",
    "        adapter_doc_embeddings.append(retrieved_embeddings[q][d])\n",
    "        adapter_labels.append(evaluate_results(query, document, model))\n",
    "\n",
    "len(adapter_labels)"
   ]
  },
  {
   "cell_type": "code",
   "execution_count": 55,
   "id": "d70b02dd-b556-4280-b1ee-833a1436819d",
   "metadata": {
    "tags": []
   },
   "outputs": [
    {
     "name": "stdout",
     "output_type": "stream",
     "text": [
      "Requirement already satisfied: torch in /opt/conda/lib/python3.10/site-packages (2.5.1)\n",
      "Requirement already satisfied: filelock in /opt/conda/lib/python3.10/site-packages (from torch) (3.16.1)\n",
      "Requirement already satisfied: typing-extensions>=4.8.0 in /opt/conda/lib/python3.10/site-packages (from torch) (4.12.2)\n",
      "Requirement already satisfied: networkx in /opt/conda/lib/python3.10/site-packages (from torch) (3.4.2)\n",
      "Requirement already satisfied: jinja2 in /opt/conda/lib/python3.10/site-packages (from torch) (3.1.4)\n",
      "Requirement already satisfied: fsspec in /opt/conda/lib/python3.10/site-packages (from torch) (2024.10.0)\n",
      "Requirement already satisfied: nvidia-cuda-nvrtc-cu12==12.4.127 in /opt/conda/lib/python3.10/site-packages (from torch) (12.4.127)\n",
      "Requirement already satisfied: nvidia-cuda-runtime-cu12==12.4.127 in /opt/conda/lib/python3.10/site-packages (from torch) (12.4.127)\n",
      "Requirement already satisfied: nvidia-cuda-cupti-cu12==12.4.127 in /opt/conda/lib/python3.10/site-packages (from torch) (12.4.127)\n",
      "Requirement already satisfied: nvidia-cudnn-cu12==9.1.0.70 in /opt/conda/lib/python3.10/site-packages (from torch) (9.1.0.70)\n",
      "Requirement already satisfied: nvidia-cublas-cu12==12.4.5.8 in /opt/conda/lib/python3.10/site-packages (from torch) (12.4.5.8)\n",
      "Requirement already satisfied: nvidia-cufft-cu12==11.2.1.3 in /opt/conda/lib/python3.10/site-packages (from torch) (11.2.1.3)\n",
      "Requirement already satisfied: nvidia-curand-cu12==10.3.5.147 in /opt/conda/lib/python3.10/site-packages (from torch) (10.3.5.147)\n",
      "Requirement already satisfied: nvidia-cusolver-cu12==11.6.1.9 in /opt/conda/lib/python3.10/site-packages (from torch) (11.6.1.9)\n",
      "Requirement already satisfied: nvidia-cusparse-cu12==12.3.1.170 in /opt/conda/lib/python3.10/site-packages (from torch) (12.3.1.170)\n",
      "Requirement already satisfied: nvidia-nccl-cu12==2.21.5 in /opt/conda/lib/python3.10/site-packages (from torch) (2.21.5)\n",
      "Requirement already satisfied: nvidia-nvtx-cu12==12.4.127 in /opt/conda/lib/python3.10/site-packages (from torch) (12.4.127)\n",
      "Requirement already satisfied: nvidia-nvjitlink-cu12==12.4.127 in /opt/conda/lib/python3.10/site-packages (from torch) (12.4.127)\n",
      "Requirement already satisfied: triton==3.1.0 in /opt/conda/lib/python3.10/site-packages (from torch) (3.1.0)\n",
      "Requirement already satisfied: sympy==1.13.1 in /opt/conda/lib/python3.10/site-packages (from torch) (1.13.1)\n",
      "Requirement already satisfied: mpmath<1.4,>=1.1.0 in /opt/conda/lib/python3.10/site-packages (from sympy==1.13.1->torch) (1.3.0)\n",
      "Requirement already satisfied: MarkupSafe>=2.0 in /opt/conda/lib/python3.10/site-packages (from jinja2->torch) (3.0.2)\n"
     ]
    }
   ],
   "source": [
    "# Install PyTorch so that we can train the embedding model based on relevant answers\n",
    "!pip install torch\n",
    "\n",
    "import torch"
   ]
  },
  {
   "cell_type": "code",
   "execution_count": 56,
   "id": "b6e89826-3195-4b22-a7b9-5eb78cda4665",
   "metadata": {
    "tags": []
   },
   "outputs": [],
   "source": [
    "# Initialize PyTorch with the right data\n",
    "adapter_query_embeddings = torch.Tensor(np.array(adapter_query_embeddings))\n",
    "adapter_doc_embeddings = torch.Tensor(np.array(adapter_doc_embeddings))\n",
    "adapter_labels = torch.Tensor(np.expand_dims(np.array(adapter_labels),1))\n",
    "\n",
    "dataset = torch.utils.data.TensorDataset(adapter_query_embeddings, adapter_doc_embeddings, adapter_labels)"
   ]
  },
  {
   "cell_type": "code",
   "execution_count": 57,
   "id": "a00a966c-54ed-4b52-9506-524e81edebc3",
   "metadata": {
    "tags": []
   },
   "outputs": [],
   "source": [
    "# Set up the model with cosine similarity, so that embeddings with label 1 are similar and -1 are dissimilar\n",
    "def model(query_embedding, document_embedding, adaptor_matrix):\n",
    "    updated_query_embedding = torch.matmul(adaptor_matrix, query_embedding)\n",
    "    return torch.cosine_similarity(updated_query_embedding, document_embedding, dim=0)"
   ]
  },
  {
   "cell_type": "code",
   "execution_count": 58,
   "id": "33cf9c62-482c-4c82-8788-5cdb20d3f215",
   "metadata": {
    "tags": []
   },
   "outputs": [],
   "source": [
    "# Compute the mean squared error (MSE) loss to see how close are we to the expected output\n",
    "def mse_loss(query_embedding, document_embedding, adaptor_matrix, label):\n",
    "    return torch.nn.MSELoss()(model(query_embedding, document_embedding, adaptor_matrix), label)"
   ]
  },
  {
   "cell_type": "code",
   "execution_count": 59,
   "id": "767ed3fc-886a-4a57-a9b5-9bb29b893b7f",
   "metadata": {
    "tags": []
   },
   "outputs": [],
   "source": [
    "# Initialize the adaptor matrix\n",
    "mat_size = len(adapter_query_embeddings[0])\n",
    "adapter_matrix = torch.randn(mat_size, mat_size, requires_grad=True)"
   ]
  },
  {
   "cell_type": "markdown",
   "id": "33b5ab28-3415-489f-bfe0-cb32d39b242f",
   "metadata": {},
   "source": [
    "### Training the Adapter Matrix\n",
    "\n",
    "*   **Process:**  The adapter matrix is trained over 100 steps.\n",
    "*   **Mechanism:**\n",
    "    *   A vector is iteratively updated.\n",
    "    *   This vector is multiplied by query embeddings.\n",
    "    *   The result is compared to the corresponding document vector.\n",
    "*   **Goal:** To obtain a score that aligns with the example's label (-1 or 1)."
   ]
  },
  {
   "cell_type": "code",
   "execution_count": 60,
   "id": "396e60cf-970f-414b-8f65-7ae0eb99a9ce",
   "metadata": {
    "tags": []
   },
   "outputs": [
    {
     "name": "stderr",
     "output_type": "stream",
     "text": [
      "  0%|          | 0/100 [00:00<?, ?it/s]/opt/conda/lib/python3.10/site-packages/torch/nn/modules/loss.py:608: UserWarning: Using a target size (torch.Size([1])) that is different to the input size (torch.Size([])). This will likely lead to incorrect results due to broadcasting. Please ensure they have the same size.\n",
      "  return F.mse_loss(input, target, reduction=self.reduction)\n",
      "100%|██████████| 100/100 [00:22<00:00,  4.54it/s]\n"
     ]
    }
   ],
   "source": [
    "min_loss = float('inf')\n",
    "best_matrix = None\n",
    "\n",
    "for epoch in tqdm(range(100)):\n",
    "    for query_embedding, document_embedding, label in dataset:\n",
    "        loss = mse_loss(query_embedding, document_embedding, adapter_matrix, label)\n",
    "\n",
    "        if loss < min_loss:\n",
    "            min_loss = loss\n",
    "            best_matrix = adapter_matrix.clone().detach().numpy()\n",
    "\n",
    "        loss.backward()\n",
    "        with torch.no_grad():\n",
    "            adapter_matrix -= 0.01 * adapter_matrix.grad\n",
    "            adapter_matrix.grad.zero_()       "
   ]
  },
  {
   "cell_type": "code",
   "execution_count": 63,
   "id": "ed8c9693-4de3-4225-8515-4d0fb9b3532f",
   "metadata": {
    "tags": []
   },
   "outputs": [
    {
     "name": "stdout",
     "output_type": "stream",
     "text": [
      "Best loss: 0.6666986346244812\n"
     ]
    }
   ],
   "source": [
    "# Print the best (lowest) loss achieved during training.\n",
    "print(f\"Best loss: {min_loss.detach().numpy()}\")"
   ]
  },
  {
   "cell_type": "code",
   "execution_count": 64,
   "id": "657256bb-19ed-4627-a437-5bc88f5121d9",
   "metadata": {
    "tags": []
   },
   "outputs": [],
   "source": [
    "# Create a scaled vector based on the best matrix that we computed\n",
    "test_vector = torch.ones((mat_size,1))\n",
    "scaled_vector = np.matmul(best_matrix, test_vector).numpy()"
   ]
  },
  {
   "cell_type": "code",
   "execution_count": 65,
   "id": "709f035f-398b-4f70-883f-5470a85ea176",
   "metadata": {
    "tags": []
   },
   "outputs": [
    {
     "data": {
      "image/png": "[encoded data removed]",
      "text/plain": [
       "<Figure size 640x480 with 1 Axes>"
      ]
     },
     "metadata": {},
     "output_type": "display_data"
    }
   ],
   "source": [
    "# Plot the scale vector answers\n",
    "import matplotlib.pyplot as plt\n",
    "plt.bar(range(len(scaled_vector)), scaled_vector.flatten())\n",
    "plt.show()"
   ]
  },
  {
   "cell_type": "code",
   "execution_count": 66,
   "id": "ed308b1f-2657-4ebe-8053-9a41a48f31bc",
   "metadata": {
    "tags": []
   },
   "outputs": [
    {
     "name": "stderr",
     "output_type": "stream",
     "text": [
      "100%|██████████| 18/18 [00:00<00:00, 105.01it/s]\n",
      "100%|██████████| 18/18 [00:00<00:00, 265.10it/s]\n"
     ]
    }
   ],
   "source": [
    "# Get the adapted query embeddings to compare them with the original values retrieved\n",
    "query_embeddings = embedding_function(generated_queries)\n",
    "adapted_query_embeddings = np.matmul(best_matrix, np.array(query_embeddings).T).T\n",
    "\n",
    "projected_query_embeddings = project_embeddings(query_embeddings, umap_transform)\n",
    "projected_adapted_query_embeddings = project_embeddings(adapted_query_embeddings, umap_transform)"
   ]
  },
  {
   "cell_type": "code",
   "execution_count": 67,
   "id": "6eb7587c-08a1-4a93-9ae0-316039b57529",
   "metadata": {
    "tags": []
   },
   "outputs": [
    {
     "data": {
      "text/plain": [
       "<matplotlib.legend.Legend at 0x7f7bdd6abe50>"
      ]
     },
     "execution_count": 67,
     "metadata": {},
     "output_type": "execute_result"
    },
    {
     "data": {
      "image/png": "[encoded data removed]",
      "text/plain": [
       "<Figure size 640x480 with 1 Axes>"
      ]
     },
     "metadata": {},
     "output_type": "display_data"
    }
   ],
   "source": [
    "# Plot the adapted embeddings and the original values retrieved\n",
    "# Plot the projected query and retrieved documents in the embedding space\n",
    "plt.figure()\n",
    "plt.scatter(projected_dataset_embeddings[:, 0], projected_dataset_embeddings[:, 1], s=10, color='gray')\n",
    "plt.scatter(projected_query_embeddings[:, 0], projected_query_embeddings[:, 1], s=150, marker='X', color='r', label=\"original\")\n",
    "plt.scatter(projected_adapted_query_embeddings[:, 0], projected_adapted_query_embeddings[:, 1], s=150, marker='X', color='green', label=\"adapted\")\n",
    "\n",
    "plt.gca().set_aspect('equal', 'datalim')\n",
    "plt.title(\"Adapted Queries\")\n",
    "plt.axis('off')\n",
    "plt.legend()"
   ]
  },
  {
   "cell_type": "code",
   "execution_count": null,
   "id": "2abbd667-e842-4fbc-a0b3-cc421a50f73a",
   "metadata": {},
   "outputs": [],
   "source": []
  }
 ],
 "metadata": {
  "environment": {
   "kernel": "conda-base-py",
   "name": "workbench-notebooks.m126",
   "type": "gcloud",
   "uri": "us-docker.pkg.dev/deeplearning-platform-release/gcr.io/workbench-notebooks:m126"
  },
  "kernelspec": {
   "display_name": "Python 3 (ipykernel) (Local)",
   "language": "python",
   "name": "conda-base-py"
  },
  "language_info": {
   "codemirror_mode": {
    "name": "ipython",
    "version": 3
   },
   "file_extension": ".py",
   "mimetype": "text/x-python",
   "name": "python",
   "nbconvert_exporter": "python",
   "pygments_lexer": "ipython3",
   "version": "3.10.15"
  }
 },
 "nbformat": 4,
 "nbformat_minor": 5
}
