{
 "cells": [
  {
   "cell_type": "markdown",
   "id": "9f660630-e95d-4c61-922a-627a7d9161fd",
   "metadata": {},
   "source": [
    "## Resume Optimizer using Open AI\n",
    "\n",
    "This Jupyter Notebook is designed to optimize resumes by leveraging AI models from OpenAI. The notebook guides you through the process of importing your resume and a job description, and then uses AI to tailor your resume to better match the job requirements. The key functionalities include:\n",
    "\n",
    "1. **Library Installation and Imports**: Installs and imports necessary libraries such as `google-generativeai`, `markdown`, and `weasyprint`.\n",
    "2. **Resume and Job Description Input**: Prompts the user to input their resume and job description.\n",
    "3. **Prompt Template**: Builds a prompt template to instruct the AI on how to optimize the resume.\n",
    "4. **Model Interaction**: Lists available AI models and uses a selected model to generate optimized resume content.\n",
    "5. **Output Generation**: Displays the optimized resume in Markdown format and provides suggestions for improvement.\n",
    "6. **File Saving**: Saves the optimized resume as Markdown, HTML, and PDF files.\n",
    "\n",
    "This notebook aims to help users create a more targeted and effective resume by aligning it with specific job descriptions, enhancing their chances of success in job applications.\n",
    "\n",
    "\n",
    "**Shout out to [Shaw Tabeli](https://www.shawhintalebi.com/) for the solid foundation and inspiration**"
   ]
  },
  {
   "cell_type": "code",
   "execution_count": null,
   "id": "54f5c248-cbad-4af6-ba6f-50f461b1b4ac",
   "metadata": {},
   "outputs": [],
   "source": [
    "# Install Libs\n",
    "!pip install openai markdown weasyprint"
   ]
  },
  {
   "cell_type": "markdown",
   "id": "2a2fab57-2584-4daa-b31e-50f29ec20479",
   "metadata": {},
   "source": [
    "**Import the Libraries**"
   ]
  },
  {
   "cell_type": "code",
   "execution_count": 5,
   "id": "290eeacd-ebbd-4a05-9177-5dbbede05739",
   "metadata": {},
   "outputs": [],
   "source": [
    "from IPython.display import display, Markdown\n",
    "import os\n",
    "import openai\n",
    "from markdown import markdown\n",
    "from weasyprint import HTML\n",
    "\n",
    "# Connect to OpenAI\n",
    "openai.api_key = os.getenv(\"OPENAI_KEY\")"
   ]
  },
  {
   "cell_type": "markdown",
   "id": "bde6a5d3-fe46-42b4-a6e2-dc251bae51b5",
   "metadata": {},
   "source": [
    "### Import Resume and Job Description"
   ]
  },
  {
   "cell_type": "code",
   "execution_count": null,
   "id": "9b1608b3-0ae4-4be6-9cbf-2a34691dd1de",
   "metadata": {},
   "outputs": [],
   "source": [
    "# Open and Read the resume.md \n",
    "with open(\"resume/morrison_resume.md\", \"r\", encoding=\"utf-8\") as file:\n",
    "    resume_string = file.read()\n",
    "\n",
    "display(Markdown(resume_string))"
   ]
  },
  {
   "cell_type": "code",
   "execution_count": null,
   "id": "9f547ed9",
   "metadata": {},
   "outputs": [],
   "source": [
    "# Prompt user for job data\n",
    "jd_string = \"\" \n",
    "while not jd_string:  # Loop until we get some input\n",
    "    print(\"To help me analyze this job description for you, please paste the full text below:\")\n",
    "    jd_string = input()\n",
    "    print(jd_string)\n",
    "    if not jd_string:\n",
    "        print(\"Oops! Looks like you didn't paste anything. Please try again.\")\n",
    "        \n",
    "print(jd_string)"
   ]
  },
  {
   "cell_type": "markdown",
   "id": "95c0e924-0ccd-402a-8552-02e86034e6b2",
   "metadata": {},
   "source": [
    "Build the Prompt Template"
   ]
  },
  {
   "cell_type": "code",
   "execution_count": 25,
   "id": "f14b253a-d6d9-452b-a42f-69b108940c19",
   "metadata": {},
   "outputs": [],
   "source": [
    "prompt_template = lambda resume_string, jd_string : f\"\"\"\n",
    "You are a professional resume optimization expert specializing in tailoring resumes to specific job descriptions. Your goal is to optimize my resume and provide actionable suggestions for improvement to align with the target role.\n",
    "\n",
    "### Guidelines:\n",
    "1. **Relevance**:  \n",
    "   - Prioritize experiences, skills, and achievements **most relevant to the job description**.  \n",
    "   - Remove or de-emphasize irrelevant details to ensure a **concise** and **targeted** resume.\n",
    "   - Limit work experience section to 4-5 most relevant roles\n",
    "   - Limit bullet points under each role to 4-5 most relevant impacts\n",
    "\n",
    "2. **Action-Driven Results**:  \n",
    "   - Use **strong action verbs** and **quantifiable results** (e.g., percentages, revenue, efficiency improvements) to highlight impact.  \n",
    "\n",
    "3. **Keyword Optimization**:  \n",
    "   - Integrate **keywords** and phrases from the job description naturally to optimize for ATS (Applicant Tracking Systems).  \n",
    "\n",
    "4. **Additional Suggestions** *(If Gaps Exist)*:  \n",
    "   - If the resume does not fully align with the job description, suggest:  \n",
    "     1. **Additional technical or soft skills** that I could add to make my profile stronger.  \n",
    "     2. **Certifications or courses** I could pursue to bridge the gap.  \n",
    "     3. **Project ideas or experiences** that would better align with the role.  \n",
    "\n",
    "5. **Formatting**:  \n",
    "   - Output the tailored resume in **clean Markdown format**.  \n",
    "   - Include an **\"Additional Suggestions\"** section at the end with actionable improvement recommendations.  \n",
    "   - Aim for a resume length of around 1000-1500 words.\n",
    "   - Tailor the tone and style to match the target company and industry.\n",
    "\n",
    "---\n",
    "\n",
    "### Input:\n",
    "- **My resume**:  \n",
    "{resume_string}\n",
    "\n",
    "- **The job description**:  \n",
    "{jd_string}\n",
    "\n",
    "---\n",
    "\n",
    "### Output:  \n",
    " **Tailored Resume**:  \n",
    "   - A resume in **Markdown format** that emphasizes relevant experience, skills, and achievements.  \n",
    "   - Incorporates job description **keywords** to optimize for ATS.  \n",
    "   - Uses strong language and is no longer than **two pages**.\n",
    "\n",
    " **Contact Information:**  <-- Separate section for contact info\n",
    "    - Include all provided contact details (email, phone, LinkedIn, GitHub).\n",
    "\n",
    " **Certifications:**  <-- Separate section for certifications at the bottom\n",
    "    - Include all provided certifications with links.\n",
    "\n",
    "## Addtional Suggestions:  <-- Separate section for suggestions\n",
    "    - Include any additional suggestions for improvement based on the job description.\n",
    " **Additional Suggestions** *(if applicable)*:\n",
    "   - Determine if the resume and experience is a **FIT** and a good candidate for this specific role.\n",
    "   - List **skills** that could strengthen alignment with the role.  \n",
    "   - Recommend **certifications or courses** to pursue.  \n",
    "   - Suggest **specific projects or experiences** to develop.\n",
    "   - Do not include \"```markdown\\n\" or \"```\" in the response.\n",
    "\n",
    " **Evaluate as if you are the hiring manager the resume and experience against the job description to determine if the candidate is:\n",
    "   - **FIT**: Fully meets or exceeds requirements.\n",
    "   - **CLOSE**: Meets most requirements with minor gaps.\n",
    "   - **STRETCH**: Has significant gaps but potential to grow into the role.\n",
    "\n",
    "\"\"\""
   ]
  },
  {
   "cell_type": "code",
   "execution_count": null,
   "id": "b8cd8a12-2f25-457c-872a-b9a47a032f99",
   "metadata": {},
   "outputs": [],
   "source": [
    "# List all available models\n",
    "models = openai.Model.list()\n",
    "\n",
    "# Print the names of the models\n",
    "for model in models['data']:\n",
    "    print(model['id'])"
   ]
  },
  {
   "cell_type": "code",
   "execution_count": 26,
   "id": "bfa9d453-0b3c-4439-b9b1-6d04522231ac",
   "metadata": {},
   "outputs": [],
   "source": [
    "prompt = prompt_template(resume_string, jd_string)"
   ]
  },
  {
   "cell_type": "code",
   "execution_count": 27,
   "id": "d99eacd3-a542-465c-9dba-0fe807157181",
   "metadata": {},
   "outputs": [],
   "source": [
    "# Make API call\n",
    "response = openai.ChatCompletion.create(\n",
    "    model=\"gpt-4o-mini\",\n",
    "    messages=[\n",
    "        {\"role\": \"system\", \"content\": \"Expert resume writer\"},\n",
    "        {\"role\": \"user\", \"content\": prompt}\n",
    "    ],\n",
    "    temperature=0.5\n",
    ")\n",
    "\n",
    "# Extract the response content\n",
    "generated_text = response.choices[0].message.content"
   ]
  },
  {
   "cell_type": "markdown",
   "id": "a9997080-960e-41ac-93a2-b86ff6138e4e",
   "metadata": {},
   "source": [
    "### Display the results\n",
    "Split the resume from the Additional suggestions"
   ]
  },
  {
   "cell_type": "code",
   "execution_count": 28,
   "id": "bc86f0ed-8cf3-455f-bf9b-4278a4e03011",
   "metadata": {},
   "outputs": [],
   "source": [
    "resume_list = generated_text.split(\"## Additional Suggestions\")"
   ]
  },
  {
   "cell_type": "code",
   "execution_count": null,
   "id": "8a8adda2",
   "metadata": {},
   "outputs": [],
   "source": [
    "print(resume_list[0])"
   ]
  },
  {
   "cell_type": "markdown",
   "id": "12286ca6-eb4d-4aad-8fdf-ba836dacdf89",
   "metadata": {},
   "source": [
    "Display the resume"
   ]
  },
  {
   "cell_type": "code",
   "execution_count": null,
   "id": "a5b0f9cf-0d10-422c-acbe-d84f81941a6f",
   "metadata": {},
   "outputs": [],
   "source": [
    "display(Markdown(resume_list[0]))"
   ]
  },
  {
   "cell_type": "markdown",
   "id": "4d5695ca-8f98-48cb-b542-30789d69a1ce",
   "metadata": {},
   "source": [
    "### Save File to PDF & HTML"
   ]
  },
  {
   "cell_type": "code",
   "execution_count": null,
   "id": "53ef33a1-fc60-4faa-9bca-fea65f2ecc64",
   "metadata": {},
   "outputs": [],
   "source": [
    "# Save to PDF\n",
    "output_resume_pdf = \"resume/openai_resume_new.pdf\"\n",
    "\n",
    "# Convert Markdown to HTML\n",
    "html_output = markdown(resume_list[0])\n",
    "print(html_output)"
   ]
  },
  {
   "cell_type": "code",
   "execution_count": null,
   "id": "264b32a5-e509-400c-bcb6-2e2308d4dbc8",
   "metadata": {},
   "outputs": [],
   "source": [
    "from markdown import markdown\n",
    "\n",
    "def markdown_to_html_with_css(markdown_text, css_file=\"styles.css\", google_font=\"Roboto\"):\n",
    "  \"\"\"\n",
    "  Converts markdown text to HTML, applies an external CSS file, and adds a Google Font.\n",
    "\n",
    "  Args:\n",
    "    markdown_text: The markdown text to convert.\n",
    "    css_file: The path to the CSS file.\n",
    "    google_font: The name of the Google Font to use.\n",
    "\n",
    "  Returns:\n",
    "    The HTML output as a string.\n",
    "  \"\"\"\n",
    "\n",
    "  html_output = markdown(markdown_text)\n",
    "\n",
    "  # Construct the HTML with the linked CSS file and Google Font\n",
    "  html_with_css = f\"\"\"\n",
    "  <!DOCTYPE html>\n",
    "  <html>\n",
    "  <head>\n",
    "    <meta charset=\"UTF-8\">\n",
    "    <title>Resume</title>\n",
    "    <link rel=\"stylesheet\" href=\"{css_file}\">\n",
    "    <link rel=\"preconnect\" href=\"https://fonts.googleapis.com\">\n",
    "    <link rel=\"preconnect\" href=\"https://fonts.gstatic.com\" crossorigin>\n",
    "    <link href=\"https://fonts.googleapis.com/css2?family={google_font}&display=swap\" rel=\"stylesheet\">\n",
    "  </head>\n",
    "  <body>\n",
    "    {html_output}\n",
    "  </body>\n",
    "  </html>\n",
    "  \"\"\"\n",
    "\n",
    "  return html_with_css\n",
    "\n",
    "# Example usage with resume_list and a Google Font:\n",
    "html_output = markdown_to_html_with_css(resume_list[0], google_font=\"Open+Sans\")\n",
    "\n",
    "# Now you can save html_output to a file or use it further\n",
    "print(html_output)\n",
    "\n",
    "# Specify the filename\n",
    "filename = \"resume/openai_resume.html\"\n",
    "\n",
    "# Write the HTML to the file\n",
    "with open(filename, \"w\") as f:\n",
    "  f.write(html_output)\n",
    "\n",
    "print(f\"HTML file saved as {filename}\")"
   ]
  },
  {
   "cell_type": "code",
   "execution_count": 33,
   "id": "da566b74-4b97-4728-8308-dda6e81915bb",
   "metadata": {},
   "outputs": [],
   "source": [
    "# Save to PDF\n",
    "output_resume_pdf = \"resume/openai_resume_new.pdf\"\n",
    "\n",
    "# Convert HTML to PDF and save\n",
    "HTML(string=html_output).write_pdf(output_resume_pdf, stylesheets=['resume/styles.css'])"
   ]
  },
  {
   "cell_type": "code",
   "execution_count": 34,
   "id": "7f1da772-54cd-4856-b8f6-c7b696b79d04",
   "metadata": {},
   "outputs": [],
   "source": [
    "# save as markdown\n",
    "output_file = \"resume/openai_resume_new.md\"\n",
    "\n",
    "with open(output_file, \"w\", encoding=\"utf-8\") as file:\n",
    "    file.write(resume_list[0])"
   ]
  },
  {
   "cell_type": "code",
   "execution_count": null,
   "id": "01f14ed3-989a-495c-a1ce-32834c2be4b2",
   "metadata": {},
   "outputs": [],
   "source": [
    "display(Markdown(resume_list[1]))"
   ]
  },
  {
   "cell_type": "code",
   "execution_count": null,
   "id": "6d732838-3ae7-45e3-a413-83911a77d7eb",
   "metadata": {},
   "outputs": [],
   "source": []
  }
 ],
 "metadata": {
  "kernelspec": {
   "display_name": "ai_dev",
   "language": "python",
   "name": "python3"
  },
  "language_info": {
   "codemirror_mode": {
    "name": "ipython",
    "version": 3
   },
   "file_extension": ".py",
   "mimetype": "text/x-python",
   "name": "python",
   "nbconvert_exporter": "python",
   "pygments_lexer": "ipython3",
   "version": "3.12.2"
  }
 },
 "nbformat": 4,
 "nbformat_minor": 5
}
