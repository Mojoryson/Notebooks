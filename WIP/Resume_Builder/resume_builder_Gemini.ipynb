{
 "cells": [
  {
   "cell_type": "markdown",
   "id": "9f660630-e95d-4c61-922a-627a7d9161fd",
   "metadata": {},
   "source": [
    "# Resume Optimizer using AI\n",
    "**Shout out to [Shaw Tabeli](https://www.shawhintalebi.com/) for the solid foundation and inspiration**\n",
    "- Install the Libraries"
   ]
  },
  {
   "cell_type": "code",
   "execution_count": 52,
   "id": "54f5c248-cbad-4af6-ba6f-50f461b1b4ac",
   "metadata": {},
   "outputs": [],
   "source": [
    "# Install Libs\n",
    "!pip install -U -q google-generativeai markdown weasyprint"
   ]
  },
  {
   "cell_type": "markdown",
   "id": "2a2fab57-2584-4daa-b31e-50f29ec20479",
   "metadata": {},
   "source": [
    "**Import the Libraries**"
   ]
  },
  {
   "cell_type": "code",
   "execution_count": 16,
   "id": "290eeacd-ebbd-4a05-9177-5dbbede05739",
   "metadata": {},
   "outputs": [],
   "source": [
    "from IPython.display import display, Markdown\n",
    "import os\n",
    "import google.generativeai as genai\n",
    "from markdown import markdown\n",
    "from weasyprint import HTML\n",
    "\n",
    "genai.configure(api_key=os.environ[\"GOOGLE_API_KEY\"])\n"
   ]
  },
  {
   "cell_type": "markdown",
   "id": "bde6a5d3-fe46-42b4-a6e2-dc251bae51b5",
   "metadata": {},
   "source": [
    "### Import Resume and Job Description\n",
    "- Create a markdown version of your resume\n",
    "- Read the your resume assign it to the resume_string variable"
   ]
  },
  {
   "cell_type": "code",
   "execution_count": null,
   "id": "9b1608b3-0ae4-4be6-9cbf-2a34691dd1de",
   "metadata": {},
   "outputs": [],
   "source": [
    "# Open and Read the resume.md \n",
    "with open(\"resume/morrison_resume.md\", \"r\", encoding=\"utf-8\") as file:\n",
    "    resume_string = file.read()\n",
    "\n",
    "display(Markdown(resume_string))"
   ]
  },
  {
   "cell_type": "markdown",
   "id": "a143f238-3a65-4e55-9985-504ee745a03b",
   "metadata": {},
   "source": [
    "### Input the Job Description\n",
    "- Copy the job description\n",
    "- Past it into the box below the prompt"
   ]
  },
  {
   "cell_type": "code",
   "execution_count": null,
   "id": "44ff0e94-a3a4-485a-a4a6-718f9b7f2105",
   "metadata": {},
   "outputs": [],
   "source": [
    "# Prompt user for job data\n",
    "jd_string = \"\" \n",
    "while not jd_string:  # Loop until we get some input\n",
    "    print(\"To help me analyze this job description for you, please paste the full text below:\")\n",
    "    jd_string = input()\n",
    "    print(jd_string)\n",
    "    if not jd_string:\n",
    "        print(\"Oops! Looks like you didn't paste anything. Please try again.\")"
   ]
  },
  {
   "cell_type": "markdown",
   "id": "95c0e924-0ccd-402a-8552-02e86034e6b2",
   "metadata": {},
   "source": [
    "### Build the Prompt Template\n",
    "- Provide instructions to the LLM for formatting the output of your resume.\n",
    "- Pass the your resume and job descriptions as variables to the prompt. "
   ]
  },
  {
   "cell_type": "code",
   "execution_count": 28,
   "id": "f14b253a-d6d9-452b-a42f-69b108940c19",
   "metadata": {},
   "outputs": [],
   "source": [
    "prompt_template = lambda resume_string, jd_string : f\"\"\"\n",
    "You are a professional resume optimization expert specializing in tailoring resumes to specific job descriptions. Your goal is to optimize my resume and provide actionable suggestions for improvement to align with the target role.\n",
    "\n",
    "### Guidelines:\n",
    "1. **Relevance**:  \n",
    "   - Prioritize experiences, skills, and achievements **most relevant to the job description**.  \n",
    "   - Remove or de-emphasize irrelevant details to ensure a **concise** and **targeted** resume.\n",
    "   - Limit work experience section to 4-5 most relevant roles\n",
    "   - Limit bullet points under each role to 4-5 most relevant impacts\n",
    "\n",
    "2. **Action-Driven Results**:  \n",
    "   - Use **strong action verbs** and **quantifiable results** (e.g., percentages, revenue, efficiency improvements) to highlight impact.  \n",
    "\n",
    "3. **Keyword Optimization**:  \n",
    "   - Integrate **keywords** and phrases from the job description naturally to optimize for ATS (Applicant Tracking Systems).  \n",
    "\n",
    "4. **Additional Suggestions** *(If Gaps Exist)*:  \n",
    "   - If the resume does not fully align with the job description, suggest:  \n",
    "     1. **Additional technical or soft skills** that I could add to make my profile stronger.  \n",
    "     2. **Certifications or courses** I could pursue to bridge the gap.  \n",
    "     3. **Project ideas or experiences** that would better align with the role.  \n",
    "\n",
    "5. **Formatting**:  \n",
    "   - Output the tailored resume in **clean Markdown format**.  \n",
    "   - Include an **\"Additional Suggestions\"** section at the end with actionable improvement recommendations.  \n",
    "   - Aim for a resume length of around 750-1000 words.\n",
    "   - Tailor the tone and style to match the target company and industry.\n",
    "\n",
    "---\n",
    "\n",
    "### Input:\n",
    "- **My resume**:  \n",
    "{resume_string}\n",
    "\n",
    "- **The job description**:  \n",
    "{jd_string}\n",
    "\n",
    "---\n",
    "\n",
    "### Output:  \n",
    " **Tailored Resume**:  \n",
    "   - A resume in **Markdown format** that emphasizes relevant experience, skills, and achievements.  \n",
    "   - Incorporates job description **keywords** to optimize for ATS.  \n",
    "   - Uses strong language and is no longer than **two pages**.\n",
    "\n",
    " **Contact Information:**  <-- Separate section for contact info\n",
    "    - Include all provided contact details (email, phone, LinkedIn, GitHub) in a list format.\n",
    "\n",
    " **Certifications:**  <-- Separate section for certifications at the bottom\n",
    "    - Include all provided certifications with links.\n",
    "\n",
    " **Additional Suggestions** *(if applicable)*:  \n",
    "     # Suggestions for Improvement\n",
    "   - Determine if the resume and experience is a **FIT** and a good candidate for this specific role.\n",
    "   - List **skills** that could strengthen alignment with the role.  \n",
    "   - Recommend **certifications or courses** to pursue.  \n",
    "   - Suggest **specific projects or experiences** to develop.\n",
    "\"\"\""
   ]
  },
  {
   "cell_type": "markdown",
   "id": "24851691-e04a-4799-8d75-e3a0150fc0ee",
   "metadata": {},
   "source": [
    "**List the available models availble from Google**"
   ]
  },
  {
   "cell_type": "code",
   "execution_count": null,
   "id": "e5d2588d-2037-4462-b6fd-1a1ae26df25b",
   "metadata": {},
   "outputs": [],
   "source": [
    "# List available models\n",
    "for m in genai.list_models():\n",
    "    print(f\"Model: {m.name}\")"
   ]
  },
  {
   "cell_type": "markdown",
   "id": "1d3f7df5-8655-4693-80c4-ec6cf0f0ca58",
   "metadata": {},
   "source": [
    "**Call the `prompt_template` function and assign it to a variable for passing to the model**"
   ]
  },
  {
   "cell_type": "code",
   "execution_count": 30,
   "id": "bfa9d453-0b3c-4439-b9b1-6d04522231ac",
   "metadata": {},
   "outputs": [],
   "source": [
    "prompt = prompt_template(resume_string, jd_string)"
   ]
  },
  {
   "cell_type": "markdown",
   "id": "34f5497d-9f7f-4956-b0b4-3c8620d7f2a7",
   "metadata": {},
   "source": [
    "### Text Generation with Gemini\n",
    "\n",
    "**1. Model Configuration:**\n",
    "\n",
    "Define a dictionary `generation_config` to customize the text generation process. This includes parameters like:\n",
    "\n",
    "*   **temperature:** Controls the randomness of the output. Lower values make the output more focused and deterministic.\n",
    "*   **top_p:**  Uses nucleus sampling to limit token selection to the top p probability mass.\n",
    "*   **top_k:** Limits token selection to the top k most likely tokens.\n",
    "*   **max_output_tokens:** Sets the maximum number of tokens in the generated response.\n",
    "*   **response_mime_type:** Specifies the format of the generated response (e.g., \"text/plain\").\n",
    "\n",
    "**2. Model Initialization:**\n",
    "\n",
    "Create a `GenerativeModel` object, providing the model name (\"gemini-1.5-pro\") and the `generation_config`.\n",
    "\n",
    "**3. Generating Text:**\n",
    "\n",
    "- The `generate_content` method sends a `prompt` to the model, triggering the text generation process.\n",
    "- The generated text is then extracted from the `response` object and printed to the console."
   ]
  },
  {
   "cell_type": "code",
   "execution_count": null,
   "id": "14151768-800f-40ad-b646-970c39a1574a",
   "metadata": {},
   "outputs": [],
   "source": [
    "# Create the model\n",
    "generation_config = {\n",
    "  \"temperature\": .5,\n",
    "  \"top_p\": 0.95,\n",
    "  \"top_k\": 64,\n",
    "  \"max_output_tokens\": 8192,\n",
    "  \"response_mime_type\": \"text/plain\",\n",
    "}\n",
    "\n",
    "model = genai.GenerativeModel(\n",
    "  model_name=\"gemini-1.5-pro\",\n",
    "  generation_config=generation_config,\n",
    ")\n",
    "\n",
    "\n",
    "# Query the model\n",
    "response = model.generate_content(prompt) \n",
    "generated_text = response.text\n",
    "print(generated_text)"
   ]
  },
  {
   "cell_type": "markdown",
   "id": "fbd8f560",
   "metadata": {},
   "source": [
    "Split out the updated text for the resume and suggestions"
   ]
  },
  {
   "cell_type": "code",
   "execution_count": 32,
   "id": "bc86f0ed-8cf3-455f-bf9b-4278a4e03011",
   "metadata": {},
   "outputs": [],
   "source": [
    "resume_list = generated_text.split(\"# Suggestions for Improvement\")"
   ]
  },
  {
   "cell_type": "markdown",
   "id": "7ae8d86a",
   "metadata": {},
   "source": [
    "Display the optimized resume in markdown"
   ]
  },
  {
   "cell_type": "code",
   "execution_count": null,
   "id": "a5b0f9cf-0d10-422c-acbe-d84f81941a6f",
   "metadata": {},
   "outputs": [],
   "source": [
    "display(Markdown(resume_list[0]))"
   ]
  },
  {
   "cell_type": "markdown",
   "id": "4d5695ca-8f98-48cb-b542-30789d69a1ce",
   "metadata": {},
   "source": [
    "### Save File to PDF & HTML"
   ]
  },
  {
   "cell_type": "code",
   "execution_count": null,
   "id": "53ef33a1-fc60-4faa-9bca-fea65f2ecc64",
   "metadata": {},
   "outputs": [],
   "source": [
    "# Save to PDF\n",
    "output_resume_pdf = \"resume/gemini_resume_new.pdf\"\n",
    "\n",
    "# Convert Markdown to HTML\n",
    "html_output = markdown(resume_list[0])\n",
    "print(html_output)"
   ]
  },
  {
   "cell_type": "code",
   "execution_count": null,
   "id": "264b32a5-e509-400c-bcb6-2e2308d4dbc8",
   "metadata": {},
   "outputs": [],
   "source": [
    "from markdown import markdown\n",
    "\n",
    "def markdown_to_html_with_css(markdown_text, css_file=\"styles.css\", google_font=\"Roboto\"):\n",
    "  \"\"\"\n",
    "  Converts markdown text to HTML, applies an external CSS file, and adds a Google Font.\n",
    "\n",
    "  Args:\n",
    "    markdown_text: The markdown text to convert.\n",
    "    css_file: The path to the CSS file.\n",
    "    google_font: The name of the Google Font to use.\n",
    "\n",
    "  Returns:\n",
    "    The HTML output as a string.\n",
    "  \"\"\"\n",
    "\n",
    "  html_output = markdown(markdown_text)\n",
    "\n",
    "  # Construct the HTML with the linked CSS file and Google Font\n",
    "  html_with_css = f\"\"\"\n",
    "  <!DOCTYPE html>\n",
    "  <html>\n",
    "  <head>\n",
    "    <meta charset=\"UTF-8\">\n",
    "    <title>Resume</title>\n",
    "    <link rel=\"stylesheet\" href=\"{css_file}\">\n",
    "    <link rel=\"preconnect\" href=\"https://fonts.googleapis.com\">\n",
    "    <link rel=\"preconnect\" href=\"https://fonts.gstatic.com\" crossorigin>\n",
    "    <link href=\"https://fonts.googleapis.com/css2?family={google_font}&display=swap\" rel=\"stylesheet\">\n",
    "  </head>\n",
    "  <body>\n",
    "    {html_output}\n",
    "  </body>\n",
    "  </html>\n",
    "  \"\"\"\n",
    "\n",
    "  return html_with_css\n",
    "\n",
    "# Example usage with resume_list and a Google Font:\n",
    "html_output = markdown_to_html_with_css(resume_list[0], google_font=\"Open+Sans\")\n",
    "\n",
    "# Now you can save html_output to a file or use it further\n",
    "print(html_output)\n",
    "\n",
    "# Specify the filename\n",
    "filename = \"resume/new_gemini_resume.html\"\n",
    "\n",
    "# Write the HTML to the file\n",
    "with open(filename, \"w\") as f:\n",
    "  f.write(html_output)\n",
    "\n",
    "print(f\"HTML file saved as {filename}\")"
   ]
  },
  {
   "cell_type": "markdown",
   "id": "a82f6213",
   "metadata": {},
   "source": [
    "Write the file to pdf"
   ]
  },
  {
   "cell_type": "code",
   "execution_count": 37,
   "id": "da566b74-4b97-4728-8308-dda6e81915bb",
   "metadata": {},
   "outputs": [],
   "source": [
    "# Save to PDF\n",
    "output_resume_pdf = \"resume/gemini_resume_new.pdf\"\n",
    "\n",
    "# Convert HTML to PDF and save\n",
    "HTML(string=html_output).write_pdf(output_resume_pdf, stylesheets=['resume/styles.css'])"
   ]
  },
  {
   "cell_type": "markdown",
   "id": "6f85643b",
   "metadata": {},
   "source": [
    "Write the updated resume to markdown"
   ]
  },
  {
   "cell_type": "code",
   "execution_count": 39,
   "id": "7f1da772-54cd-4856-b8f6-c7b696b79d04",
   "metadata": {},
   "outputs": [],
   "source": [
    "# save as markdown\n",
    "output_file = \"resume/gemini_resume_new.md\"\n",
    "\n",
    "with open(output_file, \"w\", encoding=\"utf-8\") as file:\n",
    "    file.write(resume_list[0])"
   ]
  },
  {
   "cell_type": "markdown",
   "id": "c7bbc121",
   "metadata": {},
   "source": [
    "Display the suggestions and if role fit"
   ]
  },
  {
   "cell_type": "code",
   "execution_count": null,
   "id": "01f14ed3-989a-495c-a1ce-32834c2be4b2",
   "metadata": {},
   "outputs": [],
   "source": [
    "display(Markdown(resume_list[1]))"
   ]
  }
 ],
 "metadata": {
  "kernelspec": {
   "display_name": "ai_dev",
   "language": "python",
   "name": "python3"
  },
  "language_info": {
   "codemirror_mode": {
    "name": "ipython",
    "version": 3
   },
   "file_extension": ".py",
   "mimetype": "text/x-python",
   "name": "python",
   "nbconvert_exporter": "python",
   "pygments_lexer": "ipython3",
   "version": "3.12.2"
  }
 },
 "nbformat": 4,
 "nbformat_minor": 5
}
