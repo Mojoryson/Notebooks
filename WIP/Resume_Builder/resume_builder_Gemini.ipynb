{
 "cells": [
  {
   "cell_type": "markdown",
   "id": "9f660630-e95d-4c61-922a-627a7d9161fd",
   "metadata": {},
   "source": [
    "## Resume Optimizer using Gemini / Google AI\n",
    "\n",
    "This Jupyter Notebook is designed to optimize resumes by leveraging AI models from Google Generative AI. The notebook guides you through the process of importing your resume and a job description, and then uses AI to tailor your resume to better match the job requirements. The key functionalities include:\n",
    "\n",
    "1. **Library Installation and Imports**: Installs and imports necessary libraries such as `google-generativeai`, `markdown`, and `weasyprint`.\n",
    "2. **Configuration**: Configures the Google Generative AI library with an API key.\n",
    "3. **Resume and Job Description Input**: Prompts the user to input their resume and job description.\n",
    "4. **Prompt Template**: Builds a prompt template to instruct the AI on how to optimize the resume.\n",
    "5. **Model Interaction**: Lists available AI models and uses a selected model to generate optimized resume content.\n",
    "6. **Output Generation**: Displays the optimized resume in Markdown format and provides suggestions for improvement.\n",
    "7. **File Saving**: Saves the optimized resume as Markdown, HTML, and PDF files.\n",
    "\n",
    "This notebook aims to help users create a more targeted and effective resume by aligning it with specific job descriptions, enhancing their chances of success in job applications.\n",
    "\n",
    "\n",
    "**Shout out to [Shaw Tabeli](https://www.shawhintalebi.com/) for the solid foundation and inspiration**"
   ]
  },
  {
   "cell_type": "code",
   "execution_count": 52,
   "id": "54f5c248-cbad-4af6-ba6f-50f461b1b4ac",
   "metadata": {},
   "outputs": [],
   "source": [
    "# Install Libs\n",
    "!pip install -U -q google-generativeai markdown weasyprint"
   ]
  },
  {
   "cell_type": "markdown",
   "id": "2a2fab57-2584-4daa-b31e-50f29ec20479",
   "metadata": {},
   "source": [
    "**Import the Libraries**"
   ]
  },
  {
   "cell_type": "code",
   "execution_count": 1,
   "id": "290eeacd-ebbd-4a05-9177-5dbbede05739",
   "metadata": {},
   "outputs": [],
   "source": [
    "from IPython.display import display, Markdown\n",
    "import os\n",
    "import google.generativeai as genai\n",
    "from markdown import markdown\n",
    "from weasyprint import HTML\n",
    "\n",
    "genai.configure(api_key=os.environ[\"GOOGLE_API_KEY\"])\n"
   ]
  },
  {
   "cell_type": "markdown",
   "id": "bde6a5d3-fe46-42b4-a6e2-dc251bae51b5",
   "metadata": {},
   "source": [
    "### Import Resume and Job Description\n",
    "- Create a markdown version of your resume\n",
    "- Read the your resume assign it to the resume_string variable"
   ]
  },
  {
   "cell_type": "code",
   "execution_count": 2,
   "id": "9b1608b3-0ae4-4be6-9cbf-2a34691dd1de",
   "metadata": {},
   "outputs": [
    {
     "data": {
      "text/markdown": [
       "# Rod Morrison\n",
       "\n",
       "* Email: [**rod.morrison@gmail.com**](mailto:rod.morrison@gmail.com)\n",
       "* Phone: [**713-907-7102**](tel:7139077102)\n",
       "* [**LinkedIn**](https://www.linkedin.com/in/rmorrison/)\n",
       "* [**Github**](https://github.com/Mojoryson)\n",
       "\n",
       "### Skills\n",
       "\n",
       "* **Technical:** Linux, Python, Bash, AWS, GCP, Vertex AI, SQL, H20.ai, Confluent Kafka, ETL/ELT, SaaS, Advanced Analytics, Data Fabric Design, Snowflake, Data Engineering, ML/AI, CI/CD, DCX, CEM, VOC\n",
       "* **Sales:** MEDDIC, Strategic Partnership Management, Stakeholder Communication, Customer Acquisition and Retention, GTM Strategy, Performance Metrics, KPI Analysis, Multi-year Presidents Club & Quota Achievement\n",
       "* **Leadership:** Skilled at leading cross-functional teams, mentoring, and scaling high-performing teams to drive business growth, enhance brand development, optimize user experience, , collaborate on product development and growth\n",
       "\n",
       "### Experience\n",
       "\n",
       "##### Raken Data Group – Head of Data Solutions - 2024-Present\n",
       "* Spearheading expansion into North America, prioritizing customer acquisition, retention, and revenue growth.\n",
       "* Cultivate strategic partnerships with software providers to expand market share and solidify North American presence.\n",
       "* Lead end-to-end project delivery, ensuring on-time, on-budget execution and exceeding CSAT expectations.\n",
       "* Create customized, platform-agnostic solutions that deliver measurable ROI and drive customer loyalty.\n",
       "* Utilize data analytics to identify growth opportunities and optimize business performance, driving strategic decision-making.\n",
       "* Developing and deploying proprietary machine learning models within a multi-vertical SaaS platform, enabling businesses to leverage advanced analytics, optimize resource allocation, and achieve data-driven growth across various sectors.\n",
       "\n",
       "##### HungerRush – Sales Engineer - 2023–2023\n",
       "\n",
       "* Developed the technical sales, marketing, and GTM execution plan for a new GenAI ordering system.\n",
       "* Nurture and grow Enterprise Accounts by aligning customers’ critical business issues with tailored solutions.\n",
       "* Increased enterprise account retention by 25 % through strategic solution sales strategies.\n",
       "* Manage installation, onboarding, and operationalization for the North American Enterprise book of business.\n",
       "* Install, configure, troubleshoot, and support client deployments on-premises and in the Azure Cloud.\n",
       "\n",
       "##### Highspot – Manager, Solutions Consulting -  2022–2023\n",
       "\n",
       "* Developed go-to-market readiness, identified gaps in preparedness, and built plans to ensure the team was\n",
       "    trained and equipped to perform successfully in support of annual goals.\n",
       "* Championed solution-selling mentorship and coaching using the Corporate Visions and MEDDIC\n",
       "    methodologies.\n",
       "* Work with teams to identify, qualify, and prioritize coverage for business opportunities.\n",
       "* Participate in opportunity review meetings to provide insight into how to secure the technical win.\n",
       "* Reinvented the go-to-market platform demonstrations to incorporate storytelling and real-world use cases.\n",
       "* Maintain customer satisfaction by working cross-functionally to resolve product problems affecting customer satisfaction.\n",
       "* Build trust with customers and influential relationships in accounts and be the technical sponsor and driver for strategic business opportunities.\n",
       "\n",
       "##### Contentsquare – Head of Solutions Consulting (East & LATAM) - 2017–2022\n",
       "\n",
       "* Promoted from Senior Sales Engineer to lead the Solutions Consulting team for North America East and LATAM, driving significant YOY revenue growth.\n",
       "* Bootstrapped and architected rapid growth in the US Central territory, achieving $3M in ARR over 12 months.\n",
       "* Built and led a top-performing post-sales engineering team to drive adoption, customer retention, NPS, and CSAT scores, resulting in substantial revenue growth and expansion.\n",
       "* Accelerated Latin America expansion, driving growth from $20K to $1M ARR in less than a year.\n",
       "* Provide technical leadership to drive services and solution integration across multiple geographies in collaboration with Account Executives and Managers.\n",
       "* Orchestrated technical sales campaigns that exceeded targets and boosted revenue and brand recognition.\n",
       "* Developed and delivered comprehensive onboarding programs for new team members, mentoring, and coaching new hires on sales engineering skills.\n",
       "\n",
       "##### Datameer - Manager, Solutions Engineering - 2015–2017\n",
       "\n",
       "* Developed and executed end-to-end sales and expansion strategies to drive new enterprise client acquisition while expanding existing customer relationships.\n",
       "* Spearheaded Solutions Engineering team talent acquisition, onboarding, and skills development efforts.\n",
       "* Developed and executed the GTM strategy for Latin America.\n",
       "* Coordinated and structured the Sales Engineering Team’s account plans and business development efforts.\n",
       "* Championed Customer Success and client relationship management to review product delivery and resolved implementation and adoption issues.\n",
       "* Developed demonstrations, presentations, and other assets to support sales and marketing efforts.\n",
       "* Created and hosted client-facing product awareness, education, and training programs.\n",
       "\n",
       "##### User Replay – Director of Sales Engineering - 2015–2015\n",
       "\n",
       "* Led sales and account penetration as the 21st employee hired in an early-stage UK company.\n",
       "* Achieved rapid growth, increasing North American territory revenue from $0 to $ 1 million ARR in 8 months.\n",
       "* Aligned customer goals, needs, and growth plans with customized solutions to drive increased ACV.\n",
       "* Served as the technical SME, providing critical support to the North American customer base.\n",
       "* Identified and addressed customers' critical business issues to expand ACV and market reach.\n",
       "* Developed and delivered compelling sales presentations and customized demonstrations to increase customer engagement.\n",
       "* Guided customers to success by effectively facilitating proof of concepts and production deployments.\n",
       "\n",
       "### Education & Certifications\n",
       "\n",
       "* [Google Cloud Public Profile](https://partner.cloudskillsboost.google/public_profiles/4e087ef0-ed5c-48b5-b763-8e5ade38459e)\n",
       "* [Snowflake Sales & Technical](https://certificates.confluent.io/profile/shaded5458/wallet)\n",
       "* [Confluent Kafka & Flink Sales & Technical](https://certificates.confluent.io/profile/shaded5458/wallet)\n",
       "* Responsive Web Design, JavaScript\n",
       "* Echelon Front Leadership Certification\n",
       "* United States Army, 3rd Battalion / 11th Armored Cavalry Regiment | Bad Hersfeld, Germany\n",
       "* Diploma in Computer Programming, Computer Learning Center, San Francisco\n"
      ],
      "text/plain": [
       "<IPython.core.display.Markdown object>"
      ]
     },
     "metadata": {},
     "output_type": "display_data"
    }
   ],
   "source": [
    "# Open and Read the resume.md \n",
    "with open(\"resume/morrison_resume.md\", \"r\", encoding=\"utf-8\") as file:\n",
    "    resume_string = file.read()\n",
    "\n",
    "display(Markdown(resume_string))"
   ]
  },
  {
   "cell_type": "markdown",
   "id": "a143f238-3a65-4e55-9985-504ee745a03b",
   "metadata": {},
   "source": [
    "### Input the Job Description\n",
    "- Copy the job description\n",
    "- Past it into the box below the prompt"
   ]
  },
  {
   "cell_type": "code",
   "execution_count": 3,
   "id": "44ff0e94-a3a4-485a-a4a6-718f9b7f2105",
   "metadata": {},
   "outputs": [
    {
     "name": "stdout",
     "output_type": "stream",
     "text": [
      "To help me analyze this job description for you, please paste the full text below:\n",
      "About the job We’re UserTesting, a leader in experience research and insights; we believe the path to human understanding and great experiences start with a shared understanding—seeing and hearing how another person engages with the world around them and taking in their perspective. Working at UserTesting, you will be empowered to help organizations discover the human side of business–transforming how they work, collaborate, innovate, and bring new products and experiences to market. This is what inspires us, and it’s how we enable companies to connect with their audiences naturally and organically through an experience that is uniquely, and intentionally human.  A trusted company by top brands for 15+ years, UserTesting, recently merged with UserZoom, has over 3,400 customers in 50 countries, including 75 of the Fortune 100 companies. Joining our team means being part of a passionate group focused on transforming how companies learn from and understand their customers. Come join us and help us build the engine for human understanding.  The Opportunity  We are looking for a Solutions Consultant who is passionate about optimizing sales strategies, driving cross-functional collaboration, and delivering exceptional value to our customers. The ideal candidate will excel in influencing the execution of sales strategies, conducting insightful 1:1 sessions with sales representatives, and partnering with various teams to drive key initiatives forward.  Pipeline Optimization: Conduct regular 1:1 sessions with sales representatives to focus on the holistic pipeline around their book of business. This includes discussing upcoming meetings, setting goals, identifying MEDDICC gaps in opportunities, and strategizing next steps.  Sales Strategy Execution: Influence the overall execution of the sales strategy by leveraging a solid understanding of how different business functions work together to achieve common goals.  Cross-Functional Collaboration: Partner and consult with cross-functional teams such as Customer Success, Product, Professional Services, and Product Marketing to drive and action key initiatives. Provide insights to Product teams regarding trends, use cases, and business impact to enhance product capabilities.  Custom Demonstrations: Deliver full \"Custom Demo\" sessions and discuss qualitative methodologies, demonstrating a base understanding of integrations to address customer needs effectively.  Proof of Concept and Value: Lead discussions and conduct Proof of Concept (POC) and Proof of Value (POV) activities with customers, showcasing the value of our solutions and guiding them towards successful outcomes.  Solution Consultation: Provide consultation on recommended solutions, including advising on seat and SUS (Single User Session) configurations.  Mentorship: Serve as the designated \"Buddy\" for new Solutions Consultants joining the team, providing guidance and support to facilitate their onboarding and development.  Objection Handling: Handle complex feature set objections and effectively position our offerings against competitors in competitive deal scenarios.  Project Engagement: Engage in projects aimed at advancing the company's knowledge and progress, contributing to continuous improvement and innovation.  Industry Expertise: Establish yourself as an industry expert within the company and among partners, sharing insights and thought leadership to drive success.  What We're Looking For  Experience in solution consulting or a related role. Strong understanding of sales strategies and pipeline management. Ability to collaborate effectively with cross-functional teams. Experience conducting product demonstrations and discussing qualitative methodologies. Demonstrated ability to lead Proof of Concept and Value discussions with customers. Proven track record of success in handling objections and competitive deal positioning. Project management experience is a plus.\n"
     ]
    }
   ],
   "source": [
    "# Prompt user for job data\n",
    "jd_string = \"\" \n",
    "while not jd_string:  # Loop until we get some input\n",
    "    print(\"To help me analyze this job description for you, please paste the full text below:\")\n",
    "    jd_string = input()\n",
    "    print(jd_string)\n",
    "    if not jd_string:\n",
    "        print(\"Oops! Looks like you didn't paste anything. Please try again.\")"
   ]
  },
  {
   "cell_type": "markdown",
   "id": "95c0e924-0ccd-402a-8552-02e86034e6b2",
   "metadata": {},
   "source": [
    "### Build the Prompt Template\n",
    "- Provide instructions to the LLM for formatting the output of your resume.\n",
    "- Pass the your resume and job descriptions as variables to the prompt. "
   ]
  },
  {
   "cell_type": "code",
   "execution_count": 4,
   "id": "f14b253a-d6d9-452b-a42f-69b108940c19",
   "metadata": {},
   "outputs": [],
   "source": [
    "prompt_template = lambda resume_string, jd_string : f\"\"\"\n",
    "You are a professional resume optimization expert specializing in tailoring resumes to specific job descriptions. Your goal is to optimize my resume and provide actionable suggestions for improvement to align with the target role.\n",
    "\n",
    "### Guidelines:\n",
    "1. **Relevance**:  \n",
    "   - Prioritize experiences, skills, and achievements **most relevant to the job description**.  \n",
    "   - Remove or de-emphasize irrelevant details to ensure a **concise** and **targeted** resume.\n",
    "   - Limit work experience section to 4-5 most relevant roles\n",
    "   - Limit bullet points under each role to 4-5 most relevant impacts\n",
    "\n",
    "2. **Action-Driven Results**:  \n",
    "   - Use **strong action verbs** and **quantifiable results** (e.g., percentages, revenue, efficiency improvements) to highlight impact.  \n",
    "\n",
    "3. **Keyword Optimization**:  \n",
    "   - Integrate **keywords** and phrases from the job description naturally to optimize for ATS (Applicant Tracking Systems).  \n",
    "\n",
    "4. **Additional Suggestions** *(If Gaps Exist)*:  \n",
    "   - If the resume does not fully align with the job description, suggest:  \n",
    "     1. **Additional technical or soft skills** that I could add to make my profile stronger.  \n",
    "     2. **Certifications or courses** I could pursue to bridge the gap.  \n",
    "     3. **Project ideas or experiences** that would better align with the role.  \n",
    "\n",
    "5. **Formatting**:  \n",
    "   - Output the tailored resume in **clean Markdown format**.  \n",
    "   - Include an **\"Additional Suggestions\"** section at the end with actionable improvement recommendations.  \n",
    "   - Aim for a resume length of around 750-1000 words.\n",
    "   - Tailor the tone and style to match the target company and industry.\n",
    "\n",
    "---\n",
    "\n",
    "### Input:\n",
    "- **My resume**:  \n",
    "{resume_string}\n",
    "\n",
    "- **The job description**:  \n",
    "{jd_string}\n",
    "\n",
    "---\n",
    "\n",
    "### Output:  \n",
    " **Tailored Resume**:  \n",
    "   - A resume in **Markdown format** that emphasizes relevant experience, skills, and achievements.  \n",
    "   - Incorporates job description **keywords** to optimize for ATS.  \n",
    "   - Uses strong language and is no longer than **two pages**.\n",
    "\n",
    " **Contact Information:**  <-- Separate section for contact info\n",
    "    - Include all provided contact details (email, phone, LinkedIn, GitHub) in a list format.\n",
    "\n",
    " **Certifications:**  <-- Separate section for certifications at the bottom\n",
    "    - Include all provided certifications with links.\n",
    "\n",
    " **Additional Suggestions** *(if applicable)*:  \n",
    "     # Suggestions for Improvement\n",
    "   - Determine if the resume and experience is a **FIT** and a good candidate for this specific role.\n",
    "   - List **skills** that could strengthen alignment with the role.  \n",
    "   - Recommend **certifications or courses** to pursue.  \n",
    "   - Suggest **specific projects or experiences** to develop.\n",
    "\"\"\""
   ]
  },
  {
   "cell_type": "markdown",
   "id": "24851691-e04a-4799-8d75-e3a0150fc0ee",
   "metadata": {},
   "source": [
    "**List the available models availble from Google**"
   ]
  },
  {
   "cell_type": "code",
   "execution_count": 5,
   "id": "e5d2588d-2037-4462-b6fd-1a1ae26df25b",
   "metadata": {},
   "outputs": [
    {
     "name": "stdout",
     "output_type": "stream",
     "text": [
      "Model: models/chat-bison-001\n",
      "Model: models/text-bison-001\n",
      "Model: models/embedding-gecko-001\n",
      "Model: models/gemini-1.0-pro-latest\n",
      "Model: models/gemini-1.0-pro\n",
      "Model: models/gemini-pro\n",
      "Model: models/gemini-1.0-pro-001\n",
      "Model: models/gemini-1.0-pro-vision-latest\n",
      "Model: models/gemini-pro-vision\n",
      "Model: models/gemini-1.5-pro-latest\n",
      "Model: models/gemini-1.5-pro-001\n",
      "Model: models/gemini-1.5-pro-002\n",
      "Model: models/gemini-1.5-pro\n",
      "Model: models/gemini-1.5-pro-exp-0801\n",
      "Model: models/gemini-1.5-pro-exp-0827\n",
      "Model: models/gemini-1.5-flash-latest\n",
      "Model: models/gemini-1.5-flash-001\n",
      "Model: models/gemini-1.5-flash-001-tuning\n",
      "Model: models/gemini-1.5-flash\n",
      "Model: models/gemini-1.5-flash-exp-0827\n",
      "Model: models/gemini-1.5-flash-002\n",
      "Model: models/gemini-1.5-flash-8b\n",
      "Model: models/gemini-1.5-flash-8b-001\n",
      "Model: models/gemini-1.5-flash-8b-latest\n",
      "Model: models/gemini-1.5-flash-8b-exp-0827\n",
      "Model: models/gemini-1.5-flash-8b-exp-0924\n",
      "Model: models/gemini-2.0-flash-exp\n",
      "Model: models/gemini-exp-1206\n",
      "Model: models/gemini-exp-1121\n",
      "Model: models/gemini-exp-1114\n",
      "Model: models/gemini-2.0-flash-thinking-exp\n",
      "Model: models/gemini-2.0-flash-thinking-exp-1219\n",
      "Model: models/learnlm-1.5-pro-experimental\n",
      "Model: models/embedding-001\n",
      "Model: models/text-embedding-004\n",
      "Model: models/aqa\n"
     ]
    }
   ],
   "source": [
    "# List available models\n",
    "for m in genai.list_models():\n",
    "    print(f\"Model: {m.name}\")"
   ]
  },
  {
   "cell_type": "markdown",
   "id": "1d3f7df5-8655-4693-80c4-ec6cf0f0ca58",
   "metadata": {},
   "source": [
    "**Call the `prompt_template` function and assign it to a variable for passing to the model**"
   ]
  },
  {
   "cell_type": "code",
   "execution_count": 6,
   "id": "bfa9d453-0b3c-4439-b9b1-6d04522231ac",
   "metadata": {},
   "outputs": [],
   "source": [
    "prompt = prompt_template(resume_string, jd_string)"
   ]
  },
  {
   "cell_type": "markdown",
   "id": "34f5497d-9f7f-4956-b0b4-3c8620d7f2a7",
   "metadata": {},
   "source": [
    "### Text Generation with Gemini\n",
    "\n",
    "**1. Model Configuration:**\n",
    "\n",
    "Define a dictionary `generation_config` to customize the text generation process. This includes parameters like:\n",
    "\n",
    "*   **temperature:** Controls the randomness of the output. Lower values make the output more focused and deterministic.\n",
    "*   **top_p:**  Uses nucleus sampling to limit token selection to the top p probability mass.\n",
    "*   **top_k:** Limits token selection to the top k most likely tokens.\n",
    "*   **max_output_tokens:** Sets the maximum number of tokens in the generated response.\n",
    "*   **response_mime_type:** Specifies the format of the generated response (e.g., \"text/plain\").\n",
    "\n",
    "**2. Model Initialization:**\n",
    "\n",
    "Create a `GenerativeModel` object, providing the model name (\"gemini-1.5-pro\") and the `generation_config`.\n",
    "\n",
    "**3. Generating Text:**\n",
    "\n",
    "- The `generate_content` method sends a `prompt` to the model, triggering the text generation process.\n",
    "- The generated text is then extracted from the `response` object and printed to the console."
   ]
  },
  {
   "cell_type": "code",
   "execution_count": 7,
   "id": "14151768-800f-40ad-b646-970c39a1574a",
   "metadata": {},
   "outputs": [
    {
     "name": "stdout",
     "output_type": "stream",
     "text": [
      "## Rod Morrison\n",
      "\n",
      "**Contact Information:**\n",
      "* Email: [rod.morrison@gmail.com](mailto:rod.morrison@gmail.com)\n",
      "* Phone: [713-907-7102](tel:7139077102)\n",
      "* LinkedIn: [https://www.linkedin.com/in/rmorrison/](https://www.linkedin.com/in/rmorrison/)\n",
      "* GitHub: [https://github.com/Mojoryson](https://github.com/Mojoryson)\n",
      "\n",
      "\n",
      "**Summary**\n",
      "\n",
      "Highly accomplished and results-driven Solutions Consultant and Sales Engineer with 10+ years of experience driving revenue growth, optimizing sales strategies, and building strong customer relationships within the SaaS and technology industries. Proven ability to lead cross-functional teams, execute go-to-market strategies, conduct effective product demonstrations, and manage complex Proof of Concept (POC) and Proof of Value (POV) engagements. Expertise in MEDDIC sales methodology, pipeline management, and objection handling, coupled with a strong understanding of qualitative research methodologies and customer experience optimization. Passionate about leveraging technology to solve business challenges and deliver exceptional customer value.\n",
      "\n",
      "\n",
      "**Experience**\n",
      "\n",
      "**Highspot – Manager, Solutions Consulting – 2022–2023**\n",
      "* Developed go-to-market readiness plans, identifying and addressing gaps to ensure team preparedness for annual goals.\n",
      "* Championed solution-selling mentorship and coaching utilizing the MEDDIC methodology, enhancing sales effectiveness.\n",
      "* Participated in opportunity review meetings, providing technical insights to secure wins and drive revenue growth.\n",
      "* Reinvented go-to-market platform demonstrations, incorporating storytelling and real-world use cases to improve customer engagement.\n",
      "* Maintained customer satisfaction by collaborating cross-functionally to resolve product issues and enhance customer experience.\n",
      "\n",
      "**Contentsquare – Head of Solutions Consulting (East & LATAM) – 2017–2022**\n",
      "* Led the Solutions Consulting team, driving significant year-over-year revenue growth and exceeding sales targets.\n",
      "* Built and led a high-performing post-sales engineering team, improving customer retention, NPS, and CSAT scores.\n",
      "* Provided technical leadership and solution integration across multiple geographies, collaborating with Account Executives and Managers.\n",
      "* Developed and delivered comprehensive onboarding programs for new team members, mentoring and coaching on sales engineering best practices.\n",
      "\n",
      "**Datameer - Manager, Solutions Engineering – 2015–2017**\n",
      "* Developed and executed end-to-end sales and expansion strategies, driving new enterprise client acquisition and growing existing customer relationships.\n",
      "* Developed and delivered client-facing product awareness, education, and training programs, enhancing customer understanding and adoption.\n",
      "* Developed demonstrations, presentations, and sales assets to support marketing efforts and drive customer engagement.\n",
      "\n",
      "**User Replay – Director of Sales Engineering – 2015–2015**\n",
      "* Led sales and account penetration as an early employee, achieving rapid revenue growth in the North American territory.\n",
      "* Aligned customer goals and needs with customized solutions, driving increased ACV and expanding market reach.\n",
      "* Served as the technical subject matter expert, providing critical support to the North American customer base.\n",
      "\n",
      "\n",
      "**Skills**\n",
      "\n",
      "* **Sales & Solutions Consulting:** MEDDIC, Solution Selling, Pipeline Management, Objection Handling, Competitive Deal Positioning, Customer Needs Analysis, Go-to-Market Strategy, Product Demonstrations, Proof of Concept (POC), Proof of Value (POV), Cross-functional Collaboration, Customer Relationship Management (CRM)\n",
      "* **Technical:** SaaS, Cloud Computing, Data Analytics, Qualitative Methodologies, Integrations, Customer Experience Optimization\n",
      "* **Leadership & Mentorship:** Team Leadership, Coaching, Onboarding, Training, Sales Enablement\n",
      "\n",
      "\n",
      "**Education & Certifications**\n",
      "\n",
      "* Google Cloud Public Profile: [https://partner.cloudskillsboost.google/public_profiles/4e087ef0-ed5c-48b5-b763-8e5ade38459e](https://partner.cloudskillsboost.google/public_profiles/4e087ef0-ed5c-48b5-b763-8e5ade38459e)\n",
      "* Snowflake Sales & Technical: [https://certificates.confluent.io/profile/shaded5458/wallet](https://certificates.confluent.io/profile/shaded5458/wallet)\n",
      "* Confluent Kafka & Flink Sales & Technical: [https://certificates.confluent.io/profile/shaded5458/wallet](https://certificates.confluent.io/profile/shaded5458/wallet)\n",
      "* Responsive Web Design, JavaScript\n",
      "* Echelon Front Leadership Certification\n",
      "* United States Army, 3rd Battalion / 11th Armored Cavalry Regiment | Bad Hersfeld, Germany\n",
      "* Diploma in Computer Programming, Computer Learning Center, San Francisco\n",
      "\n",
      "\n",
      "\n",
      "# Suggestions for Improvement\n",
      "\n",
      "**Fit Assessment:**  While your resume demonstrates strong sales and solutions consulting experience, ensure you highlight your experience with *qualitative research methodologies* and *customer experience optimization* more explicitly. The job description emphasizes these aspects, so showcasing relevant projects or achievements in these areas will strengthen your candidacy.\n",
      "\n",
      "**Skills:**\n",
      "* **Qualitative Research:**  Expand on your understanding of various qualitative research methods (e.g., user interviews, usability testing, ethnographic research).  Consider adding specific examples of applying these methods in past roles.\n",
      "* **User Research Platforms:** Familiarize yourself with UserTesting's platform and competitors.  Mentioning any experience with similar platforms will be highly beneficial.\n",
      "* **Customer Journey Mapping:**  Demonstrate your ability to map and analyze customer journeys to identify pain points and opportunities for improvement.\n",
      "\n",
      "**Certifications/Courses:**\n",
      "* **User Experience (UX) Certifications:**  Consider pursuing a recognized UX certification (e.g., Nielsen Norman Group, Human Factors International) to demonstrate your commitment to user-centered design.\n",
      "* **Qualitative Research Courses:**  Taking online courses or workshops on qualitative research methods will further enhance your skills and credibility in this area.\n",
      "\n",
      "**Projects/Experiences:**\n",
      "* **Personal UX Projects:**  Conduct your own user research studies on personal projects or volunteer for UX-related work to gain practical experience.\n",
      "* **Case Studies:**  Develop case studies showcasing your contributions to successful customer experience initiatives, highlighting quantifiable results and impact.\n",
      "* **Portfolio:**  Create a portfolio showcasing your UX research skills and projects, including any reports, presentations, or deliverables you've created.  This will provide tangible evidence of your abilities. \n",
      "\n"
     ]
    }
   ],
   "source": [
    "# Create the model\n",
    "generation_config = {\n",
    "  \"temperature\": .5,\n",
    "  \"top_p\": 0.95,\n",
    "  \"top_k\": 64,\n",
    "  \"max_output_tokens\": 8192,\n",
    "  \"response_mime_type\": \"text/plain\",\n",
    "}\n",
    "\n",
    "model = genai.GenerativeModel(\n",
    "  model_name=\"gemini-1.5-pro\",\n",
    "  generation_config=generation_config,\n",
    ")\n",
    "\n",
    "\n",
    "# Query the model\n",
    "response = model.generate_content(prompt) \n",
    "generated_text = response.text\n",
    "print(generated_text)"
   ]
  },
  {
   "cell_type": "markdown",
   "id": "fbd8f560",
   "metadata": {},
   "source": [
    "Split out the updated text for the resume and suggestions"
   ]
  },
  {
   "cell_type": "code",
   "execution_count": 8,
   "id": "bc86f0ed-8cf3-455f-bf9b-4278a4e03011",
   "metadata": {},
   "outputs": [],
   "source": [
    "resume_list = generated_text.split(\"# Suggestions for Improvement\")"
   ]
  },
  {
   "cell_type": "markdown",
   "id": "7ae8d86a",
   "metadata": {},
   "source": [
    "Display the optimized resume in markdown"
   ]
  },
  {
   "cell_type": "code",
   "execution_count": 9,
   "id": "a5b0f9cf-0d10-422c-acbe-d84f81941a6f",
   "metadata": {},
   "outputs": [
    {
     "data": {
      "text/markdown": [
       "## Rod Morrison\n",
       "\n",
       "**Contact Information:**\n",
       "* Email: [rod.morrison@gmail.com](mailto:rod.morrison@gmail.com)\n",
       "* Phone: [713-907-7102](tel:7139077102)\n",
       "* LinkedIn: [https://www.linkedin.com/in/rmorrison/](https://www.linkedin.com/in/rmorrison/)\n",
       "* GitHub: [https://github.com/Mojoryson](https://github.com/Mojoryson)\n",
       "\n",
       "\n",
       "**Summary**\n",
       "\n",
       "Highly accomplished and results-driven Solutions Consultant and Sales Engineer with 10+ years of experience driving revenue growth, optimizing sales strategies, and building strong customer relationships within the SaaS and technology industries. Proven ability to lead cross-functional teams, execute go-to-market strategies, conduct effective product demonstrations, and manage complex Proof of Concept (POC) and Proof of Value (POV) engagements. Expertise in MEDDIC sales methodology, pipeline management, and objection handling, coupled with a strong understanding of qualitative research methodologies and customer experience optimization. Passionate about leveraging technology to solve business challenges and deliver exceptional customer value.\n",
       "\n",
       "\n",
       "**Experience**\n",
       "\n",
       "**Highspot – Manager, Solutions Consulting – 2022–2023**\n",
       "* Developed go-to-market readiness plans, identifying and addressing gaps to ensure team preparedness for annual goals.\n",
       "* Championed solution-selling mentorship and coaching utilizing the MEDDIC methodology, enhancing sales effectiveness.\n",
       "* Participated in opportunity review meetings, providing technical insights to secure wins and drive revenue growth.\n",
       "* Reinvented go-to-market platform demonstrations, incorporating storytelling and real-world use cases to improve customer engagement.\n",
       "* Maintained customer satisfaction by collaborating cross-functionally to resolve product issues and enhance customer experience.\n",
       "\n",
       "**Contentsquare – Head of Solutions Consulting (East & LATAM) – 2017–2022**\n",
       "* Led the Solutions Consulting team, driving significant year-over-year revenue growth and exceeding sales targets.\n",
       "* Built and led a high-performing post-sales engineering team, improving customer retention, NPS, and CSAT scores.\n",
       "* Provided technical leadership and solution integration across multiple geographies, collaborating with Account Executives and Managers.\n",
       "* Developed and delivered comprehensive onboarding programs for new team members, mentoring and coaching on sales engineering best practices.\n",
       "\n",
       "**Datameer - Manager, Solutions Engineering – 2015–2017**\n",
       "* Developed and executed end-to-end sales and expansion strategies, driving new enterprise client acquisition and growing existing customer relationships.\n",
       "* Developed and delivered client-facing product awareness, education, and training programs, enhancing customer understanding and adoption.\n",
       "* Developed demonstrations, presentations, and sales assets to support marketing efforts and drive customer engagement.\n",
       "\n",
       "**User Replay – Director of Sales Engineering – 2015–2015**\n",
       "* Led sales and account penetration as an early employee, achieving rapid revenue growth in the North American territory.\n",
       "* Aligned customer goals and needs with customized solutions, driving increased ACV and expanding market reach.\n",
       "* Served as the technical subject matter expert, providing critical support to the North American customer base.\n",
       "\n",
       "\n",
       "**Skills**\n",
       "\n",
       "* **Sales & Solutions Consulting:** MEDDIC, Solution Selling, Pipeline Management, Objection Handling, Competitive Deal Positioning, Customer Needs Analysis, Go-to-Market Strategy, Product Demonstrations, Proof of Concept (POC), Proof of Value (POV), Cross-functional Collaboration, Customer Relationship Management (CRM)\n",
       "* **Technical:** SaaS, Cloud Computing, Data Analytics, Qualitative Methodologies, Integrations, Customer Experience Optimization\n",
       "* **Leadership & Mentorship:** Team Leadership, Coaching, Onboarding, Training, Sales Enablement\n",
       "\n",
       "\n",
       "**Education & Certifications**\n",
       "\n",
       "* Google Cloud Public Profile: [https://partner.cloudskillsboost.google/public_profiles/4e087ef0-ed5c-48b5-b763-8e5ade38459e](https://partner.cloudskillsboost.google/public_profiles/4e087ef0-ed5c-48b5-b763-8e5ade38459e)\n",
       "* Snowflake Sales & Technical: [https://certificates.confluent.io/profile/shaded5458/wallet](https://certificates.confluent.io/profile/shaded5458/wallet)\n",
       "* Confluent Kafka & Flink Sales & Technical: [https://certificates.confluent.io/profile/shaded5458/wallet](https://certificates.confluent.io/profile/shaded5458/wallet)\n",
       "* Responsive Web Design, JavaScript\n",
       "* Echelon Front Leadership Certification\n",
       "* United States Army, 3rd Battalion / 11th Armored Cavalry Regiment | Bad Hersfeld, Germany\n",
       "* Diploma in Computer Programming, Computer Learning Center, San Francisco\n",
       "\n",
       "\n",
       "\n"
      ],
      "text/plain": [
       "<IPython.core.display.Markdown object>"
      ]
     },
     "metadata": {},
     "output_type": "display_data"
    }
   ],
   "source": [
    "display(Markdown(resume_list[0]))"
   ]
  },
  {
   "cell_type": "markdown",
   "id": "4d5695ca-8f98-48cb-b542-30789d69a1ce",
   "metadata": {},
   "source": [
    "### Save File to PDF & HTML"
   ]
  },
  {
   "cell_type": "code",
   "execution_count": 10,
   "id": "53ef33a1-fc60-4faa-9bca-fea65f2ecc64",
   "metadata": {},
   "outputs": [
    {
     "name": "stdout",
     "output_type": "stream",
     "text": [
      "<h2>Rod Morrison</h2>\n",
      "<p><strong>Contact Information:</strong>\n",
      "* Email: <a href=\"mailto:rod.morrison@gmail.com\">rod.morrison@gmail.com</a>\n",
      "* Phone: <a href=\"tel:7139077102\">713-907-7102</a>\n",
      "* LinkedIn: <a href=\"https://www.linkedin.com/in/rmorrison/\">https://www.linkedin.com/in/rmorrison/</a>\n",
      "* GitHub: <a href=\"https://github.com/Mojoryson\">https://github.com/Mojoryson</a></p>\n",
      "<p><strong>Summary</strong></p>\n",
      "<p>Highly accomplished and results-driven Solutions Consultant and Sales Engineer with 10+ years of experience driving revenue growth, optimizing sales strategies, and building strong customer relationships within the SaaS and technology industries. Proven ability to lead cross-functional teams, execute go-to-market strategies, conduct effective product demonstrations, and manage complex Proof of Concept (POC) and Proof of Value (POV) engagements. Expertise in MEDDIC sales methodology, pipeline management, and objection handling, coupled with a strong understanding of qualitative research methodologies and customer experience optimization. Passionate about leveraging technology to solve business challenges and deliver exceptional customer value.</p>\n",
      "<p><strong>Experience</strong></p>\n",
      "<p><strong>Highspot – Manager, Solutions Consulting – 2022–2023</strong>\n",
      "* Developed go-to-market readiness plans, identifying and addressing gaps to ensure team preparedness for annual goals.\n",
      "* Championed solution-selling mentorship and coaching utilizing the MEDDIC methodology, enhancing sales effectiveness.\n",
      "* Participated in opportunity review meetings, providing technical insights to secure wins and drive revenue growth.\n",
      "* Reinvented go-to-market platform demonstrations, incorporating storytelling and real-world use cases to improve customer engagement.\n",
      "* Maintained customer satisfaction by collaborating cross-functionally to resolve product issues and enhance customer experience.</p>\n",
      "<p><strong>Contentsquare – Head of Solutions Consulting (East &amp; LATAM) – 2017–2022</strong>\n",
      "* Led the Solutions Consulting team, driving significant year-over-year revenue growth and exceeding sales targets.\n",
      "* Built and led a high-performing post-sales engineering team, improving customer retention, NPS, and CSAT scores.\n",
      "* Provided technical leadership and solution integration across multiple geographies, collaborating with Account Executives and Managers.\n",
      "* Developed and delivered comprehensive onboarding programs for new team members, mentoring and coaching on sales engineering best practices.</p>\n",
      "<p><strong>Datameer - Manager, Solutions Engineering – 2015–2017</strong>\n",
      "* Developed and executed end-to-end sales and expansion strategies, driving new enterprise client acquisition and growing existing customer relationships.\n",
      "* Developed and delivered client-facing product awareness, education, and training programs, enhancing customer understanding and adoption.\n",
      "* Developed demonstrations, presentations, and sales assets to support marketing efforts and drive customer engagement.</p>\n",
      "<p><strong>User Replay – Director of Sales Engineering – 2015–2015</strong>\n",
      "* Led sales and account penetration as an early employee, achieving rapid revenue growth in the North American territory.\n",
      "* Aligned customer goals and needs with customized solutions, driving increased ACV and expanding market reach.\n",
      "* Served as the technical subject matter expert, providing critical support to the North American customer base.</p>\n",
      "<p><strong>Skills</strong></p>\n",
      "<ul>\n",
      "<li><strong>Sales &amp; Solutions Consulting:</strong> MEDDIC, Solution Selling, Pipeline Management, Objection Handling, Competitive Deal Positioning, Customer Needs Analysis, Go-to-Market Strategy, Product Demonstrations, Proof of Concept (POC), Proof of Value (POV), Cross-functional Collaboration, Customer Relationship Management (CRM)</li>\n",
      "<li><strong>Technical:</strong> SaaS, Cloud Computing, Data Analytics, Qualitative Methodologies, Integrations, Customer Experience Optimization</li>\n",
      "<li><strong>Leadership &amp; Mentorship:</strong> Team Leadership, Coaching, Onboarding, Training, Sales Enablement</li>\n",
      "</ul>\n",
      "<p><strong>Education &amp; Certifications</strong></p>\n",
      "<ul>\n",
      "<li>Google Cloud Public Profile: <a href=\"https://partner.cloudskillsboost.google/public_profiles/4e087ef0-ed5c-48b5-b763-8e5ade38459e\">https://partner.cloudskillsboost.google/public_profiles/4e087ef0-ed5c-48b5-b763-8e5ade38459e</a></li>\n",
      "<li>Snowflake Sales &amp; Technical: <a href=\"https://certificates.confluent.io/profile/shaded5458/wallet\">https://certificates.confluent.io/profile/shaded5458/wallet</a></li>\n",
      "<li>Confluent Kafka &amp; Flink Sales &amp; Technical: <a href=\"https://certificates.confluent.io/profile/shaded5458/wallet\">https://certificates.confluent.io/profile/shaded5458/wallet</a></li>\n",
      "<li>Responsive Web Design, JavaScript</li>\n",
      "<li>Echelon Front Leadership Certification</li>\n",
      "<li>United States Army, 3rd Battalion / 11th Armored Cavalry Regiment | Bad Hersfeld, Germany</li>\n",
      "<li>Diploma in Computer Programming, Computer Learning Center, San Francisco</li>\n",
      "</ul>\n"
     ]
    }
   ],
   "source": [
    "# Save to PDF\n",
    "output_resume_pdf = \"resume/gemini_resume_new.pdf\"\n",
    "\n",
    "# Convert Markdown to HTML\n",
    "html_output = markdown(resume_list[0])\n",
    "print(html_output)"
   ]
  },
  {
   "cell_type": "code",
   "execution_count": 11,
   "id": "264b32a5-e509-400c-bcb6-2e2308d4dbc8",
   "metadata": {},
   "outputs": [
    {
     "name": "stdout",
     "output_type": "stream",
     "text": [
      "\n",
      "  <!DOCTYPE html>\n",
      "  <html>\n",
      "  <head>\n",
      "    <meta charset=\"UTF-8\">\n",
      "    <title>Resume</title>\n",
      "    <link rel=\"stylesheet\" href=\"styles.css\">\n",
      "    <link rel=\"preconnect\" href=\"https://fonts.googleapis.com\">\n",
      "    <link rel=\"preconnect\" href=\"https://fonts.gstatic.com\" crossorigin>\n",
      "    <link href=\"https://fonts.googleapis.com/css2?family=Open+Sans&display=swap\" rel=\"stylesheet\">\n",
      "  </head>\n",
      "  <body>\n",
      "    <h2>Rod Morrison</h2>\n",
      "<p><strong>Contact Information:</strong>\n",
      "* Email: <a href=\"mailto:rod.morrison@gmail.com\">rod.morrison@gmail.com</a>\n",
      "* Phone: <a href=\"tel:7139077102\">713-907-7102</a>\n",
      "* LinkedIn: <a href=\"https://www.linkedin.com/in/rmorrison/\">https://www.linkedin.com/in/rmorrison/</a>\n",
      "* GitHub: <a href=\"https://github.com/Mojoryson\">https://github.com/Mojoryson</a></p>\n",
      "<p><strong>Summary</strong></p>\n",
      "<p>Highly accomplished and results-driven Solutions Consultant and Sales Engineer with 10+ years of experience driving revenue growth, optimizing sales strategies, and building strong customer relationships within the SaaS and technology industries. Proven ability to lead cross-functional teams, execute go-to-market strategies, conduct effective product demonstrations, and manage complex Proof of Concept (POC) and Proof of Value (POV) engagements. Expertise in MEDDIC sales methodology, pipeline management, and objection handling, coupled with a strong understanding of qualitative research methodologies and customer experience optimization. Passionate about leveraging technology to solve business challenges and deliver exceptional customer value.</p>\n",
      "<p><strong>Experience</strong></p>\n",
      "<p><strong>Highspot – Manager, Solutions Consulting – 2022–2023</strong>\n",
      "* Developed go-to-market readiness plans, identifying and addressing gaps to ensure team preparedness for annual goals.\n",
      "* Championed solution-selling mentorship and coaching utilizing the MEDDIC methodology, enhancing sales effectiveness.\n",
      "* Participated in opportunity review meetings, providing technical insights to secure wins and drive revenue growth.\n",
      "* Reinvented go-to-market platform demonstrations, incorporating storytelling and real-world use cases to improve customer engagement.\n",
      "* Maintained customer satisfaction by collaborating cross-functionally to resolve product issues and enhance customer experience.</p>\n",
      "<p><strong>Contentsquare – Head of Solutions Consulting (East &amp; LATAM) – 2017–2022</strong>\n",
      "* Led the Solutions Consulting team, driving significant year-over-year revenue growth and exceeding sales targets.\n",
      "* Built and led a high-performing post-sales engineering team, improving customer retention, NPS, and CSAT scores.\n",
      "* Provided technical leadership and solution integration across multiple geographies, collaborating with Account Executives and Managers.\n",
      "* Developed and delivered comprehensive onboarding programs for new team members, mentoring and coaching on sales engineering best practices.</p>\n",
      "<p><strong>Datameer - Manager, Solutions Engineering – 2015–2017</strong>\n",
      "* Developed and executed end-to-end sales and expansion strategies, driving new enterprise client acquisition and growing existing customer relationships.\n",
      "* Developed and delivered client-facing product awareness, education, and training programs, enhancing customer understanding and adoption.\n",
      "* Developed demonstrations, presentations, and sales assets to support marketing efforts and drive customer engagement.</p>\n",
      "<p><strong>User Replay – Director of Sales Engineering – 2015–2015</strong>\n",
      "* Led sales and account penetration as an early employee, achieving rapid revenue growth in the North American territory.\n",
      "* Aligned customer goals and needs with customized solutions, driving increased ACV and expanding market reach.\n",
      "* Served as the technical subject matter expert, providing critical support to the North American customer base.</p>\n",
      "<p><strong>Skills</strong></p>\n",
      "<ul>\n",
      "<li><strong>Sales &amp; Solutions Consulting:</strong> MEDDIC, Solution Selling, Pipeline Management, Objection Handling, Competitive Deal Positioning, Customer Needs Analysis, Go-to-Market Strategy, Product Demonstrations, Proof of Concept (POC), Proof of Value (POV), Cross-functional Collaboration, Customer Relationship Management (CRM)</li>\n",
      "<li><strong>Technical:</strong> SaaS, Cloud Computing, Data Analytics, Qualitative Methodologies, Integrations, Customer Experience Optimization</li>\n",
      "<li><strong>Leadership &amp; Mentorship:</strong> Team Leadership, Coaching, Onboarding, Training, Sales Enablement</li>\n",
      "</ul>\n",
      "<p><strong>Education &amp; Certifications</strong></p>\n",
      "<ul>\n",
      "<li>Google Cloud Public Profile: <a href=\"https://partner.cloudskillsboost.google/public_profiles/4e087ef0-ed5c-48b5-b763-8e5ade38459e\">https://partner.cloudskillsboost.google/public_profiles/4e087ef0-ed5c-48b5-b763-8e5ade38459e</a></li>\n",
      "<li>Snowflake Sales &amp; Technical: <a href=\"https://certificates.confluent.io/profile/shaded5458/wallet\">https://certificates.confluent.io/profile/shaded5458/wallet</a></li>\n",
      "<li>Confluent Kafka &amp; Flink Sales &amp; Technical: <a href=\"https://certificates.confluent.io/profile/shaded5458/wallet\">https://certificates.confluent.io/profile/shaded5458/wallet</a></li>\n",
      "<li>Responsive Web Design, JavaScript</li>\n",
      "<li>Echelon Front Leadership Certification</li>\n",
      "<li>United States Army, 3rd Battalion / 11th Armored Cavalry Regiment | Bad Hersfeld, Germany</li>\n",
      "<li>Diploma in Computer Programming, Computer Learning Center, San Francisco</li>\n",
      "</ul>\n",
      "  </body>\n",
      "  </html>\n",
      "  \n",
      "HTML file saved as resume/new_gemini_resume.html\n"
     ]
    }
   ],
   "source": [
    "from markdown import markdown\n",
    "\n",
    "def markdown_to_html_with_css(markdown_text, css_file=\"styles.css\", google_font=\"Roboto\"):\n",
    "  \"\"\"\n",
    "  Converts markdown text to HTML, applies an external CSS file, and adds a Google Font.\n",
    "\n",
    "  Args:\n",
    "    markdown_text: The markdown text to convert.\n",
    "    css_file: The path to the CSS file.\n",
    "    google_font: The name of the Google Font to use.\n",
    "\n",
    "  Returns:\n",
    "    The HTML output as a string.\n",
    "  \"\"\"\n",
    "\n",
    "  html_output = markdown(markdown_text)\n",
    "\n",
    "  # Construct the HTML with the linked CSS file and Google Font\n",
    "  html_with_css = f\"\"\"\n",
    "  <!DOCTYPE html>\n",
    "  <html>\n",
    "  <head>\n",
    "    <meta charset=\"UTF-8\">\n",
    "    <title>Resume</title>\n",
    "    <link rel=\"stylesheet\" href=\"{css_file}\">\n",
    "    <link rel=\"preconnect\" href=\"https://fonts.googleapis.com\">\n",
    "    <link rel=\"preconnect\" href=\"https://fonts.gstatic.com\" crossorigin>\n",
    "    <link href=\"https://fonts.googleapis.com/css2?family={google_font}&display=swap\" rel=\"stylesheet\">\n",
    "  </head>\n",
    "  <body>\n",
    "    {html_output}\n",
    "  </body>\n",
    "  </html>\n",
    "  \"\"\"\n",
    "\n",
    "  return html_with_css\n",
    "\n",
    "# Example usage with resume_list and a Google Font:\n",
    "html_output = markdown_to_html_with_css(resume_list[0], google_font=\"Open+Sans\")\n",
    "\n",
    "# Now you can save html_output to a file or use it further\n",
    "print(html_output)\n",
    "\n",
    "# Specify the filename\n",
    "filename = \"resume/new_gemini_resume.html\"\n",
    "\n",
    "# Write the HTML to the file\n",
    "with open(filename, \"w\") as f:\n",
    "  f.write(html_output)\n",
    "\n",
    "print(f\"HTML file saved as {filename}\")"
   ]
  },
  {
   "cell_type": "markdown",
   "id": "a82f6213",
   "metadata": {},
   "source": [
    "Write the file to pdf"
   ]
  },
  {
   "cell_type": "code",
   "execution_count": 12,
   "id": "da566b74-4b97-4728-8308-dda6e81915bb",
   "metadata": {},
   "outputs": [],
   "source": [
    "# Save to PDF\n",
    "output_resume_pdf = \"resume/gemini_resume_new.pdf\"\n",
    "\n",
    "# Convert HTML to PDF and save\n",
    "HTML(string=html_output).write_pdf(output_resume_pdf, stylesheets=['resume/styles.css'])"
   ]
  },
  {
   "cell_type": "markdown",
   "id": "6f85643b",
   "metadata": {},
   "source": [
    "Write the updated resume to markdown"
   ]
  },
  {
   "cell_type": "code",
   "execution_count": 13,
   "id": "7f1da772-54cd-4856-b8f6-c7b696b79d04",
   "metadata": {},
   "outputs": [],
   "source": [
    "# save as markdown\n",
    "output_file = \"resume/gemini_resume_new.md\"\n",
    "\n",
    "with open(output_file, \"w\", encoding=\"utf-8\") as file:\n",
    "    file.write(resume_list[0])"
   ]
  },
  {
   "cell_type": "markdown",
   "id": "c7bbc121",
   "metadata": {},
   "source": [
    "Display the suggestions and if role fit"
   ]
  },
  {
   "cell_type": "code",
   "execution_count": 14,
   "id": "01f14ed3-989a-495c-a1ce-32834c2be4b2",
   "metadata": {},
   "outputs": [
    {
     "data": {
      "text/markdown": [
       "\n",
       "\n",
       "**Fit Assessment:**  While your resume demonstrates strong sales and solutions consulting experience, ensure you highlight your experience with *qualitative research methodologies* and *customer experience optimization* more explicitly. The job description emphasizes these aspects, so showcasing relevant projects or achievements in these areas will strengthen your candidacy.\n",
       "\n",
       "**Skills:**\n",
       "* **Qualitative Research:**  Expand on your understanding of various qualitative research methods (e.g., user interviews, usability testing, ethnographic research).  Consider adding specific examples of applying these methods in past roles.\n",
       "* **User Research Platforms:** Familiarize yourself with UserTesting's platform and competitors.  Mentioning any experience with similar platforms will be highly beneficial.\n",
       "* **Customer Journey Mapping:**  Demonstrate your ability to map and analyze customer journeys to identify pain points and opportunities for improvement.\n",
       "\n",
       "**Certifications/Courses:**\n",
       "* **User Experience (UX) Certifications:**  Consider pursuing a recognized UX certification (e.g., Nielsen Norman Group, Human Factors International) to demonstrate your commitment to user-centered design.\n",
       "* **Qualitative Research Courses:**  Taking online courses or workshops on qualitative research methods will further enhance your skills and credibility in this area.\n",
       "\n",
       "**Projects/Experiences:**\n",
       "* **Personal UX Projects:**  Conduct your own user research studies on personal projects or volunteer for UX-related work to gain practical experience.\n",
       "* **Case Studies:**  Develop case studies showcasing your contributions to successful customer experience initiatives, highlighting quantifiable results and impact.\n",
       "* **Portfolio:**  Create a portfolio showcasing your UX research skills and projects, including any reports, presentations, or deliverables you've created.  This will provide tangible evidence of your abilities. \n"
      ],
      "text/plain": [
       "<IPython.core.display.Markdown object>"
      ]
     },
     "metadata": {},
     "output_type": "display_data"
    }
   ],
   "source": [
    "display(Markdown(resume_list[1]))"
   ]
  }
 ],
 "metadata": {
  "kernelspec": {
   "display_name": "ai_dev",
   "language": "python",
   "name": "python3"
  },
  "language_info": {
   "codemirror_mode": {
    "name": "ipython",
    "version": 3
   },
   "file_extension": ".py",
   "mimetype": "text/x-python",
   "name": "python",
   "nbconvert_exporter": "python",
   "pygments_lexer": "ipython3",
   "version": "3.12.2"
  }
 },
 "nbformat": 4,
 "nbformat_minor": 5
}
