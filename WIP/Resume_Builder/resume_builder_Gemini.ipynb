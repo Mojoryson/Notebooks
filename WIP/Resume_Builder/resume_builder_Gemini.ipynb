{
 "cells": [
  {
   "cell_type": "markdown",
   "id": "9f660630-e95d-4c61-922a-627a7d9161fd",
   "metadata": {},
   "source": [
    "# Resume Optimizer using AI\n",
    "**Shout out to [Shaw Tabeli](https://www.shawhintalebi.com/) for the solid foundation and inspiration**\n",
    "- Install the Libraries"
   ]
  },
  {
   "cell_type": "code",
   "execution_count": 52,
   "id": "54f5c248-cbad-4af6-ba6f-50f461b1b4ac",
   "metadata": {},
   "outputs": [],
   "source": [
    "# Install Libs\n",
    "!pip install -U -q google-generativeai markdown weasyprint"
   ]
  },
  {
   "cell_type": "markdown",
   "id": "2a2fab57-2584-4daa-b31e-50f29ec20479",
   "metadata": {},
   "source": [
    "**Import the Libraries**"
   ]
  },
  {
   "cell_type": "code",
<<<<<<< HEAD
   "execution_count": 17,
   "id": "290eeacd-ebbd-4a05-9177-5dbbede05739",
   "metadata": {},
   "outputs": [
    {
     "name": "stdout",
     "output_type": "stream",
     "text": [
      "\n",
      "-----\n",
      "\n",
      "WeasyPrint could not import some external libraries. Please carefully follow the installation steps before reporting an issue:\n",
      "https://doc.courtbouillon.org/weasyprint/stable/first_steps.html#installation\n",
      "https://doc.courtbouillon.org/weasyprint/stable/first_steps.html#troubleshooting \n",
      "\n",
      "-----\n",
      "\n"
     ]
    },
    {
     "ename": "OSError",
     "evalue": "cannot load library 'libgobject-2.0-0': dlopen(libgobject-2.0-0, 0x0002): tried: 'libgobject-2.0-0' (no such file), '/System/Volumes/Preboot/Cryptexes/OSlibgobject-2.0-0' (no such file), '/opt/anaconda3/envs/ai_dev/bin/../lib/libgobject-2.0-0' (no such file), '/usr/lib/libgobject-2.0-0' (no such file, not in dyld cache), 'libgobject-2.0-0' (no such file).  Additionally, ctypes.util.find_library() did not manage to locate a library called 'libgobject-2.0-0'",
     "output_type": "error",
     "traceback": [
      "\u001b[0;31m---------------------------------------------------------------------------\u001b[0m",
      "\u001b[0;31mOSError\u001b[0m                                   Traceback (most recent call last)",
      "Cell \u001b[0;32mIn[17], line 5\u001b[0m\n\u001b[1;32m      3\u001b[0m \u001b[38;5;28;01mimport\u001b[39;00m \u001b[38;5;21;01mgoogle\u001b[39;00m\u001b[38;5;21;01m.\u001b[39;00m\u001b[38;5;21;01mgenerativeai\u001b[39;00m \u001b[38;5;28;01mas\u001b[39;00m \u001b[38;5;21;01mgenai\u001b[39;00m\n\u001b[1;32m      4\u001b[0m \u001b[38;5;28;01mfrom\u001b[39;00m \u001b[38;5;21;01mmarkdown\u001b[39;00m \u001b[38;5;28;01mimport\u001b[39;00m markdown\n\u001b[0;32m----> 5\u001b[0m \u001b[38;5;28;01mfrom\u001b[39;00m \u001b[38;5;21;01mweasyprint\u001b[39;00m \u001b[38;5;28;01mimport\u001b[39;00m HTML\n\u001b[1;32m      7\u001b[0m genai\u001b[38;5;241m.\u001b[39mconfigure(api_key\u001b[38;5;241m=\u001b[39mos\u001b[38;5;241m.\u001b[39menviron[\u001b[38;5;124m\"\u001b[39m\u001b[38;5;124mGOOGLE_API_KEY\u001b[39m\u001b[38;5;124m\"\u001b[39m])\n",
      "File \u001b[0;32m/opt/anaconda3/envs/ai_dev/lib/python3.11/site-packages/weasyprint/__init__.py:425\u001b[0m\n\u001b[1;32m    422\u001b[0m         \u001b[38;5;28;01myield\u001b[39;00m \u001b[38;5;124m'\u001b[39m\u001b[38;5;124mstring\u001b[39m\u001b[38;5;124m'\u001b[39m, string, base_url, \u001b[38;5;28;01mNone\u001b[39;00m\n\u001b[1;32m    424\u001b[0m \u001b[38;5;66;03m# Work around circular imports.\u001b[39;00m\n\u001b[0;32m--> 425\u001b[0m \u001b[38;5;28;01mfrom\u001b[39;00m \u001b[38;5;21;01m.\u001b[39;00m\u001b[38;5;21;01mcss\u001b[39;00m \u001b[38;5;28;01mimport\u001b[39;00m preprocess_stylesheet  \u001b[38;5;66;03m# noqa: I001, E402\u001b[39;00m\n\u001b[1;32m    426\u001b[0m \u001b[38;5;28;01mfrom\u001b[39;00m \u001b[38;5;21;01m.\u001b[39;00m\u001b[38;5;21;01mhtml\u001b[39;00m \u001b[38;5;28;01mimport\u001b[39;00m (  \u001b[38;5;66;03m# noqa: E402\u001b[39;00m\n\u001b[1;32m    427\u001b[0m     HTML5_UA_COUNTER_STYLE, HTML5_UA_STYLESHEET, HTML5_UA_FORM_STYLESHEET,\n\u001b[1;32m    428\u001b[0m     HTML5_PH_STYLESHEET)\n\u001b[1;32m    429\u001b[0m \u001b[38;5;28;01mfrom\u001b[39;00m \u001b[38;5;21;01m.\u001b[39;00m\u001b[38;5;21;01mdocument\u001b[39;00m \u001b[38;5;28;01mimport\u001b[39;00m Document, Page  \u001b[38;5;66;03m# noqa: E402\u001b[39;00m\n",
      "File \u001b[0;32m/opt/anaconda3/envs/ai_dev/lib/python3.11/site-packages/weasyprint/css/__init__.py:28\u001b[0m\n\u001b[1;32m     26\u001b[0m \u001b[38;5;28;01mfrom\u001b[39;00m \u001b[38;5;21;01m.\u001b[39;00m\u001b[38;5;21;01m.\u001b[39;00m\u001b[38;5;21;01murls\u001b[39;00m \u001b[38;5;28;01mimport\u001b[39;00m URLFetchingError, get_url_attribute, url_join\n\u001b[1;32m     27\u001b[0m \u001b[38;5;28;01mfrom\u001b[39;00m \u001b[38;5;21;01m.\u001b[39;00m \u001b[38;5;28;01mimport\u001b[39;00m counters, media_queries\n\u001b[0;32m---> 28\u001b[0m \u001b[38;5;28;01mfrom\u001b[39;00m \u001b[38;5;21;01m.\u001b[39;00m\u001b[38;5;21;01mcomputed_values\u001b[39;00m \u001b[38;5;28;01mimport\u001b[39;00m COMPUTER_FUNCTIONS\n\u001b[1;32m     29\u001b[0m \u001b[38;5;28;01mfrom\u001b[39;00m \u001b[38;5;21;01m.\u001b[39;00m\u001b[38;5;21;01mproperties\u001b[39;00m \u001b[38;5;28;01mimport\u001b[39;00m INHERITED, INITIAL_NOT_COMPUTED, INITIAL_VALUES, ZERO_PIXELS\n\u001b[1;32m     30\u001b[0m \u001b[38;5;28;01mfrom\u001b[39;00m \u001b[38;5;21;01m.\u001b[39;00m\u001b[38;5;21;01mvalidation\u001b[39;00m \u001b[38;5;28;01mimport\u001b[39;00m preprocess_declarations\n",
      "File \u001b[0;32m/opt/anaconda3/envs/ai_dev/lib/python3.11/site-packages/weasyprint/css/computed_values.py:9\u001b[0m\n\u001b[1;32m      6\u001b[0m \u001b[38;5;28;01mfrom\u001b[39;00m \u001b[38;5;21;01mtinycss2\u001b[39;00m\u001b[38;5;21;01m.\u001b[39;00m\u001b[38;5;21;01mcolor4\u001b[39;00m \u001b[38;5;28;01mimport\u001b[39;00m parse_color\n\u001b[1;32m      8\u001b[0m \u001b[38;5;28;01mfrom\u001b[39;00m \u001b[38;5;21;01m.\u001b[39;00m\u001b[38;5;21;01m.\u001b[39;00m\u001b[38;5;21;01mlogger\u001b[39;00m \u001b[38;5;28;01mimport\u001b[39;00m LOGGER\n\u001b[0;32m----> 9\u001b[0m \u001b[38;5;28;01mfrom\u001b[39;00m \u001b[38;5;21;01m.\u001b[39;00m\u001b[38;5;21;01m.\u001b[39;00m\u001b[38;5;21;01mtext\u001b[39;00m\u001b[38;5;21;01m.\u001b[39;00m\u001b[38;5;21;01mffi\u001b[39;00m \u001b[38;5;28;01mimport\u001b[39;00m FROM_UNITS, ffi, pango\n\u001b[1;32m     10\u001b[0m \u001b[38;5;28;01mfrom\u001b[39;00m \u001b[38;5;21;01m.\u001b[39;00m\u001b[38;5;21;01m.\u001b[39;00m\u001b[38;5;21;01mtext\u001b[39;00m\u001b[38;5;21;01m.\u001b[39;00m\u001b[38;5;21;01mline_break\u001b[39;00m \u001b[38;5;28;01mimport\u001b[39;00m Layout, first_line_metrics\n\u001b[1;32m     11\u001b[0m \u001b[38;5;28;01mfrom\u001b[39;00m \u001b[38;5;21;01m.\u001b[39;00m\u001b[38;5;21;01m.\u001b[39;00m\u001b[38;5;21;01murls\u001b[39;00m \u001b[38;5;28;01mimport\u001b[39;00m get_link_attribute\n",
      "File \u001b[0;32m/opt/anaconda3/envs/ai_dev/lib/python3.11/site-packages/weasyprint/text/ffi.py:447\u001b[0m\n\u001b[1;32m    444\u001b[0m         \u001b[38;5;28;01mwith\u001b[39;00m suppress((\u001b[38;5;167;01mOSError\u001b[39;00m, \u001b[38;5;167;01mFileNotFoundError\u001b[39;00m)):\n\u001b[1;32m    445\u001b[0m             os\u001b[38;5;241m.\u001b[39madd_dll_directory(dll_directory)\n\u001b[0;32m--> 447\u001b[0m gobject \u001b[38;5;241m=\u001b[39m \u001b[43m_dlopen\u001b[49m\u001b[43m(\u001b[49m\n\u001b[1;32m    448\u001b[0m \u001b[43m    \u001b[49m\u001b[43mffi\u001b[49m\u001b[43m,\u001b[49m\u001b[43m \u001b[49m\u001b[38;5;124;43m'\u001b[39;49m\u001b[38;5;124;43mlibgobject-2.0-0\u001b[39;49m\u001b[38;5;124;43m'\u001b[39;49m\u001b[43m,\u001b[49m\u001b[43m \u001b[49m\u001b[38;5;124;43m'\u001b[39;49m\u001b[38;5;124;43mgobject-2.0-0\u001b[39;49m\u001b[38;5;124;43m'\u001b[39;49m\u001b[43m,\u001b[49m\u001b[43m \u001b[49m\u001b[38;5;124;43m'\u001b[39;49m\u001b[38;5;124;43mgobject-2.0\u001b[39;49m\u001b[38;5;124;43m'\u001b[39;49m\u001b[43m,\u001b[49m\n\u001b[1;32m    449\u001b[0m \u001b[43m    \u001b[49m\u001b[38;5;124;43m'\u001b[39;49m\u001b[38;5;124;43mlibgobject-2.0.so.0\u001b[39;49m\u001b[38;5;124;43m'\u001b[39;49m\u001b[43m,\u001b[49m\u001b[43m \u001b[49m\u001b[38;5;124;43m'\u001b[39;49m\u001b[38;5;124;43mlibgobject-2.0.dylib\u001b[39;49m\u001b[38;5;124;43m'\u001b[39;49m\u001b[43m,\u001b[49m\u001b[43m \u001b[49m\u001b[38;5;124;43m'\u001b[39;49m\u001b[38;5;124;43mlibgobject-2.0-0.dll\u001b[39;49m\u001b[38;5;124;43m'\u001b[39;49m\u001b[43m)\u001b[49m\n\u001b[1;32m    450\u001b[0m pango \u001b[38;5;241m=\u001b[39m _dlopen(\n\u001b[1;32m    451\u001b[0m     ffi, \u001b[38;5;124m'\u001b[39m\u001b[38;5;124mlibpango-1.0-0\u001b[39m\u001b[38;5;124m'\u001b[39m, \u001b[38;5;124m'\u001b[39m\u001b[38;5;124mpango-1.0-0\u001b[39m\u001b[38;5;124m'\u001b[39m, \u001b[38;5;124m'\u001b[39m\u001b[38;5;124mpango-1.0\u001b[39m\u001b[38;5;124m'\u001b[39m, \u001b[38;5;124m'\u001b[39m\u001b[38;5;124mlibpango-1.0.so.0\u001b[39m\u001b[38;5;124m'\u001b[39m,\n\u001b[1;32m    452\u001b[0m     \u001b[38;5;124m'\u001b[39m\u001b[38;5;124mlibpango-1.0.dylib\u001b[39m\u001b[38;5;124m'\u001b[39m, \u001b[38;5;124m'\u001b[39m\u001b[38;5;124mlibpango-1.0-0.dll\u001b[39m\u001b[38;5;124m'\u001b[39m)\n\u001b[1;32m    453\u001b[0m harfbuzz \u001b[38;5;241m=\u001b[39m _dlopen(\n\u001b[1;32m    454\u001b[0m     ffi, \u001b[38;5;124m'\u001b[39m\u001b[38;5;124mlibharfbuzz-0\u001b[39m\u001b[38;5;124m'\u001b[39m, \u001b[38;5;124m'\u001b[39m\u001b[38;5;124mharfbuzz\u001b[39m\u001b[38;5;124m'\u001b[39m, \u001b[38;5;124m'\u001b[39m\u001b[38;5;124mharfbuzz-0.0\u001b[39m\u001b[38;5;124m'\u001b[39m,\n\u001b[1;32m    455\u001b[0m     \u001b[38;5;124m'\u001b[39m\u001b[38;5;124mlibharfbuzz.so.0\u001b[39m\u001b[38;5;124m'\u001b[39m, \u001b[38;5;124m'\u001b[39m\u001b[38;5;124mlibharfbuzz.0.dylib\u001b[39m\u001b[38;5;124m'\u001b[39m, \u001b[38;5;124m'\u001b[39m\u001b[38;5;124mlibharfbuzz-0.dll\u001b[39m\u001b[38;5;124m'\u001b[39m)\n",
      "File \u001b[0;32m/opt/anaconda3/envs/ai_dev/lib/python3.11/site-packages/weasyprint/text/ffi.py:435\u001b[0m, in \u001b[0;36m_dlopen\u001b[0;34m(ffi, allow_fail, *names)\u001b[0m\n\u001b[1;32m    425\u001b[0m \u001b[38;5;66;03m# Re-raise the exception.\u001b[39;00m\n\u001b[1;32m    426\u001b[0m \u001b[38;5;28mprint\u001b[39m(\n\u001b[1;32m    427\u001b[0m     \u001b[38;5;124m'\u001b[39m\u001b[38;5;130;01m\\n\u001b[39;00m\u001b[38;5;124m-----\u001b[39m\u001b[38;5;130;01m\\n\u001b[39;00m\u001b[38;5;130;01m\\n\u001b[39;00m\u001b[38;5;124m'\u001b[39m\n\u001b[1;32m    428\u001b[0m     \u001b[38;5;124m'\u001b[39m\u001b[38;5;124mWeasyPrint could not import some external libraries. Please \u001b[39m\u001b[38;5;124m'\u001b[39m\n\u001b[0;32m   (...)\u001b[0m\n\u001b[1;32m    433\u001b[0m     \u001b[38;5;124m'\u001b[39m\u001b[38;5;124mfirst_steps.html#troubleshooting\u001b[39m\u001b[38;5;124m'\u001b[39m,\n\u001b[1;32m    434\u001b[0m     \u001b[38;5;124m'\u001b[39m\u001b[38;5;130;01m\\n\u001b[39;00m\u001b[38;5;130;01m\\n\u001b[39;00m\u001b[38;5;124m-----\u001b[39m\u001b[38;5;130;01m\\n\u001b[39;00m\u001b[38;5;124m'\u001b[39m)  \u001b[38;5;66;03m# pragma: no cover\u001b[39;00m\n\u001b[0;32m--> 435\u001b[0m \u001b[38;5;28;01mreturn\u001b[39;00m \u001b[43mffi\u001b[49m\u001b[38;5;241;43m.\u001b[39;49m\u001b[43mdlopen\u001b[49m\u001b[43m(\u001b[49m\u001b[43mnames\u001b[49m\u001b[43m[\u001b[49m\u001b[38;5;241;43m0\u001b[39;49m\u001b[43m]\u001b[49m\u001b[43m,\u001b[49m\u001b[43m \u001b[49m\u001b[43mflags\u001b[49m\u001b[43m)\u001b[49m\n",
      "File \u001b[0;32m/opt/anaconda3/envs/ai_dev/lib/python3.11/site-packages/cffi/api.py:150\u001b[0m, in \u001b[0;36mFFI.dlopen\u001b[0;34m(self, name, flags)\u001b[0m\n\u001b[1;32m    147\u001b[0m     \u001b[38;5;28;01mraise\u001b[39;00m \u001b[38;5;167;01mTypeError\u001b[39;00m(\u001b[38;5;124m\"\u001b[39m\u001b[38;5;124mdlopen(name): name must be a file name, None, \u001b[39m\u001b[38;5;124m\"\u001b[39m\n\u001b[1;32m    148\u001b[0m                     \u001b[38;5;124m\"\u001b[39m\u001b[38;5;124mor an already-opened \u001b[39m\u001b[38;5;124m'\u001b[39m\u001b[38;5;124mvoid *\u001b[39m\u001b[38;5;124m'\u001b[39m\u001b[38;5;124m handle\u001b[39m\u001b[38;5;124m\"\u001b[39m)\n\u001b[1;32m    149\u001b[0m \u001b[38;5;28;01mwith\u001b[39;00m \u001b[38;5;28mself\u001b[39m\u001b[38;5;241m.\u001b[39m_lock:\n\u001b[0;32m--> 150\u001b[0m     lib, function_cache \u001b[38;5;241m=\u001b[39m \u001b[43m_make_ffi_library\u001b[49m\u001b[43m(\u001b[49m\u001b[38;5;28;43mself\u001b[39;49m\u001b[43m,\u001b[49m\u001b[43m \u001b[49m\u001b[43mname\u001b[49m\u001b[43m,\u001b[49m\u001b[43m \u001b[49m\u001b[43mflags\u001b[49m\u001b[43m)\u001b[49m\n\u001b[1;32m    151\u001b[0m     \u001b[38;5;28mself\u001b[39m\u001b[38;5;241m.\u001b[39m_function_caches\u001b[38;5;241m.\u001b[39mappend(function_cache)\n\u001b[1;32m    152\u001b[0m     \u001b[38;5;28mself\u001b[39m\u001b[38;5;241m.\u001b[39m_libraries\u001b[38;5;241m.\u001b[39mappend(lib)\n",
      "File \u001b[0;32m/opt/anaconda3/envs/ai_dev/lib/python3.11/site-packages/cffi/api.py:834\u001b[0m, in \u001b[0;36m_make_ffi_library\u001b[0;34m(ffi, libname, flags)\u001b[0m\n\u001b[1;32m    832\u001b[0m \u001b[38;5;28;01mdef\u001b[39;00m \u001b[38;5;21m_make_ffi_library\u001b[39m(ffi, libname, flags):\n\u001b[1;32m    833\u001b[0m     backend \u001b[38;5;241m=\u001b[39m ffi\u001b[38;5;241m.\u001b[39m_backend\n\u001b[0;32m--> 834\u001b[0m     backendlib \u001b[38;5;241m=\u001b[39m \u001b[43m_load_backend_lib\u001b[49m\u001b[43m(\u001b[49m\u001b[43mbackend\u001b[49m\u001b[43m,\u001b[49m\u001b[43m \u001b[49m\u001b[43mlibname\u001b[49m\u001b[43m,\u001b[49m\u001b[43m \u001b[49m\u001b[43mflags\u001b[49m\u001b[43m)\u001b[49m\n\u001b[1;32m    835\u001b[0m     \u001b[38;5;66;03m#\u001b[39;00m\n\u001b[1;32m    836\u001b[0m     \u001b[38;5;28;01mdef\u001b[39;00m \u001b[38;5;21maccessor_function\u001b[39m(name):\n",
      "File \u001b[0;32m/opt/anaconda3/envs/ai_dev/lib/python3.11/site-packages/cffi/api.py:829\u001b[0m, in \u001b[0;36m_load_backend_lib\u001b[0;34m(backend, name, flags)\u001b[0m\n\u001b[1;32m    827\u001b[0m     \u001b[38;5;28;01mif\u001b[39;00m first_error \u001b[38;5;129;01mis\u001b[39;00m \u001b[38;5;129;01mnot\u001b[39;00m \u001b[38;5;28;01mNone\u001b[39;00m:\n\u001b[1;32m    828\u001b[0m         msg \u001b[38;5;241m=\u001b[39m \u001b[38;5;124m\"\u001b[39m\u001b[38;5;132;01m%s\u001b[39;00m\u001b[38;5;124m.  Additionally, \u001b[39m\u001b[38;5;132;01m%s\u001b[39;00m\u001b[38;5;124m\"\u001b[39m \u001b[38;5;241m%\u001b[39m (first_error, msg)\n\u001b[0;32m--> 829\u001b[0m     \u001b[38;5;28;01mraise\u001b[39;00m \u001b[38;5;167;01mOSError\u001b[39;00m(msg)\n\u001b[1;32m    830\u001b[0m \u001b[38;5;28;01mreturn\u001b[39;00m backend\u001b[38;5;241m.\u001b[39mload_library(path, flags)\n",
      "\u001b[0;31mOSError\u001b[0m: cannot load library 'libgobject-2.0-0': dlopen(libgobject-2.0-0, 0x0002): tried: 'libgobject-2.0-0' (no such file), '/System/Volumes/Preboot/Cryptexes/OSlibgobject-2.0-0' (no such file), '/opt/anaconda3/envs/ai_dev/bin/../lib/libgobject-2.0-0' (no such file), '/usr/lib/libgobject-2.0-0' (no such file, not in dyld cache), 'libgobject-2.0-0' (no such file).  Additionally, ctypes.util.find_library() did not manage to locate a library called 'libgobject-2.0-0'"
     ]
    }
   ],
=======
   "execution_count": 2,
   "id": "290eeacd-ebbd-4a05-9177-5dbbede05739",
   "metadata": {},
   "outputs": [],
>>>>>>> 5b9fb22 (Revise resume content for clarity and conciseness; update skills and experience sections.)
   "source": [
    "from IPython.display import display, Markdown\n",
    "import os\n",
    "import google.generativeai as genai\n",
    "from markdown import markdown\n",
    "from weasyprint import HTML\n",
    "\n",
    "genai.configure(api_key=os.environ[\"GOOGLE_API_KEY\"])\n"
   ]
  },
  {
   "cell_type": "markdown",
   "id": "bde6a5d3-fe46-42b4-a6e2-dc251bae51b5",
   "metadata": {},
   "source": [
    "### Import Resume and Job Description\n",
    "- Create a markdown version of your resume\n",
    "- Read the your resume assign it to the resume_string variable"
   ]
  },
  {
   "cell_type": "code",
<<<<<<< HEAD
   "execution_count": 18,
=======
   "execution_count": 3,
>>>>>>> 5b9fb22 (Revise resume content for clarity and conciseness; update skills and experience sections.)
   "id": "9b1608b3-0ae4-4be6-9cbf-2a34691dd1de",
   "metadata": {},
   "outputs": [
    {
     "data": {
      "text/markdown": [
       "# Rod Morrison\n",
       "\n",
       "*   Email: [**rod.morrison@gmail.com**](mailto:rod.morrison@gmail.com)\n",
       "*   Phone: [**713-907-7102**](tel:7139077102)\n",
       "*   [**LinkedIn**](https://www.linkedin.com/in/rmorrison/)\n",
       "*   [**Github**](https://github.com/Mojoryson)\n",
       "\n",
       "**Skills**\n",
       "\n",
       "- **Technical:** Linux, Python, Bash, AWS, GCP, Vertex AI, SQL, H20.ai, Confluent Kafka, ETL/ELT, SaaS, Advanced Analytics, Data Fabric Design, Snowflake, Data Engineering, ML/AI, CI/CD, DCX, CEM, VOC\n",
       "- **Sales:** MEDDIC, Strategic Partnership Management, Stakeholder Communication, Customer Acquisition and Retention, GTM Strategy, Performance Metrics, KPI Analysis, Multi-year Presidents Club & Quota Achievement\n",
       "- **Leadership:** Skilled at leading cross-functional teams, mentoring, and scaling high-performing teams to drive business growth, enhance brand development, optimize user experience, , collaborate on product development and growth\n",
       "\n",
       "**Experience**\n",
       "\n",
       "**Raken Data Group – Head of Data Solutions 2024 - Present**\n",
       "- Spearheading expansion into North America, prioritizing customer acquisition, retention, and revenue growth.\n",
       "- Cultivate strategic partnerships with software providers to expand market share and solidify North American presence.\n",
       "- Lead end-to-end project delivery, ensuring on-time, on-budget execution and exceeding CSAT expectations.\n",
       "- Create customized, platform-agnostic solutions that deliver measurable ROI and drive customer loyalty.\n",
       "- Utilize data analytics to identify growth opportunities and optimize business performance, driving strategic decision-making.\n",
       "- Developing and deploying proprietary machine learning models within a multi-vertical SaaS platform, enabling businesses to leverage advanced analytics, optimize resource allocation, and achieve data-driven growth across various sectors.\n",
       "\n",
       "**HungerRush – Sales Engineer 2023 – 2023**\n",
       "\n",
       "- Developed the technical sales, marketing, and GTM execution plan for a new GenAI ordering system.\n",
       "- Nurture and grow Enterprise Accounts by aligning customers’ critical business issues with tailored solutions.\n",
       "- Increased enterprise account retention by 25 % through strategic solution sales strategies.\n",
       "- Manage installation, onboarding, and operationalization for the North American Enterprise book of business.\n",
       "- Install, configure, troubleshoot, and support client deployments on-premises and in the Azure Cloud.\n",
       "\n",
       "**Highspot – Manager, Solutions Consulting 2022 – 2023**\n",
       "\n",
       "- Developed go-to-market readiness, identified gaps in preparedness, and built plans to ensure the team was\n",
       "    trained and equipped to perform successfully in support of annual goals.\n",
       "- Championed solution-selling mentorship and coaching using the Corporate Visions and MEDDIC\n",
       "    methodologies.\n",
       "- Work with teams to identify, qualify, and prioritize coverage for business opportunities.\n",
       "- Participate in opportunity review meetings to provide insight into how to secure the technical win.\n",
       "- Reinvented the go-to-market platform demonstrations to incorporate storytelling and real-world use cases.\n",
       "- Maintain customer satisfaction by working cross-functionally to resolve product problems affecting customer satisfaction.\n",
       "- Build trust with customers and influential relationships in accounts and be the technical sponsor and driver for strategic business opportunities.\n",
       "\n",
       "**Contentsquare – Head of Solutions Consulting (East & LATAM) 2017 – 2022**\n",
       "\n",
       "- Promoted from Senior Sales Engineer to lead the Solutions Consulting team for North America East and LATAM, driving significant YOY revenue growth.\n",
       "- Bootstrapped and architected rapid growth in the US Central territory, achieving $3M in ARR over 12 months.\n",
       "- Built and led a top-performing post-sales engineering team to drive adoption, customer retention, NPS, and CSAT scores, resulting in substantial revenue growth and expansion.\n",
       "- Accelerated Latin America expansion, driving growth from $20K to $1M ARR in less than a year.\n",
       "- Provide technical leadership to drive services and solution integration across multiple geographies in collaboration with Account Executives and Managers.\n",
       "- Orchestrated technical sales campaigns that exceeded targets and boosted revenue and brand recognition.\n",
       "- Developed and delivered comprehensive onboarding programs for new team members, mentoring, and coaching new hires on sales engineering skills.\n",
       "\n",
       "**Datameer 2015 – 2017\n",
       "Manager, Solutions Engineering**\n",
       "\n",
       "- Developed and executed end-to-end sales and expansion strategies to drive new enterprise client acquisition while expanding existing customer relationships.\n",
       "- Spearheaded Solutions Engineering team talent acquisition, onboarding, and skills development efforts.\n",
       "- Developed and executed the GTM strategy for Latin America.\n",
       "- Coordinated and structured the Sales Engineering Team’s account plans and business development efforts.\n",
       "- Championed Customer Success and client relationship management to review product delivery and resolved implementation and adoption issues.\n",
       "- Developed demonstrations, presentations, and other assets to support sales and marketing efforts.\n",
       "- Created and hosted client-facing product awareness, education, and training programs.\n",
       "\n",
       "**User Replay – Director of Sales Engineering 2015 – 2015**\n",
       "\n",
       "- Led sales and account penetration as the 21st employee hired in an early-stage UK company.\n",
       "- Achieved rapid growth, increasing North American territory revenue from $0 to $ 1 million ARR in 8 months.\n",
       "- Aligned customer goals, needs, and growth plans with customized solutions to drive increased ACV.\n",
       "- Served as the technical SME, providing critical support to the North American customer base.\n",
       "- Identified and addressed customers' critical business issues to expand ACV and market reach.\n",
       "- Developed and delivered compelling sales presentations and customized demonstrations to increase customer engagement.\n",
       "- Guided customers to success by effectively facilitating proof of concepts and production deployments.\n",
       "\n",
       "**Education & Certifications**\n",
       "\n",
       "**Certifications**:\n",
       "- [Google Cloud Public Profile](https://partner.cloudskillsboost.google/public_profiles/4e087ef0-ed5c-48b5-b763-8e5ade38459e)\n",
       "- [Snowflake Sales & Technical](https://certificates.confluent.io/profile/shaded5458/wallet)\n",
       "- [Confluent Kafka & Flink Sales & Technical](https://certificates.confluent.io/profile/shaded5458/wallet)\n",
       "- Responsive Web Design, JavaScript\n",
       "- Echelon Front Leadership Certification\n",
       "- United States Army, 3rd Battalion / 11th Armored Cavalry Regiment | Bad Hersfeld, Germany\n",
       "- Diploma in Computer Programming, Computer Learning Center, San Francisco"
      ],
      "text/plain": [
       "<IPython.core.display.Markdown object>"
      ]
     },
     "metadata": {},
     "output_type": "display_data"
    }
   ],
   "source": [
    "# Open and Read the resume.md \n",
    "with open(\"resume/morrison_resume.md\", \"r\", encoding=\"utf-8\") as file:\n",
    "    resume_string = file.read()\n",
    "\n",
    "display(Markdown(resume_string))"
   ]
  },
  {
   "cell_type": "markdown",
   "id": "a143f238-3a65-4e55-9985-504ee745a03b",
   "metadata": {},
   "source": [
    "### Input the Job Description\n",
    "- Copy the job description\n",
    "- Past it into the box below the prompt"
   ]
  },
  {
   "cell_type": "code",
<<<<<<< HEAD
   "execution_count": 22,
=======
   "execution_count": 5,
>>>>>>> 5b9fb22 (Revise resume content for clarity and conciseness; update skills and experience sections.)
   "id": "44ff0e94-a3a4-485a-a4a6-718f9b7f2105",
   "metadata": {},
   "outputs": [
    {
     "name": "stdout",
     "output_type": "stream",
     "text": [
      "To help me analyze this job description for you, please paste the full text below:\n",
<<<<<<< HEAD
      "Job Description   Strategic Data Consultant – AI & Governance Expert (1099 Contract)  Location: Houston, TX (Onsite; hybrid arrangement possible) Type: 1099 Contract (1-year renewable, with potential for full-time hire)     About ElevationHR: At ElevationHR, we specialize in matching top-tier talent with industry-leading organizations. We are currently recruiting a Strategic Data Consultant on behalf of a prominent client in the energy and utilities sector. This organization is undergoing an exciting transformation to leverage AI and data innovation for operational excellence and long-term growth. If you are passionate about driving strategic initiatives and making a tangible impact, this is the role for you.     Position Overview: As a Strategic Data Consultant, you will play a key role in shaping and implementing the client’s data and AI strategy. You’ll design data governance frameworks, operationalize AI-driven solutions, and lead innovation programs that align with the client’s long-term roadmap. This position offers a unique opportunity to partner with cross-functional leaders, build foundational systems, and contribute to groundbreaking initiatives within the energy sector.     Key Responsibilities:  Define the Vision: Develop and execute a comprehensive enterprise-wide data strategy and roadmap, ensuring alignment with the client’s business objectives and growth plans. Govern Data Assets: Establish and oversee data governance frameworks, policies, and standards to maintain data quality, security, and compliance. Operationalize AI: Transition AI proof-of-concept projects into scalable enterprise applications that deliver measurable business outcomes. Drive Innovation: Lead the creation of a data innovation function, fostering collaboration and leveraging advanced analytics to address complex challenges. Collaborate Across Teams: Partner with technology, security, and business stakeholders to integrate data and AI capabilities into enterprise processes seamlessly. Build and Lead: Mentor and manage a team of data and AI professionals, creating a culture of excellence and innovation. Measure Success: Implement agile delivery practices, define KPIs, and manage resources to drive strategic initiatives and ensure accountability.    Qualifications:  Proven Expertise: 10+ years in data and AI strategy, with a strong track record of successful implementations across large organizations. Leadership Skills: Ability to influence and lead in complex, cross-functional environments. Technical Proficiency: Experience with data quality, integration, data science, and AI technologies to solve enterprise-level challenges. Strategic Vision: Capable of developing and executing 4–10-year data and AI roadmaps aligned with organizational objectives. Effective Communicator: Exceptional ability to articulate strategies and solutions to diverse audiences, from technical teams to executive leadership.  \n"
=======
      "Consulting Sales Executive – Digital Transformation Solutions   Role Overview: This Consulting Sales Executive position is ideal for a dynamic sales professional passionate about digital transformation and data-driven solutions. The role demands a proactive \"hunter\" who excels at building new client relationships and driving high-revenue consulting engagements. A successful candidate will deliver 10+ new client meetings weekly, aim for $1.5M in annual revenue, and foster lasting partnerships through a strategic \"land and expand\" approach.   Key Responsibilities: Develop and execute high-energy strategies to generate new business in digital consulting, focusing on solutions for technology, data analytics, and operational optimization. Build and sustain relationships in manufacturing and financial industries, showcasing tailored digital transformation services. Actively pursue Snowflake-centric projects, leveraging expertise in data cloud solutions and related consulting services. Consistently meet ambitious activity targets in a fast-paced, high-transaction sales environment, emphasizing consulting and staff augmentation. Desired Skills & Experience: 10-15 years in high-activity, high-volume sales roles, with a strong, results-driven business acumen and ambitious mindset. Proven track record in meeting sales metrics, expanding accounts, and securing lasting client relationships. Domain expertise and network within manufacturing and finance industries preferred. Compensation: Base Salary: $150,000–$175,000 $20,000 bonus when new client revenue exceeds $500,000 4% commission on established accounts Comprehensive healthcare benefits and PTO\n"
>>>>>>> 5b9fb22 (Revise resume content for clarity and conciseness; update skills and experience sections.)
     ]
    }
   ],
   "source": [
    "# Prompt user for job data\n",
    "jd_string = \"\" \n",
    "while not jd_string:  # Loop until we get some input\n",
    "    print(\"To help me analyze this job description for you, please paste the full text below:\")\n",
    "    jd_string = input()\n",
    "    print(jd_string)\n",
    "    if not jd_string:\n",
    "        print(\"Oops! Looks like you didn't paste anything. Please try again.\")"
   ]
  },
  {
   "cell_type": "markdown",
   "id": "95c0e924-0ccd-402a-8552-02e86034e6b2",
   "metadata": {},
   "source": [
    "### Build the Prompt Template\n",
    "- Provide instructions to the LLM for formatting the output of your resume.\n",
    "- Pass the your resume and job descriptions as variables to the prompt. "
   ]
  },
  {
   "cell_type": "code",
<<<<<<< HEAD
   "execution_count": 23,
=======
   "execution_count": 6,
>>>>>>> 5b9fb22 (Revise resume content for clarity and conciseness; update skills and experience sections.)
   "id": "f14b253a-d6d9-452b-a42f-69b108940c19",
   "metadata": {},
   "outputs": [],
   "source": [
    "prompt_template = lambda resume_string, jd_string : f\"\"\"\n",
    "You are a professional resume optimization expert specializing in tailoring resumes to specific job descriptions. Your goal is to optimize my resume and provide actionable suggestions for improvement to align with the target role.\n",
    "\n",
    "### Guidelines:\n",
    "1. **Relevance**:  \n",
    "   - Prioritize experiences, skills, and achievements **most relevant to the job description**.  \n",
    "   - Remove or de-emphasize irrelevant details to ensure a **concise** and **targeted** resume.\n",
    "   - Limit work experience section to 4-5 most relevant roles\n",
    "   - Limit bullet points under each role to 4-5 most relevant impacts\n",
    "\n",
    "2. **Action-Driven Results**:  \n",
    "   - Use **strong action verbs** and **quantifiable results** (e.g., percentages, revenue, efficiency improvements) to highlight impact.  \n",
    "\n",
    "3. **Keyword Optimization**:  \n",
    "   - Integrate **keywords** and phrases from the job description naturally to optimize for ATS (Applicant Tracking Systems).  \n",
    "\n",
    "4. **Additional Suggestions** *(If Gaps Exist)*:  \n",
    "   - If the resume does not fully align with the job description, suggest:  \n",
    "     1. **Additional technical or soft skills** that I could add to make my profile stronger.  \n",
    "     2. **Certifications or courses** I could pursue to bridge the gap.  \n",
    "     3. **Project ideas or experiences** that would better align with the role.  \n",
    "\n",
    "5. **Formatting**:  \n",
    "   - Output the tailored resume in **clean Markdown format**.  \n",
    "   - Include an **\"Additional Suggestions\"** section at the end with actionable improvement recommendations.  \n",
    "   - Aim for a resume length of around 750-1000 words.\n",
    "   - Tailor the tone and style to match the target company and industry.\n",
    "\n",
    "---\n",
    "\n",
    "### Input:\n",
    "- **My resume**:  \n",
    "{resume_string}\n",
    "\n",
    "- **The job description**:  \n",
    "{jd_string}\n",
    "\n",
    "---\n",
    "\n",
    "### Output:  \n",
    " **Tailored Resume**:  \n",
    "    # Rod Morrison\n",
    "   - A resume in **Markdown format** that emphasizes relevant experience, skills, and achievements.  \n",
    "   - Incorporates job description **keywords** to optimize for ATS.  \n",
    "   - Uses strong language and is no longer than **two pages**.\n",
    "\n",
    " **Contact Information:**  <-- Separate section for contact info\n",
    "    - Include all provided contact details (email, phone, LinkedIn, GitHub).\n",
    "\n",
    " **Certifications:**  <-- Separate section for certifications at the bottom\n",
    "    - Include all provided certifications with links.\n",
    "\n",
    " **Additional Suggestions** *(if applicable)*:  \n",
    "     # Suggestions for Improvement\n",
    "   - Determine if the resume and experience is a **FIT** and a good candidate for this specific role.\n",
    "   - List **skills** that could strengthen alignment with the role.  \n",
    "   - Recommend **certifications or courses** to pursue.  \n",
    "   - Suggest **specific projects or experiences** to develop.\n",
    "\"\"\""
   ]
  },
  {
   "cell_type": "markdown",
   "id": "24851691-e04a-4799-8d75-e3a0150fc0ee",
   "metadata": {},
   "source": [
    "**List the available models availble from Google**"
   ]
  },
  {
   "cell_type": "code",
<<<<<<< HEAD
   "execution_count": 24,
=======
   "execution_count": 7,
>>>>>>> 5b9fb22 (Revise resume content for clarity and conciseness; update skills and experience sections.)
   "id": "e5d2588d-2037-4462-b6fd-1a1ae26df25b",
   "metadata": {},
   "outputs": [
    {
     "name": "stdout",
     "output_type": "stream",
     "text": [
      "Model: models/chat-bison-001\n",
      "Model: models/text-bison-001\n",
      "Model: models/embedding-gecko-001\n",
      "Model: models/gemini-1.0-pro-latest\n",
      "Model: models/gemini-1.0-pro\n",
      "Model: models/gemini-pro\n",
      "Model: models/gemini-1.0-pro-001\n",
      "Model: models/gemini-1.0-pro-vision-latest\n",
      "Model: models/gemini-pro-vision\n",
      "Model: models/gemini-1.5-pro-latest\n",
      "Model: models/gemini-1.5-pro-001\n",
      "Model: models/gemini-1.5-pro-002\n",
      "Model: models/gemini-1.5-pro\n",
      "Model: models/gemini-1.5-pro-exp-0801\n",
      "Model: models/gemini-1.5-pro-exp-0827\n",
      "Model: models/gemini-1.5-flash-latest\n",
      "Model: models/gemini-1.5-flash-001\n",
      "Model: models/gemini-1.5-flash-001-tuning\n",
      "Model: models/gemini-1.5-flash\n",
      "Model: models/gemini-1.5-flash-exp-0827\n",
      "Model: models/gemini-1.5-flash-002\n",
      "Model: models/gemini-1.5-flash-8b\n",
      "Model: models/gemini-1.5-flash-8b-001\n",
      "Model: models/gemini-1.5-flash-8b-latest\n",
      "Model: models/gemini-1.5-flash-8b-exp-0827\n",
      "Model: models/gemini-1.5-flash-8b-exp-0924\n",
      "Model: models/gemini-2.0-flash-exp\n",
      "Model: models/gemini-exp-1206\n",
      "Model: models/gemini-exp-1121\n",
      "Model: models/gemini-exp-1114\n",
      "Model: models/gemini-2.0-flash-thinking-exp\n",
      "Model: models/gemini-2.0-flash-thinking-exp-1219\n",
      "Model: models/learnlm-1.5-pro-experimental\n",
      "Model: models/embedding-001\n",
      "Model: models/text-embedding-004\n",
      "Model: models/aqa\n"
     ]
    }
   ],
   "source": [
    "# List available models\n",
    "for m in genai.list_models():\n",
    "    print(f\"Model: {m.name}\")"
   ]
  },
  {
   "cell_type": "markdown",
   "id": "1d3f7df5-8655-4693-80c4-ec6cf0f0ca58",
   "metadata": {},
   "source": [
    "**Call the `prompt_template` function and assign it to a variable for passing to the model**"
   ]
  },
  {
   "cell_type": "code",
<<<<<<< HEAD
   "execution_count": 25,
=======
   "execution_count": 8,
>>>>>>> 5b9fb22 (Revise resume content for clarity and conciseness; update skills and experience sections.)
   "id": "bfa9d453-0b3c-4439-b9b1-6d04522231ac",
   "metadata": {},
   "outputs": [],
   "source": [
    "prompt = prompt_template(resume_string, jd_string)"
   ]
  },
  {
   "cell_type": "markdown",
   "id": "34f5497d-9f7f-4956-b0b4-3c8620d7f2a7",
   "metadata": {},
   "source": [
    "### Text Generation with Gemini\n",
    "\n",
    "**1. Model Configuration:**\n",
    "\n",
    "Define a dictionary `generation_config` to customize the text generation process. This includes parameters like:\n",
    "\n",
    "*   **temperature:** Controls the randomness of the output. Lower values make the output more focused and deterministic.\n",
    "*   **top_p:**  Uses nucleus sampling to limit token selection to the top p probability mass.\n",
    "*   **top_k:** Limits token selection to the top k most likely tokens.\n",
    "*   **max_output_tokens:** Sets the maximum number of tokens in the generated response.\n",
    "*   **response_mime_type:** Specifies the format of the generated response (e.g., \"text/plain\").\n",
    "\n",
    "**2. Model Initialization:**\n",
    "\n",
    "Create a `GenerativeModel` object, providing the model name (\"gemini-1.5-pro\") and the `generation_config`.\n",
    "\n",
    "**3. Generating Text:**\n",
    "\n",
    "- The `generate_content` method sends a `prompt` to the model, triggering the text generation process.\n",
    "- The generated text is then extracted from the `response` object and printed to the console."
   ]
  },
  {
   "cell_type": "code",
<<<<<<< HEAD
   "execution_count": 26,
=======
   "execution_count": 9,
>>>>>>> 5b9fb22 (Revise resume content for clarity and conciseness; update skills and experience sections.)
   "id": "14151768-800f-40ad-b646-970c39a1574a",
   "metadata": {},
   "outputs": [
    {
     "name": "stdout",
     "output_type": "stream",
     "text": [
      "# Rod Morrison\n",
      "\n",
      "**Contact Information:**\n",
      "* Email: [rod.morrison@gmail.com](mailto:rod.morrison@gmail.com)\n",
      "* Phone: [713-907-7102](tel:7139077102)\n",
      "* LinkedIn: [https://www.linkedin.com/in/rmorrison/](https://www.linkedin.com/in/rmorrison/)\n",
      "* GitHub: [https://github.com/Mojoryson](https://github.com/Mojoryson)\n",
      "\n",
      "\n",
      "**Summary**\n",
      "\n",
<<<<<<< HEAD
      "Data and AI strategist with 10+ years of experience leading cross-functional teams in developing and executing enterprise-wide data strategies, operationalizing AI solutions, and driving data innovation within fast-paced SaaS and technology environments. Proven ability to build and manage high-performing teams, establish data governance frameworks, and deliver measurable business outcomes aligned with organizational objectives.  Possesses strong technical proficiency in data quality, integration, data science, and AI technologies, combined with exceptional communication and leadership skills to effectively articulate strategies and solutions to diverse audiences. Demonstrated success in achieving rapid revenue growth and market penetration in North American and Latin American markets.\n",
=======
      "Highly accomplished and results-driven sales executive with 10+ years of experience driving revenue growth and exceeding targets in high-activity, high-volume sales environments. Proven ability to cultivate strategic partnerships, build lasting client relationships, and deliver tailored digital transformation solutions within the manufacturing and financial industries. Expertise in data cloud solutions, including Snowflake, and a passion for leveraging data analytics and operational optimization to achieve client objectives. Consistent track record of exceeding quota and achieving multi-year President's Club recognition.\n",
>>>>>>> 5b9fb22 (Revise resume content for clarity and conciseness; update skills and experience sections.)
      "\n",
      "\n",
      "**Experience**\n",
      "\n",
      "**Raken Data Group – Head of Data Solutions (2024 – Present)**\n",
<<<<<<< HEAD
      "* Developed and deployed proprietary machine learning models within a multi-vertical SaaS platform, enabling data-driven growth across various sectors.\n",
      "* Utilized data analytics to identify growth opportunities and optimize business performance, driving strategic decision-making.\n",
      "* Led end-to-end project delivery, ensuring on-time, on-budget execution and exceeding customer satisfaction expectations.\n",
      "* Spearheaded expansion into North America, prioritizing customer acquisition, retention, and revenue growth aligned with business objectives.\n",
      "* Cultivated strategic partnerships with software providers to expand market share and solidify North American presence.\n",
      "\n",
      "**Contentsquare – Head of Solutions Consulting (East & LATAM) (2017 – 2022)**\n",
      "* Promoted to lead Solutions Consulting team, driving significant year-over-year revenue growth and achieving substantial revenue growth and expansion.\n",
      "* Built and led a top-performing post-sales engineering team to drive adoption, customer retention, NPS, and CSAT scores.\n",
      "* Accelerated Latin America expansion, driving growth from $20K to $1M ARR in less than a year, demonstrating successful implementation in a new market.\n",
      "* Provided technical leadership to drive services and solution integration across multiple geographies, collaborating with Account Executives and Managers.\n",
      "* Developed and delivered comprehensive onboarding programs for new team members, mentoring and coaching new hires on sales engineering skills.\n",
      "\n",
=======
      "\n",
      "* Spearheading North American expansion, prioritizing customer acquisition, retention, and revenue growth aligned with strategic business objectives.\n",
      "* Cultivating strategic partnerships with software providers to expand market share and solidify North American presence, driving new business opportunities.\n",
      "* Leading end-to-end project delivery for digital transformation initiatives, ensuring on-time, on-budget execution and exceeding client satisfaction expectations.\n",
      "* Leveraging data analytics to identify growth opportunities, optimize business performance, and drive strategic decision-making for clients.\n",
      "\n",
      "\n",
      "**Contentsquare – Head of Solutions Consulting (East & LATAM) (2017 – 2022)**\n",
      "\n",
      "* Promoted to lead Solutions Consulting team, driving significant year-over-year revenue growth and exceeding sales targets.\n",
      "* Bootstrapped and architected rapid growth in the US Central territory, achieving $3M in annual recurring revenue (ARR) within 12 months, demonstrating strong business acumen.\n",
      "* Built and led a top-performing post-sales engineering team focused on driving customer adoption, retention, and satisfaction, resulting in substantial revenue growth and expansion.\n",
      "* Orchestrated technical sales campaigns that exceeded targets and boosted revenue and brand recognition within the target market.\n",
>>>>>>> 5b9fb22 (Revise resume content for clarity and conciseness; update skills and experience sections.)
      "\n",
      "**Datameer – Manager, Solutions Engineering (2015 – 2017)**\n",
      "* Developed and executed end-to-end sales and expansion strategies to drive new enterprise client acquisition while expanding existing customer relationships.\n",
      "* Developed and executed the go-to-market strategy for Latin America.\n",
      "* Championed customer success and client relationship management to review product delivery and resolved implementation and adoption issues.\n",
      "* Developed demonstrations, presentations, and other assets to support sales and marketing efforts.\n",
      "\n",
<<<<<<< HEAD
      "**User Replay – Director of Sales Engineering (2015)**\n",
      "* Led sales and account penetration as an early employee, achieving rapid growth and increasing North American territory revenue from $0 to $1M ARR in 8 months.\n",
      "* Aligned customer goals, needs, and growth plans with customized solutions to drive increased ACV.\n",
      "* Served as the technical subject matter expert, providing critical support to the North American customer base.\n",
      "* Identified and addressed customers' critical business issues to expand ACV and market reach.\n",
=======
      "* Developed and executed end-to-end sales and expansion strategies to drive new enterprise client acquisition and expand existing customer relationships within key industries.\n",
      "* Spearheaded Solutions Engineering team talent acquisition, onboarding, and skills development initiatives, building high-performing teams.\n",
      "* Developed and executed the go-to-market (GTM) strategy for Latin America, demonstrating success in expanding into new markets.\n",
      "* Championed customer success and client relationship management to ensure product delivery satisfaction and resolve implementation and adoption issues.\n",
      "\n",
      "\n",
      "**User Replay – Director of Sales Engineering (2015)**\n",
      "\n",
      "* Led sales and account penetration as an early-stage employee, achieving rapid growth and increasing North American territory revenue from $0 to $1M ARR in 8 months.\n",
      "* Aligned customer goals, needs, and growth plans with customized solutions to drive increased average contract value (ACV) and achieve client objectives.\n",
      "* Served as the technical subject matter expert (SME), providing critical support to the North American customer base and ensuring successful product adoption.\n",
      "* Identified and addressed customers' critical business issues to expand ACV and market reach, contributing to overall business growth.\n",
>>>>>>> 5b9fb22 (Revise resume content for clarity and conciseness; update skills and experience sections.)
      "\n",
      "\n",
      "\n",
      "**Skills**\n",
<<<<<<< HEAD
=======
      "\n",
      "* **Technical:** Snowflake, Data Cloud Solutions, Data Analytics, Data Engineering, ETL/ELT, SaaS, Advanced Analytics, ML/AI\n",
      "* **Sales:** MEDDIC, Strategic Partnership Management, Stakeholder Communication, Customer Acquisition and Retention, GTM Strategy, Performance Metrics, KPI Analysis, Multi-year President's Club & Quota Achievement, Solution Selling, Consulting Sales\n",
      "* **Leadership:** Leading Cross-Functional Teams, Mentoring, Scaling High-Performing Teams, Business Growth, Brand Development, User Experience, Product Development\n",
      "\n",
      "\n",
      "**Certifications**\n",
>>>>>>> 5b9fb22 (Revise resume content for clarity and conciseness; update skills and experience sections.)
      "\n",
      "* **Technical:** Data Engineering, ML/AI, Advanced Analytics, Data Fabric Design, Snowflake, AWS, GCP, Vertex AI, SQL, ETL/ELT, SaaS, CI/CD.\n",
      "* **Data Governance:** Data Quality, Data Security, Data Compliance, Data Integration.\n",
      "* **Leadership:** Strategic Planning, Team Leadership, Mentoring, Cross-functional Collaboration, Stakeholder Communication, GTM Strategy.\n",
      "* **Business Acumen:** Customer Acquisition and Retention, Revenue Growth, Performance Metrics, KPI Analysis.\n",
      "\n",
      "\n",
      "**Certifications**\n",
      "* Google Cloud Public Profile: [https://partner.cloudskillsboost.google/public_profiles/4e087ef0-ed5c-48b5-b763-8e5ade38459e](https://partner.cloudskillsboost.google/public_profiles/4e087ef0-ed5c-48b5-b763-8e5ade38459e)\n",
      "* Snowflake Sales & Technical: [https://certificates.confluent.io/profile/shaded5458/wallet](https://certificates.confluent.io/profile/shaded5458/wallet)\n",
      "* Confluent Kafka & Flink Sales & Technical: [https://certificates.confluent.io/profile/shaded5458/wallet](https://certificates.confluent.io/profile/shaded5458/wallet)\n",
      "* Responsive Web Design, JavaScript\n",
      "* Echelon Front Leadership Certification\n",
      "\n",
      "\n",
      "\n",
      "# Suggestions for Improvement\n",
      "\n",
      "**Fit Assessment:**\n",
      "\n",
<<<<<<< HEAD
      "While your resume demonstrates strong experience in data strategy, AI implementation, and leadership, the specific focus on *data governance* within the energy and utilities sector needs to be strengthened.  Your experience leans heavily towards SaaS sales and solutions engineering, which is valuable but doesn't fully align with the strategic consulting and governance focus of this role.\n",
=======
      "While your resume demonstrates strong sales experience and technical skills, the target role emphasizes a high-activity, high-volume \"hunter\" profile with a focus on generating new client meetings weekly. Your resume currently highlights more account management and growth within existing accounts.  Consider adding quantifiable metrics related to new client acquisition and lead generation to better showcase your \"hunter\" abilities.  For example, how many new leads did you generate per month/quarter?  What was your conversion rate from lead to opportunity?\n",
>>>>>>> 5b9fb22 (Revise resume content for clarity and conciseness; update skills and experience sections.)
      "\n",
      "**Skills:**\n",
      "\n",
<<<<<<< HEAD
      "* **Data Governance Frameworks and Implementation:**  Highlight specific experience implementing data governance frameworks (e.g., DAMA-DMBOK, DCAM).  Mention any experience with data quality tools, metadata management, or data lineage.\n",
      "* **Energy & Utilities Industry Knowledge:**  Acquire familiarity with industry-specific regulations, data challenges, and best practices.  Consider attending industry events or joining relevant professional organizations.\n",
      "* **Risk Management and Compliance:**  Showcase any experience with data security, privacy regulations (e.g., GDPR, CCPA), and compliance frameworks relevant to the energy sector.\n",
      "* **Agile Project Management:**  Emphasize experience using agile methodologies in data and AI projects.\n",
      "\n",
      "**Certifications/Courses:**\n",
      "\n",
      "* **Certified Data Management Professional (CDMP):**  This certification demonstrates expertise in data management best practices and would strengthen your credibility in data governance.\n",
      "* **Certified Information Systems Security Professional (CISSP):**  If you want to highlight security and compliance expertise, this is a highly recognized certification.\n",
      "* **Cloud Data Governance and Security Certifications (AWS, GCP, or Azure):**  Demonstrate cloud-specific data governance skills relevant to the client's potential infrastructure.\n",
      "* **Courses on Energy Industry Data Management:**  Look for online or in-person courses specifically focused on data challenges and solutions within the energy and utilities sector.\n",
      "\n",
      "**Projects/Experiences:**\n",
      "\n",
      "* **Data Governance Framework Development:** If possible, contribute to developing a data governance framework for a personal project, volunteer organization, or even a hypothetical case study.\n",
      "* **Data Quality Assessment and Improvement Project:**  Undertake a project to assess and improve the quality of a dataset, documenting your process and results.\n",
      "* **AI Governance Implementation Project:**  Explore implementing AI governance principles in a small-scale project, focusing on fairness, transparency, and accountability.\n",
      "* **Publicly Available Energy Data Analysis:**  Analyze publicly available energy data to identify trends, insights, or potential areas for improvement. This can demonstrate your interest and analytical skills within the sector.\n",
      "\n",
      "By focusing on these suggestions, you can significantly strengthen your resume's alignment with the Strategic Data Consultant role and increase your chances of landing an interview.\n",
=======
      "* **Digital Transformation Consulting:**  Strengthen this area by highlighting specific methodologies or frameworks you've used in digital transformation projects.  Consider adding keywords like \"Agile,\" \"Scrum,\" \"Lean,\" or specific consulting frameworks relevant to the industry.\n",
      "* **Manufacturing and Finance Industry Expertise:**  While the job description prefers experience in these industries, your resume doesn't explicitly state it.  If you have experience in these sectors, highlight relevant projects or client engagements. If not, consider networking within these industries or pursuing projects that demonstrate your understanding of their unique challenges.\n",
      "* **Staff Augmentation:** The job description mentions staff augmentation. Familiarize yourself with this concept and, if relevant, highlight any experience you have with managing or supporting staff augmentation projects.\n",
      "\n",
      "**Certifications/Courses:**\n",
      "\n",
      "* **Snowflake Certifications:**  While you list Snowflake Sales & Technical certification, pursuing more advanced Snowflake certifications (e.g., SnowPro Architect) could further strengthen your profile for Snowflake-centric projects.\n",
      "* **Digital Transformation Certifications:** Consider pursuing certifications related to digital transformation methodologies, such as Agile certifications or those offered by consulting firms.\n",
      "* **Industry-Specific Certifications:**  Certifications related to the manufacturing or finance industries could demonstrate your commitment to these sectors and enhance your credibility.\n",
      "\n",
      "\n",
      "**Projects/Experiences:**\n",
      "\n",
      "* **Develop a Case Study:** Create a case study showcasing a successful digital transformation project you led, emphasizing quantifiable results and the impact on the client's business.\n",
      "* **Volunteer for a Digital Transformation Initiative:**  If you lack direct experience in a specific industry, consider volunteering for a non-profit or community organization undergoing a digital transformation. This can provide valuable experience and demonstrate your commitment to the field.\n",
      "* **Network within Target Industries:**  Attend industry events, join relevant professional organizations, and connect with professionals in manufacturing and finance to build your network and gain insights into their specific needs and challenges.\n",
>>>>>>> 5b9fb22 (Revise resume content for clarity and conciseness; update skills and experience sections.)
      "\n"
     ]
    }
   ],
   "source": [
    "# Create the model\n",
    "generation_config = {\n",
    "  \"temperature\": .5,\n",
    "  \"top_p\": 0.95,\n",
    "  \"top_k\": 64,\n",
    "  \"max_output_tokens\": 8192,\n",
    "  \"response_mime_type\": \"text/plain\",\n",
    "}\n",
    "\n",
    "model = genai.GenerativeModel(\n",
    "  model_name=\"gemini-1.5-pro\",\n",
    "  generation_config=generation_config,\n",
    ")\n",
    "\n",
    "\n",
    "# Query the model\n",
    "response = model.generate_content(prompt) \n",
    "generated_text = response.text\n",
    "print(generated_text)"
   ]
  },
  {
   "cell_type": "markdown",
   "id": "a9997080-960e-41ac-93a2-b86ff6138e4e",
   "metadata": {},
   "source": [
    "### Display the results"
   ]
  },
  {
   "cell_type": "code",
<<<<<<< HEAD
   "execution_count": 27,
=======
   "execution_count": 10,
>>>>>>> 5b9fb22 (Revise resume content for clarity and conciseness; update skills and experience sections.)
   "id": "bc86f0ed-8cf3-455f-bf9b-4278a4e03011",
   "metadata": {},
   "outputs": [],
   "source": [
    "resume_list = generated_text.split(\"# Suggestions for Improvement\")"
   ]
  },
  {
   "cell_type": "code",
<<<<<<< HEAD
   "execution_count": 28,
=======
   "execution_count": 11,
>>>>>>> 5b9fb22 (Revise resume content for clarity and conciseness; update skills and experience sections.)
   "id": "a5b0f9cf-0d10-422c-acbe-d84f81941a6f",
   "metadata": {},
   "outputs": [
    {
     "data": {
      "text/markdown": [
       "# Rod Morrison\n",
       "\n",
       "**Contact Information:**\n",
       "* Email: [rod.morrison@gmail.com](mailto:rod.morrison@gmail.com)\n",
       "* Phone: [713-907-7102](tel:7139077102)\n",
       "* LinkedIn: [https://www.linkedin.com/in/rmorrison/](https://www.linkedin.com/in/rmorrison/)\n",
       "* GitHub: [https://github.com/Mojoryson](https://github.com/Mojoryson)\n",
       "\n",
       "\n",
       "**Summary**\n",
       "\n",
<<<<<<< HEAD
       "Data and AI strategist with 10+ years of experience leading cross-functional teams in developing and executing enterprise-wide data strategies, operationalizing AI solutions, and driving data innovation within fast-paced SaaS and technology environments. Proven ability to build and manage high-performing teams, establish data governance frameworks, and deliver measurable business outcomes aligned with organizational objectives.  Possesses strong technical proficiency in data quality, integration, data science, and AI technologies, combined with exceptional communication and leadership skills to effectively articulate strategies and solutions to diverse audiences. Demonstrated success in achieving rapid revenue growth and market penetration in North American and Latin American markets.\n",
=======
       "Highly accomplished and results-driven sales executive with 10+ years of experience driving revenue growth and exceeding targets in high-activity, high-volume sales environments. Proven ability to cultivate strategic partnerships, build lasting client relationships, and deliver tailored digital transformation solutions within the manufacturing and financial industries. Expertise in data cloud solutions, including Snowflake, and a passion for leveraging data analytics and operational optimization to achieve client objectives. Consistent track record of exceeding quota and achieving multi-year President's Club recognition.\n",
>>>>>>> 5b9fb22 (Revise resume content for clarity and conciseness; update skills and experience sections.)
       "\n",
       "\n",
       "**Experience**\n",
       "\n",
       "**Raken Data Group – Head of Data Solutions (2024 – Present)**\n",
<<<<<<< HEAD
       "* Developed and deployed proprietary machine learning models within a multi-vertical SaaS platform, enabling data-driven growth across various sectors.\n",
       "* Utilized data analytics to identify growth opportunities and optimize business performance, driving strategic decision-making.\n",
       "* Led end-to-end project delivery, ensuring on-time, on-budget execution and exceeding customer satisfaction expectations.\n",
       "* Spearheaded expansion into North America, prioritizing customer acquisition, retention, and revenue growth aligned with business objectives.\n",
       "* Cultivated strategic partnerships with software providers to expand market share and solidify North American presence.\n",
       "\n",
       "**Contentsquare – Head of Solutions Consulting (East & LATAM) (2017 – 2022)**\n",
       "* Promoted to lead Solutions Consulting team, driving significant year-over-year revenue growth and achieving substantial revenue growth and expansion.\n",
       "* Built and led a top-performing post-sales engineering team to drive adoption, customer retention, NPS, and CSAT scores.\n",
       "* Accelerated Latin America expansion, driving growth from $20K to $1M ARR in less than a year, demonstrating successful implementation in a new market.\n",
       "* Provided technical leadership to drive services and solution integration across multiple geographies, collaborating with Account Executives and Managers.\n",
       "* Developed and delivered comprehensive onboarding programs for new team members, mentoring and coaching new hires on sales engineering skills.\n",
       "\n",
=======
       "\n",
       "* Spearheading North American expansion, prioritizing customer acquisition, retention, and revenue growth aligned with strategic business objectives.\n",
       "* Cultivating strategic partnerships with software providers to expand market share and solidify North American presence, driving new business opportunities.\n",
       "* Leading end-to-end project delivery for digital transformation initiatives, ensuring on-time, on-budget execution and exceeding client satisfaction expectations.\n",
       "* Leveraging data analytics to identify growth opportunities, optimize business performance, and drive strategic decision-making for clients.\n",
       "\n",
       "\n",
       "**Contentsquare – Head of Solutions Consulting (East & LATAM) (2017 – 2022)**\n",
       "\n",
       "* Promoted to lead Solutions Consulting team, driving significant year-over-year revenue growth and exceeding sales targets.\n",
       "* Bootstrapped and architected rapid growth in the US Central territory, achieving $3M in annual recurring revenue (ARR) within 12 months, demonstrating strong business acumen.\n",
       "* Built and led a top-performing post-sales engineering team focused on driving customer adoption, retention, and satisfaction, resulting in substantial revenue growth and expansion.\n",
       "* Orchestrated technical sales campaigns that exceeded targets and boosted revenue and brand recognition within the target market.\n",
>>>>>>> 5b9fb22 (Revise resume content for clarity and conciseness; update skills and experience sections.)
       "\n",
       "**Datameer – Manager, Solutions Engineering (2015 – 2017)**\n",
       "* Developed and executed end-to-end sales and expansion strategies to drive new enterprise client acquisition while expanding existing customer relationships.\n",
       "* Developed and executed the go-to-market strategy for Latin America.\n",
       "* Championed customer success and client relationship management to review product delivery and resolved implementation and adoption issues.\n",
       "* Developed demonstrations, presentations, and other assets to support sales and marketing efforts.\n",
       "\n",
<<<<<<< HEAD
       "**User Replay – Director of Sales Engineering (2015)**\n",
       "* Led sales and account penetration as an early employee, achieving rapid growth and increasing North American territory revenue from $0 to $1M ARR in 8 months.\n",
       "* Aligned customer goals, needs, and growth plans with customized solutions to drive increased ACV.\n",
       "* Served as the technical subject matter expert, providing critical support to the North American customer base.\n",
       "* Identified and addressed customers' critical business issues to expand ACV and market reach.\n",
=======
       "* Developed and executed end-to-end sales and expansion strategies to drive new enterprise client acquisition and expand existing customer relationships within key industries.\n",
       "* Spearheaded Solutions Engineering team talent acquisition, onboarding, and skills development initiatives, building high-performing teams.\n",
       "* Developed and executed the go-to-market (GTM) strategy for Latin America, demonstrating success in expanding into new markets.\n",
       "* Championed customer success and client relationship management to ensure product delivery satisfaction and resolve implementation and adoption issues.\n",
       "\n",
       "\n",
       "**User Replay – Director of Sales Engineering (2015)**\n",
       "\n",
       "* Led sales and account penetration as an early-stage employee, achieving rapid growth and increasing North American territory revenue from $0 to $1M ARR in 8 months.\n",
       "* Aligned customer goals, needs, and growth plans with customized solutions to drive increased average contract value (ACV) and achieve client objectives.\n",
       "* Served as the technical subject matter expert (SME), providing critical support to the North American customer base and ensuring successful product adoption.\n",
       "* Identified and addressed customers' critical business issues to expand ACV and market reach, contributing to overall business growth.\n",
>>>>>>> 5b9fb22 (Revise resume content for clarity and conciseness; update skills and experience sections.)
       "\n",
       "\n",
       "\n",
       "**Skills**\n",
<<<<<<< HEAD
=======
       "\n",
       "* **Technical:** Snowflake, Data Cloud Solutions, Data Analytics, Data Engineering, ETL/ELT, SaaS, Advanced Analytics, ML/AI\n",
       "* **Sales:** MEDDIC, Strategic Partnership Management, Stakeholder Communication, Customer Acquisition and Retention, GTM Strategy, Performance Metrics, KPI Analysis, Multi-year President's Club & Quota Achievement, Solution Selling, Consulting Sales\n",
       "* **Leadership:** Leading Cross-Functional Teams, Mentoring, Scaling High-Performing Teams, Business Growth, Brand Development, User Experience, Product Development\n",
       "\n",
       "\n",
       "**Certifications**\n",
>>>>>>> 5b9fb22 (Revise resume content for clarity and conciseness; update skills and experience sections.)
       "\n",
       "* **Technical:** Data Engineering, ML/AI, Advanced Analytics, Data Fabric Design, Snowflake, AWS, GCP, Vertex AI, SQL, ETL/ELT, SaaS, CI/CD.\n",
       "* **Data Governance:** Data Quality, Data Security, Data Compliance, Data Integration.\n",
       "* **Leadership:** Strategic Planning, Team Leadership, Mentoring, Cross-functional Collaboration, Stakeholder Communication, GTM Strategy.\n",
       "* **Business Acumen:** Customer Acquisition and Retention, Revenue Growth, Performance Metrics, KPI Analysis.\n",
       "\n",
       "\n",
       "**Certifications**\n",
       "* Google Cloud Public Profile: [https://partner.cloudskillsboost.google/public_profiles/4e087ef0-ed5c-48b5-b763-8e5ade38459e](https://partner.cloudskillsboost.google/public_profiles/4e087ef0-ed5c-48b5-b763-8e5ade38459e)\n",
       "* Snowflake Sales & Technical: [https://certificates.confluent.io/profile/shaded5458/wallet](https://certificates.confluent.io/profile/shaded5458/wallet)\n",
       "* Confluent Kafka & Flink Sales & Technical: [https://certificates.confluent.io/profile/shaded5458/wallet](https://certificates.confluent.io/profile/shaded5458/wallet)\n",
       "* Responsive Web Design, JavaScript\n",
       "* Echelon Front Leadership Certification\n",
       "\n",
       "\n",
       "\n"
      ],
      "text/plain": [
       "<IPython.core.display.Markdown object>"
      ]
     },
     "metadata": {},
     "output_type": "display_data"
    }
   ],
   "source": [
    "display(Markdown(resume_list[0]))"
   ]
  },
  {
   "cell_type": "markdown",
   "id": "4d5695ca-8f98-48cb-b542-30789d69a1ce",
   "metadata": {},
   "source": [
    "### Save File to PDF & HTML"
   ]
  },
  {
   "cell_type": "code",
   "execution_count": 12,
   "id": "53ef33a1-fc60-4faa-9bca-fea65f2ecc64",
   "metadata": {},
   "outputs": [
    {
     "name": "stdout",
     "output_type": "stream",
     "text": [
      "<h1>Rod Morrison</h1>\n",
      "<p><strong>Contact Information:</strong>\n",
      "* Email: <a href=\"mailto:rod.morrison@gmail.com\">rod.morrison@gmail.com</a>\n",
      "* Phone: <a href=\"tel:7139077102\">713-907-7102</a>\n",
      "* LinkedIn: <a href=\"https://www.linkedin.com/in/rmorrison/\">https://www.linkedin.com/in/rmorrison/</a>\n",
      "* GitHub: <a href=\"https://github.com/Mojoryson\">https://github.com/Mojoryson</a></p>\n",
      "<p><strong>Summary</strong></p>\n",
      "<p>Highly accomplished and results-driven sales executive with 10+ years of experience driving revenue growth and exceeding targets in high-activity, high-volume sales environments. Proven ability to cultivate strategic partnerships, build lasting client relationships, and deliver tailored digital transformation solutions within the manufacturing and financial industries. Expertise in data cloud solutions, including Snowflake, and a passion for leveraging data analytics and operational optimization to achieve client objectives. Consistent track record of exceeding quota and achieving multi-year President's Club recognition.</p>\n",
      "<p><strong>Experience</strong></p>\n",
      "<p><strong>Raken Data Group – Head of Data Solutions (2024 – Present)</strong></p>\n",
      "<ul>\n",
      "<li>Spearheading North American expansion, prioritizing customer acquisition, retention, and revenue growth aligned with strategic business objectives.</li>\n",
      "<li>Cultivating strategic partnerships with software providers to expand market share and solidify North American presence, driving new business opportunities.</li>\n",
      "<li>Leading end-to-end project delivery for digital transformation initiatives, ensuring on-time, on-budget execution and exceeding client satisfaction expectations.</li>\n",
      "<li>Leveraging data analytics to identify growth opportunities, optimize business performance, and drive strategic decision-making for clients.</li>\n",
      "</ul>\n",
      "<p><strong>Contentsquare – Head of Solutions Consulting (East &amp; LATAM) (2017 – 2022)</strong></p>\n",
      "<ul>\n",
      "<li>Promoted to lead Solutions Consulting team, driving significant year-over-year revenue growth and exceeding sales targets.</li>\n",
      "<li>Bootstrapped and architected rapid growth in the US Central territory, achieving $3M in annual recurring revenue (ARR) within 12 months, demonstrating strong business acumen.</li>\n",
      "<li>Built and led a top-performing post-sales engineering team focused on driving customer adoption, retention, and satisfaction, resulting in substantial revenue growth and expansion.</li>\n",
      "<li>Orchestrated technical sales campaigns that exceeded targets and boosted revenue and brand recognition within the target market.</li>\n",
      "</ul>\n",
      "<p><strong>Datameer – Manager, Solutions Engineering (2015 – 2017)</strong></p>\n",
      "<ul>\n",
      "<li>Developed and executed end-to-end sales and expansion strategies to drive new enterprise client acquisition and expand existing customer relationships within key industries.</li>\n",
      "<li>Spearheaded Solutions Engineering team talent acquisition, onboarding, and skills development initiatives, building high-performing teams.</li>\n",
      "<li>Developed and executed the go-to-market (GTM) strategy for Latin America, demonstrating success in expanding into new markets.</li>\n",
      "<li>Championed customer success and client relationship management to ensure product delivery satisfaction and resolve implementation and adoption issues.</li>\n",
      "</ul>\n",
      "<p><strong>User Replay – Director of Sales Engineering (2015)</strong></p>\n",
      "<ul>\n",
      "<li>Led sales and account penetration as an early-stage employee, achieving rapid growth and increasing North American territory revenue from $0 to $1M ARR in 8 months.</li>\n",
      "<li>Aligned customer goals, needs, and growth plans with customized solutions to drive increased average contract value (ACV) and achieve client objectives.</li>\n",
      "<li>Served as the technical subject matter expert (SME), providing critical support to the North American customer base and ensuring successful product adoption.</li>\n",
      "<li>Identified and addressed customers' critical business issues to expand ACV and market reach, contributing to overall business growth.</li>\n",
      "</ul>\n",
      "<p><strong>Skills</strong></p>\n",
      "<ul>\n",
      "<li><strong>Technical:</strong> Snowflake, Data Cloud Solutions, Data Analytics, Data Engineering, ETL/ELT, SaaS, Advanced Analytics, ML/AI</li>\n",
      "<li><strong>Sales:</strong> MEDDIC, Strategic Partnership Management, Stakeholder Communication, Customer Acquisition and Retention, GTM Strategy, Performance Metrics, KPI Analysis, Multi-year President's Club &amp; Quota Achievement, Solution Selling, Consulting Sales</li>\n",
      "<li><strong>Leadership:</strong> Leading Cross-Functional Teams, Mentoring, Scaling High-Performing Teams, Business Growth, Brand Development, User Experience, Product Development</li>\n",
      "</ul>\n",
      "<p><strong>Certifications</strong></p>\n",
      "<ul>\n",
      "<li>Google Cloud Public Profile: <a href=\"https://partner.cloudskillsboost.google/public_profiles/4e087ef0-ed5c-48b5-b763-8e5ade38459e\">https://partner.cloudskillsboost.google/public_profiles/4e087ef0-ed5c-48b5-b763-8e5ade38459e</a></li>\n",
      "<li>Snowflake Sales &amp; Technical: <a href=\"https://certificates.confluent.io/profile/shaded5458/wallet\">https://certificates.confluent.io/profile/shaded5458/wallet</a></li>\n",
      "<li>Confluent Kafka &amp; Flink Sales &amp; Technical: <a href=\"https://certificates.confluent.io/profile/shaded5458/wallet\">https://certificates.confluent.io/profile/shaded5458/wallet</a></li>\n",
      "<li>Responsive Web Design, JavaScript</li>\n",
      "<li>Echelon Front Leadership Certification</li>\n",
      "<li>United States Army, 3rd Battalion / 11th Armored Cavalry Regiment | Bad Hersfeld, Germany</li>\n",
      "<li>Diploma in Computer Programming, Computer Learning Center, San Francisco</li>\n",
      "</ul>\n"
     ]
    }
   ],
   "source": [
    "# Save to PDF\n",
    "output_resume_pdf = \"resume/resume_new.pdf\"\n",
    "\n",
    "# Convert Markdown to HTML\n",
    "html_output = markdown(resume_list[0])\n",
    "print(html_output)"
   ]
  },
  {
   "cell_type": "code",
   "execution_count": 13,
   "id": "264b32a5-e509-400c-bcb6-2e2308d4dbc8",
   "metadata": {},
   "outputs": [
    {
     "name": "stdout",
     "output_type": "stream",
     "text": [
      "\n",
      "  <!DOCTYPE html>\n",
      "  <html>\n",
      "  <head>\n",
      "    <meta charset=\"UTF-8\">\n",
      "    <title>Resume</title>\n",
      "    <link rel=\"stylesheet\" href=\"styles.css\">\n",
      "    <link rel=\"preconnect\" href=\"https://fonts.googleapis.com\">\n",
      "    <link rel=\"preconnect\" href=\"https://fonts.gstatic.com\" crossorigin>\n",
      "    <link href=\"https://fonts.googleapis.com/css2?family=Open+Sans&display=swap\" rel=\"stylesheet\">\n",
      "  </head>\n",
      "  <body>\n",
      "    <h1>Rod Morrison</h1>\n",
      "<p><strong>Contact Information:</strong>\n",
      "* Email: <a href=\"mailto:rod.morrison@gmail.com\">rod.morrison@gmail.com</a>\n",
      "* Phone: <a href=\"tel:7139077102\">713-907-7102</a>\n",
      "* LinkedIn: <a href=\"https://www.linkedin.com/in/rmorrison/\">https://www.linkedin.com/in/rmorrison/</a>\n",
      "* GitHub: <a href=\"https://github.com/Mojoryson\">https://github.com/Mojoryson</a></p>\n",
      "<p><strong>Summary</strong></p>\n",
      "<p>Highly accomplished and results-driven sales executive with 10+ years of experience driving revenue growth and exceeding targets in high-activity, high-volume sales environments. Proven ability to cultivate strategic partnerships, build lasting client relationships, and deliver tailored digital transformation solutions within the manufacturing and financial industries. Expertise in data cloud solutions, including Snowflake, and a passion for leveraging data analytics and operational optimization to achieve client objectives. Consistent track record of exceeding quota and achieving multi-year President's Club recognition.</p>\n",
      "<p><strong>Experience</strong></p>\n",
      "<p><strong>Raken Data Group – Head of Data Solutions (2024 – Present)</strong></p>\n",
      "<ul>\n",
      "<li>Spearheading North American expansion, prioritizing customer acquisition, retention, and revenue growth aligned with strategic business objectives.</li>\n",
      "<li>Cultivating strategic partnerships with software providers to expand market share and solidify North American presence, driving new business opportunities.</li>\n",
      "<li>Leading end-to-end project delivery for digital transformation initiatives, ensuring on-time, on-budget execution and exceeding client satisfaction expectations.</li>\n",
      "<li>Leveraging data analytics to identify growth opportunities, optimize business performance, and drive strategic decision-making for clients.</li>\n",
      "</ul>\n",
      "<p><strong>Contentsquare – Head of Solutions Consulting (East &amp; LATAM) (2017 – 2022)</strong></p>\n",
      "<ul>\n",
      "<li>Promoted to lead Solutions Consulting team, driving significant year-over-year revenue growth and exceeding sales targets.</li>\n",
      "<li>Bootstrapped and architected rapid growth in the US Central territory, achieving $3M in annual recurring revenue (ARR) within 12 months, demonstrating strong business acumen.</li>\n",
      "<li>Built and led a top-performing post-sales engineering team focused on driving customer adoption, retention, and satisfaction, resulting in substantial revenue growth and expansion.</li>\n",
      "<li>Orchestrated technical sales campaigns that exceeded targets and boosted revenue and brand recognition within the target market.</li>\n",
      "</ul>\n",
      "<p><strong>Datameer – Manager, Solutions Engineering (2015 – 2017)</strong></p>\n",
      "<ul>\n",
      "<li>Developed and executed end-to-end sales and expansion strategies to drive new enterprise client acquisition and expand existing customer relationships within key industries.</li>\n",
      "<li>Spearheaded Solutions Engineering team talent acquisition, onboarding, and skills development initiatives, building high-performing teams.</li>\n",
      "<li>Developed and executed the go-to-market (GTM) strategy for Latin America, demonstrating success in expanding into new markets.</li>\n",
      "<li>Championed customer success and client relationship management to ensure product delivery satisfaction and resolve implementation and adoption issues.</li>\n",
      "</ul>\n",
      "<p><strong>User Replay – Director of Sales Engineering (2015)</strong></p>\n",
      "<ul>\n",
      "<li>Led sales and account penetration as an early-stage employee, achieving rapid growth and increasing North American territory revenue from $0 to $1M ARR in 8 months.</li>\n",
      "<li>Aligned customer goals, needs, and growth plans with customized solutions to drive increased average contract value (ACV) and achieve client objectives.</li>\n",
      "<li>Served as the technical subject matter expert (SME), providing critical support to the North American customer base and ensuring successful product adoption.</li>\n",
      "<li>Identified and addressed customers' critical business issues to expand ACV and market reach, contributing to overall business growth.</li>\n",
      "</ul>\n",
      "<p><strong>Skills</strong></p>\n",
      "<ul>\n",
      "<li><strong>Technical:</strong> Snowflake, Data Cloud Solutions, Data Analytics, Data Engineering, ETL/ELT, SaaS, Advanced Analytics, ML/AI</li>\n",
      "<li><strong>Sales:</strong> MEDDIC, Strategic Partnership Management, Stakeholder Communication, Customer Acquisition and Retention, GTM Strategy, Performance Metrics, KPI Analysis, Multi-year President's Club &amp; Quota Achievement, Solution Selling, Consulting Sales</li>\n",
      "<li><strong>Leadership:</strong> Leading Cross-Functional Teams, Mentoring, Scaling High-Performing Teams, Business Growth, Brand Development, User Experience, Product Development</li>\n",
      "</ul>\n",
      "<p><strong>Certifications</strong></p>\n",
      "<ul>\n",
      "<li>Google Cloud Public Profile: <a href=\"https://partner.cloudskillsboost.google/public_profiles/4e087ef0-ed5c-48b5-b763-8e5ade38459e\">https://partner.cloudskillsboost.google/public_profiles/4e087ef0-ed5c-48b5-b763-8e5ade38459e</a></li>\n",
      "<li>Snowflake Sales &amp; Technical: <a href=\"https://certificates.confluent.io/profile/shaded5458/wallet\">https://certificates.confluent.io/profile/shaded5458/wallet</a></li>\n",
      "<li>Confluent Kafka &amp; Flink Sales &amp; Technical: <a href=\"https://certificates.confluent.io/profile/shaded5458/wallet\">https://certificates.confluent.io/profile/shaded5458/wallet</a></li>\n",
      "<li>Responsive Web Design, JavaScript</li>\n",
      "<li>Echelon Front Leadership Certification</li>\n",
      "<li>United States Army, 3rd Battalion / 11th Armored Cavalry Regiment | Bad Hersfeld, Germany</li>\n",
      "<li>Diploma in Computer Programming, Computer Learning Center, San Francisco</li>\n",
      "</ul>\n",
      "  </body>\n",
      "  </html>\n",
      "  \n",
      "HTML file saved as resume.html\n"
     ]
    }
   ],
   "source": [
    "from markdown import markdown\n",
    "\n",
    "def markdown_to_html_with_css(markdown_text, css_file=\"styles.css\", google_font=\"Roboto\"):\n",
    "  \"\"\"\n",
    "  Converts markdown text to HTML, applies an external CSS file, and adds a Google Font.\n",
    "\n",
    "  Args:\n",
    "    markdown_text: The markdown text to convert.\n",
    "    css_file: The path to the CSS file.\n",
    "    google_font: The name of the Google Font to use.\n",
    "\n",
    "  Returns:\n",
    "    The HTML output as a string.\n",
    "  \"\"\"\n",
    "\n",
    "  html_output = markdown(markdown_text)\n",
    "\n",
    "  # Construct the HTML with the linked CSS file and Google Font\n",
    "  html_with_css = f\"\"\"\n",
    "  <!DOCTYPE html>\n",
    "  <html>\n",
    "  <head>\n",
    "    <meta charset=\"UTF-8\">\n",
    "    <title>Resume</title>\n",
    "    <link rel=\"stylesheet\" href=\"{css_file}\">\n",
    "    <link rel=\"preconnect\" href=\"https://fonts.googleapis.com\">\n",
    "    <link rel=\"preconnect\" href=\"https://fonts.gstatic.com\" crossorigin>\n",
    "    <link href=\"https://fonts.googleapis.com/css2?family={google_font}&display=swap\" rel=\"stylesheet\">\n",
    "  </head>\n",
    "  <body>\n",
    "    {html_output}\n",
    "  </body>\n",
    "  </html>\n",
    "  \"\"\"\n",
    "\n",
    "  return html_with_css\n",
    "\n",
    "# Example usage with resume_list and a Google Font:\n",
    "html_output = markdown_to_html_with_css(resume_list[0], google_font=\"Open+Sans\")\n",
    "\n",
    "# Now you can save html_output to a file or use it further\n",
    "print(html_output)\n",
    "\n",
    "# Specify the filename\n",
    "filename = \"resume.html\"\n",
    "\n",
    "# Write the HTML to the file\n",
    "with open(filename, \"w\") as f:\n",
    "  f.write(html_output)\n",
    "\n",
    "print(f\"HTML file saved as {filename}\")"
   ]
  },
  {
   "cell_type": "code",
   "execution_count": 14,
   "id": "e1b3e737-d204-49b5-820c-7d12037d24f8",
   "metadata": {},
   "outputs": [
    {
     "name": "stdout",
     "output_type": "stream",
     "text": [
      "\n",
      "  <!DOCTYPE html>\n",
      "  <html>\n",
      "  <head>\n",
      "    <meta charset=\"UTF-8\">\n",
      "    <title>Resume</title>\n",
      "    <link rel=\"stylesheet\" href=\"styles.css\">\n",
      "    <link rel=\"preconnect\" href=\"https://fonts.googleapis.com\">\n",
      "    <link rel=\"preconnect\" href=\"https://fonts.gstatic.com\" crossorigin>\n",
      "    <link href=\"https://fonts.googleapis.com/css2?family=Open+Sans&display=swap\" rel=\"stylesheet\">\n",
      "  </head>\n",
      "  <body>\n",
      "    <h1>Rod Morrison</h1>\n",
      "<p><strong>Contact Information:</strong>\n",
      "* Email: <a href=\"mailto:rod.morrison@gmail.com\">rod.morrison@gmail.com</a>\n",
      "* Phone: <a href=\"tel:7139077102\">713-907-7102</a>\n",
      "* LinkedIn: <a href=\"https://www.linkedin.com/in/rmorrison/\">https://www.linkedin.com/in/rmorrison/</a>\n",
      "* GitHub: <a href=\"https://github.com/Mojoryson\">https://github.com/Mojoryson</a></p>\n",
      "<p><strong>Summary</strong></p>\n",
      "<p>Highly accomplished and results-driven sales executive with 10+ years of experience driving revenue growth and exceeding targets in high-activity, high-volume sales environments. Proven ability to cultivate strategic partnerships, build lasting client relationships, and deliver tailored digital transformation solutions within the manufacturing and financial industries. Expertise in data cloud solutions, including Snowflake, and a passion for leveraging data analytics and operational optimization to achieve client objectives. Consistent track record of exceeding quota and achieving multi-year President's Club recognition.</p>\n",
      "<p><strong>Experience</strong></p>\n",
      "<p><strong>Raken Data Group – Head of Data Solutions (2024 – Present)</strong></p>\n",
      "<ul>\n",
      "<li>Spearheading North American expansion, prioritizing customer acquisition, retention, and revenue growth aligned with strategic business objectives.</li>\n",
      "<li>Cultivating strategic partnerships with software providers to expand market share and solidify North American presence, driving new business opportunities.</li>\n",
      "<li>Leading end-to-end project delivery for digital transformation initiatives, ensuring on-time, on-budget execution and exceeding client satisfaction expectations.</li>\n",
      "<li>Leveraging data analytics to identify growth opportunities, optimize business performance, and drive strategic decision-making for clients.</li>\n",
      "</ul>\n",
      "<p><strong>Contentsquare – Head of Solutions Consulting (East &amp; LATAM) (2017 – 2022)</strong></p>\n",
      "<ul>\n",
      "<li>Promoted to lead Solutions Consulting team, driving significant year-over-year revenue growth and exceeding sales targets.</li>\n",
      "<li>Bootstrapped and architected rapid growth in the US Central territory, achieving $3M in annual recurring revenue (ARR) within 12 months, demonstrating strong business acumen.</li>\n",
      "<li>Built and led a top-performing post-sales engineering team focused on driving customer adoption, retention, and satisfaction, resulting in substantial revenue growth and expansion.</li>\n",
      "<li>Orchestrated technical sales campaigns that exceeded targets and boosted revenue and brand recognition within the target market.</li>\n",
      "</ul>\n",
      "<p><strong>Datameer – Manager, Solutions Engineering (2015 – 2017)</strong></p>\n",
      "<ul>\n",
      "<li>Developed and executed end-to-end sales and expansion strategies to drive new enterprise client acquisition and expand existing customer relationships within key industries.</li>\n",
      "<li>Spearheaded Solutions Engineering team talent acquisition, onboarding, and skills development initiatives, building high-performing teams.</li>\n",
      "<li>Developed and executed the go-to-market (GTM) strategy for Latin America, demonstrating success in expanding into new markets.</li>\n",
      "<li>Championed customer success and client relationship management to ensure product delivery satisfaction and resolve implementation and adoption issues.</li>\n",
      "</ul>\n",
      "<p><strong>User Replay – Director of Sales Engineering (2015)</strong></p>\n",
      "<ul>\n",
      "<li>Led sales and account penetration as an early-stage employee, achieving rapid growth and increasing North American territory revenue from $0 to $1M ARR in 8 months.</li>\n",
      "<li>Aligned customer goals, needs, and growth plans with customized solutions to drive increased average contract value (ACV) and achieve client objectives.</li>\n",
      "<li>Served as the technical subject matter expert (SME), providing critical support to the North American customer base and ensuring successful product adoption.</li>\n",
      "<li>Identified and addressed customers' critical business issues to expand ACV and market reach, contributing to overall business growth.</li>\n",
      "</ul>\n",
      "<p><strong>Skills</strong></p>\n",
      "<ul>\n",
      "<li><strong>Technical:</strong> Snowflake, Data Cloud Solutions, Data Analytics, Data Engineering, ETL/ELT, SaaS, Advanced Analytics, ML/AI</li>\n",
      "<li><strong>Sales:</strong> MEDDIC, Strategic Partnership Management, Stakeholder Communication, Customer Acquisition and Retention, GTM Strategy, Performance Metrics, KPI Analysis, Multi-year President's Club &amp; Quota Achievement, Solution Selling, Consulting Sales</li>\n",
      "<li><strong>Leadership:</strong> Leading Cross-Functional Teams, Mentoring, Scaling High-Performing Teams, Business Growth, Brand Development, User Experience, Product Development</li>\n",
      "</ul>\n",
      "<p><strong>Certifications</strong></p>\n",
      "<ul>\n",
      "<li>Google Cloud Public Profile: <a href=\"https://partner.cloudskillsboost.google/public_profiles/4e087ef0-ed5c-48b5-b763-8e5ade38459e\">https://partner.cloudskillsboost.google/public_profiles/4e087ef0-ed5c-48b5-b763-8e5ade38459e</a></li>\n",
      "<li>Snowflake Sales &amp; Technical: <a href=\"https://certificates.confluent.io/profile/shaded5458/wallet\">https://certificates.confluent.io/profile/shaded5458/wallet</a></li>\n",
      "<li>Confluent Kafka &amp; Flink Sales &amp; Technical: <a href=\"https://certificates.confluent.io/profile/shaded5458/wallet\">https://certificates.confluent.io/profile/shaded5458/wallet</a></li>\n",
      "<li>Responsive Web Design, JavaScript</li>\n",
      "<li>Echelon Front Leadership Certification</li>\n",
      "<li>United States Army, 3rd Battalion / 11th Armored Cavalry Regiment | Bad Hersfeld, Germany</li>\n",
      "<li>Diploma in Computer Programming, Computer Learning Center, San Francisco</li>\n",
      "</ul>\n",
      "  </body>\n",
      "  </html>\n",
      "  \n"
     ]
    }
   ],
   "source": [
    "print(html_output)"
   ]
  },
  {
   "cell_type": "code",
   "execution_count": 15,
   "id": "da566b74-4b97-4728-8308-dda6e81915bb",
   "metadata": {},
   "outputs": [],
   "source": [
    "# Save to PDF\n",
    "output_resume_pdf = \"resume/resume_new.pdf\"\n",
    "\n",
    "# Convert HTML to PDF and save\n",
    "HTML(string=html_output).write_pdf(output_resume_pdf, stylesheets=['styles.css'])"
   ]
  },
  {
   "cell_type": "code",
   "execution_count": 16,
   "id": "ef84eb85-2d47-49bb-a64d-33316cde7e2d",
   "metadata": {},
   "outputs": [
    {
     "name": "stdout",
     "output_type": "stream",
     "text": [
      "# Rod Morrison\n",
      "\n",
      "**Contact Information:**\n",
      "* Email: [rod.morrison@gmail.com](mailto:rod.morrison@gmail.com)\n",
      "* Phone: [713-907-7102](tel:7139077102)\n",
      "* LinkedIn: [https://www.linkedin.com/in/rmorrison/](https://www.linkedin.com/in/rmorrison/)\n",
      "* GitHub: [https://github.com/Mojoryson](https://github.com/Mojoryson)\n",
      "\n",
      "\n",
      "**Summary**\n",
      "\n",
      "Highly accomplished and results-driven sales executive with 10+ years of experience driving revenue growth and exceeding targets in high-activity, high-volume sales environments. Proven ability to cultivate strategic partnerships, build lasting client relationships, and deliver tailored digital transformation solutions within the manufacturing and financial industries. Expertise in data cloud solutions, including Snowflake, and a passion for leveraging data analytics and operational optimization to achieve client objectives. Consistent track record of exceeding quota and achieving multi-year President's Club recognition.\n",
      "\n",
      "\n",
      "**Experience**\n",
      "\n",
      "**Raken Data Group – Head of Data Solutions (2024 – Present)**\n",
      "\n",
      "* Spearheading North American expansion, prioritizing customer acquisition, retention, and revenue growth aligned with strategic business objectives.\n",
      "* Cultivating strategic partnerships with software providers to expand market share and solidify North American presence, driving new business opportunities.\n",
      "* Leading end-to-end project delivery for digital transformation initiatives, ensuring on-time, on-budget execution and exceeding client satisfaction expectations.\n",
      "* Leveraging data analytics to identify growth opportunities, optimize business performance, and drive strategic decision-making for clients.\n",
      "\n",
      "\n",
      "**Contentsquare – Head of Solutions Consulting (East & LATAM) (2017 – 2022)**\n",
      "\n",
      "* Promoted to lead Solutions Consulting team, driving significant year-over-year revenue growth and exceeding sales targets.\n",
      "* Bootstrapped and architected rapid growth in the US Central territory, achieving $3M in annual recurring revenue (ARR) within 12 months, demonstrating strong business acumen.\n",
      "* Built and led a top-performing post-sales engineering team focused on driving customer adoption, retention, and satisfaction, resulting in substantial revenue growth and expansion.\n",
      "* Orchestrated technical sales campaigns that exceeded targets and boosted revenue and brand recognition within the target market.\n",
      "\n",
      "\n",
      "**Datameer – Manager, Solutions Engineering (2015 – 2017)**\n",
      "\n",
      "* Developed and executed end-to-end sales and expansion strategies to drive new enterprise client acquisition and expand existing customer relationships within key industries.\n",
      "* Spearheaded Solutions Engineering team talent acquisition, onboarding, and skills development initiatives, building high-performing teams.\n",
      "* Developed and executed the go-to-market (GTM) strategy for Latin America, demonstrating success in expanding into new markets.\n",
      "* Championed customer success and client relationship management to ensure product delivery satisfaction and resolve implementation and adoption issues.\n",
      "\n",
      "\n",
      "**User Replay – Director of Sales Engineering (2015)**\n",
      "\n",
      "* Led sales and account penetration as an early-stage employee, achieving rapid growth and increasing North American territory revenue from $0 to $1M ARR in 8 months.\n",
      "* Aligned customer goals, needs, and growth plans with customized solutions to drive increased average contract value (ACV) and achieve client objectives.\n",
      "* Served as the technical subject matter expert (SME), providing critical support to the North American customer base and ensuring successful product adoption.\n",
      "* Identified and addressed customers' critical business issues to expand ACV and market reach, contributing to overall business growth.\n",
      "\n",
      "\n",
      "\n",
      "**Skills**\n",
      "\n",
      "* **Technical:** Snowflake, Data Cloud Solutions, Data Analytics, Data Engineering, ETL/ELT, SaaS, Advanced Analytics, ML/AI\n",
      "* **Sales:** MEDDIC, Strategic Partnership Management, Stakeholder Communication, Customer Acquisition and Retention, GTM Strategy, Performance Metrics, KPI Analysis, Multi-year President's Club & Quota Achievement, Solution Selling, Consulting Sales\n",
      "* **Leadership:** Leading Cross-Functional Teams, Mentoring, Scaling High-Performing Teams, Business Growth, Brand Development, User Experience, Product Development\n",
      "\n",
      "\n",
      "**Certifications**\n",
      "\n",
      "* Google Cloud Public Profile: [https://partner.cloudskillsboost.google/public_profiles/4e087ef0-ed5c-48b5-b763-8e5ade38459e](https://partner.cloudskillsboost.google/public_profiles/4e087ef0-ed5c-48b5-b763-8e5ade38459e)\n",
      "* Snowflake Sales & Technical: [https://certificates.confluent.io/profile/shaded5458/wallet](https://certificates.confluent.io/profile/shaded5458/wallet)\n",
      "* Confluent Kafka & Flink Sales & Technical: [https://certificates.confluent.io/profile/shaded5458/wallet](https://certificates.confluent.io/profile/shaded5458/wallet)\n",
      "* Responsive Web Design, JavaScript\n",
      "* Echelon Front Leadership Certification\n",
      "* United States Army, 3rd Battalion / 11th Armored Cavalry Regiment | Bad Hersfeld, Germany\n",
      "* Diploma in Computer Programming, Computer Learning Center, San Francisco\n",
      "\n",
      "\n",
      "\n",
      "\n"
     ]
    }
   ],
   "source": [
    "print(resume_list[0])"
   ]
  },
  {
   "cell_type": "code",
   "execution_count": 18,
   "id": "7f1da772-54cd-4856-b8f6-c7b696b79d04",
   "metadata": {},
   "outputs": [],
   "source": [
    "# save as markdown\n",
    "output_file = \"resume/resume_new.md\"\n",
    "\n",
    "with open(output_file, \"w\", encoding=\"utf-8\") as file:\n",
    "    file.write(resume_list[0])"
   ]
  },
  {
   "cell_type": "code",
   "execution_count": 19,
   "id": "01f14ed3-989a-495c-a1ce-32834c2be4b2",
   "metadata": {},
   "outputs": [
    {
     "data": {
      "text/markdown": [
       "\n",
       "\n",
       "**Fit Assessment:**\n",
       "\n",
       "Your resume demonstrates a strong foundation for the Solution Engineer role at BforeAI.  Your experience in technical sales, cloud platforms, and scripting aligns well with the job requirements. However, explicitly highlighting cybersecurity experience or projects would significantly strengthen your candidacy.\n",
       "\n",
       "**Skills to Strengthen:**\n",
       "\n",
       "* **Cybersecurity Fundamentals:**  Deepen your knowledge of cybersecurity concepts, including threat modeling, vulnerability management, incident response, and security best practices.\n",
       "* **Networking:**  Expand your understanding of networking protocols (TCP/IP, HTTP), firewalls, and intrusion detection/prevention systems.\n",
       "* **Specific Security Tools:** Familiarize yourself with industry-standard security tools and technologies relevant to BforeAI's target market.  Research their website and marketing materials for clues.\n",
       "* **Predictive AI in Cybersecurity:**  Showcase any experience or knowledge related to applying AI/ML in cybersecurity, particularly for predictive threat analysis.\n",
       "\n",
       "**Certifications/Courses:**\n",
       "\n",
       "* **CompTIA Security+:**  A foundational cybersecurity certification demonstrating a broad understanding of security concepts.\n",
       "* **AWS Certified Security – Specialty:** If BforeAI utilizes AWS, this certification would validate your cloud security expertise.\n",
       "* **Vendor-Specific Security Certifications:**  Consider certifications related to specific security tools or platforms relevant to BforeAI's solutions.\n",
       "* **Online Courses:** Explore online courses focusing on cybersecurity fundamentals, ethical hacking, or AI in cybersecurity.\n",
       "\n",
       "**Projects/Experiences:**\n",
       "\n",
       "* **Personal Cybersecurity Projects:**  Develop personal projects demonstrating your cybersecurity skills.  This could include building a basic intrusion detection system, conducting vulnerability assessments on personal systems, or contributing to open-source security projects.\n",
       "* **Capture the Flag (CTF) Competitions:** Participate in CTF competitions to enhance your practical cybersecurity skills and problem-solving abilities.\n",
       "* **Cybersecurity Volunteer Work:**  Offer your technical skills to non-profit organizations or community groups to gain real-world experience in a cybersecurity context.\n",
       "* **Create a Demo Integration:**  Develop a small demo project showcasing your ability to integrate a hypothetical security solution (or even a simplified version of BforeAI's offering, if publicly available information allows) with a common platform.  This would demonstrate your API integration skills and proactive approach.\n"
      ],
      "text/plain": [
       "<IPython.core.display.Markdown object>"
      ]
     },
     "metadata": {},
     "output_type": "display_data"
    }
   ],
   "source": [
    "display(Markdown(resume_list[1]))"
   ]
  },
  {
   "cell_type": "code",
   "execution_count": null,
   "id": "6d732838-3ae7-45e3-a413-83911a77d7eb",
   "metadata": {},
   "outputs": [],
   "source": []
  }
 ],
 "metadata": {
  "kernelspec": {
   "display_name": "ai_dev",
   "language": "python",
   "name": "python3"
  },
  "language_info": {
   "codemirror_mode": {
    "name": "ipython",
    "version": 3
   },
   "file_extension": ".py",
   "mimetype": "text/x-python",
   "name": "python",
   "nbconvert_exporter": "python",
   "pygments_lexer": "ipython3",
   "version": "3.12.2"
  }
 },
 "nbformat": 4,
 "nbformat_minor": 5
}
