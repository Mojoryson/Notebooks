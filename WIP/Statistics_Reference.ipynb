{
 "cells": [
  {
   "cell_type": "markdown",
   "metadata": {},
   "source": [
    "# Statistics Primer\n"
   ]
  },
  {
   "cell_type": "markdown",
   "metadata": {},
   "source": [
    "## Statistical Symbols and Characters Reference\n",
    "\n",
    "This reference provides a guide to common statistical symbols and characters used in general statistical concepts.\n",
    "\n",
    "**Greek Letters**\n",
    "\n",
    "| Symbol | Description                                                                      | Example                     |\n",
    "| ------ | -------------------------------------------------------------------------------- | --------------------------- |\n",
    "| μ      | Population mean (average)                                                        | μ = 170 cm (average height) |\n",
    "| σ²     | Population variance                                                              | σ² = 25                    |\n",
    "| σ      | Population standard deviation                                                    | σ = 5                      |\n",
    "| Σ      | Summation (sum of a series of values)                                           | Σ xi = x₁ + x₂ + ... + xn   |\n",
    "| ρ      | Population correlation coefficient                                              | ρ = 0.8                    |\n",
    "| β      | Regression coefficient (slope)                                                  | β = 2                      |\n",
    "| α      | Significance level (in hypothesis testing)                                    | α = 0.05                   |\n",
    "| χ²     | Chi-square statistic (used in chi-square tests)                                 | χ² = 10.8                  |\n",
    "\n",
    "**Latin Letters**\n",
    "\n",
    "| Symbol | Description                                                              | Example                                 |\n",
    "| ------ | ------------------------------------------------------------------------ | --------------------------------------- |\n",
    "| X      | Random variable                                                           | X = number of heads in coin flips        |\n",
    "| x      | Observed value of a random variable                                     | x = 3 (heads)                           |\n",
    "| N      | Number of observations in a population                                 | N = 1000 (students in a school)        |\n",
    "| n      | Number of observations in a sample                                      | n = 50 (students in a sample)          |\n",
    "| P(x)   | Probability of an event with outcome x                                   | P(x = heads) = 0.5                     |\n",
    "| E(X)   | Expected value (mean) of a random variable X                            | E(X) = 5                               |\n",
    "|  $\\bar{X}$  | Sample mean                                                              |  $\\bar{X}$ = 172 cm (sample average height) |\n",
    "| s²     | Sample variance                                                            | s² = 28                                 |\n",
    "| s      | Sample standard deviation                                                | s = 5.3                                |\n",
    "| r      | Sample correlation coefficient                                          | r = 0.75                               |\n",
    "| b      | Sample estimate of the regression coefficient (slope)                  | b = 1.8                                 |\n",
    "| t      | t-statistic (used in t-tests)                                           | t = 2.5                                 |\n",
    "| F      | F-statistic (used in F-tests)                                           | F = 4.2                                 |\n",
    "| p      | p-value (probability of observing the data given the null hypothesis) | p = 0.02                                |\n",
    "\n",
    "**Other Symbols**\n",
    "\n",
    "| Symbol | Description                                            |\n",
    "| ------ | ------------------------------------------------------ |\n",
    "| ≈      | Approximately equal to                                 |\n",
    "| ≠      | Not equal to                                           |\n",
    "| ≤      | Less than or equal to                                  |\n",
    "| ≥      | Greater than or equal to                               |\n",
    "| ∞      | Infinity                                               |\n",
    "| ∈      | Belongs to (element of a set)                         |\n",
    "| ⊂      | Subset of                                              |\n",
    "| ∩      | Intersection (common elements of two sets)             |\n",
    "| ∪      | Union (all elements of two sets)                       |\n",
    "| ∅      | Empty set                                              |\n",
    "| √      | Square root                                            |\n",
    "\n",
    "**Note:** This is not an exhaustive list, but it covers many of the key symbols and characters you'll encounter in statistical analysis."
   ]
  },
  {
   "cell_type": "markdown",
   "metadata": {},
   "source": [
    "\n",
    "## Random Variables\n",
    "\n",
    "**Definition:** A random variable maps the outcomes of random processes to numbers.\n",
    "\n",
    "**Example:** Flipping a coin\n",
    "\n",
    "* **Random Variable (X):** \n",
    "    * 1 if heads\n",
    "    * 0 if tails\n",
    "* **Sample Space:** {0, 1} (all possible outcomes)\n",
    "* **Event:** A single instance of the random process (e.g., flipping the coin once and getting tails)\n",
    "* **Probability (P(x)):** Likelihood of an event occurring with a particular outcome (e.g., P(X=1) = 0.5)\n",
    "\n",
    "**In essence, a random variable assigns numerical values to the outcomes of a random process, allowing us to analyze and quantify the probability of different events.**"
   ]
  },
  {
   "cell_type": "markdown",
   "metadata": {},
   "source": [
    "# Mean\n",
    "\n",
    "The **mean**, also known as the **average** or **expected value**, is a fundamental statistical concept that represents the central tendency of a dataset. It's calculated by summing all the values in the dataset and dividing by the number of values.\n",
    "\n",
    "**Sample Mean**\n",
    "\n",
    "The sample mean (often used to estimate the population mean) is calculated as:\n",
    "\n",
    "**μ = ( Σ xi ) / N**\n",
    "\n",
    "Where:\n",
    "\n",
    "* μ represents the sample mean.\n",
    "* xi represents each individual value in the dataset.\n",
    "* Σ xi represents the sum of all values in the dataset.\n",
    "* N represents the number of observations in the dataset.\n",
    "\n",
    "**Expectation**\n",
    "\n",
    "The mean can also be expressed as the **expectation** of a random variable, denoted by E(X) or  $\\bar{X}$. For random variables X and Y, their expectations are:\n",
    "\n",
    "* **E(X) =  $\\bar{X}$** \n",
    "* **E(Y) =  $\\bar{Y}$**\n",
    "\n",
    "The expectation represents the average value that a random variable is expected to take over a large number of trials."
   ]
  },
  {
   "cell_type": "code",
   "execution_count": 2,
   "metadata": {},
   "outputs": [
    {
     "name": "stdout",
     "output_type": "stream",
     "text": [
      "Mean of x is:  5.0\n",
      "Mean of y_nan is:  5.0\n"
     ]
    }
   ],
   "source": [
    "#Example of Mean\n",
    "import numpy as np\n",
    "import math\n",
    "\n",
    "# Calculate the mean of a dataset using np.mean\n",
    "x = np.array([1,3,5,7,9])\n",
    "mean_x = np.mean(x)\n",
    "print(\"Mean of x is: \", mean_x)\n",
    "\n",
    "# Account for cases where the data contains NaN values using np.nanmean\n",
    "y_nan = np.array([1,3,5,7,9, math.nan])\n",
    "mean_y_nan = np.nanmean(y_nan)\n",
    "print(\"Mean of y_nan is: \", mean_y_nan)\n"
   ]
  },
  {
   "cell_type": "markdown",
   "metadata": {},
   "source": [
    "# Variance\n",
    "\n",
    "Variance measures the dispersion or spread of data points around the mean (average). A higher variance indicates that the data points are more spread out, while a lower variance indicates they are clustered more closely around the mean.\n",
    "\n",
    "**Real-world example:**\n",
    "\n",
    "Imagine you're comparing the heights of students in two different classrooms. \n",
    "\n",
    "* **Classroom A:**  Most students are around the same height, with only a few slightly taller or shorter. This classroom would have a **low variance** in heights.\n",
    "* **Classroom B:** There's a wide range of heights, with some very tall students, some very short students, and everything in between. This classroom would have a **high variance** in heights.\n",
    "\n",
    "**Population Variance**\n",
    "\n",
    "The population variance (σ²) is calculated as:\n",
    "\n",
    "**σ² = Σ (xi - μ)² / N**\n",
    "\n",
    "Where:\n",
    "\n",
    "* σ² represents the population variance.\n",
    "* xi represents each individual value in the dataset (e.g., the height of each student).\n",
    "* μ represents the population mean (e.g., the average height of all students in the classroom).\n",
    "* Σ (xi - μ)² represents the sum of squared differences between each data point (xi) and the population mean (μ).\n",
    "* N represents the number of observations in the population (e.g., the total number of students in the classroom).\n",
    "\n",
    "**Key Points**\n",
    "\n",
    "* Variance is always non-negative (σ² ≥ 0).\n",
    "* The square root of the variance is the standard deviation, which is another measure of dispersion.\n",
    "* When calculating the variance of a sample (as an estimate of the population variance), a slight modification is made to the formula (using N-1 instead of N in the denominator) to ensure an unbiased estimate. This is known as the sample variance."
   ]
  },
  {
   "cell_type": "code",
   "execution_count": 9,
   "metadata": {},
   "outputs": [
    {
     "name": "stdout",
     "output_type": "stream",
     "text": [
      "Variance of x is:  8.0\n",
      "Variance of x is: 10.0\n",
      "The Sample Variance is:  3.7\n"
     ]
    }
   ],
   "source": [
    "# Example of Variance\n",
    "x = np.array([1,3,5,7,9])\n",
    "variance_x = np.var(x)\n",
    "print(\"Variance of x is: \", variance_x)\n",
    "\n",
    "x = np.array([1, 3, 5, 7, 9])\n",
    "variance_x = np.var(x, ddof=1)  # Calculate sample variance\n",
    "print(\"Variance of x is:\", variance_x)  # Output: 10\n",
    "\n",
    "data = np.array([10, 12, 15, 13, 11])\n",
    "\n",
    "# Calculate the sample variance using np.var() with ddof=1\n",
    "# ddof (Delta Degrees of Freedom) = 1 corrects for bias in sample variance \n",
    "# by dividing the sum of squared differences by (N-1) instead of N.\n",
    "sample_variance = np.var(data, ddof=1)  \n",
    "print(\"The Sample Variance is: \", sample_variance)  # Output: 4.5\n"
   ]
  },
  {
   "cell_type": "markdown",
   "metadata": {},
   "source": [
    "# Standard Deviation\n",
    "\n",
    "Standard deviation is a measure of how spread out the data points are in a dataset. It tells you how much, on average, the individual data points deviate from the mean (average) of the dataset.\n",
    "\n",
    "**Real-world examples:**\n",
    "\n",
    "* **Test scores:** Imagine two classes took the same test. Class A had a mean score of 80 with a standard deviation of 5, while Class B had a mean score of 80 with a standard deviation of 10. This means that the scores in Class B were more spread out than in Class A.  In Class A, most students scored within 5 points of the average (between 75 and 85), while in Class B, many students scored further away from the average.\n",
    "\n",
    "* **Manufacturing:** A factory produces bolts with a target diameter of 10mm. A higher standard deviation in the bolt diameters would mean that the bolts produced have more variability in their size, potentially affecting the quality and consistency of the product.\n",
    "\n",
    "**Formula**\n",
    "\n",
    "The standard deviation (σ) is calculated as the square root of the variance:\n",
    "\n",
    "**σ = √σ²**\n",
    "\n",
    "Where:\n",
    "\n",
    "* σ represents the standard deviation.\n",
    "* σ² represents the variance.\n",
    "\n",
    "**Key Points**\n",
    "\n",
    "* Standard deviation is always non-negative (σ ≥ 0).\n",
    "* A higher standard deviation indicates greater variability in the data.\n",
    "* Standard deviation has the same unit as the data, making it easier to interpret than variance.\n",
    "* When calculating the standard deviation of a sample (as an estimate of the population standard deviation), a slight modification is made to the variance formula (using N-1 instead of N in the denominator) to ensure an unbiased estimate. This is known as the sample standard deviation."
   ]
  },
  {
   "cell_type": "code",
   "execution_count": 12,
   "metadata": {},
   "outputs": [
    {
     "name": "stdout",
     "output_type": "stream",
     "text": [
      "Standard deviation of x is:  2.8284271247461903\n",
      "Standard deviation of x_nan is:  3.1622776601683795\n"
     ]
    }
   ],
   "source": [
    "# Example of Standard Deviation\n",
    "x = np.array([1,3,5,7,9])\n",
    "std_dev_x = np.std(x)\n",
    "print(\"Standard deviation of x is: \", std_dev_x)  # Output: 2.828\n",
    "\n",
    "# Calculate the sample standard deviation using np.std() with ddof=1\n",
    "x_nan = np.array([1,3,5,7,9, math.nan])\n",
    "std_dev_x_nan = np.nanstd(x_nan, ddof=1)\n",
    "print(\"Standard deviation of x_nan is: \", std_dev_x_nan) # Output: 3.162\n",
    "#"
   ]
  },
  {
   "cell_type": "code",
   "execution_count": null,
   "metadata": {},
   "outputs": [],
   "source": [
    "# Covariance"
   ]
  }
 ],
 "metadata": {
  "kernelspec": {
   "display_name": "ai_dev",
   "language": "python",
   "name": "python3"
  },
  "language_info": {
   "codemirror_mode": {
    "name": "ipython",
    "version": 3
   },
   "file_extension": ".py",
   "mimetype": "text/x-python",
   "name": "python",
   "nbconvert_exporter": "python",
   "pygments_lexer": "ipython3",
   "version": "3.12.7"
  }
 },
 "nbformat": 4,
 "nbformat_minor": 2
}
