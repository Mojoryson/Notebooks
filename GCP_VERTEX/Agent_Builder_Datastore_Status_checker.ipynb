{
 "cells": [
  {
   "cell_type": "markdown",
   "id": "801e677a-203d-4a40-bbaa-da1272fceeb4",
   "metadata": {},
   "source": [
    "Vertex AI Agent Builder Data Store Status Checker"
   ]
  },
  {
   "cell_type": "markdown",
   "id": "b81f6638-d4b2-4547-b767-2d8e8cdd6c1a",
   "metadata": {},
   "source": [
    " **Install the latest version of Google Cloud Discovery Engine**"
   ]
  },
  {
   "cell_type": "code",
   "execution_count": 1,
   "id": "00d7cf19-0f7f-4cf3-a8e7-d60fc88f8b5b",
   "metadata": {
    "tags": []
   },
   "outputs": [
    {
     "name": "stdout",
     "output_type": "stream",
     "text": [
      "Collecting google-cloud-discoveryengine\n",
      "  Downloading google_cloud_discoveryengine-0.13.4-py3-none-any.whl.metadata (5.3 kB)\n",
      "Requirement already satisfied: humanize in /opt/conda/lib/python3.10/site-packages (4.11.0)\n",
      "Requirement already satisfied: google-api-core!=2.0.*,!=2.1.*,!=2.10.*,!=2.2.*,!=2.3.*,!=2.4.*,!=2.5.*,!=2.6.*,!=2.7.*,!=2.8.*,!=2.9.*,<3.0.0dev,>=1.34.1 in ./.local/lib/python3.10/site-packages (from google-api-core[grpc]!=2.0.*,!=2.1.*,!=2.10.*,!=2.2.*,!=2.3.*,!=2.4.*,!=2.5.*,!=2.6.*,!=2.7.*,!=2.8.*,!=2.9.*,<3.0.0dev,>=1.34.1->google-cloud-discoveryengine) (2.23.0)\n",
      "Requirement already satisfied: google-auth!=2.24.0,!=2.25.0,<3.0.0dev,>=2.14.1 in /opt/conda/lib/python3.10/site-packages (from google-cloud-discoveryengine) (2.36.0)\n",
      "Requirement already satisfied: proto-plus<2.0.0dev,>=1.22.3 in /opt/conda/lib/python3.10/site-packages (from google-cloud-discoveryengine) (1.25.0)\n",
      "Requirement already satisfied: protobuf!=4.21.0,!=4.21.1,!=4.21.2,!=4.21.3,!=4.21.4,!=4.21.5,<6.0.0dev,>=3.20.2 in /opt/conda/lib/python3.10/site-packages (from google-cloud-discoveryengine) (3.20.3)\n",
      "Requirement already satisfied: googleapis-common-protos<2.0.dev0,>=1.56.2 in /opt/conda/lib/python3.10/site-packages (from google-api-core!=2.0.*,!=2.1.*,!=2.10.*,!=2.2.*,!=2.3.*,!=2.4.*,!=2.5.*,!=2.6.*,!=2.7.*,!=2.8.*,!=2.9.*,<3.0.0dev,>=1.34.1->google-api-core[grpc]!=2.0.*,!=2.1.*,!=2.10.*,!=2.2.*,!=2.3.*,!=2.4.*,!=2.5.*,!=2.6.*,!=2.7.*,!=2.8.*,!=2.9.*,<3.0.0dev,>=1.34.1->google-cloud-discoveryengine) (1.66.0)\n",
      "Requirement already satisfied: requests<3.0.0.dev0,>=2.18.0 in /opt/conda/lib/python3.10/site-packages (from google-api-core!=2.0.*,!=2.1.*,!=2.10.*,!=2.2.*,!=2.3.*,!=2.4.*,!=2.5.*,!=2.6.*,!=2.7.*,!=2.8.*,!=2.9.*,<3.0.0dev,>=1.34.1->google-api-core[grpc]!=2.0.*,!=2.1.*,!=2.10.*,!=2.2.*,!=2.3.*,!=2.4.*,!=2.5.*,!=2.6.*,!=2.7.*,!=2.8.*,!=2.9.*,<3.0.0dev,>=1.34.1->google-cloud-discoveryengine) (2.32.3)\n",
      "Requirement already satisfied: grpcio<2.0dev,>=1.33.2 in /opt/conda/lib/python3.10/site-packages (from google-api-core[grpc]!=2.0.*,!=2.1.*,!=2.10.*,!=2.2.*,!=2.3.*,!=2.4.*,!=2.5.*,!=2.6.*,!=2.7.*,!=2.8.*,!=2.9.*,<3.0.0dev,>=1.34.1->google-cloud-discoveryengine) (1.68.0)\n",
      "Requirement already satisfied: grpcio-status<2.0.dev0,>=1.33.2 in /opt/conda/lib/python3.10/site-packages (from google-api-core[grpc]!=2.0.*,!=2.1.*,!=2.10.*,!=2.2.*,!=2.3.*,!=2.4.*,!=2.5.*,!=2.6.*,!=2.7.*,!=2.8.*,!=2.9.*,<3.0.0dev,>=1.34.1->google-cloud-discoveryengine) (1.48.2)\n",
      "Requirement already satisfied: cachetools<6.0,>=2.0.0 in /opt/conda/lib/python3.10/site-packages (from google-auth!=2.24.0,!=2.25.0,<3.0.0dev,>=2.14.1->google-cloud-discoveryengine) (5.5.0)\n",
      "Requirement already satisfied: pyasn1-modules>=0.2.1 in /opt/conda/lib/python3.10/site-packages (from google-auth!=2.24.0,!=2.25.0,<3.0.0dev,>=2.14.1->google-cloud-discoveryengine) (0.4.1)\n",
      "Requirement already satisfied: rsa<5,>=3.1.4 in /opt/conda/lib/python3.10/site-packages (from google-auth!=2.24.0,!=2.25.0,<3.0.0dev,>=2.14.1->google-cloud-discoveryengine) (4.9)\n",
      "Requirement already satisfied: pyasn1<0.7.0,>=0.4.6 in /opt/conda/lib/python3.10/site-packages (from pyasn1-modules>=0.2.1->google-auth!=2.24.0,!=2.25.0,<3.0.0dev,>=2.14.1->google-cloud-discoveryengine) (0.6.1)\n",
      "Requirement already satisfied: charset-normalizer<4,>=2 in /opt/conda/lib/python3.10/site-packages (from requests<3.0.0.dev0,>=2.18.0->google-api-core!=2.0.*,!=2.1.*,!=2.10.*,!=2.2.*,!=2.3.*,!=2.4.*,!=2.5.*,!=2.6.*,!=2.7.*,!=2.8.*,!=2.9.*,<3.0.0dev,>=1.34.1->google-api-core[grpc]!=2.0.*,!=2.1.*,!=2.10.*,!=2.2.*,!=2.3.*,!=2.4.*,!=2.5.*,!=2.6.*,!=2.7.*,!=2.8.*,!=2.9.*,<3.0.0dev,>=1.34.1->google-cloud-discoveryengine) (3.4.0)\n",
      "Requirement already satisfied: idna<4,>=2.5 in /opt/conda/lib/python3.10/site-packages (from requests<3.0.0.dev0,>=2.18.0->google-api-core!=2.0.*,!=2.1.*,!=2.10.*,!=2.2.*,!=2.3.*,!=2.4.*,!=2.5.*,!=2.6.*,!=2.7.*,!=2.8.*,!=2.9.*,<3.0.0dev,>=1.34.1->google-api-core[grpc]!=2.0.*,!=2.1.*,!=2.10.*,!=2.2.*,!=2.3.*,!=2.4.*,!=2.5.*,!=2.6.*,!=2.7.*,!=2.8.*,!=2.9.*,<3.0.0dev,>=1.34.1->google-cloud-discoveryengine) (3.10)\n",
      "Requirement already satisfied: urllib3<3,>=1.21.1 in /opt/conda/lib/python3.10/site-packages (from requests<3.0.0.dev0,>=2.18.0->google-api-core!=2.0.*,!=2.1.*,!=2.10.*,!=2.2.*,!=2.3.*,!=2.4.*,!=2.5.*,!=2.6.*,!=2.7.*,!=2.8.*,!=2.9.*,<3.0.0dev,>=1.34.1->google-api-core[grpc]!=2.0.*,!=2.1.*,!=2.10.*,!=2.2.*,!=2.3.*,!=2.4.*,!=2.5.*,!=2.6.*,!=2.7.*,!=2.8.*,!=2.9.*,<3.0.0dev,>=1.34.1->google-cloud-discoveryengine) (1.26.20)\n",
      "Requirement already satisfied: certifi>=2017.4.17 in /opt/conda/lib/python3.10/site-packages (from requests<3.0.0.dev0,>=2.18.0->google-api-core!=2.0.*,!=2.1.*,!=2.10.*,!=2.2.*,!=2.3.*,!=2.4.*,!=2.5.*,!=2.6.*,!=2.7.*,!=2.8.*,!=2.9.*,<3.0.0dev,>=1.34.1->google-api-core[grpc]!=2.0.*,!=2.1.*,!=2.10.*,!=2.2.*,!=2.3.*,!=2.4.*,!=2.5.*,!=2.6.*,!=2.7.*,!=2.8.*,!=2.9.*,<3.0.0dev,>=1.34.1->google-cloud-discoveryengine) (2024.8.30)\n",
      "Downloading google_cloud_discoveryengine-0.13.4-py3-none-any.whl (2.7 MB)\n",
      "\u001b[2K   \u001b[90m━━━━━━━━━━━━━━━━━━━━━━━━━━━━━━━━━━━━━━━━\u001b[0m \u001b[32m2.7/2.7 MB\u001b[0m \u001b[31m40.1 MB/s\u001b[0m eta \u001b[36m0:00:00\u001b[0m\n",
      "\u001b[?25hInstalling collected packages: google-cloud-discoveryengine\n",
      "Successfully installed google-cloud-discoveryengine-0.13.4\n",
      "Note: you may need to restart the kernel to use updated packages.\n"
     ]
    }
   ],
   "source": [
    "pip install --upgrade google-cloud-discoveryengine humanize"
   ]
  },
  {
   "cell_type": "markdown",
   "id": "d8967238-5617-43d2-9877-dbd2e5d49d35",
   "metadata": {},
   "source": [
    "**Setup the helper methods**"
   ]
  },
  {
   "cell_type": "code",
   "execution_count": 1,
   "id": "27619a4f-0f01-4a5f-a50d-43bf7b3a123b",
   "metadata": {
    "tags": []
   },
   "outputs": [],
   "source": [
    "import humanize\n",
    "import time\n",
    "import re\n",
    "from typing import List, Optional\n",
    "\n",
    "from google.api_core.client_options import ClientOptions\n",
    "from google.cloud import discoveryengine_v1beta as discoveryengine\n",
    "\n",
    "\n",
    "def _call_list_documents(\n",
    "    project_id: str, location: str, datastore_id: str, page_token: Optional[str] = None\n",
    ") -> discoveryengine.ListDocumentsResponse:\n",
    "    \"\"\"Build the List Docs Request payload.\"\"\"\n",
    "    client_options = (\n",
    "        ClientOptions(\n",
    "            api_endpoint=f\"{location}-discoveryengine.googleapis.com\")\n",
    "        if location != \"global\"\n",
    "        else None\n",
    "    )\n",
    "    client = discoveryengine.DocumentServiceClient(\n",
    "        client_options=client_options)\n",
    "\n",
    "    request = discoveryengine.ListDocumentsRequest(\n",
    "        parent=client.branch_path(\n",
    "            project_id, location, datastore_id, \"default_branch\"\n",
    "        ),\n",
    "        page_size=1000,\n",
    "        page_token=page_token,\n",
    "    )\n",
    "\n",
    "    return client.list_documents(request=request)\n",
    "\n",
    "\n",
    "def list_documents(\n",
    "    project_id: str, location: str, datastore_id: str, rate_limit: int = 1\n",
    ") -> List[discoveryengine.Document]:\n",
    "    \"\"\"Gets a list of docs in a datastore.\"\"\"\n",
    "\n",
    "    res = _call_list_documents(project_id, location, datastore_id)\n",
    "\n",
    "    # setup the list with the first batch of docs\n",
    "    docs = res.documents\n",
    "\n",
    "    while res.next_page_token:\n",
    "        # implement a rate_limit to prevent quota exhaustion\n",
    "        time.sleep(rate_limit)\n",
    "\n",
    "        res = _call_list_documents(\n",
    "            project_id, location, datastore_id, res.next_page_token\n",
    "        )\n",
    "        docs.extend(res.documents)\n",
    "\n",
    "    return docs\n",
    "\n",
    "\n",
    "def list_indexed_urls(\n",
    "    docs: Optional[List[discoveryengine.Document]] = None,\n",
    "    project_id: str = None,\n",
    "    location: str = None,\n",
    "    datastore_id: str = None,\n",
    ") -> List[str]:\n",
    "    \"\"\"Get the list of docs in data store, then parse to only urls.\"\"\"\n",
    "    if not docs:\n",
    "        docs = list_documents(project_id, location, datastore_id)\n",
    "    urls = [doc.content.uri for doc in docs]\n",
    "\n",
    "    return urls\n",
    "\n",
    "\n",
    "def search_url(urls: List[str], url: str) -> None:\n",
    "    \"\"\"Searches a url in a list of urls.\"\"\"\n",
    "    for item in urls:\n",
    "        if url in item:\n",
    "            print(item)\n",
    "\n",
    "\n",
    "def search_doc_id(\n",
    "    doc_id: str,\n",
    "    docs: Optional[List[discoveryengine.Document]] = None,\n",
    "    project_id: str = None,\n",
    "    location: str = None,\n",
    "    datastore_id: str = None,\n",
    ") -> None:\n",
    "    \"\"\"Searches a doc_id in a list of docs.\"\"\"\n",
    "    if not docs:\n",
    "        docs = list_documents(project_id, location, datastore_id)\n",
    "\n",
    "    doc_found = False\n",
    "    for doc in docs:\n",
    "        if doc.parent_document_id == doc_id:\n",
    "            doc_found = True\n",
    "            print(doc)\n",
    "\n",
    "    if not doc_found:\n",
    "        print(f\"Document not found for provided Doc ID: `{doc_id}`\")\n",
    "\n",
    "\n",
    "def estimate_data_store_size(\n",
    "    urls: Optional[List[str]] = None,\n",
    "    docs: Optional[List[discoveryengine.Document]] = None,\n",
    "    project_id: str = None,\n",
    "    location: str = None,\n",
    "    datastore_id: str = None,\n",
    ") -> None:\n",
    "    \"\"\"For Advanced Website Indexing data stores only.\"\"\"\n",
    "    if not urls:\n",
    "        if not docs:\n",
    "            docs = list_documents(project_id, location, datastore_id)\n",
    "        urls = list_indexed_urls(docs=docs)\n",
    "\n",
    "    # Filter to only include website urls.\n",
    "    urls = list(filter(lambda x: re.search(r\"https?://\", x), urls))\n",
    "\n",
    "    if not urls:\n",
    "        print(\n",
    "            \"No urls found. Make sure this data store is for websites with advanced indexing.\"\n",
    "        )\n",
    "        return\n",
    "\n",
    "    # For website indexing, each page is calculated as 500KB.\n",
    "    size = len(urls) * 500_000\n",
    "    print(f\"Estimated data store size: {humanize.naturalsize(size)}\")\n",
    "\n",
    "\n",
    "PENDING_MESSAGE = \"\"\"\n",
    "No docs found.\\n\\nIt\\'s likely one of the following issues: \\n  [1] Your data store is not finished indexing. \\n  [2] Your data store failed indexing. \\n  [3] Your data store is for website data without advanced indexing.\\n\\n\n",
    "If you just added your data store, it can take up to 4 hours before it will become available.\n",
    "\"\"\""
   ]
  },
  {
   "cell_type": "markdown",
   "id": "75e2143a-1bbe-46de-92b2-6c6098a2cfab",
   "metadata": {},
   "source": [
    "**Check Datastore - ID (Datastore ID from Agent Builder)**"
   ]
  },
  {
   "cell_type": "code",
   "execution_count": null,
   "id": "9c8a75af-e636-46bb-b63f-e927cbaba0bd",
   "metadata": {
    "tags": []
   },
   "outputs": [],
   "source": [
    "PROJECT = !gcloud config get-value project\n",
    "project_id  = PROJECT[0]\n",
    "location = \"global\"  # Options: \"global\", \"us\", \"eu\"\n",
    "datastore_id = \"DATASTORE_ID\" #Datastore ID from Agent Builder"
   ]
  },
  {
   "cell_type": "markdown",
   "id": "d364ed83-72ce-44d8-9e59-f927ee662c5c",
   "metadata": {},
   "source": [
    "**Check the Indexing Status of the Agent Builder Documents**"
   ]
  },
  {
   "cell_type": "code",
   "execution_count": 11,
   "id": "033ecd91-a5f4-4e02-afd0-00191e75f15c",
   "metadata": {
    "tags": []
   },
   "outputs": [
    {
     "name": "stdout",
     "output_type": "stream",
     "text": [
      "\n",
      "  Success! 🎉\n",
      "\n",
      "  Your indexing is complete.\n",
      "\n",
      "  Your index contains 79 documents.\n",
      "  \n"
     ]
    }
   ],
   "source": [
    "docs = list_documents(project_id, location, datastore_id)\n",
    "\n",
    "if len(docs) == 0:\n",
    "    print(PENDING_MESSAGE)\n",
    "else:\n",
    "    SUCCESS_MESSAGE = f\"\"\"\n",
    "  Success! 🎉\\n\n",
    "  Your indexing is complete.\\n\n",
    "  Your index contains {len(docs)} documents.\n",
    "  \"\"\"\n",
    "    print(SUCCESS_MESSAGE)"
   ]
  },
  {
   "cell_type": "markdown",
   "id": "f20188c4-45b7-4554-86a4-61209a84d7b0",
   "metadata": {},
   "source": [
    "**List all the documents for a given Data Store ID**"
   ]
  },
  {
   "cell_type": "code",
   "execution_count": 12,
   "id": "7af5cceb-dd90-4b5e-93ab-9bccd6f1fd38",
   "metadata": {
    "tags": []
   },
   "outputs": [
    {
     "data": {
      "text/plain": [
       "name: \"projects/905794227663/locations/global/collections/default_collection/dataStores/cymbaldatastore_1733522257386/branches/0/documents/01c3140622cfed9a86572e550ed049a0\"\n",
       "id: \"01c3140622cfed9a86572e550ed049a0\"\n",
       "schema_id: \"default_schema\"\n",
       "struct_data {\n",
       "}\n",
       "parent_document_id: \"01c3140622cfed9a86572e550ed049a0\"\n",
       "content {\n",
       "  mime_type: \"text/html\"\n",
       "  uri: \"gs://cloud-samples-data/dialogflow-cx/arc-lifeblood/testing.html\"\n",
       "}"
      ]
     },
     "execution_count": 12,
     "metadata": {},
     "output_type": "execute_result"
    }
   ],
   "source": [
    "docs = list_documents(project_id, location, datastore_id)\n",
    "docs[0]"
   ]
  },
  {
   "cell_type": "markdown",
   "id": "59f4fd8b-d4ef-4856-a806-c3a92de959be",
   "metadata": {},
   "source": [
    "**Search Data Store by Doc ID**"
   ]
  },
  {
   "cell_type": "code",
   "execution_count": 13,
   "id": "377a7051-9b3e-4a24-a309-400971d4ba3d",
   "metadata": {
    "tags": []
   },
   "outputs": [
    {
     "name": "stdout",
     "output_type": "stream",
     "text": [
      "name: \"projects/905794227663/locations/global/collections/default_collection/dataStores/cymbaldatastore_1733522257386/branches/0/documents/01c3140622cfed9a86572e550ed049a0\"\n",
      "id: \"01c3140622cfed9a86572e550ed049a0\"\n",
      "schema_id: \"default_schema\"\n",
      "struct_data {\n",
      "}\n",
      "parent_document_id: \"01c3140622cfed9a86572e550ed049a0\"\n",
      "content {\n",
      "  mime_type: \"text/html\"\n",
      "  uri: \"gs://cloud-samples-data/dialogflow-cx/arc-lifeblood/testing.html\"\n",
      "}\n",
      "\n"
     ]
    }
   ],
   "source": [
    "document_id = \"01c3140622cfed9a86572e550ed049a0\"\n",
    "search_doc_id(document_id, docs=docs)"
   ]
  },
  {
   "cell_type": "markdown",
   "id": "25c0033a-f20d-4f49-a211-3277880edc1f",
   "metadata": {},
   "source": [
    "**List Indexed URLs**"
   ]
  },
  {
   "cell_type": "code",
   "execution_count": 14,
   "id": "9e0a5e81-06de-407b-87c5-d8b8825df5f9",
   "metadata": {
    "tags": []
   },
   "outputs": [
    {
     "data": {
      "text/plain": [
       "'gs://cloud-samples-data/dialogflow-cx/arc-lifeblood/testing.html'"
      ]
     },
     "execution_count": 14,
     "metadata": {},
     "output_type": "execute_result"
    }
   ],
   "source": [
    "urls = list_indexed_urls(docs=docs)\n",
    "urls[0]"
   ]
  },
  {
   "cell_type": "markdown",
   "id": "c057362a-b5b5-4606-b653-2713db39d0f7",
   "metadata": {},
   "source": [
    "**Search Indexed URLs**"
   ]
  },
  {
   "cell_type": "code",
   "execution_count": 15,
   "id": "6cbac0be-cb2e-4e85-87c9-1db798bc20c5",
   "metadata": {
    "tags": []
   },
   "outputs": [
    {
     "name": "stdout",
     "output_type": "stream",
     "text": [
      "gs://cloud-samples-data/dialogflow-cx/arc-lifeblood/testing.html\n",
      "gs://cloud-samples-data/dialogflow-cx/arc-lifeblood/strategy.html\n",
      "gs://cloud-samples-data/dialogflow-cx/arc-lifeblood/making-blood-components.html\n",
      "gs://cloud-samples-data/dialogflow-cx/arc-lifeblood/making-your-donation.html\n",
      "gs://cloud-samples-data/dialogflow-cx/arc-lifeblood/products.html\n",
      "gs://cloud-samples-data/dialogflow-cx/arc-lifeblood/high-ferritin.html\n",
      "gs://cloud-samples-data/dialogflow-cx/arc-lifeblood/forms.html\n",
      "gs://cloud-samples-data/dialogflow-cx/arc-lifeblood/blood-for-transfusion.html\n",
      "gs://cloud-samples-data/dialogflow-cx/arc-lifeblood/how-you-can-give-life.html\n",
      "gs://cloud-samples-data/dialogflow-cx/arc-lifeblood/transplantation-immunogenetics-services.html\n",
      "gs://cloud-samples-data/dialogflow-cx/arc-lifeblood/blood.html\n",
      "gs://cloud-samples-data/dialogflow-cx/arc-lifeblood/prepare-and-aftercare.html\n",
      "gs://cloud-samples-data/dialogflow-cx/arc-lifeblood/our-strategy.html\n",
      "gs://cloud-samples-data/dialogflow-cx/arc-lifeblood/our-history.html\n",
      "gs://cloud-samples-data/dialogflow-cx/arc-lifeblood/our-services.html\n",
      "gs://cloud-samples-data/dialogflow-cx/arc-lifeblood/about.html\n",
      "gs://cloud-samples-data/dialogflow-cx/arc-lifeblood/iron-deficiency.html\n",
      "gs://cloud-samples-data/dialogflow-cx/arc-lifeblood/iron-health.html\n",
      "gs://cloud-samples-data/dialogflow-cx/arc-lifeblood/donor-centre.html\n",
      "gs://cloud-samples-data/dialogflow-cx/arc-lifeblood/fainting.html\n",
      "gs://cloud-samples-data/dialogflow-cx/arc-lifeblood/reasons-for-a-transfusion.html\n",
      "gs://cloud-samples-data/dialogflow-cx/arc-lifeblood/sexual-activity.html\n",
      "gs://cloud-samples-data/dialogflow-cx/arc-lifeblood/learn-about-blood.html\n",
      "gs://cloud-samples-data/dialogflow-cx/arc-lifeblood/avoid-a-transfusion.html\n",
      "gs://cloud-samples-data/dialogflow-cx/arc-lifeblood/relax-when-giving-blood.html\n",
      "gs://cloud-samples-data/dialogflow-cx/arc-lifeblood/our-research.html\n",
      "gs://cloud-samples-data/dialogflow-cx/arc-lifeblood/milk-research.html\n",
      "gs://cloud-samples-data/dialogflow-cx/arc-lifeblood/donating-after-travelling.html\n",
      "gs://cloud-samples-data/dialogflow-cx/arc-lifeblood/trending-research.html\n",
      "gs://cloud-samples-data/dialogflow-cx/arc-lifeblood/become-a-milk-donor.html\n",
      "gs://cloud-samples-data/dialogflow-cx/arc-lifeblood/milk-donation-guide.html\n",
      "gs://cloud-samples-data/dialogflow-cx/arc-lifeblood/serum-eyedrops.html\n",
      "gs://cloud-samples-data/dialogflow-cx/arc-lifeblood/resources.html\n",
      "gs://cloud-samples-data/dialogflow-cx/arc-lifeblood/training.html\n",
      "gs://cloud-samples-data/dialogflow-cx/arc-lifeblood/resource-library.html\n",
      "gs://cloud-samples-data/dialogflow-cx/arc-lifeblood/blood-types.html\n",
      "gs://cloud-samples-data/dialogflow-cx/arc-lifeblood/milk.html\n",
      "gs://cloud-samples-data/dialogflow-cx/arc-lifeblood/matching-blood-groups.html\n",
      "gs://cloud-samples-data/dialogflow-cx/arc-lifeblood/parents.html\n",
      "gs://cloud-samples-data/dialogflow-cx/arc-lifeblood/blood-stem-cell.html\n",
      "gs://cloud-samples-data/dialogflow-cx/arc-lifeblood/anaemia.html\n",
      "gs://cloud-samples-data/dialogflow-cx/arc-lifeblood/information-for-suppliers.html\n",
      "gs://cloud-samples-data/dialogflow-cx/arc-lifeblood/news-and-stories.html\n",
      "gs://cloud-samples-data/dialogflow-cx/arc-lifeblood/COVID-19-vaccine.html\n",
      "gs://cloud-samples-data/dialogflow-cx/arc-lifeblood/faq.html\n",
      "gs://cloud-samples-data/dialogflow-cx/arc-lifeblood/who-we-are.html\n",
      "gs://cloud-samples-data/dialogflow-cx/arc-lifeblood/receiving-a-transfusion.html\n",
      "gs://cloud-samples-data/dialogflow-cx/arc-lifeblood/why-donate-blood.html\n",
      "gs://cloud-samples-data/dialogflow-cx/arc-lifeblood/donate-as-a-group.html\n",
      "gs://cloud-samples-data/dialogflow-cx/arc-lifeblood/what-happens-to-your-blood.html\n",
      "gs://cloud-samples-data/dialogflow-cx/arc-lifeblood/our-people.html\n",
      "gs://cloud-samples-data/dialogflow-cx/arc-lifeblood/organ-and-tissue.html\n",
      "gs://cloud-samples-data/dialogflow-cx/arc-lifeblood/inventory-management.html\n",
      "gs://cloud-samples-data/dialogflow-cx/arc-lifeblood/plasma.html\n",
      "gs://cloud-samples-data/dialogflow-cx/arc-lifeblood/featured-resources.html\n",
      "gs://cloud-samples-data/dialogflow-cx/arc-lifeblood/types-of-transfusions.html\n",
      "gs://cloud-samples-data/dialogflow-cx/arc-lifeblood/careers.html\n",
      "gs://cloud-samples-data/dialogflow-cx/arc-lifeblood/partner-with-us.html\n",
      "gs://cloud-samples-data/dialogflow-cx/arc-lifeblood/eligibility.html\n",
      "gs://cloud-samples-data/dialogflow-cx/arc-lifeblood/index.html\n",
      "gs://cloud-samples-data/dialogflow-cx/arc-lifeblood/red-cell-reference.html\n",
      "gs://cloud-samples-data/dialogflow-cx/arc-lifeblood/privacy.html\n",
      "gs://cloud-samples-data/dialogflow-cx/arc-lifeblood/know-the-risks.html\n",
      "gs://cloud-samples-data/dialogflow-cx/arc-lifeblood/global-search-footer.html\n",
      "gs://cloud-samples-data/dialogflow-cx/arc-lifeblood/program.html\n",
      "gs://cloud-samples-data/dialogflow-cx/arc-lifeblood/learn.html\n",
      "gs://cloud-samples-data/dialogflow-cx/arc-lifeblood/blood-testing-and-safety.html\n",
      "gs://cloud-samples-data/dialogflow-cx/arc-lifeblood/patients.html\n",
      "gs://cloud-samples-data/dialogflow-cx/arc-lifeblood/health-professionals.html\n",
      "gs://cloud-samples-data/dialogflow-cx/arc-lifeblood/disclaimer.html\n",
      "gs://cloud-samples-data/dialogflow-cx/arc-lifeblood/microbiome.html\n",
      "gs://cloud-samples-data/dialogflow-cx/arc-lifeblood/clinical-practice.html\n",
      "gs://cloud-samples-data/dialogflow-cx/arc-lifeblood/quiz.html\n",
      "gs://cloud-samples-data/dialogflow-cx/arc-lifeblood/safety.html\n",
      "gs://cloud-samples-data/dialogflow-cx/arc-lifeblood/coronavirus.html\n",
      "gs://cloud-samples-data/dialogflow-cx/arc-lifeblood/start-quiz.html\n",
      "gs://cloud-samples-data/dialogflow-cx/arc-lifeblood/meet-our-researchers.html\n",
      "gs://cloud-samples-data/dialogflow-cx/arc-lifeblood/contact.html\n",
      "gs://cloud-samples-data/dialogflow-cx/arc-lifeblood/platelets.html\n"
     ]
    }
   ],
   "source": [
    "search_url(urls, \"gs://cloud-samples-data/dialogflow-cx/arc-lifeblood\")"
   ]
  },
  {
   "cell_type": "markdown",
   "id": "240e1f6a-9820-400c-9daa-a7460037a104",
   "metadata": {},
   "source": [
    "**Another way to search the indexed URLs using a helper function**"
   ]
  },
  {
   "cell_type": "code",
   "execution_count": 16,
   "id": "1f6cf7ae-95dc-4764-8860-128217da0df8",
   "metadata": {
    "tags": []
   },
   "outputs": [
    {
     "name": "stdout",
     "output_type": "stream",
     "text": [
      "gs://cloud-samples-data/dialogflow-cx/arc-lifeblood/testing.html\n",
      "gs://cloud-samples-data/dialogflow-cx/arc-lifeblood/strategy.html\n",
      "gs://cloud-samples-data/dialogflow-cx/arc-lifeblood/making-blood-components.html\n",
      "gs://cloud-samples-data/dialogflow-cx/arc-lifeblood/making-your-donation.html\n",
      "gs://cloud-samples-data/dialogflow-cx/arc-lifeblood/products.html\n",
      "gs://cloud-samples-data/dialogflow-cx/arc-lifeblood/high-ferritin.html\n",
      "gs://cloud-samples-data/dialogflow-cx/arc-lifeblood/forms.html\n",
      "gs://cloud-samples-data/dialogflow-cx/arc-lifeblood/blood-for-transfusion.html\n",
      "gs://cloud-samples-data/dialogflow-cx/arc-lifeblood/how-you-can-give-life.html\n",
      "gs://cloud-samples-data/dialogflow-cx/arc-lifeblood/transplantation-immunogenetics-services.html\n",
      "gs://cloud-samples-data/dialogflow-cx/arc-lifeblood/blood.html\n",
      "gs://cloud-samples-data/dialogflow-cx/arc-lifeblood/prepare-and-aftercare.html\n",
      "gs://cloud-samples-data/dialogflow-cx/arc-lifeblood/our-strategy.html\n",
      "gs://cloud-samples-data/dialogflow-cx/arc-lifeblood/our-history.html\n",
      "gs://cloud-samples-data/dialogflow-cx/arc-lifeblood/our-services.html\n",
      "gs://cloud-samples-data/dialogflow-cx/arc-lifeblood/about.html\n",
      "gs://cloud-samples-data/dialogflow-cx/arc-lifeblood/iron-deficiency.html\n",
      "gs://cloud-samples-data/dialogflow-cx/arc-lifeblood/iron-health.html\n",
      "gs://cloud-samples-data/dialogflow-cx/arc-lifeblood/donor-centre.html\n",
      "gs://cloud-samples-data/dialogflow-cx/arc-lifeblood/fainting.html\n",
      "gs://cloud-samples-data/dialogflow-cx/arc-lifeblood/reasons-for-a-transfusion.html\n",
      "gs://cloud-samples-data/dialogflow-cx/arc-lifeblood/sexual-activity.html\n",
      "gs://cloud-samples-data/dialogflow-cx/arc-lifeblood/learn-about-blood.html\n",
      "gs://cloud-samples-data/dialogflow-cx/arc-lifeblood/avoid-a-transfusion.html\n",
      "gs://cloud-samples-data/dialogflow-cx/arc-lifeblood/relax-when-giving-blood.html\n",
      "gs://cloud-samples-data/dialogflow-cx/arc-lifeblood/our-research.html\n",
      "gs://cloud-samples-data/dialogflow-cx/arc-lifeblood/milk-research.html\n",
      "gs://cloud-samples-data/dialogflow-cx/arc-lifeblood/donating-after-travelling.html\n",
      "gs://cloud-samples-data/dialogflow-cx/arc-lifeblood/trending-research.html\n",
      "gs://cloud-samples-data/dialogflow-cx/arc-lifeblood/become-a-milk-donor.html\n",
      "gs://cloud-samples-data/dialogflow-cx/arc-lifeblood/milk-donation-guide.html\n",
      "gs://cloud-samples-data/dialogflow-cx/arc-lifeblood/serum-eyedrops.html\n",
      "gs://cloud-samples-data/dialogflow-cx/arc-lifeblood/resources.html\n",
      "gs://cloud-samples-data/dialogflow-cx/arc-lifeblood/training.html\n",
      "gs://cloud-samples-data/dialogflow-cx/arc-lifeblood/resource-library.html\n",
      "gs://cloud-samples-data/dialogflow-cx/arc-lifeblood/blood-types.html\n",
      "gs://cloud-samples-data/dialogflow-cx/arc-lifeblood/milk.html\n",
      "gs://cloud-samples-data/dialogflow-cx/arc-lifeblood/matching-blood-groups.html\n",
      "gs://cloud-samples-data/dialogflow-cx/arc-lifeblood/parents.html\n",
      "gs://cloud-samples-data/dialogflow-cx/arc-lifeblood/blood-stem-cell.html\n",
      "gs://cloud-samples-data/dialogflow-cx/arc-lifeblood/anaemia.html\n",
      "gs://cloud-samples-data/dialogflow-cx/arc-lifeblood/information-for-suppliers.html\n",
      "gs://cloud-samples-data/dialogflow-cx/arc-lifeblood/news-and-stories.html\n",
      "gs://cloud-samples-data/dialogflow-cx/arc-lifeblood/COVID-19-vaccine.html\n",
      "gs://cloud-samples-data/dialogflow-cx/arc-lifeblood/faq.html\n",
      "gs://cloud-samples-data/dialogflow-cx/arc-lifeblood/who-we-are.html\n",
      "gs://cloud-samples-data/dialogflow-cx/arc-lifeblood/receiving-a-transfusion.html\n",
      "gs://cloud-samples-data/dialogflow-cx/arc-lifeblood/why-donate-blood.html\n",
      "gs://cloud-samples-data/dialogflow-cx/arc-lifeblood/donate-as-a-group.html\n",
      "gs://cloud-samples-data/dialogflow-cx/arc-lifeblood/what-happens-to-your-blood.html\n",
      "gs://cloud-samples-data/dialogflow-cx/arc-lifeblood/our-people.html\n",
      "gs://cloud-samples-data/dialogflow-cx/arc-lifeblood/organ-and-tissue.html\n",
      "gs://cloud-samples-data/dialogflow-cx/arc-lifeblood/inventory-management.html\n",
      "gs://cloud-samples-data/dialogflow-cx/arc-lifeblood/plasma.html\n",
      "gs://cloud-samples-data/dialogflow-cx/arc-lifeblood/featured-resources.html\n",
      "gs://cloud-samples-data/dialogflow-cx/arc-lifeblood/types-of-transfusions.html\n",
      "gs://cloud-samples-data/dialogflow-cx/arc-lifeblood/careers.html\n",
      "gs://cloud-samples-data/dialogflow-cx/arc-lifeblood/partner-with-us.html\n",
      "gs://cloud-samples-data/dialogflow-cx/arc-lifeblood/eligibility.html\n",
      "gs://cloud-samples-data/dialogflow-cx/arc-lifeblood/index.html\n",
      "gs://cloud-samples-data/dialogflow-cx/arc-lifeblood/red-cell-reference.html\n",
      "gs://cloud-samples-data/dialogflow-cx/arc-lifeblood/privacy.html\n",
      "gs://cloud-samples-data/dialogflow-cx/arc-lifeblood/know-the-risks.html\n",
      "gs://cloud-samples-data/dialogflow-cx/arc-lifeblood/global-search-footer.html\n",
      "gs://cloud-samples-data/dialogflow-cx/arc-lifeblood/program.html\n",
      "gs://cloud-samples-data/dialogflow-cx/arc-lifeblood/learn.html\n",
      "gs://cloud-samples-data/dialogflow-cx/arc-lifeblood/blood-testing-and-safety.html\n",
      "gs://cloud-samples-data/dialogflow-cx/arc-lifeblood/patients.html\n",
      "gs://cloud-samples-data/dialogflow-cx/arc-lifeblood/health-professionals.html\n",
      "gs://cloud-samples-data/dialogflow-cx/arc-lifeblood/disclaimer.html\n",
      "gs://cloud-samples-data/dialogflow-cx/arc-lifeblood/microbiome.html\n",
      "gs://cloud-samples-data/dialogflow-cx/arc-lifeblood/clinical-practice.html\n",
      "gs://cloud-samples-data/dialogflow-cx/arc-lifeblood/quiz.html\n",
      "gs://cloud-samples-data/dialogflow-cx/arc-lifeblood/safety.html\n",
      "gs://cloud-samples-data/dialogflow-cx/arc-lifeblood/coronavirus.html\n",
      "gs://cloud-samples-data/dialogflow-cx/arc-lifeblood/start-quiz.html\n",
      "gs://cloud-samples-data/dialogflow-cx/arc-lifeblood/meet-our-researchers.html\n",
      "gs://cloud-samples-data/dialogflow-cx/arc-lifeblood/contact.html\n",
      "gs://cloud-samples-data/dialogflow-cx/arc-lifeblood/platelets.html\n"
     ]
    }
   ],
   "source": [
    "search_url(urls, \"dialogflow-cx\")"
   ]
  },
  {
   "cell_type": "code",
   "execution_count": null,
   "id": "84cf23be-5a25-436c-a4c7-301da1c430b8",
   "metadata": {},
   "outputs": [],
   "source": []
  }
 ],
 "metadata": {
  "environment": {
   "kernel": "conda-base-py",
   "name": "workbench-notebooks.m126",
   "type": "gcloud",
   "uri": "us-docker.pkg.dev/deeplearning-platform-release/gcr.io/workbench-notebooks:m126"
  },
  "kernelspec": {
   "display_name": "Python 3 (ipykernel) (Local) (Local)",
   "language": "python",
   "name": "conda-base-py"
  },
  "language_info": {
   "codemirror_mode": {
    "name": "ipython",
    "version": 3
   },
   "file_extension": ".py",
   "mimetype": "text/x-python",
   "name": "python",
   "nbconvert_exporter": "python",
   "pygments_lexer": "ipython3",
   "version": "3.10.15"
  }
 },
 "nbformat": 4,
 "nbformat_minor": 5
}
