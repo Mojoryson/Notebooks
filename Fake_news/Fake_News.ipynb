{
 "cells": [
  {
   "cell_type": "markdown",
   "id": "ae81eec3-26da-487a-bac9-456a7dbae23c",
   "metadata": {},
   "source": [
    "### Fake News Classifier\n",
    "**Objective**\n",
    "- The objective of the notebook is to be able to build a ML classifier for fake news\n",
    "\n",
    "Author Rod Morrison"
   ]
  },
  {
   "cell_type": "markdown",
   "id": "d673b197-3080-4f5b-9327-993a4e893444",
   "metadata": {},
   "source": [
    "**Import & Combine the data from the data files**"
   ]
  },
  {
   "cell_type": "code",
   "execution_count": 39,
   "id": "20f2a7d9-b521-479a-9a49-cc35421334dd",
   "metadata": {
    "tags": []
   },
   "outputs": [],
   "source": [
    "import pandas as pd\n",
    "from sklearn.naive_bayes import MultinomialNB\n",
    "from sklearn.linear_model import LogisticRegression\n",
    "from sklearn.ensemble import RandomForestClassifier\n",
    "from sklearn.metrics import accuracy_score, classification_report\n",
    "from tensorflow.keras.models import Sequential\n",
    "from tensorflow.keras.layers import Embedding, LSTM, Dense, Dropout\n",
    "from tensorflow.keras.preprocessing.sequence import pad_sequences"
   ]
  },
  {
   "cell_type": "code",
   "execution_count": 40,
   "id": "1159ffd5-7b36-4a9e-a1f5-88fdd3898d7e",
   "metadata": {
    "tags": []
   },
   "outputs": [],
   "source": [
    "fake = pd.read_csv(\"data/Fake.csv\")\n",
    "true = pd.read_csv(\"data/True.csv\")\n"
   ]
  },
  {
   "cell_type": "code",
   "execution_count": 41,
   "id": "9f0a8e8d-a72e-46eb-99bb-21b509e8858c",
   "metadata": {
    "tags": []
   },
   "outputs": [],
   "source": [
    "# Add labels: 0 for true, 1 for fake\n",
    "fake['label'] = 1\n",
    "true['label'] = 0"
   ]
  },
  {
   "cell_type": "code",
   "execution_count": 42,
   "id": "0e4f05b6-3b05-4a60-b173-03d369936520",
   "metadata": {
    "tags": []
   },
   "outputs": [
    {
     "name": "stdout",
     "output_type": "stream",
     "text": [
      "<class 'pandas.core.frame.DataFrame'>\n",
      "RangeIndex: 23481 entries, 0 to 23480\n",
      "Data columns (total 5 columns):\n",
      " #   Column   Non-Null Count  Dtype \n",
      "---  ------   --------------  ----- \n",
      " 0   title    23481 non-null  object\n",
      " 1   text     23481 non-null  object\n",
      " 2   subject  23481 non-null  object\n",
      " 3   date     23481 non-null  object\n",
      " 4   label    23481 non-null  int64 \n",
      "dtypes: int64(1), object(4)\n",
      "memory usage: 917.4+ KB\n",
      "<class 'pandas.core.frame.DataFrame'>\n",
      "RangeIndex: 21417 entries, 0 to 21416\n",
      "Data columns (total 5 columns):\n",
      " #   Column   Non-Null Count  Dtype \n",
      "---  ------   --------------  ----- \n",
      " 0   title    21417 non-null  object\n",
      " 1   text     21417 non-null  object\n",
      " 2   subject  21417 non-null  object\n",
      " 3   date     21417 non-null  object\n",
      " 4   label    21417 non-null  int64 \n",
      "dtypes: int64(1), object(4)\n",
      "memory usage: 836.7+ KB\n"
     ]
    }
   ],
   "source": [
    "# Display information about the datasets\n",
    "fake.info()\n",
    "true.info()"
   ]
  },
  {
   "cell_type": "code",
   "execution_count": 43,
   "id": "283fc8fb-086d-4ab5-94f0-f26ef0e6588a",
   "metadata": {
    "tags": []
   },
   "outputs": [],
   "source": [
    "# Combine the datasets\n",
    "data = pd.concat([fake, true], ignore_index=True)"
   ]
  },
  {
   "cell_type": "code",
   "execution_count": 44,
   "id": "599a1bc5-ea90-4247-abd1-8e129f816f87",
   "metadata": {
    "tags": []
   },
   "outputs": [
    {
     "name": "stdout",
     "output_type": "stream",
     "text": [
      "                                               title  \\\n",
      "0  Ben Stein Calls Out 9th Circuit Court: Committ...   \n",
      "1  Trump drops Steve Bannon from National Securit...   \n",
      "2  Puerto Rico expects U.S. to lift Jones Act shi...   \n",
      "3   OOPS: Trump Just Accidentally Confirmed He Le...   \n",
      "4  Donald Trump heads for Scotland to reopen a go...   \n",
      "\n",
      "                                                text       subject  \\\n",
      "0  21st Century Wire says Ben Stein, reputable pr...       US_News   \n",
      "1  WASHINGTON (Reuters) - U.S. President Donald T...  politicsNews   \n",
      "2  (Reuters) - Puerto Rico Governor Ricardo Rosse...  politicsNews   \n",
      "3  On Monday, Donald Trump once again embarrassed...          News   \n",
      "4  GLASGOW, Scotland (Reuters) - Most U.S. presid...  politicsNews   \n",
      "\n",
      "                  date  label  \n",
      "0    February 13, 2017      1  \n",
      "1       April 5, 2017       0  \n",
      "2  September 27, 2017       0  \n",
      "3         May 22, 2017      1  \n",
      "4       June 24, 2016       0  \n"
     ]
    }
   ],
   "source": [
    "# Shuffle the data for randomness\n",
    "data = data.sample(frac=1, random_state=42).reset_index(drop=True)\n",
    "\n",
    "# Check the structure\n",
    "print(data.head())"
   ]
  },
  {
   "cell_type": "markdown",
   "id": "f4cdf28c-95d0-4c55-92f2-49c60100adec",
   "metadata": {},
   "source": [
    "**Preprocess and Clean the data**"
   ]
  },
  {
   "cell_type": "code",
   "execution_count": 45,
   "id": "8fd0a353-5035-46c4-b038-0ba871d1b2a0",
   "metadata": {
    "tags": []
   },
   "outputs": [],
   "source": [
    "from sklearn.model_selection import train_test_split\n",
    "from sklearn.feature_extraction.text import TfidfVectorizer\n",
    "import re\n",
    "\n",
    "# Basic text cleaning function\n",
    "def clean_text(text):\n",
    "    text = re.sub(r'http\\S+', '', text)  # Remove URLs\n",
    "    text = re.sub(r'[^A-Za-z\\s]', '', text)  # Remove special characters\n",
    "    text = text.lower()  # Convert to lowercase\n",
    "    return text\n"
   ]
  },
  {
   "cell_type": "code",
   "execution_count": 46,
   "id": "18de6e75-3c08-4d0e-86b9-147655858f1f",
   "metadata": {
    "tags": []
   },
   "outputs": [],
   "source": [
    "# Split features and labels\n",
    "X = data['text']\n",
    "y = data['label']"
   ]
  },
  {
   "cell_type": "code",
   "execution_count": 47,
   "id": "419a0040-8b86-40e4-9e1f-5e1cb1e87af6",
   "metadata": {
    "tags": []
   },
   "outputs": [],
   "source": [
    "# Split into training and testing sets\n",
    "X_train, X_test, y_train, y_test = train_test_split(X, y, test_size=0.2, random_state=42)\n",
    "\n",
    "# Vectorize the text using TF-IDF\n",
    "vectorizer = TfidfVectorizer(max_features=5000)\n",
    "X_train_tfidf = vectorizer.fit_transform(X_train)\n",
    "X_test_tfidf = vectorizer.transform(X_test)"
   ]
  },
  {
   "cell_type": "markdown",
   "id": "e487e1c9-6380-41be-b4fc-5c6e9484a82d",
   "metadata": {
    "tags": []
   },
   "source": [
    "**Train the Machine Learning Models**"
   ]
  },
  {
   "cell_type": "code",
   "execution_count": 48,
   "id": "9f86acc4-f40c-43aa-b659-819e05133ddc",
   "metadata": {
    "tags": []
   },
   "outputs": [
    {
     "name": "stdout",
     "output_type": "stream",
     "text": [
      "Model: Naive Bayes\n",
      "Accuracy: 0.93\n",
      "              precision    recall  f1-score   support\n",
      "\n",
      "           0       0.93      0.92      0.93      4270\n",
      "           1       0.93      0.93      0.93      4710\n",
      "\n",
      "    accuracy                           0.93      8980\n",
      "   macro avg       0.93      0.93      0.93      8980\n",
      "weighted avg       0.93      0.93      0.93      8980\n",
      "\n",
      "Model: Logistic Regression\n",
      "Accuracy: 0.98\n",
      "              precision    recall  f1-score   support\n",
      "\n",
      "           0       0.98      0.99      0.98      4270\n",
      "           1       0.99      0.98      0.98      4710\n",
      "\n",
      "    accuracy                           0.98      8980\n",
      "   macro avg       0.98      0.98      0.98      8980\n",
      "weighted avg       0.98      0.98      0.98      8980\n",
      "\n",
      "Model: Random Forest\n",
      "Accuracy: 1.00\n",
      "              precision    recall  f1-score   support\n",
      "\n",
      "           0       1.00      1.00      1.00      4270\n",
      "           1       1.00      1.00      1.00      4710\n",
      "\n",
      "    accuracy                           1.00      8980\n",
      "   macro avg       1.00      1.00      1.00      8980\n",
      "weighted avg       1.00      1.00      1.00      8980\n",
      "\n",
      "\n",
      "Summary of Results:\n",
      "Naive Bayes: 0.93\n",
      "Logistic Regression: 0.98\n",
      "Random Forest: 1.00\n"
     ]
    }
   ],
   "source": [
    "# Models to evaluate\n",
    "models = {\n",
    "    \"Naive Bayes\": MultinomialNB(),\n",
    "    \"Logistic Regression\": LogisticRegression(max_iter=1000),\n",
    "    \"Random Forest\": RandomForestClassifier(n_estimators=100)\n",
    "}\n",
    "\n",
    "# Evaluate each sklearn model\n",
    "results = []\n",
    "for name, model in models.items():\n",
    "    # Train the model\n",
    "    model.fit(X_train_tfidf, y_train)\n",
    "    \n",
    "    # Make predictions\n",
    "    y_pred = model.predict(X_test_tfidf)\n",
    "    \n",
    "    # Evaluate performance\n",
    "    accuracy = accuracy_score(y_test, y_pred)\n",
    "    print(f\"Model: {name}\")\n",
    "    print(f\"Accuracy: {accuracy:.2f}\")\n",
    "    print(classification_report(y_test, y_pred))\n",
    "    results.append({\"Model\": name, \"Accuracy\": accuracy})\n",
    "\n",
    "# Print results summary\n",
    "print(\"\\nSummary of Results:\")\n",
    "for result in results:\n",
    "    print(f\"{result['Model']}: {result['Accuracy']:.2f}\")\n"
   ]
  },
  {
   "cell_type": "markdown",
   "id": "6461a58a-0475-4eb8-80ac-46b19dd73aa7",
   "metadata": {},
   "source": [
    "**Experiment with Other Model - LTSMl**"
   ]
  },
  {
   "cell_type": "code",
   "execution_count": null,
   "id": "518fcf65-19ad-4386-be00-f21aaa9415c1",
   "metadata": {
    "tags": []
   },
   "outputs": [
    {
     "name": "stdout",
     "output_type": "stream",
     "text": [
      "Epoch 1/3\n",
      "562/562 [==============================] - 314s 551ms/step - loss: 0.1138 - accuracy: 0.9576 - val_loss: 0.0396 - val_accuracy: 0.9885\n",
      "Epoch 2/3\n",
      "562/562 [==============================] - 319s 567ms/step - loss: 0.0324 - accuracy: 0.9908 - val_loss: 0.0443 - val_accuracy: 0.9885\n",
      "Epoch 3/3\n",
      "562/562 [==============================] - 322s 573ms/step - loss: 0.1039 - accuracy: 0.9641 - val_loss: 0.0535 - val_accuracy: 0.9869\n",
      "281/281 [==============================] - 41s 146ms/step - loss: 0.0535 - accuracy: 0.9869\n",
      "\n",
      "Model: LSTM\n",
      "Accuracy: 0.99\n"
     ]
    }
   ],
   "source": [
    "# Prepare padded sequences for LSTM\n",
    "X_train_pad = pad_sequences(X_train_seq, maxlen=200)\n",
    "X_test_pad = pad_sequences(X_test_seq, maxlen=200)\n",
    "\n",
    "# Define and train an LSTM model\n",
    "lstm_model = Sequential([\n",
    "    Embedding(input_dim=5000, output_dim=128, input_length=200),\n",
    "    LSTM(128, return_sequences=True),\n",
    "    Dropout(0.2),\n",
    "    LSTM(64),\n",
    "    Dense(1, activation='sigmoid')\n",
    "])\n",
    "lstm_model.compile(optimizer='adam', loss='binary_crossentropy', metrics=['accuracy'])\n",
    "history = lstm_model.fit(X_train_pad, y_train, validation_data=(X_test_pad, y_test), epochs=3, batch_size=64)\n",
    "\n",
    "# Evaluate the LSTM model\n",
    "loss, accuracy = lstm_model.evaluate(X_test_pad, y_test)\n",
    "print(f\"\\nModel: LSTM\")\n",
    "print(f\"Accuracy: {accuracy:.2f}\")\n",
    "\n",
    "# Add to results\n",
    "results.append({\"Model\": \"LSTM\", \"Accuracy\": accuracy})"
   ]
  },
  {
   "cell_type": "markdown",
   "id": "54f21b82-06ce-4d99-bbcf-65d60e58bbc8",
   "metadata": {},
   "source": [
    "**Compare the results**"
   ]
  },
  {
   "cell_type": "code",
   "execution_count": 50,
   "id": "b3e57dad-c204-4bc8-b0e1-a5536340c1f1",
   "metadata": {
    "tags": []
   },
   "outputs": [
    {
     "name": "stdout",
     "output_type": "stream",
     "text": [
      "\n",
      "Comparison of All Models:\n",
      "                 Model  Accuracy\n",
      "0          Naive Bayes  0.929176\n",
      "1  Logistic Regression  0.983964\n",
      "2        Random Forest  0.996993\n",
      "3                 LSTM  0.986860\n"
     ]
    },
    {
     "data": {
      "image/png": "[encoded data removed]",
      "text/plain": [
       "<Figure size 640x480 with 1 Axes>"
      ]
     },
     "metadata": {},
     "output_type": "display_data"
    }
   ],
   "source": [
    "# Create a summary DataFrame\n",
    "results_df = pd.DataFrame(results)\n",
    "print(\"\\nComparison of All Models:\")\n",
    "print(results_df)\n",
    "\n",
    "# Visualize results\n",
    "import matplotlib.pyplot as plt\n",
    "\n",
    "plt.bar(results_df[\"Model\"], results_df[\"Accuracy\"])\n",
    "plt.xlabel(\"Model\")\n",
    "plt.ylabel(\"Accuracy\")\n",
    "plt.title(\"Model Comparison\")\n",
    "plt.xticks(rotation=45)\n",
    "plt.show()\n"
   ]
  },
  {
   "cell_type": "code",
   "execution_count": null,
   "id": "914b04b6-e69f-4f9a-a964-4322c79fe061",
   "metadata": {},
   "outputs": [],
   "source": []
  }
 ],
 "metadata": {
  "environment": {
   "kernel": "conda-env-tensorflow-tensorflow",
   "name": "workbench-notebooks.m127",
   "type": "gcloud",
   "uri": "us-docker.pkg.dev/deeplearning-platform-release/gcr.io/workbench-notebooks:m127"
  },
  "kernelspec": {
   "display_name": "TensorFlow 2-11 (Local)",
   "language": "python",
   "name": "conda-env-tensorflow-tensorflow"
  },
  "language_info": {
   "codemirror_mode": {
    "name": "ipython",
    "version": 3
   },
   "file_extension": ".py",
   "mimetype": "text/x-python",
   "name": "python",
   "nbconvert_exporter": "python",
   "pygments_lexer": "ipython3",
   "version": "3.10.16"
  }
 },
 "nbformat": 4,
 "nbformat_minor": 5
}
