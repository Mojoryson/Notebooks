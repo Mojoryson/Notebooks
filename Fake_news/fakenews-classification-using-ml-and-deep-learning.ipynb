{
 "cells": [
  {
   "cell_type": "markdown",
   "id": "6988dfcf",
   "metadata": {},
   "source": [
    "### Fake News Classification Using Machine Learning and Deep Learning\n",
    "\n",
    "This Jupyter Notebook addresses the problem of classifying fake news using various machine learning and deep learning techniques. The notebook is structured into several stages, including data preprocessing, model experimentation, and evaluation of results.\n",
    "\n",
    "#### Summary:\n",
    "\n",
    "1. **Introduction**:\n",
    "   - The notebook begins with an introduction to the problem of fake news classification. It outlines the importance of identifying fake news and provides an overview of the steps involved in the analysis.\n",
    "\n",
    "2. **Data Loading**:\n",
    "   - The dataset is loaded from CSV files using pandas. The training and test datasets are read into DataFrames for further processing.\n",
    "   ```python\n",
    "   train = pd.read_csv(\"../input/fake-news/train.csv\")\n",
    "   test = pd.read_csv(\"../input/fake-news/test.csv\")\n",
    "   train.head()\n",
    "\n",
    "Sure! Here is the summary in Markdown format:\n",
    "\n",
    "```markdown\n",
    "### Fake News Classification Using Machine Learning and Deep Learning\n",
    "\n",
    "This Jupyter Notebook addresses the problem of classifying fake news using various machine learning and deep learning techniques. The notebook is structured into several stages, including data preprocessing, model experimentation, and evaluation of results.\n",
    "\n",
    "#### Summary:\n",
    "\n",
    "1. **Introduction**:\n",
    "   - The notebook begins with an introduction to the problem of fake news classification. It outlines the importance of identifying fake news and provides an overview of the steps involved in the analysis.\n",
    "\n",
    "2. **Data Loading**:\n",
    "   - The dataset is loaded from CSV files using pandas. The training and test datasets are read into DataFrames for further processing.\n",
    "   ```python\n",
    "   train = pd.read_csv(\"../input/fake-news/train.csv\")\n",
    "   test = pd.read_csv(\"../input/fake-news/test.csv\")\n",
    "   train.head()\n",
    "   ```\n",
    "\n",
    "3. **Data Exploration**:\n",
    "   - Initial exploration of the dataset is performed to understand its structure and contents. This includes displaying the first few rows of the dataset and checking for missing values.\n",
    "\n",
    "4. **Data Preprocessing**:\n",
    "   - The data is preprocessed to prepare it for model training. This includes handling missing values, text cleaning, and feature extraction.\n",
    "   - Natural Language Toolkit (nltk) is used for text processing tasks such as tokenization, stopword removal, and stemming.\n",
    "\n",
    "5. **Feature Engineering**:\n",
    "   - Features are engineered from the text data using techniques such as TF-IDF (Term Frequency-Inverse Document Frequency) and word embeddings.\n",
    "   - The processed text data is transformed into numerical features suitable for model training.\n",
    "\n",
    "6. **Model Training**:\n",
    "   - Various machine learning models are trained on the processed data. This includes models such as Logistic Regression, Naive Bayes, and Support Vector Machines (SVM).\n",
    "   - Deep learning models, including LSTM (Long Short-Term Memory) networks, are also trained using TensorFlow.\n",
    "\n",
    "7. **Hyperparameter Tuning**:\n",
    "   - Hyperparameter tuning is performed using GridSearchCV to find the best parameters for the models.\n",
    "   ```python\n",
    "   best_rf = grid_search.best_estimator_\n",
    "   ```\n",
    "\n",
    "8. **Model Evaluation**:\n",
    "   - The trained models are evaluated using metrics such as accuracy, precision, recall, F1-score, and ROC AUC.\n",
    "   - Confusion matrices and ROC curves are plotted to visualize the performance of the models.\n",
    "\n",
    "9. **Results and Conclusion**:\n",
    "   - The results of the model evaluations are summarized, highlighting the best-performing models.\n",
    "   - The notebook concludes with a discussion of the findings and potential future work to improve the fake news classification system.\n",
    "\n",
    "### Key Steps and Outputs:\n",
    "\n",
    "- **Data Loading and Exploration**: Load and explore the dataset to understand its structure.\n",
    "- **Data Preprocessing**: Clean and preprocess the text data for model training.\n",
    "- **Feature Engineering**: Extract numerical features from the text data using TF-IDF and word embeddings.\n",
    "- **Model Training**: Train various machine learning and deep learning models on the processed data.\n",
    "- **Hyperparameter Tuning**: Perform hyperparameter tuning to optimize the models.\n",
    "- **Model Evaluation**: Evaluate the models using various metrics and visualize the results.\n",
    "- **Results and Conclusion**: Summarize the findings and discuss potential future work.\n",
    "\n",
    "This notebook provides a comprehensive workflow for tackling the problem of fake news classification, from data preprocessing to model evaluation and interpretation.\n",
    "```\n",
    "\n"
   ]
  },
  {
   "cell_type": "code",
   "execution_count": 2,
   "id": "employed-pontiac",
   "metadata": {
    "execution": {
     "iopub.execute_input": "2021-04-24T06:09:26.726536Z",
     "iopub.status.busy": "2021-04-24T06:09:26.724851Z",
     "iopub.status.idle": "2021-04-24T06:09:34.346956Z",
     "shell.execute_reply": "2021-04-24T06:09:34.346205Z"
    },
    "papermill": {
     "duration": 7.65274,
     "end_time": "2021-04-24T06:09:34.347142",
     "exception": false,
     "start_time": "2021-04-24T06:09:26.694402",
     "status": "completed"
    },
    "tags": []
   },
   "outputs": [
    {
     "ename": "ModuleNotFoundError",
     "evalue": "No module named 'nltk'",
     "output_type": "error",
     "traceback": [
      "\u001b[0;31m---------------------------------------------------------------------------\u001b[0m",
      "\u001b[0;31mModuleNotFoundError\u001b[0m                       Traceback (most recent call last)",
      "Cell \u001b[0;32mIn[2], line 4\u001b[0m\n\u001b[1;32m      2\u001b[0m \u001b[38;5;28;01mimport\u001b[39;00m\u001b[38;5;250m \u001b[39m\u001b[38;5;21;01mpandas\u001b[39;00m\u001b[38;5;250m \u001b[39m\u001b[38;5;28;01mas\u001b[39;00m\u001b[38;5;250m \u001b[39m\u001b[38;5;21;01mpd\u001b[39;00m\n\u001b[1;32m      3\u001b[0m \u001b[38;5;28;01mimport\u001b[39;00m\u001b[38;5;250m \u001b[39m\u001b[38;5;21;01mnumpy\u001b[39;00m\u001b[38;5;250m \u001b[39m\u001b[38;5;28;01mas\u001b[39;00m\u001b[38;5;250m \u001b[39m\u001b[38;5;21;01mnp\u001b[39;00m\n\u001b[0;32m----> 4\u001b[0m \u001b[38;5;28;01mimport\u001b[39;00m\u001b[38;5;250m \u001b[39m\u001b[38;5;21;01mnltk\u001b[39;00m\n\u001b[1;32m      5\u001b[0m \u001b[38;5;28;01mimport\u001b[39;00m\u001b[38;5;250m \u001b[39m\u001b[38;5;21;01mre\u001b[39;00m\n\u001b[1;32m      6\u001b[0m \u001b[38;5;28;01mfrom\u001b[39;00m\u001b[38;5;250m \u001b[39m\u001b[38;5;21;01mnltk\u001b[39;00m\u001b[38;5;21;01m.\u001b[39;00m\u001b[38;5;21;01mcorpus\u001b[39;00m\u001b[38;5;250m \u001b[39m\u001b[38;5;28;01mimport\u001b[39;00m stopwords\n",
      "\u001b[0;31mModuleNotFoundError\u001b[0m: No module named 'nltk'"
     ]
    }
   ],
   "source": [
    "# Importing Libraries\n",
    "import pandas as pd\n",
    "import numpy as np\n",
    "import nltk\n",
    "import re\n",
    "from nltk.corpus import stopwords\n",
    "nltk.download('stopwords')\n",
    "from tensorflow.keras.layers import Embedding,Dropout\n",
    "from tensorflow.keras.preprocessing.sequence import pad_sequences\n",
    "from tensorflow.keras.models import Sequential\n",
    "from tensorflow.keras.preprocessing.text import one_hot\n",
    "from tensorflow.keras.layers import LSTM,Bidirectional,GRU\n",
    "from tensorflow.keras.layers import Dense\n",
    "from sklearn.metrics import classification_report,accuracy_score\n",
    "from sklearn.linear_model import LogisticRegression\n",
    "from sklearn.tree import DecisionTreeClassifier\n",
    "from sklearn.ensemble import RandomForestClassifier\n",
    "from xgboost import XGBClassifier\n",
    "from catboost import CatBoostClassifier\n",
    "from sklearn.linear_model import LogisticRegression\n",
    "from sklearn.naive_bayes import MultinomialNB"
   ]
  },
  {
   "cell_type": "code",
   "execution_count": 4,
   "id": "fitting-skating",
   "metadata": {
    "execution": {
     "iopub.execute_input": "2021-04-24T06:09:34.410517Z",
     "iopub.status.busy": "2021-04-24T06:09:34.409817Z",
     "iopub.status.idle": "2021-04-24T06:09:36.957933Z",
     "shell.execute_reply": "2021-04-24T06:09:36.956892Z"
    },
    "papermill": {
     "duration": 2.582685,
     "end_time": "2021-04-24T06:09:36.958105",
     "exception": false,
     "start_time": "2021-04-24T06:09:34.375420",
     "status": "completed"
    },
    "tags": []
   },
   "outputs": [
    {
     "ename": "FileNotFoundError",
     "evalue": "[Errno 2] No such file or directory: 'data/input/fake-news/train.csv'",
     "output_type": "error",
     "traceback": [
      "\u001b[0;31m---------------------------------------------------------------------------\u001b[0m",
      "\u001b[0;31mFileNotFoundError\u001b[0m                         Traceback (most recent call last)",
      "Cell \u001b[0;32mIn[4], line 3\u001b[0m\n\u001b[1;32m      1\u001b[0m \u001b[38;5;66;03m# Reading data from csv\u001b[39;00m\n\u001b[1;32m      2\u001b[0m \u001b[38;5;28;01mimport\u001b[39;00m\u001b[38;5;250m \u001b[39m\u001b[38;5;21;01mpandas\u001b[39;00m\u001b[38;5;250m \u001b[39m\u001b[38;5;28;01mas\u001b[39;00m\u001b[38;5;250m \u001b[39m\u001b[38;5;21;01mpd\u001b[39;00m\n\u001b[0;32m----> 3\u001b[0m train \u001b[38;5;241m=\u001b[39m \u001b[43mpd\u001b[49m\u001b[38;5;241;43m.\u001b[39;49m\u001b[43mread_csv\u001b[49m\u001b[43m(\u001b[49m\u001b[38;5;124;43m\"\u001b[39;49m\u001b[38;5;124;43mdata/input/fake-news/train.csv\u001b[39;49m\u001b[38;5;124;43m\"\u001b[39;49m\u001b[43m)\u001b[49m\n\u001b[1;32m      4\u001b[0m test  \u001b[38;5;241m=\u001b[39m pd\u001b[38;5;241m.\u001b[39mread_csv(\u001b[38;5;124m\"\u001b[39m\u001b[38;5;124mdata/input/fake-news/test.csv\u001b[39m\u001b[38;5;124m\"\u001b[39m)\n\u001b[1;32m      5\u001b[0m train\u001b[38;5;241m.\u001b[39mhead()\n",
      "File \u001b[0;32m~/anaconda3/envs/fake_news/lib/python3.13/site-packages/pandas/io/parsers/readers.py:1026\u001b[0m, in \u001b[0;36mread_csv\u001b[0;34m(filepath_or_buffer, sep, delimiter, header, names, index_col, usecols, dtype, engine, converters, true_values, false_values, skipinitialspace, skiprows, skipfooter, nrows, na_values, keep_default_na, na_filter, verbose, skip_blank_lines, parse_dates, infer_datetime_format, keep_date_col, date_parser, date_format, dayfirst, cache_dates, iterator, chunksize, compression, thousands, decimal, lineterminator, quotechar, quoting, doublequote, escapechar, comment, encoding, encoding_errors, dialect, on_bad_lines, delim_whitespace, low_memory, memory_map, float_precision, storage_options, dtype_backend)\u001b[0m\n\u001b[1;32m   1013\u001b[0m kwds_defaults \u001b[38;5;241m=\u001b[39m _refine_defaults_read(\n\u001b[1;32m   1014\u001b[0m     dialect,\n\u001b[1;32m   1015\u001b[0m     delimiter,\n\u001b[0;32m   (...)\u001b[0m\n\u001b[1;32m   1022\u001b[0m     dtype_backend\u001b[38;5;241m=\u001b[39mdtype_backend,\n\u001b[1;32m   1023\u001b[0m )\n\u001b[1;32m   1024\u001b[0m kwds\u001b[38;5;241m.\u001b[39mupdate(kwds_defaults)\n\u001b[0;32m-> 1026\u001b[0m \u001b[38;5;28;01mreturn\u001b[39;00m \u001b[43m_read\u001b[49m\u001b[43m(\u001b[49m\u001b[43mfilepath_or_buffer\u001b[49m\u001b[43m,\u001b[49m\u001b[43m \u001b[49m\u001b[43mkwds\u001b[49m\u001b[43m)\u001b[49m\n",
      "File \u001b[0;32m~/anaconda3/envs/fake_news/lib/python3.13/site-packages/pandas/io/parsers/readers.py:620\u001b[0m, in \u001b[0;36m_read\u001b[0;34m(filepath_or_buffer, kwds)\u001b[0m\n\u001b[1;32m    617\u001b[0m _validate_names(kwds\u001b[38;5;241m.\u001b[39mget(\u001b[38;5;124m\"\u001b[39m\u001b[38;5;124mnames\u001b[39m\u001b[38;5;124m\"\u001b[39m, \u001b[38;5;28;01mNone\u001b[39;00m))\n\u001b[1;32m    619\u001b[0m \u001b[38;5;66;03m# Create the parser.\u001b[39;00m\n\u001b[0;32m--> 620\u001b[0m parser \u001b[38;5;241m=\u001b[39m \u001b[43mTextFileReader\u001b[49m\u001b[43m(\u001b[49m\u001b[43mfilepath_or_buffer\u001b[49m\u001b[43m,\u001b[49m\u001b[43m \u001b[49m\u001b[38;5;241;43m*\u001b[39;49m\u001b[38;5;241;43m*\u001b[39;49m\u001b[43mkwds\u001b[49m\u001b[43m)\u001b[49m\n\u001b[1;32m    622\u001b[0m \u001b[38;5;28;01mif\u001b[39;00m chunksize \u001b[38;5;129;01mor\u001b[39;00m iterator:\n\u001b[1;32m    623\u001b[0m     \u001b[38;5;28;01mreturn\u001b[39;00m parser\n",
      "File \u001b[0;32m~/anaconda3/envs/fake_news/lib/python3.13/site-packages/pandas/io/parsers/readers.py:1620\u001b[0m, in \u001b[0;36mTextFileReader.__init__\u001b[0;34m(self, f, engine, **kwds)\u001b[0m\n\u001b[1;32m   1617\u001b[0m     \u001b[38;5;28mself\u001b[39m\u001b[38;5;241m.\u001b[39moptions[\u001b[38;5;124m\"\u001b[39m\u001b[38;5;124mhas_index_names\u001b[39m\u001b[38;5;124m\"\u001b[39m] \u001b[38;5;241m=\u001b[39m kwds[\u001b[38;5;124m\"\u001b[39m\u001b[38;5;124mhas_index_names\u001b[39m\u001b[38;5;124m\"\u001b[39m]\n\u001b[1;32m   1619\u001b[0m \u001b[38;5;28mself\u001b[39m\u001b[38;5;241m.\u001b[39mhandles: IOHandles \u001b[38;5;241m|\u001b[39m \u001b[38;5;28;01mNone\u001b[39;00m \u001b[38;5;241m=\u001b[39m \u001b[38;5;28;01mNone\u001b[39;00m\n\u001b[0;32m-> 1620\u001b[0m \u001b[38;5;28mself\u001b[39m\u001b[38;5;241m.\u001b[39m_engine \u001b[38;5;241m=\u001b[39m \u001b[38;5;28;43mself\u001b[39;49m\u001b[38;5;241;43m.\u001b[39;49m\u001b[43m_make_engine\u001b[49m\u001b[43m(\u001b[49m\u001b[43mf\u001b[49m\u001b[43m,\u001b[49m\u001b[43m \u001b[49m\u001b[38;5;28;43mself\u001b[39;49m\u001b[38;5;241;43m.\u001b[39;49m\u001b[43mengine\u001b[49m\u001b[43m)\u001b[49m\n",
      "File \u001b[0;32m~/anaconda3/envs/fake_news/lib/python3.13/site-packages/pandas/io/parsers/readers.py:1880\u001b[0m, in \u001b[0;36mTextFileReader._make_engine\u001b[0;34m(self, f, engine)\u001b[0m\n\u001b[1;32m   1878\u001b[0m     \u001b[38;5;28;01mif\u001b[39;00m \u001b[38;5;124m\"\u001b[39m\u001b[38;5;124mb\u001b[39m\u001b[38;5;124m\"\u001b[39m \u001b[38;5;129;01mnot\u001b[39;00m \u001b[38;5;129;01min\u001b[39;00m mode:\n\u001b[1;32m   1879\u001b[0m         mode \u001b[38;5;241m+\u001b[39m\u001b[38;5;241m=\u001b[39m \u001b[38;5;124m\"\u001b[39m\u001b[38;5;124mb\u001b[39m\u001b[38;5;124m\"\u001b[39m\n\u001b[0;32m-> 1880\u001b[0m \u001b[38;5;28mself\u001b[39m\u001b[38;5;241m.\u001b[39mhandles \u001b[38;5;241m=\u001b[39m \u001b[43mget_handle\u001b[49m\u001b[43m(\u001b[49m\n\u001b[1;32m   1881\u001b[0m \u001b[43m    \u001b[49m\u001b[43mf\u001b[49m\u001b[43m,\u001b[49m\n\u001b[1;32m   1882\u001b[0m \u001b[43m    \u001b[49m\u001b[43mmode\u001b[49m\u001b[43m,\u001b[49m\n\u001b[1;32m   1883\u001b[0m \u001b[43m    \u001b[49m\u001b[43mencoding\u001b[49m\u001b[38;5;241;43m=\u001b[39;49m\u001b[38;5;28;43mself\u001b[39;49m\u001b[38;5;241;43m.\u001b[39;49m\u001b[43moptions\u001b[49m\u001b[38;5;241;43m.\u001b[39;49m\u001b[43mget\u001b[49m\u001b[43m(\u001b[49m\u001b[38;5;124;43m\"\u001b[39;49m\u001b[38;5;124;43mencoding\u001b[39;49m\u001b[38;5;124;43m\"\u001b[39;49m\u001b[43m,\u001b[49m\u001b[43m \u001b[49m\u001b[38;5;28;43;01mNone\u001b[39;49;00m\u001b[43m)\u001b[49m\u001b[43m,\u001b[49m\n\u001b[1;32m   1884\u001b[0m \u001b[43m    \u001b[49m\u001b[43mcompression\u001b[49m\u001b[38;5;241;43m=\u001b[39;49m\u001b[38;5;28;43mself\u001b[39;49m\u001b[38;5;241;43m.\u001b[39;49m\u001b[43moptions\u001b[49m\u001b[38;5;241;43m.\u001b[39;49m\u001b[43mget\u001b[49m\u001b[43m(\u001b[49m\u001b[38;5;124;43m\"\u001b[39;49m\u001b[38;5;124;43mcompression\u001b[39;49m\u001b[38;5;124;43m\"\u001b[39;49m\u001b[43m,\u001b[49m\u001b[43m \u001b[49m\u001b[38;5;28;43;01mNone\u001b[39;49;00m\u001b[43m)\u001b[49m\u001b[43m,\u001b[49m\n\u001b[1;32m   1885\u001b[0m \u001b[43m    \u001b[49m\u001b[43mmemory_map\u001b[49m\u001b[38;5;241;43m=\u001b[39;49m\u001b[38;5;28;43mself\u001b[39;49m\u001b[38;5;241;43m.\u001b[39;49m\u001b[43moptions\u001b[49m\u001b[38;5;241;43m.\u001b[39;49m\u001b[43mget\u001b[49m\u001b[43m(\u001b[49m\u001b[38;5;124;43m\"\u001b[39;49m\u001b[38;5;124;43mmemory_map\u001b[39;49m\u001b[38;5;124;43m\"\u001b[39;49m\u001b[43m,\u001b[49m\u001b[43m \u001b[49m\u001b[38;5;28;43;01mFalse\u001b[39;49;00m\u001b[43m)\u001b[49m\u001b[43m,\u001b[49m\n\u001b[1;32m   1886\u001b[0m \u001b[43m    \u001b[49m\u001b[43mis_text\u001b[49m\u001b[38;5;241;43m=\u001b[39;49m\u001b[43mis_text\u001b[49m\u001b[43m,\u001b[49m\n\u001b[1;32m   1887\u001b[0m \u001b[43m    \u001b[49m\u001b[43merrors\u001b[49m\u001b[38;5;241;43m=\u001b[39;49m\u001b[38;5;28;43mself\u001b[39;49m\u001b[38;5;241;43m.\u001b[39;49m\u001b[43moptions\u001b[49m\u001b[38;5;241;43m.\u001b[39;49m\u001b[43mget\u001b[49m\u001b[43m(\u001b[49m\u001b[38;5;124;43m\"\u001b[39;49m\u001b[38;5;124;43mencoding_errors\u001b[39;49m\u001b[38;5;124;43m\"\u001b[39;49m\u001b[43m,\u001b[49m\u001b[43m \u001b[49m\u001b[38;5;124;43m\"\u001b[39;49m\u001b[38;5;124;43mstrict\u001b[39;49m\u001b[38;5;124;43m\"\u001b[39;49m\u001b[43m)\u001b[49m\u001b[43m,\u001b[49m\n\u001b[1;32m   1888\u001b[0m \u001b[43m    \u001b[49m\u001b[43mstorage_options\u001b[49m\u001b[38;5;241;43m=\u001b[39;49m\u001b[38;5;28;43mself\u001b[39;49m\u001b[38;5;241;43m.\u001b[39;49m\u001b[43moptions\u001b[49m\u001b[38;5;241;43m.\u001b[39;49m\u001b[43mget\u001b[49m\u001b[43m(\u001b[49m\u001b[38;5;124;43m\"\u001b[39;49m\u001b[38;5;124;43mstorage_options\u001b[39;49m\u001b[38;5;124;43m\"\u001b[39;49m\u001b[43m,\u001b[49m\u001b[43m \u001b[49m\u001b[38;5;28;43;01mNone\u001b[39;49;00m\u001b[43m)\u001b[49m\u001b[43m,\u001b[49m\n\u001b[1;32m   1889\u001b[0m \u001b[43m\u001b[49m\u001b[43m)\u001b[49m\n\u001b[1;32m   1890\u001b[0m \u001b[38;5;28;01massert\u001b[39;00m \u001b[38;5;28mself\u001b[39m\u001b[38;5;241m.\u001b[39mhandles \u001b[38;5;129;01mis\u001b[39;00m \u001b[38;5;129;01mnot\u001b[39;00m \u001b[38;5;28;01mNone\u001b[39;00m\n\u001b[1;32m   1891\u001b[0m f \u001b[38;5;241m=\u001b[39m \u001b[38;5;28mself\u001b[39m\u001b[38;5;241m.\u001b[39mhandles\u001b[38;5;241m.\u001b[39mhandle\n",
      "File \u001b[0;32m~/anaconda3/envs/fake_news/lib/python3.13/site-packages/pandas/io/common.py:873\u001b[0m, in \u001b[0;36mget_handle\u001b[0;34m(path_or_buf, mode, encoding, compression, memory_map, is_text, errors, storage_options)\u001b[0m\n\u001b[1;32m    868\u001b[0m \u001b[38;5;28;01melif\u001b[39;00m \u001b[38;5;28misinstance\u001b[39m(handle, \u001b[38;5;28mstr\u001b[39m):\n\u001b[1;32m    869\u001b[0m     \u001b[38;5;66;03m# Check whether the filename is to be opened in binary mode.\u001b[39;00m\n\u001b[1;32m    870\u001b[0m     \u001b[38;5;66;03m# Binary mode does not support 'encoding' and 'newline'.\u001b[39;00m\n\u001b[1;32m    871\u001b[0m     \u001b[38;5;28;01mif\u001b[39;00m ioargs\u001b[38;5;241m.\u001b[39mencoding \u001b[38;5;129;01mand\u001b[39;00m \u001b[38;5;124m\"\u001b[39m\u001b[38;5;124mb\u001b[39m\u001b[38;5;124m\"\u001b[39m \u001b[38;5;129;01mnot\u001b[39;00m \u001b[38;5;129;01min\u001b[39;00m ioargs\u001b[38;5;241m.\u001b[39mmode:\n\u001b[1;32m    872\u001b[0m         \u001b[38;5;66;03m# Encoding\u001b[39;00m\n\u001b[0;32m--> 873\u001b[0m         handle \u001b[38;5;241m=\u001b[39m \u001b[38;5;28;43mopen\u001b[39;49m\u001b[43m(\u001b[49m\n\u001b[1;32m    874\u001b[0m \u001b[43m            \u001b[49m\u001b[43mhandle\u001b[49m\u001b[43m,\u001b[49m\n\u001b[1;32m    875\u001b[0m \u001b[43m            \u001b[49m\u001b[43mioargs\u001b[49m\u001b[38;5;241;43m.\u001b[39;49m\u001b[43mmode\u001b[49m\u001b[43m,\u001b[49m\n\u001b[1;32m    876\u001b[0m \u001b[43m            \u001b[49m\u001b[43mencoding\u001b[49m\u001b[38;5;241;43m=\u001b[39;49m\u001b[43mioargs\u001b[49m\u001b[38;5;241;43m.\u001b[39;49m\u001b[43mencoding\u001b[49m\u001b[43m,\u001b[49m\n\u001b[1;32m    877\u001b[0m \u001b[43m            \u001b[49m\u001b[43merrors\u001b[49m\u001b[38;5;241;43m=\u001b[39;49m\u001b[43merrors\u001b[49m\u001b[43m,\u001b[49m\n\u001b[1;32m    878\u001b[0m \u001b[43m            \u001b[49m\u001b[43mnewline\u001b[49m\u001b[38;5;241;43m=\u001b[39;49m\u001b[38;5;124;43m\"\u001b[39;49m\u001b[38;5;124;43m\"\u001b[39;49m\u001b[43m,\u001b[49m\n\u001b[1;32m    879\u001b[0m \u001b[43m        \u001b[49m\u001b[43m)\u001b[49m\n\u001b[1;32m    880\u001b[0m     \u001b[38;5;28;01melse\u001b[39;00m:\n\u001b[1;32m    881\u001b[0m         \u001b[38;5;66;03m# Binary mode\u001b[39;00m\n\u001b[1;32m    882\u001b[0m         handle \u001b[38;5;241m=\u001b[39m \u001b[38;5;28mopen\u001b[39m(handle, ioargs\u001b[38;5;241m.\u001b[39mmode)\n",
      "\u001b[0;31mFileNotFoundError\u001b[0m: [Errno 2] No such file or directory: 'data/input/fake-news/train.csv'"
     ]
    }
   ],
   "source": [
    "# Reading data from csv\n",
    "import pandas as pd\n",
    "train = pd.read_csv(\"data/input/fake-news/train.csv\")\n",
    "test  = pd.read_csv(\"data/input/fake-news/test.csv\")\n",
    "train.head()"
   ]
  },
  {
   "cell_type": "code",
   "execution_count": null,
   "id": "adjacent-emergency",
   "metadata": {
    "execution": {
     "iopub.execute_input": "2021-04-24T06:09:37.027386Z",
     "iopub.status.busy": "2021-04-24T06:09:37.026495Z",
     "iopub.status.idle": "2021-04-24T06:09:37.030601Z",
     "shell.execute_reply": "2021-04-24T06:09:37.031035Z"
    },
    "papermill": {
     "duration": 0.045255,
     "end_time": "2021-04-24T06:09:37.031193",
     "exception": false,
     "start_time": "2021-04-24T06:09:36.985938",
     "status": "completed"
    },
    "tags": []
   },
   "outputs": [],
   "source": [
    "test.head()"
   ]
  },
  {
   "cell_type": "code",
   "execution_count": null,
   "id": "documented-acrobat",
   "metadata": {
    "execution": {
     "iopub.execute_input": "2021-04-24T06:09:37.096950Z",
     "iopub.status.busy": "2021-04-24T06:09:37.096112Z",
     "iopub.status.idle": "2021-04-24T06:09:37.100928Z",
     "shell.execute_reply": "2021-04-24T06:09:37.100444Z"
    },
    "papermill": {
     "duration": 0.040823,
     "end_time": "2021-04-24T06:09:37.101079",
     "exception": false,
     "start_time": "2021-04-24T06:09:37.060256",
     "status": "completed"
    },
    "tags": []
   },
   "outputs": [],
   "source": [
    "# Displaying rows and columns in dataset\n",
    "print(\"There are {} number of rows and {} number of columns for training.\".format(train.shape[0],train.shape[1]))\n",
    "print(\"There are {} number of rows and {} number of columns for testing.\".format(test.shape[0],test.shape[1]))"
   ]
  },
  {
   "cell_type": "markdown",
   "id": "bound-departure",
   "metadata": {
    "papermill": {
     "duration": 0.028949,
     "end_time": "2021-04-24T06:09:37.159602",
     "exception": false,
     "start_time": "2021-04-24T06:09:37.130653",
     "status": "completed"
    },
    "tags": []
   },
   "source": [
    "**Checking Null Values**"
   ]
  },
  {
   "cell_type": "code",
   "execution_count": null,
   "id": "tamil-horse",
   "metadata": {
    "execution": {
     "iopub.execute_input": "2021-04-24T06:09:37.231801Z",
     "iopub.status.busy": "2021-04-24T06:09:37.230875Z",
     "iopub.status.idle": "2021-04-24T06:09:37.238038Z",
     "shell.execute_reply": "2021-04-24T06:09:37.237532Z"
    },
    "papermill": {
     "duration": 0.049253,
     "end_time": "2021-04-24T06:09:37.238281",
     "exception": false,
     "start_time": "2021-04-24T06:09:37.189028",
     "status": "completed"
    },
    "tags": []
   },
   "outputs": [],
   "source": [
    "# Checking the null values in training data.\n",
    "train.isnull().sum()"
   ]
  },
  {
   "cell_type": "code",
   "execution_count": null,
   "id": "pediatric-parameter",
   "metadata": {
    "execution": {
     "iopub.execute_input": "2021-04-24T06:09:37.307362Z",
     "iopub.status.busy": "2021-04-24T06:09:37.306474Z",
     "iopub.status.idle": "2021-04-24T06:09:37.310241Z",
     "shell.execute_reply": "2021-04-24T06:09:37.310695Z"
    },
    "papermill": {
     "duration": 0.042807,
     "end_time": "2021-04-24T06:09:37.310855",
     "exception": false,
     "start_time": "2021-04-24T06:09:37.268048",
     "status": "completed"
    },
    "tags": []
   },
   "outputs": [],
   "source": [
    "# Checking the null values in testing data.\n",
    "test.isnull().sum()"
   ]
  },
  {
   "cell_type": "code",
   "execution_count": 7,
   "id": "brief-honor",
   "metadata": {
    "execution": {
     "iopub.execute_input": "2021-04-24T06:09:37.384298Z",
     "iopub.status.busy": "2021-04-24T06:09:37.383308Z",
     "iopub.status.idle": "2021-04-24T06:09:37.393623Z",
     "shell.execute_reply": "2021-04-24T06:09:37.393113Z"
    },
    "papermill": {
     "duration": 0.053598,
     "end_time": "2021-04-24T06:09:37.393764",
     "exception": false,
     "start_time": "2021-04-24T06:09:37.340166",
     "status": "completed"
    },
    "tags": []
   },
   "outputs": [],
   "source": [
    "# Handling nan values in dataset using empty spaces\n",
    "def handle_nan(train_data,test_data):\n",
    "    '''Input: Data to the function containing Nan values.\n",
    "       Output : Cleaned data containing no Nan values.\n",
    "       Function: Cleaning Nan values.\n",
    "     '''\n",
    "    train = train_data.fillna(\" \")\n",
    "    test  = test_data.fillna(\" \")\n",
    "    return train,test\n",
    "\n",
    "train,test = handle_nan(train,test)\n"
   ]
  },
  {
   "cell_type": "code",
   "execution_count": 8,
   "id": "approximate-radio",
   "metadata": {
    "execution": {
     "iopub.execute_input": "2021-04-24T06:09:37.463196Z",
     "iopub.status.busy": "2021-04-24T06:09:37.462359Z",
     "iopub.status.idle": "2021-04-24T06:09:37.499005Z",
     "shell.execute_reply": "2021-04-24T06:09:37.498015Z"
    },
    "papermill": {
     "duration": 0.074502,
     "end_time": "2021-04-24T06:09:37.499162",
     "exception": false,
     "start_time": "2021-04-24T06:09:37.424660",
     "status": "completed"
    },
    "tags": []
   },
   "outputs": [],
   "source": [
    "# Creating a variable \"merged\" by merging columns \"title\" and \"author\"\n",
    "train[\"merged\"] = train[\"title\"]+\" \"+train[\"author\"]\n",
    "test[\"merged\"]  = test[\"title\"]+\" \"+test[\"author\"]"
   ]
  },
  {
   "cell_type": "code",
   "execution_count": 9,
   "id": "harmful-catalog",
   "metadata": {
    "execution": {
     "iopub.execute_input": "2021-04-24T06:09:37.568349Z",
     "iopub.status.busy": "2021-04-24T06:09:37.567217Z",
     "iopub.status.idle": "2021-04-24T06:09:37.579148Z",
     "shell.execute_reply": "2021-04-24T06:09:37.578592Z"
    },
    "papermill": {
     "duration": 0.049049,
     "end_time": "2021-04-24T06:09:37.579289",
     "exception": false,
     "start_time": "2021-04-24T06:09:37.530240",
     "status": "completed"
    },
    "tags": []
   },
   "outputs": [],
   "source": [
    "# Seperating Independent and dependent features\n",
    "X = train.drop(columns=['label'],axis=1)\n",
    "y = train['label']"
   ]
  },
  {
   "cell_type": "code",
   "execution_count": 10,
   "id": "persistent-fetish",
   "metadata": {
    "execution": {
     "iopub.execute_input": "2021-04-24T06:09:37.650672Z",
     "iopub.status.busy": "2021-04-24T06:09:37.649601Z",
     "iopub.status.idle": "2021-04-24T06:09:37.657298Z",
     "shell.execute_reply": "2021-04-24T06:09:37.657843Z"
    },
    "papermill": {
     "duration": 0.046399,
     "end_time": "2021-04-24T06:09:37.658022",
     "exception": false,
     "start_time": "2021-04-24T06:09:37.611623",
     "status": "completed"
    },
    "tags": []
   },
   "outputs": [],
   "source": [
    "# Creating One-Hot Representations\n",
    "messages = X.copy()\n",
    "messages.reset_index(inplace=True)\n",
    "messages_test = test.copy()\n",
    "messages_test.reset_index(inplace=True)"
   ]
  },
  {
   "cell_type": "markdown",
   "id": "taken-negotiation",
   "metadata": {
    "papermill": {
     "duration": 0.031333,
     "end_time": "2021-04-24T06:09:37.721583",
     "exception": false,
     "start_time": "2021-04-24T06:09:37.690250",
     "status": "completed"
    },
    "tags": []
   },
   "source": [
    "# Data Pre-processing\n",
    "**In Data Pre-processing following steps are followed:** \n",
    "**1. Firstly, all the sequences except english characters are removed from the string.**\n",
    "**2. Next, to avoid false predictions or ambiguity with upper and lowercase, all the characters in strings are converted    to lowercase.**\n",
    "**3. Next, all the sentences are tokenized into words.**\n",
    "**4. To facilitate fast processing, stemming is applied to the tokenized words.**\n",
    "**5. Next, words are joined together and stored in the corpus.**\n",
    "\n",
    "**Note: In this tutorial, we have used \"merged\" column for classification task. Also, the loop inside the function runs over all the examples in the merged column.**"
   ]
  },
  {
   "cell_type": "code",
   "execution_count": null,
   "id": "expected-neighbor",
   "metadata": {
    "execution": {
     "iopub.execute_input": "2021-04-24T06:09:37.795326Z",
     "iopub.status.busy": "2021-04-24T06:09:37.794323Z",
     "iopub.status.idle": "2021-04-24T06:10:32.250147Z",
     "shell.execute_reply": "2021-04-24T06:10:32.250689Z"
    },
    "papermill": {
     "duration": 54.497618,
     "end_time": "2021-04-24T06:10:32.250847",
     "exception": false,
     "start_time": "2021-04-24T06:09:37.753229",
     "status": "completed"
    },
    "tags": []
   },
   "outputs": [],
   "source": [
    "# Performing data preprocessing on column 'title'\n",
    "from nltk.stem.porter import PorterStemmer\n",
    "ps = PorterStemmer()\n",
    "def perform_preprocess(data):\n",
    "    '''Input: Data to be processed\n",
    "       Output: Preprocessed data\n",
    "    '''\n",
    "    corpus = []\n",
    "    for i in range(0,len(data)):\n",
    "        review = re.sub('[^a-zA-Z]',' ',data['merged'][i])\n",
    "        review = review.lower()\n",
    "        review = review.split()\n",
    "        review = [ps.stem(word) for word in review if word not in stopwords.words('english')]\n",
    "        review = ' '.join(review)\n",
    "        corpus.append(review)\n",
    "    return corpus\n",
    "    \n",
    "train_corpus = perform_preprocess(messages)\n",
    "test_corpus  = perform_preprocess(messages_test)\n",
    "train_corpus[1]"
   ]
  },
  {
   "cell_type": "code",
   "execution_count": null,
   "id": "printable-isaac",
   "metadata": {
    "execution": {
     "iopub.execute_input": "2021-04-24T06:10:32.313006Z",
     "iopub.status.busy": "2021-04-24T06:10:32.312193Z",
     "iopub.status.idle": "2021-04-24T06:10:32.315651Z",
     "shell.execute_reply": "2021-04-24T06:10:32.316046Z"
    },
    "papermill": {
     "duration": 0.037042,
     "end_time": "2021-04-24T06:10:32.316180",
     "exception": false,
     "start_time": "2021-04-24T06:10:32.279138",
     "status": "completed"
    },
    "tags": []
   },
   "outputs": [],
   "source": [
    "test_corpus[1]"
   ]
  },
  {
   "cell_type": "markdown",
   "id": "pediatric-translator",
   "metadata": {
    "papermill": {
     "duration": 0.028343,
     "end_time": "2021-04-24T06:10:32.372744",
     "exception": false,
     "start_time": "2021-04-24T06:10:32.344401",
     "status": "completed"
    },
    "tags": []
   },
   "source": [
    "**Below code converts the pre-processed words to one-hot vectors in the range of vocabulary size=5000. This is done to obtain numerical feature matrix**"
   ]
  },
  {
   "cell_type": "code",
   "execution_count": 13,
   "id": "economic-allergy",
   "metadata": {
    "execution": {
     "iopub.execute_input": "2021-04-24T06:10:32.453681Z",
     "iopub.status.busy": "2021-04-24T06:10:32.448588Z",
     "iopub.status.idle": "2021-04-24T06:10:32.764062Z",
     "shell.execute_reply": "2021-04-24T06:10:32.763601Z"
    },
    "papermill": {
     "duration": 0.3634,
     "end_time": "2021-04-24T06:10:32.764200",
     "exception": false,
     "start_time": "2021-04-24T06:10:32.400800",
     "status": "completed"
    },
    "tags": []
   },
   "outputs": [],
   "source": [
    "# Converting to one-hot repr.\n",
    "vocab_size = 5000\n",
    "one_hot_train = [one_hot(word,vocab_size) for word in train_corpus]\n",
    "one_hot_test  = [one_hot(word,vocab_size) for word in test_corpus]"
   ]
  },
  {
   "cell_type": "code",
   "execution_count": null,
   "id": "three-lemon",
   "metadata": {
    "execution": {
     "iopub.execute_input": "2021-04-24T06:10:32.825499Z",
     "iopub.status.busy": "2021-04-24T06:10:32.824956Z",
     "iopub.status.idle": "2021-04-24T06:10:32.830896Z",
     "shell.execute_reply": "2021-04-24T06:10:32.830451Z"
    },
    "papermill": {
     "duration": 0.038526,
     "end_time": "2021-04-24T06:10:32.831020",
     "exception": false,
     "start_time": "2021-04-24T06:10:32.792494",
     "status": "completed"
    },
    "tags": []
   },
   "outputs": [],
   "source": [
    "one_hot_test[1]"
   ]
  },
  {
   "cell_type": "markdown",
   "id": "enclosed-steam",
   "metadata": {
    "papermill": {
     "duration": 0.029189,
     "end_time": "2021-04-24T06:10:32.888995",
     "exception": false,
     "start_time": "2021-04-24T06:10:32.859806",
     "status": "completed"
    },
    "tags": []
   },
   "source": [
    "**Below code creates an embedding layer which applies \"pre\" padding to the one-hot encoded features with sentence length = 20. Padding is applied so that the length of every sequence in the dataset should be same.**"
   ]
  },
  {
   "cell_type": "code",
   "execution_count": null,
   "id": "frequent-driver",
   "metadata": {
    "execution": {
     "iopub.execute_input": "2021-04-24T06:10:32.955332Z",
     "iopub.status.busy": "2021-04-24T06:10:32.954546Z",
     "iopub.status.idle": "2021-04-24T06:10:33.139938Z",
     "shell.execute_reply": "2021-04-24T06:10:33.140692Z"
    },
    "papermill": {
     "duration": 0.223139,
     "end_time": "2021-04-24T06:10:33.140894",
     "exception": false,
     "start_time": "2021-04-24T06:10:32.917755",
     "status": "completed"
    },
    "tags": []
   },
   "outputs": [],
   "source": [
    "# Embedding Representation \n",
    "sent_length = 20\n",
    "embedd_docs_train = pad_sequences(one_hot_train,padding='pre',maxlen=sent_length)\n",
    "embedd_docs_test  = pad_sequences(one_hot_test,padding='pre',maxlen=sent_length)\n",
    "print(embedd_docs_train)"
   ]
  },
  {
   "cell_type": "code",
   "execution_count": null,
   "id": "civil-teach",
   "metadata": {
    "execution": {
     "iopub.execute_input": "2021-04-24T06:10:33.212287Z",
     "iopub.status.busy": "2021-04-24T06:10:33.210668Z",
     "iopub.status.idle": "2021-04-24T06:10:33.214919Z",
     "shell.execute_reply": "2021-04-24T06:10:33.214284Z"
    },
    "papermill": {
     "duration": 0.041224,
     "end_time": "2021-04-24T06:10:33.215080",
     "exception": false,
     "start_time": "2021-04-24T06:10:33.173856",
     "status": "completed"
    },
    "tags": []
   },
   "outputs": [],
   "source": [
    "print(embedd_docs_test)"
   ]
  },
  {
   "cell_type": "code",
   "execution_count": 17,
   "id": "therapeutic-witness",
   "metadata": {
    "execution": {
     "iopub.execute_input": "2021-04-24T06:10:33.281834Z",
     "iopub.status.busy": "2021-04-24T06:10:33.280947Z",
     "iopub.status.idle": "2021-04-24T06:10:33.285462Z",
     "shell.execute_reply": "2021-04-24T06:10:33.285039Z"
    },
    "papermill": {
     "duration": 0.039306,
     "end_time": "2021-04-24T06:10:33.285599",
     "exception": false,
     "start_time": "2021-04-24T06:10:33.246293",
     "status": "completed"
    },
    "tags": []
   },
   "outputs": [],
   "source": [
    "# Converting Embedding repr. to array\n",
    "x_final = np.array(embedd_docs_train)\n",
    "y_final = np.array(y)\n",
    "x_test_final = np.array(embedd_docs_test)"
   ]
  },
  {
   "cell_type": "code",
   "execution_count": null,
   "id": "sophisticated-warehouse",
   "metadata": {
    "execution": {
     "iopub.execute_input": "2021-04-24T06:10:33.351976Z",
     "iopub.status.busy": "2021-04-24T06:10:33.351288Z",
     "iopub.status.idle": "2021-04-24T06:10:33.354356Z",
     "shell.execute_reply": "2021-04-24T06:10:33.354814Z"
    },
    "papermill": {
     "duration": 0.038988,
     "end_time": "2021-04-24T06:10:33.354952",
     "exception": false,
     "start_time": "2021-04-24T06:10:33.315964",
     "status": "completed"
    },
    "tags": []
   },
   "outputs": [],
   "source": [
    "# Dimensions of prev. array repr.\n",
    "x_final.shape,y_final.shape,x_test_final.shape"
   ]
  },
  {
   "cell_type": "markdown",
   "id": "decimal-business",
   "metadata": {
    "papermill": {
     "duration": 0.030394,
     "end_time": "2021-04-24T06:10:33.415857",
     "exception": false,
     "start_time": "2021-04-24T06:10:33.385463",
     "status": "completed"
    },
    "tags": []
   },
   "source": [
    "**Dividing the dataset into training,validation and testing data (ratio: 80/10/10) using train_test_split technique.**"
   ]
  },
  {
   "cell_type": "code",
   "execution_count": 19,
   "id": "floppy-divide",
   "metadata": {
    "execution": {
     "iopub.execute_input": "2021-04-24T06:10:33.484108Z",
     "iopub.status.busy": "2021-04-24T06:10:33.483148Z",
     "iopub.status.idle": "2021-04-24T06:10:33.518138Z",
     "shell.execute_reply": "2021-04-24T06:10:33.517642Z"
    },
    "papermill": {
     "duration": 0.071135,
     "end_time": "2021-04-24T06:10:33.518266",
     "exception": false,
     "start_time": "2021-04-24T06:10:33.447131",
     "status": "completed"
    },
    "tags": []
   },
   "outputs": [],
   "source": [
    "from sklearn.model_selection import train_test_split\n",
    "x_train, x_test, y_train, y_test = train_test_split(x_final, y_final, test_size=0.1, random_state=42, stratify = y_final)\n",
    "X_train, x_valid, Y_train, y_valid = train_test_split(x_train, y_train, test_size=0.1, random_state=42, stratify = y_train)\n",
    "x_test_final = x_test_final"
   ]
  },
  {
   "cell_type": "markdown",
   "id": "outstanding-there",
   "metadata": {
    "papermill": {
     "duration": 0.030769,
     "end_time": "2021-04-24T06:10:33.580032",
     "exception": false,
     "start_time": "2021-04-24T06:10:33.549263",
     "status": "completed"
    },
    "tags": []
   },
   "source": [
    "# Creating Models\n",
    "**In this phase, several models are created and evaluated against various metrics shown using classification report.**"
   ]
  },
  {
   "cell_type": "markdown",
   "id": "colonial-dryer",
   "metadata": {
    "papermill": {
     "duration": 0.030252,
     "end_time": "2021-04-24T06:10:33.641000",
     "exception": false,
     "start_time": "2021-04-24T06:10:33.610748",
     "status": "completed"
    },
    "tags": []
   },
   "source": [
    "**1. Logistic Regresssion**"
   ]
  },
  {
   "cell_type": "code",
   "execution_count": null,
   "id": "realistic-merchandise",
   "metadata": {
    "execution": {
     "iopub.execute_input": "2021-04-24T06:10:33.708354Z",
     "iopub.status.busy": "2021-04-24T06:10:33.707412Z",
     "iopub.status.idle": "2021-04-24T06:10:34.492276Z",
     "shell.execute_reply": "2021-04-24T06:10:34.493735Z"
    },
    "papermill": {
     "duration": 0.821975,
     "end_time": "2021-04-24T06:10:34.493942",
     "exception": false,
     "start_time": "2021-04-24T06:10:33.671967",
     "status": "completed"
    },
    "tags": []
   },
   "outputs": [],
   "source": [
    "model_1 = LogisticRegression(max_iter=900)\n",
    "model_1.fit(X_train,Y_train)\n",
    "pred_1 = model_1.predict(x_test)\n",
    "cr1    = classification_report(y_test,pred_1)\n",
    "print(cr1)"
   ]
  },
  {
   "cell_type": "markdown",
   "id": "western-scratch",
   "metadata": {
    "papermill": {
     "duration": 0.056264,
     "end_time": "2021-04-24T06:10:34.642128",
     "exception": false,
     "start_time": "2021-04-24T06:10:34.585864",
     "status": "completed"
    },
    "tags": []
   },
   "source": [
    "**2. Naive Bayes**"
   ]
  },
  {
   "cell_type": "code",
   "execution_count": null,
   "id": "cognitive-respondent",
   "metadata": {
    "execution": {
     "iopub.execute_input": "2021-04-24T06:10:34.768702Z",
     "iopub.status.busy": "2021-04-24T06:10:34.767755Z",
     "iopub.status.idle": "2021-04-24T06:10:34.793854Z",
     "shell.execute_reply": "2021-04-24T06:10:34.794533Z"
    },
    "papermill": {
     "duration": 0.095847,
     "end_time": "2021-04-24T06:10:34.794783",
     "exception": false,
     "start_time": "2021-04-24T06:10:34.698936",
     "status": "completed"
    },
    "tags": []
   },
   "outputs": [],
   "source": [
    "model_2 = MultinomialNB()\n",
    "model_2.fit(X_train,Y_train)\n",
    "pred_2 = model_2.predict(x_test)\n",
    "cr2    = classification_report(y_test,pred_2)\n",
    "print(cr2)"
   ]
  },
  {
   "cell_type": "markdown",
   "id": "adverse-finder",
   "metadata": {
    "papermill": {
     "duration": 0.054694,
     "end_time": "2021-04-24T06:10:34.915701",
     "exception": false,
     "start_time": "2021-04-24T06:10:34.861007",
     "status": "completed"
    },
    "tags": []
   },
   "source": [
    "**3. Decision Trees**"
   ]
  },
  {
   "cell_type": "code",
   "execution_count": null,
   "id": "parliamentary-width",
   "metadata": {
    "execution": {
     "iopub.execute_input": "2021-04-24T06:10:35.025257Z",
     "iopub.status.busy": "2021-04-24T06:10:35.024595Z",
     "iopub.status.idle": "2021-04-24T06:10:35.290849Z",
     "shell.execute_reply": "2021-04-24T06:10:35.291776Z"
    },
    "papermill": {
     "duration": 0.330978,
     "end_time": "2021-04-24T06:10:35.291966",
     "exception": false,
     "start_time": "2021-04-24T06:10:34.960988",
     "status": "completed"
    },
    "tags": []
   },
   "outputs": [],
   "source": [
    "model_3 = DecisionTreeClassifier()\n",
    "model_3.fit(X_train,Y_train)\n",
    "pred_3 = model_3.predict(x_test)\n",
    "cr3    = classification_report(y_test,pred_3)\n",
    "print(cr3)"
   ]
  },
  {
   "cell_type": "markdown",
   "id": "retired-tobago",
   "metadata": {
    "papermill": {
     "duration": 0.048039,
     "end_time": "2021-04-24T06:10:35.389617",
     "exception": false,
     "start_time": "2021-04-24T06:10:35.341578",
     "status": "completed"
    },
    "tags": []
   },
   "source": [
    "**4. Random Forest**"
   ]
  },
  {
   "cell_type": "code",
   "execution_count": null,
   "id": "built-bargain",
   "metadata": {
    "execution": {
     "iopub.execute_input": "2021-04-24T06:10:35.497352Z",
     "iopub.status.busy": "2021-04-24T06:10:35.496635Z",
     "iopub.status.idle": "2021-04-24T06:10:38.616737Z",
     "shell.execute_reply": "2021-04-24T06:10:38.616078Z"
    },
    "papermill": {
     "duration": 3.178312,
     "end_time": "2021-04-24T06:10:38.616901",
     "exception": false,
     "start_time": "2021-04-24T06:10:35.438589",
     "status": "completed"
    },
    "tags": []
   },
   "outputs": [],
   "source": [
    "model_4 = RandomForestClassifier()\n",
    "model_4.fit(X_train,Y_train)\n",
    "pred_4 = model_4.predict(x_test)\n",
    "cr4    = classification_report(y_test,pred_4)\n",
    "print(cr4)"
   ]
  },
  {
   "cell_type": "markdown",
   "id": "developmental-cornwall",
   "metadata": {
    "papermill": {
     "duration": 0.052353,
     "end_time": "2021-04-24T06:10:38.722466",
     "exception": false,
     "start_time": "2021-04-24T06:10:38.670113",
     "status": "completed"
    },
    "tags": []
   },
   "source": [
    "**5. XGBOOST**"
   ]
  },
  {
   "cell_type": "code",
   "execution_count": null,
   "id": "congressional-berlin",
   "metadata": {
    "execution": {
     "iopub.execute_input": "2021-04-24T06:10:38.834684Z",
     "iopub.status.busy": "2021-04-24T06:10:38.833993Z",
     "iopub.status.idle": "2021-04-24T06:10:44.681315Z",
     "shell.execute_reply": "2021-04-24T06:10:44.681834Z"
    },
    "papermill": {
     "duration": 5.907179,
     "end_time": "2021-04-24T06:10:44.682012",
     "exception": false,
     "start_time": "2021-04-24T06:10:38.774833",
     "status": "completed"
    },
    "tags": []
   },
   "outputs": [],
   "source": [
    "model_5 = XGBClassifier()\n",
    "model_5.fit(X_train,Y_train)\n",
    "pred_5 = model_5.predict(x_test)\n",
    "cr5    = classification_report(y_test,pred_5)\n",
    "print(cr5)"
   ]
  },
  {
   "cell_type": "markdown",
   "id": "filled-charity",
   "metadata": {
    "papermill": {
     "duration": 0.033318,
     "end_time": "2021-04-24T06:10:44.749736",
     "exception": false,
     "start_time": "2021-04-24T06:10:44.716418",
     "status": "completed"
    },
    "tags": []
   },
   "source": [
    "**6.Catboost**"
   ]
  },
  {
   "cell_type": "code",
   "execution_count": null,
   "id": "taken-functionality",
   "metadata": {
    "execution": {
     "iopub.execute_input": "2021-04-24T06:10:44.978756Z",
     "iopub.status.busy": "2021-04-24T06:10:44.831427Z",
     "iopub.status.idle": "2021-04-24T06:10:48.010153Z",
     "shell.execute_reply": "2021-04-24T06:10:48.010658Z"
    },
    "papermill": {
     "duration": 3.227673,
     "end_time": "2021-04-24T06:10:48.010817",
     "exception": false,
     "start_time": "2021-04-24T06:10:44.783144",
     "status": "completed"
    },
    "tags": []
   },
   "outputs": [],
   "source": [
    "model_6 = CatBoostClassifier(iterations=200)\n",
    "model_6.fit(X_train,Y_train)\n",
    "pred_6 = model_5.predict(x_test)\n",
    "cr6    = classification_report(y_test,pred_5)\n",
    "print(cr6)"
   ]
  },
  {
   "cell_type": "markdown",
   "id": "promotional-nurse",
   "metadata": {
    "papermill": {
     "duration": 0.039666,
     "end_time": "2021-04-24T06:10:48.090710",
     "exception": false,
     "start_time": "2021-04-24T06:10:48.051044",
     "status": "completed"
    },
    "tags": []
   },
   "source": [
    "**7. LSTM**\n",
    "\n",
    "**In this model, 1.) The value for embedding feature vectors = 40 which are target feature vectors for the embedding layer. 2.) Single LSTM Layer with 100 nodes are used. 3.)Dense Layer with 1 neuron and sigmoid activation function is used since, this is a binary classification problem. 4) Dropout technique is used to avoid overfiiting and adam optimizer is used for optimizing the loss function.**"
   ]
  },
  {
   "cell_type": "code",
   "execution_count": null,
   "id": "abandoned-brazil",
   "metadata": {
    "execution": {
     "iopub.execute_input": "2021-04-24T06:10:48.173538Z",
     "iopub.status.busy": "2021-04-24T06:10:48.172991Z",
     "iopub.status.idle": "2021-04-24T06:10:52.521541Z",
     "shell.execute_reply": "2021-04-24T06:10:52.520930Z"
    },
    "papermill": {
     "duration": 4.391849,
     "end_time": "2021-04-24T06:10:52.521714",
     "exception": false,
     "start_time": "2021-04-24T06:10:48.129865",
     "status": "completed"
    },
    "tags": []
   },
   "outputs": [],
   "source": [
    "# Creating the LSTM Model for prediction\n",
    "embedding_feature_vector = 40\n",
    "model = Sequential()\n",
    "model.add(Embedding(vocab_size,embedding_feature_vector,input_length=sent_length))\n",
    "model.add(Dropout(0.3))\n",
    "model.add(LSTM(100))\n",
    "model.add(Dropout(0.3))\n",
    "model.add(Dense(1,activation='sigmoid'))\n",
    "model.compile(loss='binary_crossentropy',optimizer='adam',metrics=['accuracy'])\n",
    "print(model.summary())"
   ]
  },
  {
   "cell_type": "code",
   "execution_count": null,
   "id": "micro-federation",
   "metadata": {
    "execution": {
     "iopub.execute_input": "2021-04-24T06:10:52.604156Z",
     "iopub.status.busy": "2021-04-24T06:10:52.603529Z",
     "iopub.status.idle": "2021-04-24T06:11:23.118921Z",
     "shell.execute_reply": "2021-04-24T06:11:23.119348Z"
    },
    "papermill": {
     "duration": 30.559349,
     "end_time": "2021-04-24T06:11:23.119577",
     "exception": false,
     "start_time": "2021-04-24T06:10:52.560228",
     "status": "completed"
    },
    "tags": []
   },
   "outputs": [],
   "source": [
    "# Training the model\n",
    "model.fit(X_train,Y_train,validation_data=(x_valid,y_valid),epochs=10,batch_size=64)"
   ]
  },
  {
   "cell_type": "code",
   "execution_count": null,
   "id": "perceived-savings",
   "metadata": {
    "execution": {
     "iopub.execute_input": "2021-04-24T06:11:23.466355Z",
     "iopub.status.busy": "2021-04-24T06:11:23.465724Z",
     "iopub.status.idle": "2021-04-24T06:11:23.982124Z",
     "shell.execute_reply": "2021-04-24T06:11:23.981162Z"
    },
    "papermill": {
     "duration": 0.691541,
     "end_time": "2021-04-24T06:11:23.982274",
     "exception": false,
     "start_time": "2021-04-24T06:11:23.290733",
     "status": "completed"
    },
    "tags": []
   },
   "outputs": [],
   "source": [
    "predictions = model.predict_classes(x_test)\n",
    "cr = classification_report(y_test,predictions)\n",
    "print(cr)"
   ]
  },
  {
   "cell_type": "markdown",
   "id": "victorian-canon",
   "metadata": {
    "papermill": {
     "duration": 0.174951,
     "end_time": "2021-04-24T06:11:24.334811",
     "exception": false,
     "start_time": "2021-04-24T06:11:24.159860",
     "status": "completed"
    },
    "tags": []
   },
   "source": [
    "# Evaluation of Models"
   ]
  },
  {
   "cell_type": "markdown",
   "id": "absent-future",
   "metadata": {
    "papermill": {
     "duration": 0.178314,
     "end_time": "2021-04-24T06:11:24.683085",
     "exception": false,
     "start_time": "2021-04-24T06:11:24.504771",
     "status": "completed"
    },
    "tags": []
   },
   "source": [
    "**Tabulating the results of various implemented models.**"
   ]
  },
  {
   "cell_type": "code",
   "execution_count": null,
   "id": "bridal-shelter",
   "metadata": {
    "execution": {
     "iopub.execute_input": "2021-04-24T06:11:25.053970Z",
     "iopub.status.busy": "2021-04-24T06:11:25.053212Z",
     "iopub.status.idle": "2021-04-24T06:11:25.071010Z",
     "shell.execute_reply": "2021-04-24T06:11:25.070432Z"
    },
    "papermill": {
     "duration": 0.206178,
     "end_time": "2021-04-24T06:11:25.071167",
     "exception": false,
     "start_time": "2021-04-24T06:11:24.864989",
     "status": "completed"
    },
    "tags": []
   },
   "outputs": [],
   "source": [
    "score_1 = accuracy_score(y_test,pred_1)\n",
    "score_2 = accuracy_score(y_test,pred_2)\n",
    "score_3 = accuracy_score(y_test,pred_3)\n",
    "score_4 = accuracy_score(y_test,pred_4)\n",
    "score_5 = accuracy_score(y_test,pred_5)\n",
    "score_6 = accuracy_score(y_test,pred_6)\n",
    "score_7 = accuracy_score(y_test,predictions)\n",
    "results = pd.DataFrame([[\"Logistic Regression\",score_1],[\"Naive Bayes\",score_2],[\"Decision Tree\",score_3],\n",
    "                       [\"Random Forest\",score_4],[\"XGBOOST\",score_5],[\"CatBoost\",score_6],[\"LSTM\",score_7]],columns=[\"Model\",\"Accuracy\"])\n",
    "results"
   ]
  },
  {
   "cell_type": "markdown",
   "id": "sound-establishment",
   "metadata": {
    "papermill": {
     "duration": 0.17424,
     "end_time": "2021-04-24T06:11:25.440377",
     "exception": false,
     "start_time": "2021-04-24T06:11:25.266137",
     "status": "completed"
    },
    "tags": []
   },
   "source": [
    "**Discussion: From the above results, it appears that LSTM Model gives the highest accuracy amongst various models. Therefore, it is selected as the final model for making predictions on final testing data.**"
   ]
  },
  {
   "cell_type": "markdown",
   "id": "emerging-council",
   "metadata": {
    "papermill": {
     "duration": 0.173499,
     "end_time": "2021-04-24T06:11:25.788093",
     "exception": false,
     "start_time": "2021-04-24T06:11:25.614594",
     "status": "completed"
    },
    "tags": []
   },
   "source": [
    "**Predictions on Testing Data**"
   ]
  },
  {
   "cell_type": "code",
   "execution_count": null,
   "id": "sustained-plastic",
   "metadata": {
    "execution": {
     "iopub.execute_input": "2021-04-24T06:11:26.161453Z",
     "iopub.status.busy": "2021-04-24T06:11:26.160513Z",
     "iopub.status.idle": "2021-04-24T06:11:26.874583Z",
     "shell.execute_reply": "2021-04-24T06:11:26.873976Z"
    },
    "papermill": {
     "duration": 0.908815,
     "end_time": "2021-04-24T06:11:26.874728",
     "exception": false,
     "start_time": "2021-04-24T06:11:25.965913",
     "status": "completed"
    },
    "tags": []
   },
   "outputs": [],
   "source": [
    "# Making Predictions on test data\n",
    "predictions_test = pd.DataFrame(model.predict_classes(x_test_final))\n",
    "test_id = pd.DataFrame(test[\"id\"])\n",
    "submission = pd.concat([test_id,predictions_test],axis=1)\n",
    "submission.columns = [\"id\",\"label\"]\n",
    "submission.to_csv(\"Submission.csv\",index=False)"
   ]
  },
  {
   "cell_type": "code",
   "execution_count": null,
   "id": "clinical-purple",
   "metadata": {
    "execution": {
     "iopub.execute_input": "2021-04-24T06:11:27.233542Z",
     "iopub.status.busy": "2021-04-24T06:11:27.232471Z",
     "iopub.status.idle": "2021-04-24T06:11:27.237793Z",
     "shell.execute_reply": "2021-04-24T06:11:27.237266Z"
    },
    "papermill": {
     "duration": 0.187598,
     "end_time": "2021-04-24T06:11:27.237939",
     "exception": false,
     "start_time": "2021-04-24T06:11:27.050341",
     "status": "completed"
    },
    "tags": []
   },
   "outputs": [],
   "source": [
    "submission.head()"
   ]
  }
 ],
 "metadata": {
  "kernelspec": {
   "display_name": "fake_news",
   "language": "python",
   "name": "python3"
  },
  "language_info": {
   "codemirror_mode": {
    "name": "ipython",
    "version": 3
   },
   "file_extension": ".py",
   "mimetype": "text/x-python",
   "name": "python",
   "nbconvert_exporter": "python",
   "pygments_lexer": "ipython3",
   "version": "3.13.1"
  },
  "papermill": {
   "default_parameters": {},
   "duration": 132.042273,
   "end_time": "2021-04-24T06:11:31.046934",
   "environment_variables": {},
   "exception": null,
   "input_path": "__notebook__.ipynb",
   "output_path": "__notebook__.ipynb",
   "parameters": {},
   "start_time": "2021-04-24T06:09:19.004661",
   "version": "2.3.3"
  }
 },
 "nbformat": 4,
 "nbformat_minor": 5
}
